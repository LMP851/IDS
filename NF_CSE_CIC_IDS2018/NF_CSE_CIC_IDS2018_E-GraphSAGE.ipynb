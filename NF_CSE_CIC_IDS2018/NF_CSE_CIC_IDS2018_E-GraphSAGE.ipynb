{
  "cells": [
    {
      "cell_type": "markdown",
      "source": [
        "##I. Download and Setup\n"
      ],
      "metadata": {
        "id": "pWwsBcSGN-GW"
      }
    },
    {
      "cell_type": "code",
      "source": [
        "from google.colab import drive\n",
        "drive.mount('/content/drive')"
      ],
      "metadata": {
        "id": "2nd6vaOIXGQ6",
        "colab": {
          "base_uri": "https://localhost:8080/"
        },
        "outputId": "630097ea-0601-481b-9030-a1feac233ed2"
      },
      "execution_count": null,
      "outputs": [
        {
          "output_type": "stream",
          "name": "stdout",
          "text": [
            "Mounted at /content/drive\n"
          ]
        }
      ]
    },
    {
      "cell_type": "code",
      "source": [
        "!apt update -qq;\n",
        "!wget https://developer.nvidia.com/compute/...\n",
        "!dpkg -i cuda-repo-ubuntu1604-8-0-local-ga2_8.0.61-1_amd64-deb;\n",
        "!apt-key add /var/cuda-repo-8-0-local-ga2/7fa2af80.pub;\n",
        "!apt-get update -qq;\n",
        "!apt-get install cuda gcc-5 g++-5 -y -qq;\n",
        "!ln -s /usr/bin/gcc-5 /usr/local/cuda/bin/gcc;\n",
        "!ln -s /usr/bin/g++-5 /usr/local/cuda/bin/g++;\n",
        "!apt install cuda;"
      ],
      "metadata": {
        "id": "e-1i6-8EenW7"
      },
      "execution_count": null,
      "outputs": []
    },
    {
      "cell_type": "code",
      "source": [
        "!pip install dgl\n",
        "!pip install category_encoders\n",
        "!pip install dgl-cu116 dglgo -f https://data.dgl.ai/wheels/repo.html"
      ],
      "metadata": {
        "id": "2bcU5r1_XF6U"
      },
      "execution_count": null,
      "outputs": []
    },
    {
      "cell_type": "code",
      "execution_count": null,
      "metadata": {
        "id": "mS0bWISTqhMI",
        "colab": {
          "base_uri": "https://localhost:8080/"
        },
        "outputId": "1269cc14-5ed7-438c-961b-6f7dbf018124"
      },
      "outputs": [
        {
          "output_type": "stream",
          "name": "stderr",
          "text": [
            "DGL backend not selected or invalid.  Assuming PyTorch for now.\n"
          ]
        },
        {
          "output_type": "stream",
          "name": "stdout",
          "text": [
            "Setting the default backend to \"pytorch\". You can change it in the ~/.dgl/config.json file or export the DGLBACKEND environment variable.  Valid options are: pytorch, mxnet, tensorflow (all lowercase)\n"
          ]
        }
      ],
      "source": [
        "import dgl.nn as dglnn\n",
        "from dgl import from_networkx\n",
        "import torch.nn as nn\n",
        "import torch as th\n",
        "import torch.nn.functional as F\n",
        "import dgl.function as fn\n",
        "import networkx as nx\n",
        "import pandas as pd\n",
        "import socket\n",
        "import struct\n",
        "import random\n",
        "from sklearn.preprocessing import LabelEncoder\n",
        "from sklearn.preprocessing import StandardScaler\n",
        "from sklearn.model_selection import train_test_split\n",
        "import category_encoders as ce\n",
        "from sklearn.decomposition import PCA\n",
        "import seaborn as sns\n",
        "import matplotlib.pyplot as plt\n",
        "import numpy as np"
      ]
    },
    {
      "cell_type": "code",
      "execution_count": null,
      "metadata": {
        "id": "ki0watiErdJp"
      },
      "outputs": [],
      "source": [
        "data = pd.read_csv('/content/drive/MyDrive/NF-CSE-CIC-IDS2018/NF-CSE-CIC-IDS2018.csv')"
      ]
    },
    {
      "cell_type": "code",
      "source": [
        "# data_test = pd.read_csv('/content/drive/MyDrive/NF-UNSW-NB15/NF-UNSW-NB15.csv')"
      ],
      "metadata": {
        "id": "Y7dr2AT-L1ev"
      },
      "execution_count": null,
      "outputs": []
    },
    {
      "cell_type": "code",
      "execution_count": null,
      "metadata": {
        "id": "0JmyVopVrqWQ",
        "colab": {
          "base_uri": "https://localhost:8080/",
          "height": 488
        },
        "outputId": "a16892c2-8f8e-4d29-ced6-94af3a6307ac"
      },
      "outputs": [
        {
          "output_type": "execute_result",
          "data": {
            "text/plain": [
              "           IPV4_SRC_ADDR  L4_SRC_PORT    IPV4_DST_ADDR  L4_DST_PORT  PROTOCOL  \\\n",
              "0           172.31.66.17        51128     23.36.69.189          443         6   \n",
              "1          34.195.59.178          443     172.31.66.17        51036         6   \n",
              "2        112.215.171.212        12262     172.31.66.17          445         6   \n",
              "3           172.31.66.17        61023       172.31.0.2           53        17   \n",
              "4         34.204.112.168          443     172.31.66.17        51037         6   \n",
              "...                  ...          ...              ...          ...       ...   \n",
              "8392396      172.31.69.7           22  122.226.181.164        40810         6   \n",
              "8392397    45.70.167.112        15476      172.31.69.7           23         6   \n",
              "8392398      172.31.69.7           23    45.70.167.112        15476         6   \n",
              "8392399      172.31.69.7        56407       172.31.0.2           53        17   \n",
              "8392400       172.31.0.2           53      172.31.69.7        56407        17   \n",
              "\n",
              "         L7_PROTO  IN_BYTES  OUT_BYTES  IN_PKTS  OUT_PKTS  TCP_FLAGS  \\\n",
              "0          91.000       152          0        3         0        194   \n",
              "1          91.178       994        979        7         7         24   \n",
              "2           0.000       585        344        5         4         30   \n",
              "3           0.000       136        168        2         2          0   \n",
              "4          91.178        72         40        1         1         24   \n",
              "...           ...       ...        ...      ...       ...        ...   \n",
              "8392396     0.000      2601          0       12         0         27   \n",
              "8392397     0.000        44          0        1         0          2   \n",
              "8392398     0.000        40          0        1         0         20   \n",
              "8392399     0.000        72          0        1         0          0   \n",
              "8392400     0.000       126          0        1         0          0   \n",
              "\n",
              "         FLOW_DURATION_MILLISECONDS  Label  Attack  \n",
              "0                           4285680      0  Benign  \n",
              "1                           4234714      0  Benign  \n",
              "2                           4294106      0  Benign  \n",
              "3                           4293985      0  Benign  \n",
              "4                           4294845      0  Benign  \n",
              "...                             ...    ...     ...  \n",
              "8392396                           0      0  Benign  \n",
              "8392397                           0      0  Benign  \n",
              "8392398                           0      0  Benign  \n",
              "8392399                           0      0  Benign  \n",
              "8392400                           0      0  Benign  \n",
              "\n",
              "[8392401 rows x 14 columns]"
            ],
            "text/html": [
              "\n",
              "  <div id=\"df-84f1b4cc-933b-430f-abd3-97bff8fdcc66\">\n",
              "    <div class=\"colab-df-container\">\n",
              "      <div>\n",
              "<style scoped>\n",
              "    .dataframe tbody tr th:only-of-type {\n",
              "        vertical-align: middle;\n",
              "    }\n",
              "\n",
              "    .dataframe tbody tr th {\n",
              "        vertical-align: top;\n",
              "    }\n",
              "\n",
              "    .dataframe thead th {\n",
              "        text-align: right;\n",
              "    }\n",
              "</style>\n",
              "<table border=\"1\" class=\"dataframe\">\n",
              "  <thead>\n",
              "    <tr style=\"text-align: right;\">\n",
              "      <th></th>\n",
              "      <th>IPV4_SRC_ADDR</th>\n",
              "      <th>L4_SRC_PORT</th>\n",
              "      <th>IPV4_DST_ADDR</th>\n",
              "      <th>L4_DST_PORT</th>\n",
              "      <th>PROTOCOL</th>\n",
              "      <th>L7_PROTO</th>\n",
              "      <th>IN_BYTES</th>\n",
              "      <th>OUT_BYTES</th>\n",
              "      <th>IN_PKTS</th>\n",
              "      <th>OUT_PKTS</th>\n",
              "      <th>TCP_FLAGS</th>\n",
              "      <th>FLOW_DURATION_MILLISECONDS</th>\n",
              "      <th>Label</th>\n",
              "      <th>Attack</th>\n",
              "    </tr>\n",
              "  </thead>\n",
              "  <tbody>\n",
              "    <tr>\n",
              "      <th>0</th>\n",
              "      <td>172.31.66.17</td>\n",
              "      <td>51128</td>\n",
              "      <td>23.36.69.189</td>\n",
              "      <td>443</td>\n",
              "      <td>6</td>\n",
              "      <td>91.000</td>\n",
              "      <td>152</td>\n",
              "      <td>0</td>\n",
              "      <td>3</td>\n",
              "      <td>0</td>\n",
              "      <td>194</td>\n",
              "      <td>4285680</td>\n",
              "      <td>0</td>\n",
              "      <td>Benign</td>\n",
              "    </tr>\n",
              "    <tr>\n",
              "      <th>1</th>\n",
              "      <td>34.195.59.178</td>\n",
              "      <td>443</td>\n",
              "      <td>172.31.66.17</td>\n",
              "      <td>51036</td>\n",
              "      <td>6</td>\n",
              "      <td>91.178</td>\n",
              "      <td>994</td>\n",
              "      <td>979</td>\n",
              "      <td>7</td>\n",
              "      <td>7</td>\n",
              "      <td>24</td>\n",
              "      <td>4234714</td>\n",
              "      <td>0</td>\n",
              "      <td>Benign</td>\n",
              "    </tr>\n",
              "    <tr>\n",
              "      <th>2</th>\n",
              "      <td>112.215.171.212</td>\n",
              "      <td>12262</td>\n",
              "      <td>172.31.66.17</td>\n",
              "      <td>445</td>\n",
              "      <td>6</td>\n",
              "      <td>0.000</td>\n",
              "      <td>585</td>\n",
              "      <td>344</td>\n",
              "      <td>5</td>\n",
              "      <td>4</td>\n",
              "      <td>30</td>\n",
              "      <td>4294106</td>\n",
              "      <td>0</td>\n",
              "      <td>Benign</td>\n",
              "    </tr>\n",
              "    <tr>\n",
              "      <th>3</th>\n",
              "      <td>172.31.66.17</td>\n",
              "      <td>61023</td>\n",
              "      <td>172.31.0.2</td>\n",
              "      <td>53</td>\n",
              "      <td>17</td>\n",
              "      <td>0.000</td>\n",
              "      <td>136</td>\n",
              "      <td>168</td>\n",
              "      <td>2</td>\n",
              "      <td>2</td>\n",
              "      <td>0</td>\n",
              "      <td>4293985</td>\n",
              "      <td>0</td>\n",
              "      <td>Benign</td>\n",
              "    </tr>\n",
              "    <tr>\n",
              "      <th>4</th>\n",
              "      <td>34.204.112.168</td>\n",
              "      <td>443</td>\n",
              "      <td>172.31.66.17</td>\n",
              "      <td>51037</td>\n",
              "      <td>6</td>\n",
              "      <td>91.178</td>\n",
              "      <td>72</td>\n",
              "      <td>40</td>\n",
              "      <td>1</td>\n",
              "      <td>1</td>\n",
              "      <td>24</td>\n",
              "      <td>4294845</td>\n",
              "      <td>0</td>\n",
              "      <td>Benign</td>\n",
              "    </tr>\n",
              "    <tr>\n",
              "      <th>...</th>\n",
              "      <td>...</td>\n",
              "      <td>...</td>\n",
              "      <td>...</td>\n",
              "      <td>...</td>\n",
              "      <td>...</td>\n",
              "      <td>...</td>\n",
              "      <td>...</td>\n",
              "      <td>...</td>\n",
              "      <td>...</td>\n",
              "      <td>...</td>\n",
              "      <td>...</td>\n",
              "      <td>...</td>\n",
              "      <td>...</td>\n",
              "      <td>...</td>\n",
              "    </tr>\n",
              "    <tr>\n",
              "      <th>8392396</th>\n",
              "      <td>172.31.69.7</td>\n",
              "      <td>22</td>\n",
              "      <td>122.226.181.164</td>\n",
              "      <td>40810</td>\n",
              "      <td>6</td>\n",
              "      <td>0.000</td>\n",
              "      <td>2601</td>\n",
              "      <td>0</td>\n",
              "      <td>12</td>\n",
              "      <td>0</td>\n",
              "      <td>27</td>\n",
              "      <td>0</td>\n",
              "      <td>0</td>\n",
              "      <td>Benign</td>\n",
              "    </tr>\n",
              "    <tr>\n",
              "      <th>8392397</th>\n",
              "      <td>45.70.167.112</td>\n",
              "      <td>15476</td>\n",
              "      <td>172.31.69.7</td>\n",
              "      <td>23</td>\n",
              "      <td>6</td>\n",
              "      <td>0.000</td>\n",
              "      <td>44</td>\n",
              "      <td>0</td>\n",
              "      <td>1</td>\n",
              "      <td>0</td>\n",
              "      <td>2</td>\n",
              "      <td>0</td>\n",
              "      <td>0</td>\n",
              "      <td>Benign</td>\n",
              "    </tr>\n",
              "    <tr>\n",
              "      <th>8392398</th>\n",
              "      <td>172.31.69.7</td>\n",
              "      <td>23</td>\n",
              "      <td>45.70.167.112</td>\n",
              "      <td>15476</td>\n",
              "      <td>6</td>\n",
              "      <td>0.000</td>\n",
              "      <td>40</td>\n",
              "      <td>0</td>\n",
              "      <td>1</td>\n",
              "      <td>0</td>\n",
              "      <td>20</td>\n",
              "      <td>0</td>\n",
              "      <td>0</td>\n",
              "      <td>Benign</td>\n",
              "    </tr>\n",
              "    <tr>\n",
              "      <th>8392399</th>\n",
              "      <td>172.31.69.7</td>\n",
              "      <td>56407</td>\n",
              "      <td>172.31.0.2</td>\n",
              "      <td>53</td>\n",
              "      <td>17</td>\n",
              "      <td>0.000</td>\n",
              "      <td>72</td>\n",
              "      <td>0</td>\n",
              "      <td>1</td>\n",
              "      <td>0</td>\n",
              "      <td>0</td>\n",
              "      <td>0</td>\n",
              "      <td>0</td>\n",
              "      <td>Benign</td>\n",
              "    </tr>\n",
              "    <tr>\n",
              "      <th>8392400</th>\n",
              "      <td>172.31.0.2</td>\n",
              "      <td>53</td>\n",
              "      <td>172.31.69.7</td>\n",
              "      <td>56407</td>\n",
              "      <td>17</td>\n",
              "      <td>0.000</td>\n",
              "      <td>126</td>\n",
              "      <td>0</td>\n",
              "      <td>1</td>\n",
              "      <td>0</td>\n",
              "      <td>0</td>\n",
              "      <td>0</td>\n",
              "      <td>0</td>\n",
              "      <td>Benign</td>\n",
              "    </tr>\n",
              "  </tbody>\n",
              "</table>\n",
              "<p>8392401 rows × 14 columns</p>\n",
              "</div>\n",
              "      <button class=\"colab-df-convert\" onclick=\"convertToInteractive('df-84f1b4cc-933b-430f-abd3-97bff8fdcc66')\"\n",
              "              title=\"Convert this dataframe to an interactive table.\"\n",
              "              style=\"display:none;\">\n",
              "        \n",
              "  <svg xmlns=\"http://www.w3.org/2000/svg\" height=\"24px\"viewBox=\"0 0 24 24\"\n",
              "       width=\"24px\">\n",
              "    <path d=\"M0 0h24v24H0V0z\" fill=\"none\"/>\n",
              "    <path d=\"M18.56 5.44l.94 2.06.94-2.06 2.06-.94-2.06-.94-.94-2.06-.94 2.06-2.06.94zm-11 1L8.5 8.5l.94-2.06 2.06-.94-2.06-.94L8.5 2.5l-.94 2.06-2.06.94zm10 10l.94 2.06.94-2.06 2.06-.94-2.06-.94-.94-2.06-.94 2.06-2.06.94z\"/><path d=\"M17.41 7.96l-1.37-1.37c-.4-.4-.92-.59-1.43-.59-.52 0-1.04.2-1.43.59L10.3 9.45l-7.72 7.72c-.78.78-.78 2.05 0 2.83L4 21.41c.39.39.9.59 1.41.59.51 0 1.02-.2 1.41-.59l7.78-7.78 2.81-2.81c.8-.78.8-2.07 0-2.86zM5.41 20L4 18.59l7.72-7.72 1.47 1.35L5.41 20z\"/>\n",
              "  </svg>\n",
              "      </button>\n",
              "      \n",
              "  <style>\n",
              "    .colab-df-container {\n",
              "      display:flex;\n",
              "      flex-wrap:wrap;\n",
              "      gap: 12px;\n",
              "    }\n",
              "\n",
              "    .colab-df-convert {\n",
              "      background-color: #E8F0FE;\n",
              "      border: none;\n",
              "      border-radius: 50%;\n",
              "      cursor: pointer;\n",
              "      display: none;\n",
              "      fill: #1967D2;\n",
              "      height: 32px;\n",
              "      padding: 0 0 0 0;\n",
              "      width: 32px;\n",
              "    }\n",
              "\n",
              "    .colab-df-convert:hover {\n",
              "      background-color: #E2EBFA;\n",
              "      box-shadow: 0px 1px 2px rgba(60, 64, 67, 0.3), 0px 1px 3px 1px rgba(60, 64, 67, 0.15);\n",
              "      fill: #174EA6;\n",
              "    }\n",
              "\n",
              "    [theme=dark] .colab-df-convert {\n",
              "      background-color: #3B4455;\n",
              "      fill: #D2E3FC;\n",
              "    }\n",
              "\n",
              "    [theme=dark] .colab-df-convert:hover {\n",
              "      background-color: #434B5C;\n",
              "      box-shadow: 0px 1px 3px 1px rgba(0, 0, 0, 0.15);\n",
              "      filter: drop-shadow(0px 1px 2px rgba(0, 0, 0, 0.3));\n",
              "      fill: #FFFFFF;\n",
              "    }\n",
              "  </style>\n",
              "\n",
              "      <script>\n",
              "        const buttonEl =\n",
              "          document.querySelector('#df-84f1b4cc-933b-430f-abd3-97bff8fdcc66 button.colab-df-convert');\n",
              "        buttonEl.style.display =\n",
              "          google.colab.kernel.accessAllowed ? 'block' : 'none';\n",
              "\n",
              "        async function convertToInteractive(key) {\n",
              "          const element = document.querySelector('#df-84f1b4cc-933b-430f-abd3-97bff8fdcc66');\n",
              "          const dataTable =\n",
              "            await google.colab.kernel.invokeFunction('convertToInteractive',\n",
              "                                                     [key], {});\n",
              "          if (!dataTable) return;\n",
              "\n",
              "          const docLinkHtml = 'Like what you see? Visit the ' +\n",
              "            '<a target=\"_blank\" href=https://colab.research.google.com/notebooks/data_table.ipynb>data table notebook</a>'\n",
              "            + ' to learn more about interactive tables.';\n",
              "          element.innerHTML = '';\n",
              "          dataTable['output_type'] = 'display_data';\n",
              "          await google.colab.output.renderOutput(dataTable, element);\n",
              "          const docLink = document.createElement('div');\n",
              "          docLink.innerHTML = docLinkHtml;\n",
              "          element.appendChild(docLink);\n",
              "        }\n",
              "      </script>\n",
              "    </div>\n",
              "  </div>\n",
              "  "
            ]
          },
          "metadata": {},
          "execution_count": 6
        }
      ],
      "source": [
        "data"
      ]
    },
    {
      "cell_type": "code",
      "source": [
        "data.columns"
      ],
      "metadata": {
        "id": "evExJ2_OaXCP",
        "colab": {
          "base_uri": "https://localhost:8080/"
        },
        "outputId": "f3013bd1-25bf-4f2c-b5a9-51ecf13d1d20"
      },
      "execution_count": null,
      "outputs": [
        {
          "output_type": "execute_result",
          "data": {
            "text/plain": [
              "Index(['IPV4_SRC_ADDR', 'L4_SRC_PORT', 'IPV4_DST_ADDR', 'L4_DST_PORT',\n",
              "       'PROTOCOL', 'L7_PROTO', 'IN_BYTES', 'OUT_BYTES', 'IN_PKTS', 'OUT_PKTS',\n",
              "       'TCP_FLAGS', 'FLOW_DURATION_MILLISECONDS', 'Label', 'Attack'],\n",
              "      dtype='object')"
            ]
          },
          "metadata": {},
          "execution_count": 7
        }
      ]
    },
    {
      "cell_type": "code",
      "source": [
        "data.Attack.value_counts()"
      ],
      "metadata": {
        "id": "VwAgyKjuaMtJ",
        "colab": {
          "base_uri": "https://localhost:8080/"
        },
        "outputId": "faecadfb-bec4-4203-cf29-0430e5775916"
      },
      "execution_count": null,
      "outputs": [
        {
          "output_type": "execute_result",
          "data": {
            "text/plain": [
              "Benign                      7373198\n",
              "DDoS attacks-LOIC-HTTP       378199\n",
              "FTP-BruteForce               193360\n",
              "DoS attacks-Hulk             108136\n",
              "DoS attacks-SlowHTTPTest     105550\n",
              "SSH-Bruteforce                94237\n",
              "Infilteration                 62072\n",
              "DoS attacks-GoldenEye         32850\n",
              "DoS attacks-Slowloris         22825\n",
              "Bot                           15683\n",
              "Brute Force -Web               2613\n",
              "Brute Force -XSS               1745\n",
              "DDOS attack-LOIC-UDP           1667\n",
              "DDOS attack-HOIC                230\n",
              "SQL Injection                    36\n",
              "Name: Attack, dtype: int64"
            ]
          },
          "metadata": {},
          "execution_count": 8
        }
      ]
    },
    {
      "cell_type": "code",
      "source": [
        "def change_label(data):\n",
        "  data.Attack.replace(['DDoS attacks-LOIC-HTTP', 'DoS attacks-Hulk', 'DoS attacks-SlowHTTPTest', 'DoS attacks-GoldenEye', \n",
        "                    'DoS attacks-Slowloris', 'DDOS attack-LOIC-UDP', 'DDOS attack-HOIC'],'Dos',inplace=True)\n",
        "  data.Attack.replace(['FTP-BruteForce', 'SSH-Bruteforce', 'Brute Force -Web'],'Probe',inplace=True)\n",
        "  data.Attack.replace(['SQL Injection', 'Brute Force -XSS'],'U2R',inplace=True)\n",
        "  data.Attack.replace(['Benign'],'Normal',inplace=True)\n",
        "  data.Attack.replace(['Bot', 'Infilteration'],'R2L',inplace=True)\n",
        "change_label(data)\n",
        "data.Attack.value_counts()"
      ],
      "metadata": {
        "id": "eqODN_TOaWGW",
        "colab": {
          "base_uri": "https://localhost:8080/"
        },
        "outputId": "360fc32e-6f14-4ae4-89dc-6252edf65c46"
      },
      "execution_count": null,
      "outputs": [
        {
          "output_type": "execute_result",
          "data": {
            "text/plain": [
              "Normal    7373198\n",
              "Dos        649457\n",
              "Probe      290210\n",
              "R2L         77755\n",
              "U2R          1781\n",
              "Name: Attack, dtype: int64"
            ]
          },
          "metadata": {},
          "execution_count": 9
        }
      ]
    },
    {
      "cell_type": "code",
      "source": [
        "# def change_label(data):\n",
        "#   data.Attack.replace(['DoS'],'Dos',inplace=True)\n",
        "#   data.Attack.replace(['Reconnaissance'],'Probe',inplace=True)\n",
        "#   data.Attack.replace(['Generic','Analysis','Exploits','Shellcode','Fuzzers'],'U2R',inplace=True)\n",
        "#   data.Attack.replace(['Benign'],'Normal',inplace=True)\n",
        "#   data.Attack.replace(['Backdoor','Worms'],'R2L',inplace=True)\n",
        "# change_label(data_test)\n",
        "# data_test.Attack.value_counts()"
      ],
      "metadata": {
        "id": "RItdyMkLL_SB"
      },
      "execution_count": null,
      "outputs": []
    },
    {
      "cell_type": "code",
      "source": [
        "data.drop(data.loc[data['Attack']=='Normal'].index[:6900000], axis=0, inplace=True)\n",
        "data.drop(data.loc[data['Attack']=='Dos'].index[:520000], axis=0, inplace=True)\n",
        "data.drop(data.loc[data['Attack']=='Probe'].index[:100000], axis=0, inplace=True)\n",
        "data.drop(data.loc[data['Attack']=='R2L'].index[:30000], axis=0, inplace=True)"
      ],
      "metadata": {
        "id": "puKPDJ9Wxguv"
      },
      "execution_count": null,
      "outputs": []
    },
    {
      "cell_type": "code",
      "source": [
        "# data_test.drop(data_test.loc[data_test['Attack']=='Normal'].index[:1000000], axis=0, inplace=True)"
      ],
      "metadata": {
        "id": "_Jen3OENMGYU"
      },
      "execution_count": null,
      "outputs": []
    },
    {
      "cell_type": "code",
      "source": [
        "data.Attack.value_counts()"
      ],
      "metadata": {
        "colab": {
          "base_uri": "https://localhost:8080/"
        },
        "id": "Mn-8TUWU363i",
        "outputId": "f5049e28-ed2e-4461-a362-65a381a30c00"
      },
      "execution_count": null,
      "outputs": [
        {
          "output_type": "execute_result",
          "data": {
            "text/plain": [
              "Normal    473198\n",
              "Probe     190210\n",
              "Dos       129457\n",
              "R2L        47755\n",
              "U2R         1781\n",
              "Name: Attack, dtype: int64"
            ]
          },
          "metadata": {},
          "execution_count": 13
        }
      ]
    },
    {
      "cell_type": "code",
      "source": [
        "# data_test.Attack.value_counts()"
      ],
      "metadata": {
        "id": "cjxz3BsRMQE0"
      },
      "execution_count": null,
      "outputs": []
    },
    {
      "cell_type": "code",
      "source": [
        "data.head()"
      ],
      "metadata": {
        "colab": {
          "base_uri": "https://localhost:8080/",
          "height": 270
        },
        "id": "SS1oz5AyyAnR",
        "outputId": "bd1c1b15-2afc-4fa3-ab49-a0e83108231f"
      },
      "execution_count": null,
      "outputs": [
        {
          "output_type": "execute_result",
          "data": {
            "text/plain": [
              "        IPV4_SRC_ADDR  L4_SRC_PORT IPV4_DST_ADDR  L4_DST_PORT  PROTOCOL  \\\n",
              "1917040  52.14.77.172         1024  172.31.69.28          500        17   \n",
              "1917052   13.58.42.57         1028  172.31.69.28          500        17   \n",
              "1917058   13.58.42.57         1028  172.31.69.28          500        17   \n",
              "1917061  52.14.77.172         1024  172.31.69.28          500        17   \n",
              "1917066  52.14.77.172         1024  172.31.69.28          500        17   \n",
              "\n",
              "         L7_PROTO  IN_BYTES  OUT_BYTES  IN_PKTS  OUT_PKTS  TCP_FLAGS  \\\n",
              "1917040    79.178       528          0        1         0          0   \n",
              "1917052    79.178      2640          0        5         0          0   \n",
              "1917058    79.178       528          0        1         0          0   \n",
              "1917061    79.178      2640          0        5         0          0   \n",
              "1917066    79.178       528          0        1         0          0   \n",
              "\n",
              "         FLOW_DURATION_MILLISECONDS  Label Attack  \n",
              "1917040                           0      1    U2R  \n",
              "1917052                     4247475      1    U2R  \n",
              "1917058                           0      1    U2R  \n",
              "1917061                     4247475      1    U2R  \n",
              "1917066                           0      1    U2R  "
            ],
            "text/html": [
              "\n",
              "  <div id=\"df-7b253e95-7a9f-4072-b5aa-453256ed5606\">\n",
              "    <div class=\"colab-df-container\">\n",
              "      <div>\n",
              "<style scoped>\n",
              "    .dataframe tbody tr th:only-of-type {\n",
              "        vertical-align: middle;\n",
              "    }\n",
              "\n",
              "    .dataframe tbody tr th {\n",
              "        vertical-align: top;\n",
              "    }\n",
              "\n",
              "    .dataframe thead th {\n",
              "        text-align: right;\n",
              "    }\n",
              "</style>\n",
              "<table border=\"1\" class=\"dataframe\">\n",
              "  <thead>\n",
              "    <tr style=\"text-align: right;\">\n",
              "      <th></th>\n",
              "      <th>IPV4_SRC_ADDR</th>\n",
              "      <th>L4_SRC_PORT</th>\n",
              "      <th>IPV4_DST_ADDR</th>\n",
              "      <th>L4_DST_PORT</th>\n",
              "      <th>PROTOCOL</th>\n",
              "      <th>L7_PROTO</th>\n",
              "      <th>IN_BYTES</th>\n",
              "      <th>OUT_BYTES</th>\n",
              "      <th>IN_PKTS</th>\n",
              "      <th>OUT_PKTS</th>\n",
              "      <th>TCP_FLAGS</th>\n",
              "      <th>FLOW_DURATION_MILLISECONDS</th>\n",
              "      <th>Label</th>\n",
              "      <th>Attack</th>\n",
              "    </tr>\n",
              "  </thead>\n",
              "  <tbody>\n",
              "    <tr>\n",
              "      <th>1917040</th>\n",
              "      <td>52.14.77.172</td>\n",
              "      <td>1024</td>\n",
              "      <td>172.31.69.28</td>\n",
              "      <td>500</td>\n",
              "      <td>17</td>\n",
              "      <td>79.178</td>\n",
              "      <td>528</td>\n",
              "      <td>0</td>\n",
              "      <td>1</td>\n",
              "      <td>0</td>\n",
              "      <td>0</td>\n",
              "      <td>0</td>\n",
              "      <td>1</td>\n",
              "      <td>U2R</td>\n",
              "    </tr>\n",
              "    <tr>\n",
              "      <th>1917052</th>\n",
              "      <td>13.58.42.57</td>\n",
              "      <td>1028</td>\n",
              "      <td>172.31.69.28</td>\n",
              "      <td>500</td>\n",
              "      <td>17</td>\n",
              "      <td>79.178</td>\n",
              "      <td>2640</td>\n",
              "      <td>0</td>\n",
              "      <td>5</td>\n",
              "      <td>0</td>\n",
              "      <td>0</td>\n",
              "      <td>4247475</td>\n",
              "      <td>1</td>\n",
              "      <td>U2R</td>\n",
              "    </tr>\n",
              "    <tr>\n",
              "      <th>1917058</th>\n",
              "      <td>13.58.42.57</td>\n",
              "      <td>1028</td>\n",
              "      <td>172.31.69.28</td>\n",
              "      <td>500</td>\n",
              "      <td>17</td>\n",
              "      <td>79.178</td>\n",
              "      <td>528</td>\n",
              "      <td>0</td>\n",
              "      <td>1</td>\n",
              "      <td>0</td>\n",
              "      <td>0</td>\n",
              "      <td>0</td>\n",
              "      <td>1</td>\n",
              "      <td>U2R</td>\n",
              "    </tr>\n",
              "    <tr>\n",
              "      <th>1917061</th>\n",
              "      <td>52.14.77.172</td>\n",
              "      <td>1024</td>\n",
              "      <td>172.31.69.28</td>\n",
              "      <td>500</td>\n",
              "      <td>17</td>\n",
              "      <td>79.178</td>\n",
              "      <td>2640</td>\n",
              "      <td>0</td>\n",
              "      <td>5</td>\n",
              "      <td>0</td>\n",
              "      <td>0</td>\n",
              "      <td>4247475</td>\n",
              "      <td>1</td>\n",
              "      <td>U2R</td>\n",
              "    </tr>\n",
              "    <tr>\n",
              "      <th>1917066</th>\n",
              "      <td>52.14.77.172</td>\n",
              "      <td>1024</td>\n",
              "      <td>172.31.69.28</td>\n",
              "      <td>500</td>\n",
              "      <td>17</td>\n",
              "      <td>79.178</td>\n",
              "      <td>528</td>\n",
              "      <td>0</td>\n",
              "      <td>1</td>\n",
              "      <td>0</td>\n",
              "      <td>0</td>\n",
              "      <td>0</td>\n",
              "      <td>1</td>\n",
              "      <td>U2R</td>\n",
              "    </tr>\n",
              "  </tbody>\n",
              "</table>\n",
              "</div>\n",
              "      <button class=\"colab-df-convert\" onclick=\"convertToInteractive('df-7b253e95-7a9f-4072-b5aa-453256ed5606')\"\n",
              "              title=\"Convert this dataframe to an interactive table.\"\n",
              "              style=\"display:none;\">\n",
              "        \n",
              "  <svg xmlns=\"http://www.w3.org/2000/svg\" height=\"24px\"viewBox=\"0 0 24 24\"\n",
              "       width=\"24px\">\n",
              "    <path d=\"M0 0h24v24H0V0z\" fill=\"none\"/>\n",
              "    <path d=\"M18.56 5.44l.94 2.06.94-2.06 2.06-.94-2.06-.94-.94-2.06-.94 2.06-2.06.94zm-11 1L8.5 8.5l.94-2.06 2.06-.94-2.06-.94L8.5 2.5l-.94 2.06-2.06.94zm10 10l.94 2.06.94-2.06 2.06-.94-2.06-.94-.94-2.06-.94 2.06-2.06.94z\"/><path d=\"M17.41 7.96l-1.37-1.37c-.4-.4-.92-.59-1.43-.59-.52 0-1.04.2-1.43.59L10.3 9.45l-7.72 7.72c-.78.78-.78 2.05 0 2.83L4 21.41c.39.39.9.59 1.41.59.51 0 1.02-.2 1.41-.59l7.78-7.78 2.81-2.81c.8-.78.8-2.07 0-2.86zM5.41 20L4 18.59l7.72-7.72 1.47 1.35L5.41 20z\"/>\n",
              "  </svg>\n",
              "      </button>\n",
              "      \n",
              "  <style>\n",
              "    .colab-df-container {\n",
              "      display:flex;\n",
              "      flex-wrap:wrap;\n",
              "      gap: 12px;\n",
              "    }\n",
              "\n",
              "    .colab-df-convert {\n",
              "      background-color: #E8F0FE;\n",
              "      border: none;\n",
              "      border-radius: 50%;\n",
              "      cursor: pointer;\n",
              "      display: none;\n",
              "      fill: #1967D2;\n",
              "      height: 32px;\n",
              "      padding: 0 0 0 0;\n",
              "      width: 32px;\n",
              "    }\n",
              "\n",
              "    .colab-df-convert:hover {\n",
              "      background-color: #E2EBFA;\n",
              "      box-shadow: 0px 1px 2px rgba(60, 64, 67, 0.3), 0px 1px 3px 1px rgba(60, 64, 67, 0.15);\n",
              "      fill: #174EA6;\n",
              "    }\n",
              "\n",
              "    [theme=dark] .colab-df-convert {\n",
              "      background-color: #3B4455;\n",
              "      fill: #D2E3FC;\n",
              "    }\n",
              "\n",
              "    [theme=dark] .colab-df-convert:hover {\n",
              "      background-color: #434B5C;\n",
              "      box-shadow: 0px 1px 3px 1px rgba(0, 0, 0, 0.15);\n",
              "      filter: drop-shadow(0px 1px 2px rgba(0, 0, 0, 0.3));\n",
              "      fill: #FFFFFF;\n",
              "    }\n",
              "  </style>\n",
              "\n",
              "      <script>\n",
              "        const buttonEl =\n",
              "          document.querySelector('#df-7b253e95-7a9f-4072-b5aa-453256ed5606 button.colab-df-convert');\n",
              "        buttonEl.style.display =\n",
              "          google.colab.kernel.accessAllowed ? 'block' : 'none';\n",
              "\n",
              "        async function convertToInteractive(key) {\n",
              "          const element = document.querySelector('#df-7b253e95-7a9f-4072-b5aa-453256ed5606');\n",
              "          const dataTable =\n",
              "            await google.colab.kernel.invokeFunction('convertToInteractive',\n",
              "                                                     [key], {});\n",
              "          if (!dataTable) return;\n",
              "\n",
              "          const docLinkHtml = 'Like what you see? Visit the ' +\n",
              "            '<a target=\"_blank\" href=https://colab.research.google.com/notebooks/data_table.ipynb>data table notebook</a>'\n",
              "            + ' to learn more about interactive tables.';\n",
              "          element.innerHTML = '';\n",
              "          dataTable['output_type'] = 'display_data';\n",
              "          await google.colab.output.renderOutput(dataTable, element);\n",
              "          const docLink = document.createElement('div');\n",
              "          docLink.innerHTML = docLinkHtml;\n",
              "          element.appendChild(docLink);\n",
              "        }\n",
              "      </script>\n",
              "    </div>\n",
              "  </div>\n",
              "  "
            ]
          },
          "metadata": {},
          "execution_count": 15
        }
      ]
    },
    {
      "cell_type": "code",
      "source": [
        "import pandas as pd\n",
        "import os\n",
        "import numpy as np\n",
        "from sklearn import metrics\n",
        "from scipy.stats import zscore\n",
        "\n",
        "def expand_categories(values):\n",
        "    result = []\n",
        "    s = values.value_counts()\n",
        "    t = float(len(values))\n",
        "    for v in s.index:\n",
        "        result.append(\"{}:{}%\".format(v,round(100*(s[v]/t),2)))\n",
        "    return \"[{}]\".format(\", \".join(result))\n",
        "        \n",
        "def analyze(df):\n",
        "    print()\n",
        "    cols = df.columns.values\n",
        "    total = float(len(df))\n",
        "\n",
        "    print(\"{} rows\".format(int(total)))\n",
        "    for col in cols:\n",
        "        uniques = df[col].unique()\n",
        "        unique_count = len(uniques)\n",
        "        if unique_count>100:\n",
        "            print(\"** {}:{} ({}%)\".format(col,unique_count,\\\n",
        "                int(((unique_count)/total)*100)))\n",
        "        else:\n",
        "            print(\"** {}:{}\".format(col,expand_categories(df[col])))\n",
        "            expand_categories(df[col])\n",
        "analyze(data)"
      ],
      "metadata": {
        "colab": {
          "base_uri": "https://localhost:8080/"
        },
        "id": "QwhuBMe4VyzN",
        "outputId": "f056d6ca-e599-4b6d-f6be-673ca02e3928"
      },
      "execution_count": null,
      "outputs": [
        {
          "output_type": "stream",
          "name": "stdout",
          "text": [
            "\n",
            "842401 rows\n",
            "** IPV4_SRC_ADDR:6891 (0%)\n",
            "** L4_SRC_PORT:30729 (3%)\n",
            "** IPV4_DST_ADDR:6806 (0%)\n",
            "** L4_DST_PORT:30981 (3%)\n",
            "** PROTOCOL:[6:92.56%, 17:7.16%, 1:0.27%, 2:0.0%, 58:0.0%, 0:0.0%]\n",
            "** L7_PROTO:[0.0:97.61%, 5.126:0.47%, 91.126:0.38%, 91.178:0.22%, 79.178:0.19%, 91.125:0.13%, 7.0:0.12%, 5.178:0.11%, 41.0:0.07%, 91.0:0.07%, 5.119:0.07%, 5.24:0.06%, 91.119:0.05%, 127.0:0.05%, 91.22:0.04%, 7.126:0.04%, 5.239:0.03%, 91.12:0.03%, 5.233:0.03%, 5.2120000000000015:0.02%, 88.0:0.02%, 92.0:0.02%, 5.12:0.02%, 10.0:0.01%, 91.212:0.01%, 91.24:0.01%, 91.239:0.01%, 7.178:0.01%, 5.14:0.01%, 5.202999999999999:0.01%, 5.124:0.01%, 5.7:0.01%, 91.14:0.01%, 77.0:0.01%, 91.233:0.0%, 91.7:0.0%, 114.0:0.0%, 91.221:0.0%, 5.215:0.0%, 5.231:0.0%, 7.22:0.0%, 238.0:0.0%, 5.68:0.0%, 89.0:0.0%, 131.0:0.0%, 91.215:0.0%, 29.0:0.0%, 5.218999999999999:0.0%, 170.0:0.0%, 100.0:0.0%, 158.0:0.0%, 161.0:0.0%, 13.0:0.0%, 20.0:0.0%, 91.68:0.0%, 51.0:0.0%, 7.2189999999999985:0.0%, 4.0:0.0%, 7.125:0.0%, 1.0:0.0%, 244.0:0.0%, 79.0:0.0%, 166.0:0.0%, 97.0:0.0%, 146.0:0.0%, 226.0:0.0%, 174.0:0.0%, 42.0:0.0%, 17.0:0.0%, 213.0:0.0%, 112.0:0.0%, 164.0:0.0%, 111.0:0.0%, 172.0:0.0%, 85.0:0.0%, 167.0:0.0%, 11.0:0.0%, 28.0:0.0%, 139.0:0.0%, 175.0:0.0%, 132.0:0.0%, 150.0:0.0%, 50.0:0.0%, 3.0:0.0%, 23.0:0.0%, 5.0:0.0%, 2.0:0.0%, 19.0:0.0%, 5.147:0.0%, 9.169:0.0%, 41.178:0.0%, 7.147:0.0%, 7.239:0.0%, 182.0:0.0%, 151.0:0.0%]\n",
            "** IN_BYTES:16784 (1%)\n",
            "** OUT_BYTES:3323 (0%)\n",
            "** IN_PKTS:3672 (0%)\n",
            "** OUT_PKTS:162 (0%)\n",
            "** TCP_FLAGS:[27:28.25%, 20:26.48%, 2:12.29%, 0:7.44%, 222:5.07%, 30:3.38%, 26:3.25%, 24:2.56%, 218:2.34%, 31:1.76%, 18:1.38%, 219:0.91%, 16:0.88%, 22:0.76%, 6:0.73%, 4:0.68%, 223:0.64%, 25:0.21%, 90:0.19%, 19:0.17%, 91:0.15%, 211:0.12%, 17:0.08%, 29:0.07%, 28:0.05%, 23:0.05%, 21:0.04%, 194:0.02%, 214:0.02%, 215:0.01%, 83:0.01%, 41:0.01%, 94:0.01%, 210:0.0%, 43:0.0%, 86:0.0%, 152:0.0%, 157:0.0%, 61:0.0%, 82:0.0%, 156:0.0%, 148:0.0%, 153:0.0%]\n",
            "** FLOW_DURATION_MILLISECONDS:6521 (0%)\n",
            "** Label:[0:56.17%, 1:43.83%]\n",
            "** Attack:[Normal:56.17%, Probe:22.58%, Dos:15.37%, R2L:5.67%, U2R:0.21%]\n"
          ]
        }
      ]
    },
    {
      "cell_type": "code",
      "execution_count": null,
      "metadata": {
        "id": "PoVYaeFZtJBd"
      },
      "outputs": [],
      "source": [
        "data['IPV4_SRC_ADDR'] = data.IPV4_SRC_ADDR.apply(lambda x: socket.inet_ntoa(struct.pack('>I', random.randint(0xac100001, 0xac1f0001))))\n",
        "\n",
        "#test\n",
        "# data_test['IPV4_SRC_ADDR'] = data_test.IPV4_SRC_ADDR.apply(lambda x: socket.inet_ntoa(struct.pack('>I', random.randint(0xac100001, 0xac1f0001))))"
      ]
    },
    {
      "cell_type": "code",
      "execution_count": null,
      "metadata": {
        "id": "zs4z58WCtu8k"
      },
      "outputs": [],
      "source": [
        "data['IPV4_SRC_ADDR'] = data.IPV4_SRC_ADDR.apply(str)\n",
        "data['L4_SRC_PORT'] = data.L4_SRC_PORT.apply(str)\n",
        "data['IPV4_DST_ADDR'] = data.IPV4_DST_ADDR.apply(str)\n",
        "data['L4_DST_PORT'] = data.L4_DST_PORT.apply(str)\n",
        "\n",
        "#test\n",
        "# data_test['IPV4_SRC_ADDR'] = data_test.IPV4_SRC_ADDR.apply(str)\n",
        "# data_test['L4_SRC_PORT'] = data_test.L4_SRC_PORT.apply(str)\n",
        "# data_test['IPV4_DST_ADDR'] = data_test.IPV4_DST_ADDR.apply(str)\n",
        "# data_test['L4_DST_PORT'] = data_test.L4_DST_PORT.apply(str)"
      ]
    },
    {
      "cell_type": "code",
      "execution_count": null,
      "metadata": {
        "id": "9EEwTAK3tle9"
      },
      "outputs": [],
      "source": [
        "data['IPV4_SRC_ADDR'] = data['IPV4_SRC_ADDR'] + ':' + data['L4_SRC_PORT']\n",
        "data['IPV4_DST_ADDR'] = data['IPV4_DST_ADDR'] + ':' + data['L4_DST_PORT']\n",
        "\n",
        "#test\n",
        "# data_test['IPV4_SRC_ADDR'] = data_test['IPV4_SRC_ADDR'] + ':' + data_test['L4_SRC_PORT']\n",
        "# data_test['IPV4_DST_ADDR'] = data_test['IPV4_DST_ADDR'] + ':' + data_test['L4_DST_PORT']"
      ]
    },
    {
      "cell_type": "code",
      "execution_count": null,
      "metadata": {
        "id": "xbdaHUxOtzd-"
      },
      "outputs": [],
      "source": [
        "data.drop(columns=['L4_SRC_PORT','L4_DST_PORT'],inplace=True)\n",
        "\n",
        "#test\n",
        "# data_test.drop(columns=['L4_SRC_PORT','L4_DST_PORT'],inplace=True)"
      ]
    },
    {
      "cell_type": "code",
      "execution_count": null,
      "metadata": {
        "id": "CN9rLLmr0eeI",
        "colab": {
          "base_uri": "https://localhost:8080/",
          "height": 270
        },
        "outputId": "d016d9c0-4a72-4234-997d-52b04ff8bb5f"
      },
      "outputs": [
        {
          "output_type": "execute_result",
          "data": {
            "text/plain": [
              "               IPV4_SRC_ADDR     IPV4_DST_ADDR  PROTOCOL  L7_PROTO  IN_BYTES  \\\n",
              "1917040  172.22.161.178:1024  172.31.69.28:500        17    79.178       528   \n",
              "1917052  172.25.235.141:1028  172.31.69.28:500        17    79.178      2640   \n",
              "1917058  172.16.233.204:1028  172.31.69.28:500        17    79.178       528   \n",
              "1917061  172.30.231.150:1024  172.31.69.28:500        17    79.178      2640   \n",
              "1917066   172.22.79.108:1024  172.31.69.28:500        17    79.178       528   \n",
              "\n",
              "         OUT_BYTES  IN_PKTS  OUT_PKTS  TCP_FLAGS  FLOW_DURATION_MILLISECONDS  \\\n",
              "1917040          0        1         0          0                           0   \n",
              "1917052          0        5         0          0                     4247475   \n",
              "1917058          0        1         0          0                           0   \n",
              "1917061          0        5         0          0                     4247475   \n",
              "1917066          0        1         0          0                           0   \n",
              "\n",
              "         Label Attack  \n",
              "1917040      1    U2R  \n",
              "1917052      1    U2R  \n",
              "1917058      1    U2R  \n",
              "1917061      1    U2R  \n",
              "1917066      1    U2R  "
            ],
            "text/html": [
              "\n",
              "  <div id=\"df-207afba1-d8fe-4c52-b0d9-a83cd92b6628\">\n",
              "    <div class=\"colab-df-container\">\n",
              "      <div>\n",
              "<style scoped>\n",
              "    .dataframe tbody tr th:only-of-type {\n",
              "        vertical-align: middle;\n",
              "    }\n",
              "\n",
              "    .dataframe tbody tr th {\n",
              "        vertical-align: top;\n",
              "    }\n",
              "\n",
              "    .dataframe thead th {\n",
              "        text-align: right;\n",
              "    }\n",
              "</style>\n",
              "<table border=\"1\" class=\"dataframe\">\n",
              "  <thead>\n",
              "    <tr style=\"text-align: right;\">\n",
              "      <th></th>\n",
              "      <th>IPV4_SRC_ADDR</th>\n",
              "      <th>IPV4_DST_ADDR</th>\n",
              "      <th>PROTOCOL</th>\n",
              "      <th>L7_PROTO</th>\n",
              "      <th>IN_BYTES</th>\n",
              "      <th>OUT_BYTES</th>\n",
              "      <th>IN_PKTS</th>\n",
              "      <th>OUT_PKTS</th>\n",
              "      <th>TCP_FLAGS</th>\n",
              "      <th>FLOW_DURATION_MILLISECONDS</th>\n",
              "      <th>Label</th>\n",
              "      <th>Attack</th>\n",
              "    </tr>\n",
              "  </thead>\n",
              "  <tbody>\n",
              "    <tr>\n",
              "      <th>1917040</th>\n",
              "      <td>172.22.161.178:1024</td>\n",
              "      <td>172.31.69.28:500</td>\n",
              "      <td>17</td>\n",
              "      <td>79.178</td>\n",
              "      <td>528</td>\n",
              "      <td>0</td>\n",
              "      <td>1</td>\n",
              "      <td>0</td>\n",
              "      <td>0</td>\n",
              "      <td>0</td>\n",
              "      <td>1</td>\n",
              "      <td>U2R</td>\n",
              "    </tr>\n",
              "    <tr>\n",
              "      <th>1917052</th>\n",
              "      <td>172.25.235.141:1028</td>\n",
              "      <td>172.31.69.28:500</td>\n",
              "      <td>17</td>\n",
              "      <td>79.178</td>\n",
              "      <td>2640</td>\n",
              "      <td>0</td>\n",
              "      <td>5</td>\n",
              "      <td>0</td>\n",
              "      <td>0</td>\n",
              "      <td>4247475</td>\n",
              "      <td>1</td>\n",
              "      <td>U2R</td>\n",
              "    </tr>\n",
              "    <tr>\n",
              "      <th>1917058</th>\n",
              "      <td>172.16.233.204:1028</td>\n",
              "      <td>172.31.69.28:500</td>\n",
              "      <td>17</td>\n",
              "      <td>79.178</td>\n",
              "      <td>528</td>\n",
              "      <td>0</td>\n",
              "      <td>1</td>\n",
              "      <td>0</td>\n",
              "      <td>0</td>\n",
              "      <td>0</td>\n",
              "      <td>1</td>\n",
              "      <td>U2R</td>\n",
              "    </tr>\n",
              "    <tr>\n",
              "      <th>1917061</th>\n",
              "      <td>172.30.231.150:1024</td>\n",
              "      <td>172.31.69.28:500</td>\n",
              "      <td>17</td>\n",
              "      <td>79.178</td>\n",
              "      <td>2640</td>\n",
              "      <td>0</td>\n",
              "      <td>5</td>\n",
              "      <td>0</td>\n",
              "      <td>0</td>\n",
              "      <td>4247475</td>\n",
              "      <td>1</td>\n",
              "      <td>U2R</td>\n",
              "    </tr>\n",
              "    <tr>\n",
              "      <th>1917066</th>\n",
              "      <td>172.22.79.108:1024</td>\n",
              "      <td>172.31.69.28:500</td>\n",
              "      <td>17</td>\n",
              "      <td>79.178</td>\n",
              "      <td>528</td>\n",
              "      <td>0</td>\n",
              "      <td>1</td>\n",
              "      <td>0</td>\n",
              "      <td>0</td>\n",
              "      <td>0</td>\n",
              "      <td>1</td>\n",
              "      <td>U2R</td>\n",
              "    </tr>\n",
              "  </tbody>\n",
              "</table>\n",
              "</div>\n",
              "      <button class=\"colab-df-convert\" onclick=\"convertToInteractive('df-207afba1-d8fe-4c52-b0d9-a83cd92b6628')\"\n",
              "              title=\"Convert this dataframe to an interactive table.\"\n",
              "              style=\"display:none;\">\n",
              "        \n",
              "  <svg xmlns=\"http://www.w3.org/2000/svg\" height=\"24px\"viewBox=\"0 0 24 24\"\n",
              "       width=\"24px\">\n",
              "    <path d=\"M0 0h24v24H0V0z\" fill=\"none\"/>\n",
              "    <path d=\"M18.56 5.44l.94 2.06.94-2.06 2.06-.94-2.06-.94-.94-2.06-.94 2.06-2.06.94zm-11 1L8.5 8.5l.94-2.06 2.06-.94-2.06-.94L8.5 2.5l-.94 2.06-2.06.94zm10 10l.94 2.06.94-2.06 2.06-.94-2.06-.94-.94-2.06-.94 2.06-2.06.94z\"/><path d=\"M17.41 7.96l-1.37-1.37c-.4-.4-.92-.59-1.43-.59-.52 0-1.04.2-1.43.59L10.3 9.45l-7.72 7.72c-.78.78-.78 2.05 0 2.83L4 21.41c.39.39.9.59 1.41.59.51 0 1.02-.2 1.41-.59l7.78-7.78 2.81-2.81c.8-.78.8-2.07 0-2.86zM5.41 20L4 18.59l7.72-7.72 1.47 1.35L5.41 20z\"/>\n",
              "  </svg>\n",
              "      </button>\n",
              "      \n",
              "  <style>\n",
              "    .colab-df-container {\n",
              "      display:flex;\n",
              "      flex-wrap:wrap;\n",
              "      gap: 12px;\n",
              "    }\n",
              "\n",
              "    .colab-df-convert {\n",
              "      background-color: #E8F0FE;\n",
              "      border: none;\n",
              "      border-radius: 50%;\n",
              "      cursor: pointer;\n",
              "      display: none;\n",
              "      fill: #1967D2;\n",
              "      height: 32px;\n",
              "      padding: 0 0 0 0;\n",
              "      width: 32px;\n",
              "    }\n",
              "\n",
              "    .colab-df-convert:hover {\n",
              "      background-color: #E2EBFA;\n",
              "      box-shadow: 0px 1px 2px rgba(60, 64, 67, 0.3), 0px 1px 3px 1px rgba(60, 64, 67, 0.15);\n",
              "      fill: #174EA6;\n",
              "    }\n",
              "\n",
              "    [theme=dark] .colab-df-convert {\n",
              "      background-color: #3B4455;\n",
              "      fill: #D2E3FC;\n",
              "    }\n",
              "\n",
              "    [theme=dark] .colab-df-convert:hover {\n",
              "      background-color: #434B5C;\n",
              "      box-shadow: 0px 1px 3px 1px rgba(0, 0, 0, 0.15);\n",
              "      filter: drop-shadow(0px 1px 2px rgba(0, 0, 0, 0.3));\n",
              "      fill: #FFFFFF;\n",
              "    }\n",
              "  </style>\n",
              "\n",
              "      <script>\n",
              "        const buttonEl =\n",
              "          document.querySelector('#df-207afba1-d8fe-4c52-b0d9-a83cd92b6628 button.colab-df-convert');\n",
              "        buttonEl.style.display =\n",
              "          google.colab.kernel.accessAllowed ? 'block' : 'none';\n",
              "\n",
              "        async function convertToInteractive(key) {\n",
              "          const element = document.querySelector('#df-207afba1-d8fe-4c52-b0d9-a83cd92b6628');\n",
              "          const dataTable =\n",
              "            await google.colab.kernel.invokeFunction('convertToInteractive',\n",
              "                                                     [key], {});\n",
              "          if (!dataTable) return;\n",
              "\n",
              "          const docLinkHtml = 'Like what you see? Visit the ' +\n",
              "            '<a target=\"_blank\" href=https://colab.research.google.com/notebooks/data_table.ipynb>data table notebook</a>'\n",
              "            + ' to learn more about interactive tables.';\n",
              "          element.innerHTML = '';\n",
              "          dataTable['output_type'] = 'display_data';\n",
              "          await google.colab.output.renderOutput(dataTable, element);\n",
              "          const docLink = document.createElement('div');\n",
              "          docLink.innerHTML = docLinkHtml;\n",
              "          element.appendChild(docLink);\n",
              "        }\n",
              "      </script>\n",
              "    </div>\n",
              "  </div>\n",
              "  "
            ]
          },
          "metadata": {},
          "execution_count": 21
        }
      ],
      "source": [
        "data.head()"
      ]
    },
    {
      "cell_type": "code",
      "execution_count": null,
      "metadata": {
        "id": "C_WU15ngvnBM"
      },
      "outputs": [],
      "source": [
        "data.drop(columns=['Label'],inplace = True)\n",
        "\n",
        "#test\n",
        "# data_test.drop(columns=['Label'],inplace = True)"
      ]
    },
    {
      "cell_type": "code",
      "execution_count": null,
      "metadata": {
        "id": "Q0d3nbdiv37j"
      },
      "outputs": [],
      "source": [
        "data.rename(columns={\"Attack\": \"label\"},inplace = True)\n",
        "\n",
        "#test\n",
        "# data_test.rename(columns={\"Attack\": \"label_test\"},inplace = True)"
      ]
    },
    {
      "cell_type": "code",
      "execution_count": null,
      "metadata": {
        "id": "yjS-hTKDzI29"
      },
      "outputs": [],
      "source": [
        "le = LabelEncoder()\n",
        "le.fit_transform(data.label.values)\n",
        "data['label'] = le.transform(data['label'])\n",
        "\n",
        "#test\n",
        "# le = LabelEncoder()\n",
        "# le.fit_transform(data_test.label_test.values)\n",
        "# data_test['label_test'] = le.transform(data_test['label_test'])"
      ]
    },
    {
      "cell_type": "code",
      "execution_count": null,
      "metadata": {
        "id": "SVgjPVfg03XG"
      },
      "outputs": [],
      "source": [
        "label = data.label\n",
        "\n",
        "#test\n",
        "# label_test = data_test.label_test"
      ]
    },
    {
      "cell_type": "code",
      "execution_count": null,
      "metadata": {
        "id": "ADl2Fj7H08Rr"
      },
      "outputs": [],
      "source": [
        "data.drop(columns=['label'],inplace = True)\n",
        "\n",
        "#test\n",
        "# data_test.drop(columns=['label_test'],inplace = True)"
      ]
    },
    {
      "cell_type": "code",
      "execution_count": null,
      "metadata": {
        "id": "qhsZMD3uwLk7"
      },
      "outputs": [],
      "source": [
        "scaler = StandardScaler()"
      ]
    },
    {
      "cell_type": "code",
      "execution_count": null,
      "metadata": {
        "id": "aukoVdNf2zcp"
      },
      "outputs": [],
      "source": [
        "data =  pd.concat([data, label], axis=1)\n",
        "\n",
        "#test\n",
        "# data_test =  pd.concat([data_test, label_test], axis=1)"
      ]
    },
    {
      "cell_type": "code",
      "execution_count": null,
      "metadata": {
        "id": "IP-ZEZW4nxSm",
        "colab": {
          "base_uri": "https://localhost:8080/",
          "height": 250
        },
        "outputId": "103eeb77-4e9d-49f8-82c8-4ae7605c006b"
      },
      "outputs": [
        {
          "output_type": "execute_result",
          "data": {
            "text/plain": [
              "               IPV4_SRC_ADDR     IPV4_DST_ADDR  PROTOCOL  L7_PROTO  IN_BYTES  \\\n",
              "1917040  172.22.161.178:1024  172.31.69.28:500        17    79.178       528   \n",
              "1917052  172.25.235.141:1028  172.31.69.28:500        17    79.178      2640   \n",
              "1917058  172.16.233.204:1028  172.31.69.28:500        17    79.178       528   \n",
              "1917061  172.30.231.150:1024  172.31.69.28:500        17    79.178      2640   \n",
              "1917066   172.22.79.108:1024  172.31.69.28:500        17    79.178       528   \n",
              "\n",
              "         OUT_BYTES  IN_PKTS  OUT_PKTS  TCP_FLAGS  FLOW_DURATION_MILLISECONDS  \\\n",
              "1917040          0        1         0          0                           0   \n",
              "1917052          0        5         0          0                     4247475   \n",
              "1917058          0        1         0          0                           0   \n",
              "1917061          0        5         0          0                     4247475   \n",
              "1917066          0        1         0          0                           0   \n",
              "\n",
              "         label  \n",
              "1917040      4  \n",
              "1917052      4  \n",
              "1917058      4  \n",
              "1917061      4  \n",
              "1917066      4  "
            ],
            "text/html": [
              "\n",
              "  <div id=\"df-7896103e-ce57-4437-b1a1-c44ff2811c89\">\n",
              "    <div class=\"colab-df-container\">\n",
              "      <div>\n",
              "<style scoped>\n",
              "    .dataframe tbody tr th:only-of-type {\n",
              "        vertical-align: middle;\n",
              "    }\n",
              "\n",
              "    .dataframe tbody tr th {\n",
              "        vertical-align: top;\n",
              "    }\n",
              "\n",
              "    .dataframe thead th {\n",
              "        text-align: right;\n",
              "    }\n",
              "</style>\n",
              "<table border=\"1\" class=\"dataframe\">\n",
              "  <thead>\n",
              "    <tr style=\"text-align: right;\">\n",
              "      <th></th>\n",
              "      <th>IPV4_SRC_ADDR</th>\n",
              "      <th>IPV4_DST_ADDR</th>\n",
              "      <th>PROTOCOL</th>\n",
              "      <th>L7_PROTO</th>\n",
              "      <th>IN_BYTES</th>\n",
              "      <th>OUT_BYTES</th>\n",
              "      <th>IN_PKTS</th>\n",
              "      <th>OUT_PKTS</th>\n",
              "      <th>TCP_FLAGS</th>\n",
              "      <th>FLOW_DURATION_MILLISECONDS</th>\n",
              "      <th>label</th>\n",
              "    </tr>\n",
              "  </thead>\n",
              "  <tbody>\n",
              "    <tr>\n",
              "      <th>1917040</th>\n",
              "      <td>172.22.161.178:1024</td>\n",
              "      <td>172.31.69.28:500</td>\n",
              "      <td>17</td>\n",
              "      <td>79.178</td>\n",
              "      <td>528</td>\n",
              "      <td>0</td>\n",
              "      <td>1</td>\n",
              "      <td>0</td>\n",
              "      <td>0</td>\n",
              "      <td>0</td>\n",
              "      <td>4</td>\n",
              "    </tr>\n",
              "    <tr>\n",
              "      <th>1917052</th>\n",
              "      <td>172.25.235.141:1028</td>\n",
              "      <td>172.31.69.28:500</td>\n",
              "      <td>17</td>\n",
              "      <td>79.178</td>\n",
              "      <td>2640</td>\n",
              "      <td>0</td>\n",
              "      <td>5</td>\n",
              "      <td>0</td>\n",
              "      <td>0</td>\n",
              "      <td>4247475</td>\n",
              "      <td>4</td>\n",
              "    </tr>\n",
              "    <tr>\n",
              "      <th>1917058</th>\n",
              "      <td>172.16.233.204:1028</td>\n",
              "      <td>172.31.69.28:500</td>\n",
              "      <td>17</td>\n",
              "      <td>79.178</td>\n",
              "      <td>528</td>\n",
              "      <td>0</td>\n",
              "      <td>1</td>\n",
              "      <td>0</td>\n",
              "      <td>0</td>\n",
              "      <td>0</td>\n",
              "      <td>4</td>\n",
              "    </tr>\n",
              "    <tr>\n",
              "      <th>1917061</th>\n",
              "      <td>172.30.231.150:1024</td>\n",
              "      <td>172.31.69.28:500</td>\n",
              "      <td>17</td>\n",
              "      <td>79.178</td>\n",
              "      <td>2640</td>\n",
              "      <td>0</td>\n",
              "      <td>5</td>\n",
              "      <td>0</td>\n",
              "      <td>0</td>\n",
              "      <td>4247475</td>\n",
              "      <td>4</td>\n",
              "    </tr>\n",
              "    <tr>\n",
              "      <th>1917066</th>\n",
              "      <td>172.22.79.108:1024</td>\n",
              "      <td>172.31.69.28:500</td>\n",
              "      <td>17</td>\n",
              "      <td>79.178</td>\n",
              "      <td>528</td>\n",
              "      <td>0</td>\n",
              "      <td>1</td>\n",
              "      <td>0</td>\n",
              "      <td>0</td>\n",
              "      <td>0</td>\n",
              "      <td>4</td>\n",
              "    </tr>\n",
              "  </tbody>\n",
              "</table>\n",
              "</div>\n",
              "      <button class=\"colab-df-convert\" onclick=\"convertToInteractive('df-7896103e-ce57-4437-b1a1-c44ff2811c89')\"\n",
              "              title=\"Convert this dataframe to an interactive table.\"\n",
              "              style=\"display:none;\">\n",
              "        \n",
              "  <svg xmlns=\"http://www.w3.org/2000/svg\" height=\"24px\"viewBox=\"0 0 24 24\"\n",
              "       width=\"24px\">\n",
              "    <path d=\"M0 0h24v24H0V0z\" fill=\"none\"/>\n",
              "    <path d=\"M18.56 5.44l.94 2.06.94-2.06 2.06-.94-2.06-.94-.94-2.06-.94 2.06-2.06.94zm-11 1L8.5 8.5l.94-2.06 2.06-.94-2.06-.94L8.5 2.5l-.94 2.06-2.06.94zm10 10l.94 2.06.94-2.06 2.06-.94-2.06-.94-.94-2.06-.94 2.06-2.06.94z\"/><path d=\"M17.41 7.96l-1.37-1.37c-.4-.4-.92-.59-1.43-.59-.52 0-1.04.2-1.43.59L10.3 9.45l-7.72 7.72c-.78.78-.78 2.05 0 2.83L4 21.41c.39.39.9.59 1.41.59.51 0 1.02-.2 1.41-.59l7.78-7.78 2.81-2.81c.8-.78.8-2.07 0-2.86zM5.41 20L4 18.59l7.72-7.72 1.47 1.35L5.41 20z\"/>\n",
              "  </svg>\n",
              "      </button>\n",
              "      \n",
              "  <style>\n",
              "    .colab-df-container {\n",
              "      display:flex;\n",
              "      flex-wrap:wrap;\n",
              "      gap: 12px;\n",
              "    }\n",
              "\n",
              "    .colab-df-convert {\n",
              "      background-color: #E8F0FE;\n",
              "      border: none;\n",
              "      border-radius: 50%;\n",
              "      cursor: pointer;\n",
              "      display: none;\n",
              "      fill: #1967D2;\n",
              "      height: 32px;\n",
              "      padding: 0 0 0 0;\n",
              "      width: 32px;\n",
              "    }\n",
              "\n",
              "    .colab-df-convert:hover {\n",
              "      background-color: #E2EBFA;\n",
              "      box-shadow: 0px 1px 2px rgba(60, 64, 67, 0.3), 0px 1px 3px 1px rgba(60, 64, 67, 0.15);\n",
              "      fill: #174EA6;\n",
              "    }\n",
              "\n",
              "    [theme=dark] .colab-df-convert {\n",
              "      background-color: #3B4455;\n",
              "      fill: #D2E3FC;\n",
              "    }\n",
              "\n",
              "    [theme=dark] .colab-df-convert:hover {\n",
              "      background-color: #434B5C;\n",
              "      box-shadow: 0px 1px 3px 1px rgba(0, 0, 0, 0.15);\n",
              "      filter: drop-shadow(0px 1px 2px rgba(0, 0, 0, 0.3));\n",
              "      fill: #FFFFFF;\n",
              "    }\n",
              "  </style>\n",
              "\n",
              "      <script>\n",
              "        const buttonEl =\n",
              "          document.querySelector('#df-7896103e-ce57-4437-b1a1-c44ff2811c89 button.colab-df-convert');\n",
              "        buttonEl.style.display =\n",
              "          google.colab.kernel.accessAllowed ? 'block' : 'none';\n",
              "\n",
              "        async function convertToInteractive(key) {\n",
              "          const element = document.querySelector('#df-7896103e-ce57-4437-b1a1-c44ff2811c89');\n",
              "          const dataTable =\n",
              "            await google.colab.kernel.invokeFunction('convertToInteractive',\n",
              "                                                     [key], {});\n",
              "          if (!dataTable) return;\n",
              "\n",
              "          const docLinkHtml = 'Like what you see? Visit the ' +\n",
              "            '<a target=\"_blank\" href=https://colab.research.google.com/notebooks/data_table.ipynb>data table notebook</a>'\n",
              "            + ' to learn more about interactive tables.';\n",
              "          element.innerHTML = '';\n",
              "          dataTable['output_type'] = 'display_data';\n",
              "          await google.colab.output.renderOutput(dataTable, element);\n",
              "          const docLink = document.createElement('div');\n",
              "          docLink.innerHTML = docLinkHtml;\n",
              "          element.appendChild(docLink);\n",
              "        }\n",
              "      </script>\n",
              "    </div>\n",
              "  </div>\n",
              "  "
            ]
          },
          "metadata": {},
          "execution_count": 29
        }
      ],
      "source": [
        "data.head()"
      ]
    },
    {
      "cell_type": "code",
      "source": [
        "# data_test.head()"
      ],
      "metadata": {
        "id": "2BFGCs36Nj0J"
      },
      "execution_count": null,
      "outputs": []
    },
    {
      "cell_type": "code",
      "execution_count": null,
      "metadata": {
        "id": "PUa4uJbewQc7"
      },
      "outputs": [],
      "source": [
        "X_train, X_test, y_train, y_test = train_test_split(\n",
        "     data, label, test_size=0.2, random_state=123,stratify= label)"
      ]
    },
    {
      "cell_type": "code",
      "source": [
        "# X_train_t, X_test_t, y_train_t, y_test_t = train_test_split(\n",
        "#      data_test, label_test, test_size=0.2, random_state=123,stratify= label_test)"
      ],
      "metadata": {
        "id": "FJ12Y_gyNnQN"
      },
      "execution_count": null,
      "outputs": []
    },
    {
      "cell_type": "code",
      "execution_count": null,
      "metadata": {
        "id": "z3DrIWDHqNxp",
        "colab": {
          "base_uri": "https://localhost:8080/"
        },
        "outputId": "7f643046-dbd4-443d-8a88-f4738a2a4f6a"
      },
      "outputs": [
        {
          "output_type": "stream",
          "name": "stderr",
          "text": [
            "/usr/local/lib/python3.8/dist-packages/category_encoders/target_encoder.py:122: FutureWarning: Default parameter min_samples_leaf will change in version 2.6.See https://github.com/scikit-learn-contrib/category_encoders/issues/327\n",
            "  warnings.warn(\"Default parameter min_samples_leaf will change in version 2.6.\"\n",
            "/usr/local/lib/python3.8/dist-packages/category_encoders/target_encoder.py:127: FutureWarning: Default parameter smoothing will change in version 2.6.See https://github.com/scikit-learn-contrib/category_encoders/issues/327\n",
            "  warnings.warn(\"Default parameter smoothing will change in version 2.6.\"\n"
          ]
        }
      ],
      "source": [
        "encoder = ce.TargetEncoder(cols=['TCP_FLAGS','L7_PROTO','PROTOCOL'])\n",
        "encoder.fit(X_train, y_train)\n",
        "X_train = encoder.transform(X_train)"
      ]
    },
    {
      "cell_type": "code",
      "execution_count": null,
      "metadata": {
        "id": "EDKYHCbcqN81"
      },
      "outputs": [],
      "source": [
        "cols_to_norm = list(set(list(X_train.iloc[:, 2:].columns ))  - set(list(['label'])) )\n",
        "X_train[cols_to_norm] = scaler.fit_transform(X_train[cols_to_norm])"
      ]
    },
    {
      "cell_type": "code",
      "execution_count": null,
      "metadata": {
        "id": "ek535MkWwUHN"
      },
      "outputs": [],
      "source": [
        "X_train['h'] = X_train[ cols_to_norm ].values.tolist()"
      ]
    },
    {
      "cell_type": "code",
      "execution_count": null,
      "metadata": {
        "id": "v4mfPB0X9rRX",
        "colab": {
          "base_uri": "https://localhost:8080/",
          "height": 835
        },
        "outputId": "6365580d-78f5-4f30-a2e0-2bd726c7dd28"
      },
      "outputs": [
        {
          "output_type": "execute_result",
          "data": {
            "text/plain": [
              "                IPV4_SRC_ADDR        IPV4_DST_ADDR  PROTOCOL  L7_PROTO  \\\n",
              "7694387    172.16.56.53:49610      172.31.69.25:80 -0.274970 -0.154754   \n",
              "8168378     172.20.1.44:57588      172.31.69.25:21 -0.274970 -0.154754   \n",
              "2200952  172.19.228.159:52510        172.31.0.2:53  3.599184 -0.154754   \n",
              "4361491   172.25.212.86:61239     172.31.69.8:3389 -0.274970 -0.154754   \n",
              "7795570    172.24.92.30:50794   172.31.69.18:20766 -0.274970 -0.154754   \n",
              "...                       ...                  ...       ...       ...   \n",
              "8116640      172.16.130.75:21   18.221.219.4:34144 -0.274970 -0.154754   \n",
              "7769227     172.27.166.193:80  18.217.165.70:43984 -0.274970 -0.154754   \n",
              "7777331  172.18.157.247:46674      172.31.69.25:80 -0.274970 -0.154754   \n",
              "8106451    172.16.6.237:52202      172.31.69.25:21 -0.274970 -0.154754   \n",
              "8208341     172.26.220.148:22    13.58.98.64:52940 -0.274970 -0.154754   \n",
              "\n",
              "         IN_BYTES  OUT_BYTES   IN_PKTS  OUT_PKTS  TCP_FLAGS  \\\n",
              "7694387 -0.064988  -0.021221 -0.051133 -0.056753  -1.564261   \n",
              "8168378 -0.066765  -0.021221 -0.051783 -0.056753   1.391509   \n",
              "2200952 -0.066580   0.037395 -0.051621  0.394235   1.198502   \n",
              "4361491 -0.063327   0.294264 -0.050646  1.521704  -1.887145   \n",
              "7795570 -0.066813  -0.021221 -0.051783 -0.056753   1.391509   \n",
              "...           ...        ...       ...       ...        ...   \n",
              "8116640 -0.066813  -0.021221 -0.051783 -0.056753  -0.563951   \n",
              "7769227 -0.066765  -0.021221 -0.051783 -0.056753  -0.337624   \n",
              "7777331 -0.066100  -0.021221 -0.051621 -0.056753  -0.994701   \n",
              "8106451 -0.066765  -0.021221 -0.051783 -0.056753   1.391509   \n",
              "8208341 -0.057643  -0.021221 -0.048371 -0.056753   0.396843   \n",
              "\n",
              "         FLOW_DURATION_MILLISECONDS  label  \\\n",
              "7694387                   -0.247294      0   \n",
              "8168378                   -0.247294      2   \n",
              "2200952                    4.050131      3   \n",
              "4361491                    4.048492      3   \n",
              "7795570                   -0.247294      1   \n",
              "...                             ...    ...   \n",
              "8116640                   -0.247294      1   \n",
              "7769227                   -0.247294      1   \n",
              "7777331                   -0.247294      0   \n",
              "8106451                   -0.247294      2   \n",
              "8208341                   -0.247294      1   \n",
              "\n",
              "                                                         h  \n",
              "7694387  [-0.06498760235928015, -1.5642605061199397, -0...  \n",
              "8168378  [-0.066764835526842, 1.391508693481254, -0.056...  \n",
              "2200952  [-0.06658031405042847, 1.1985017770937283, 0.3...  \n",
              "4361491  [-0.06332690907155843, -1.8871449122908812, 1....  \n",
              "7795570  [-0.06681339381010871, 1.391508693481254, -0.0...  \n",
              "...                                                    ...  \n",
              "8116640  [-0.06681339381010871, -0.5639507958420437, -0...  \n",
              "7769227  [-0.066764835526842, -0.33762446468591084, -0....  \n",
              "7777331  [-0.06609958704608797, -0.9947008146029278, -0...  \n",
              "8106451  [-0.066764835526842, 1.391508693481254, -0.056...  \n",
              "8208341  [-0.057643162015189216, 0.3968428158180488, -0...  \n",
              "\n",
              "[673920 rows x 12 columns]"
            ],
            "text/html": [
              "\n",
              "  <div id=\"df-042f12e5-c04c-4564-806a-327e241409d7\">\n",
              "    <div class=\"colab-df-container\">\n",
              "      <div>\n",
              "<style scoped>\n",
              "    .dataframe tbody tr th:only-of-type {\n",
              "        vertical-align: middle;\n",
              "    }\n",
              "\n",
              "    .dataframe tbody tr th {\n",
              "        vertical-align: top;\n",
              "    }\n",
              "\n",
              "    .dataframe thead th {\n",
              "        text-align: right;\n",
              "    }\n",
              "</style>\n",
              "<table border=\"1\" class=\"dataframe\">\n",
              "  <thead>\n",
              "    <tr style=\"text-align: right;\">\n",
              "      <th></th>\n",
              "      <th>IPV4_SRC_ADDR</th>\n",
              "      <th>IPV4_DST_ADDR</th>\n",
              "      <th>PROTOCOL</th>\n",
              "      <th>L7_PROTO</th>\n",
              "      <th>IN_BYTES</th>\n",
              "      <th>OUT_BYTES</th>\n",
              "      <th>IN_PKTS</th>\n",
              "      <th>OUT_PKTS</th>\n",
              "      <th>TCP_FLAGS</th>\n",
              "      <th>FLOW_DURATION_MILLISECONDS</th>\n",
              "      <th>label</th>\n",
              "      <th>h</th>\n",
              "    </tr>\n",
              "  </thead>\n",
              "  <tbody>\n",
              "    <tr>\n",
              "      <th>7694387</th>\n",
              "      <td>172.16.56.53:49610</td>\n",
              "      <td>172.31.69.25:80</td>\n",
              "      <td>-0.274970</td>\n",
              "      <td>-0.154754</td>\n",
              "      <td>-0.064988</td>\n",
              "      <td>-0.021221</td>\n",
              "      <td>-0.051133</td>\n",
              "      <td>-0.056753</td>\n",
              "      <td>-1.564261</td>\n",
              "      <td>-0.247294</td>\n",
              "      <td>0</td>\n",
              "      <td>[-0.06498760235928015, -1.5642605061199397, -0...</td>\n",
              "    </tr>\n",
              "    <tr>\n",
              "      <th>8168378</th>\n",
              "      <td>172.20.1.44:57588</td>\n",
              "      <td>172.31.69.25:21</td>\n",
              "      <td>-0.274970</td>\n",
              "      <td>-0.154754</td>\n",
              "      <td>-0.066765</td>\n",
              "      <td>-0.021221</td>\n",
              "      <td>-0.051783</td>\n",
              "      <td>-0.056753</td>\n",
              "      <td>1.391509</td>\n",
              "      <td>-0.247294</td>\n",
              "      <td>2</td>\n",
              "      <td>[-0.066764835526842, 1.391508693481254, -0.056...</td>\n",
              "    </tr>\n",
              "    <tr>\n",
              "      <th>2200952</th>\n",
              "      <td>172.19.228.159:52510</td>\n",
              "      <td>172.31.0.2:53</td>\n",
              "      <td>3.599184</td>\n",
              "      <td>-0.154754</td>\n",
              "      <td>-0.066580</td>\n",
              "      <td>0.037395</td>\n",
              "      <td>-0.051621</td>\n",
              "      <td>0.394235</td>\n",
              "      <td>1.198502</td>\n",
              "      <td>4.050131</td>\n",
              "      <td>3</td>\n",
              "      <td>[-0.06658031405042847, 1.1985017770937283, 0.3...</td>\n",
              "    </tr>\n",
              "    <tr>\n",
              "      <th>4361491</th>\n",
              "      <td>172.25.212.86:61239</td>\n",
              "      <td>172.31.69.8:3389</td>\n",
              "      <td>-0.274970</td>\n",
              "      <td>-0.154754</td>\n",
              "      <td>-0.063327</td>\n",
              "      <td>0.294264</td>\n",
              "      <td>-0.050646</td>\n",
              "      <td>1.521704</td>\n",
              "      <td>-1.887145</td>\n",
              "      <td>4.048492</td>\n",
              "      <td>3</td>\n",
              "      <td>[-0.06332690907155843, -1.8871449122908812, 1....</td>\n",
              "    </tr>\n",
              "    <tr>\n",
              "      <th>7795570</th>\n",
              "      <td>172.24.92.30:50794</td>\n",
              "      <td>172.31.69.18:20766</td>\n",
              "      <td>-0.274970</td>\n",
              "      <td>-0.154754</td>\n",
              "      <td>-0.066813</td>\n",
              "      <td>-0.021221</td>\n",
              "      <td>-0.051783</td>\n",
              "      <td>-0.056753</td>\n",
              "      <td>1.391509</td>\n",
              "      <td>-0.247294</td>\n",
              "      <td>1</td>\n",
              "      <td>[-0.06681339381010871, 1.391508693481254, -0.0...</td>\n",
              "    </tr>\n",
              "    <tr>\n",
              "      <th>...</th>\n",
              "      <td>...</td>\n",
              "      <td>...</td>\n",
              "      <td>...</td>\n",
              "      <td>...</td>\n",
              "      <td>...</td>\n",
              "      <td>...</td>\n",
              "      <td>...</td>\n",
              "      <td>...</td>\n",
              "      <td>...</td>\n",
              "      <td>...</td>\n",
              "      <td>...</td>\n",
              "      <td>...</td>\n",
              "    </tr>\n",
              "    <tr>\n",
              "      <th>8116640</th>\n",
              "      <td>172.16.130.75:21</td>\n",
              "      <td>18.221.219.4:34144</td>\n",
              "      <td>-0.274970</td>\n",
              "      <td>-0.154754</td>\n",
              "      <td>-0.066813</td>\n",
              "      <td>-0.021221</td>\n",
              "      <td>-0.051783</td>\n",
              "      <td>-0.056753</td>\n",
              "      <td>-0.563951</td>\n",
              "      <td>-0.247294</td>\n",
              "      <td>1</td>\n",
              "      <td>[-0.06681339381010871, -0.5639507958420437, -0...</td>\n",
              "    </tr>\n",
              "    <tr>\n",
              "      <th>7769227</th>\n",
              "      <td>172.27.166.193:80</td>\n",
              "      <td>18.217.165.70:43984</td>\n",
              "      <td>-0.274970</td>\n",
              "      <td>-0.154754</td>\n",
              "      <td>-0.066765</td>\n",
              "      <td>-0.021221</td>\n",
              "      <td>-0.051783</td>\n",
              "      <td>-0.056753</td>\n",
              "      <td>-0.337624</td>\n",
              "      <td>-0.247294</td>\n",
              "      <td>1</td>\n",
              "      <td>[-0.066764835526842, -0.33762446468591084, -0....</td>\n",
              "    </tr>\n",
              "    <tr>\n",
              "      <th>7777331</th>\n",
              "      <td>172.18.157.247:46674</td>\n",
              "      <td>172.31.69.25:80</td>\n",
              "      <td>-0.274970</td>\n",
              "      <td>-0.154754</td>\n",
              "      <td>-0.066100</td>\n",
              "      <td>-0.021221</td>\n",
              "      <td>-0.051621</td>\n",
              "      <td>-0.056753</td>\n",
              "      <td>-0.994701</td>\n",
              "      <td>-0.247294</td>\n",
              "      <td>0</td>\n",
              "      <td>[-0.06609958704608797, -0.9947008146029278, -0...</td>\n",
              "    </tr>\n",
              "    <tr>\n",
              "      <th>8106451</th>\n",
              "      <td>172.16.6.237:52202</td>\n",
              "      <td>172.31.69.25:21</td>\n",
              "      <td>-0.274970</td>\n",
              "      <td>-0.154754</td>\n",
              "      <td>-0.066765</td>\n",
              "      <td>-0.021221</td>\n",
              "      <td>-0.051783</td>\n",
              "      <td>-0.056753</td>\n",
              "      <td>1.391509</td>\n",
              "      <td>-0.247294</td>\n",
              "      <td>2</td>\n",
              "      <td>[-0.066764835526842, 1.391508693481254, -0.056...</td>\n",
              "    </tr>\n",
              "    <tr>\n",
              "      <th>8208341</th>\n",
              "      <td>172.26.220.148:22</td>\n",
              "      <td>13.58.98.64:52940</td>\n",
              "      <td>-0.274970</td>\n",
              "      <td>-0.154754</td>\n",
              "      <td>-0.057643</td>\n",
              "      <td>-0.021221</td>\n",
              "      <td>-0.048371</td>\n",
              "      <td>-0.056753</td>\n",
              "      <td>0.396843</td>\n",
              "      <td>-0.247294</td>\n",
              "      <td>1</td>\n",
              "      <td>[-0.057643162015189216, 0.3968428158180488, -0...</td>\n",
              "    </tr>\n",
              "  </tbody>\n",
              "</table>\n",
              "<p>673920 rows × 12 columns</p>\n",
              "</div>\n",
              "      <button class=\"colab-df-convert\" onclick=\"convertToInteractive('df-042f12e5-c04c-4564-806a-327e241409d7')\"\n",
              "              title=\"Convert this dataframe to an interactive table.\"\n",
              "              style=\"display:none;\">\n",
              "        \n",
              "  <svg xmlns=\"http://www.w3.org/2000/svg\" height=\"24px\"viewBox=\"0 0 24 24\"\n",
              "       width=\"24px\">\n",
              "    <path d=\"M0 0h24v24H0V0z\" fill=\"none\"/>\n",
              "    <path d=\"M18.56 5.44l.94 2.06.94-2.06 2.06-.94-2.06-.94-.94-2.06-.94 2.06-2.06.94zm-11 1L8.5 8.5l.94-2.06 2.06-.94-2.06-.94L8.5 2.5l-.94 2.06-2.06.94zm10 10l.94 2.06.94-2.06 2.06-.94-2.06-.94-.94-2.06-.94 2.06-2.06.94z\"/><path d=\"M17.41 7.96l-1.37-1.37c-.4-.4-.92-.59-1.43-.59-.52 0-1.04.2-1.43.59L10.3 9.45l-7.72 7.72c-.78.78-.78 2.05 0 2.83L4 21.41c.39.39.9.59 1.41.59.51 0 1.02-.2 1.41-.59l7.78-7.78 2.81-2.81c.8-.78.8-2.07 0-2.86zM5.41 20L4 18.59l7.72-7.72 1.47 1.35L5.41 20z\"/>\n",
              "  </svg>\n",
              "      </button>\n",
              "      \n",
              "  <style>\n",
              "    .colab-df-container {\n",
              "      display:flex;\n",
              "      flex-wrap:wrap;\n",
              "      gap: 12px;\n",
              "    }\n",
              "\n",
              "    .colab-df-convert {\n",
              "      background-color: #E8F0FE;\n",
              "      border: none;\n",
              "      border-radius: 50%;\n",
              "      cursor: pointer;\n",
              "      display: none;\n",
              "      fill: #1967D2;\n",
              "      height: 32px;\n",
              "      padding: 0 0 0 0;\n",
              "      width: 32px;\n",
              "    }\n",
              "\n",
              "    .colab-df-convert:hover {\n",
              "      background-color: #E2EBFA;\n",
              "      box-shadow: 0px 1px 2px rgba(60, 64, 67, 0.3), 0px 1px 3px 1px rgba(60, 64, 67, 0.15);\n",
              "      fill: #174EA6;\n",
              "    }\n",
              "\n",
              "    [theme=dark] .colab-df-convert {\n",
              "      background-color: #3B4455;\n",
              "      fill: #D2E3FC;\n",
              "    }\n",
              "\n",
              "    [theme=dark] .colab-df-convert:hover {\n",
              "      background-color: #434B5C;\n",
              "      box-shadow: 0px 1px 3px 1px rgba(0, 0, 0, 0.15);\n",
              "      filter: drop-shadow(0px 1px 2px rgba(0, 0, 0, 0.3));\n",
              "      fill: #FFFFFF;\n",
              "    }\n",
              "  </style>\n",
              "\n",
              "      <script>\n",
              "        const buttonEl =\n",
              "          document.querySelector('#df-042f12e5-c04c-4564-806a-327e241409d7 button.colab-df-convert');\n",
              "        buttonEl.style.display =\n",
              "          google.colab.kernel.accessAllowed ? 'block' : 'none';\n",
              "\n",
              "        async function convertToInteractive(key) {\n",
              "          const element = document.querySelector('#df-042f12e5-c04c-4564-806a-327e241409d7');\n",
              "          const dataTable =\n",
              "            await google.colab.kernel.invokeFunction('convertToInteractive',\n",
              "                                                     [key], {});\n",
              "          if (!dataTable) return;\n",
              "\n",
              "          const docLinkHtml = 'Like what you see? Visit the ' +\n",
              "            '<a target=\"_blank\" href=https://colab.research.google.com/notebooks/data_table.ipynb>data table notebook</a>'\n",
              "            + ' to learn more about interactive tables.';\n",
              "          element.innerHTML = '';\n",
              "          dataTable['output_type'] = 'display_data';\n",
              "          await google.colab.output.renderOutput(dataTable, element);\n",
              "          const docLink = document.createElement('div');\n",
              "          docLink.innerHTML = docLinkHtml;\n",
              "          element.appendChild(docLink);\n",
              "        }\n",
              "      </script>\n",
              "    </div>\n",
              "  </div>\n",
              "  "
            ]
          },
          "metadata": {},
          "execution_count": 36
        }
      ],
      "source": [
        "X_train"
      ]
    },
    {
      "cell_type": "code",
      "source": [
        "X_train.label.value_counts()"
      ],
      "metadata": {
        "id": "VOYr_yJWibio",
        "colab": {
          "base_uri": "https://localhost:8080/"
        },
        "outputId": "c9ba4c17-58e6-4bc6-c4e2-09cb6606edee"
      },
      "execution_count": null,
      "outputs": [
        {
          "output_type": "execute_result",
          "data": {
            "text/plain": [
              "1    378558\n",
              "2    152168\n",
              "0    103565\n",
              "3     38204\n",
              "4      1425\n",
              "Name: label, dtype: int64"
            ]
          },
          "metadata": {},
          "execution_count": 37
        }
      ]
    },
    {
      "cell_type": "code",
      "execution_count": null,
      "metadata": {
        "id": "OIrcNfMSwa0j"
      },
      "outputs": [],
      "source": [
        "G = nx.from_pandas_edgelist(X_train, \"IPV4_SRC_ADDR\", \"IPV4_DST_ADDR\", ['h','label'],create_using=nx.MultiGraph())"
      ]
    },
    {
      "cell_type": "code",
      "execution_count": null,
      "metadata": {
        "id": "QluLSxbiwn7M"
      },
      "outputs": [],
      "source": [
        "G = G.to_directed()\n"
      ]
    },
    {
      "cell_type": "code",
      "source": [
        "G"
      ],
      "metadata": {
        "colab": {
          "base_uri": "https://localhost:8080/"
        },
        "id": "e6r4E8e97rgf",
        "outputId": "e2c27f65-9857-45aa-c6a9-26ad66690b0d"
      },
      "execution_count": null,
      "outputs": [
        {
          "output_type": "execute_result",
          "data": {
            "text/plain": [
              "<networkx.classes.multidigraph.MultiDiGraph at 0x7f0372f29dc0>"
            ]
          },
          "metadata": {},
          "execution_count": 40
        }
      ]
    },
    {
      "cell_type": "code",
      "execution_count": null,
      "metadata": {
        "id": "2zClkKEzwrVb"
      },
      "outputs": [],
      "source": [
        "G = from_networkx(G,edge_attrs=['h','label'] )\n"
      ]
    },
    {
      "cell_type": "code",
      "execution_count": null,
      "metadata": {
        "id": "9jlBYgE8wsW7"
      },
      "outputs": [],
      "source": [
        "# Eq1\n",
        "G.ndata['h'] = th.ones(G.num_nodes(), G.edata['h'].shape[1])"
      ]
    },
    {
      "cell_type": "code",
      "source": [
        "G.ndata['h'].shape"
      ],
      "metadata": {
        "colab": {
          "base_uri": "https://localhost:8080/"
        },
        "id": "0EP9wMDapptk",
        "outputId": "257fbe16-db84-4ac2-a4c6-5f528ac63bb2"
      },
      "execution_count": null,
      "outputs": [
        {
          "output_type": "execute_result",
          "data": {
            "text/plain": [
              "torch.Size([753488, 8])"
            ]
          },
          "metadata": {},
          "execution_count": 43
        }
      ]
    },
    {
      "cell_type": "code",
      "source": [
        "G.ndata['h'].shape"
      ],
      "metadata": {
        "colab": {
          "base_uri": "https://localhost:8080/"
        },
        "id": "TioFYlCSp9Ze",
        "outputId": "fa12b875-d860-4138-f96b-d3849fb6889b"
      },
      "execution_count": null,
      "outputs": [
        {
          "output_type": "execute_result",
          "data": {
            "text/plain": [
              "torch.Size([753488, 8])"
            ]
          },
          "metadata": {},
          "execution_count": 44
        }
      ]
    },
    {
      "cell_type": "code",
      "execution_count": null,
      "metadata": {
        "id": "E7Vc6IELwuJr"
      },
      "outputs": [],
      "source": [
        "G.edata['train_mask'] = th.ones(len(G.edata['h']), dtype=th.bool)"
      ]
    },
    {
      "cell_type": "code",
      "source": [
        "G.edata['train_mask']"
      ],
      "metadata": {
        "colab": {
          "base_uri": "https://localhost:8080/"
        },
        "id": "gJbgJrwXqC-u",
        "outputId": "1df8b1d4-b2b8-44a4-ed50-b428b17e5551"
      },
      "execution_count": null,
      "outputs": [
        {
          "output_type": "execute_result",
          "data": {
            "text/plain": [
              "tensor([True, True, True,  ..., True, True, True])"
            ]
          },
          "metadata": {},
          "execution_count": 46
        }
      ]
    },
    {
      "cell_type": "code",
      "execution_count": null,
      "metadata": {
        "id": "BIx7-W6s46Ju",
        "colab": {
          "base_uri": "https://localhost:8080/"
        },
        "outputId": "2b59b749-4b6c-4967-f000-e90711f2d6a2"
      },
      "outputs": [
        {
          "output_type": "execute_result",
          "data": {
            "text/plain": [
              "torch.Size([1347840])"
            ]
          },
          "metadata": {},
          "execution_count": 47
        }
      ],
      "source": [
        "G.edata['train_mask'].shape "
      ]
    },
    {
      "cell_type": "code",
      "execution_count": null,
      "metadata": {
        "id": "GPLg-kCcwxLa"
      },
      "outputs": [],
      "source": [
        "G.ndata['h'] = th.reshape(G.ndata['h'], (G.ndata['h'].shape[0], 1,G.ndata['h'].shape[1]))\n",
        "G.edata['h'] = th.reshape(G.edata['h'], (G.edata['h'].shape[0], 1,G.edata['h'].shape[1]))"
      ]
    },
    {
      "cell_type": "code",
      "execution_count": null,
      "metadata": {
        "id": "DzDap1MR5e95"
      },
      "outputs": [],
      "source": [
        "def compute_accuracy(pred, labels):\n",
        "    return (pred.argmax(1) == labels).float().mean().item()"
      ]
    },
    {
      "cell_type": "code",
      "execution_count": null,
      "metadata": {
        "id": "5VzTQxAR5HoT"
      },
      "outputs": [],
      "source": [
        "class SAGELayer(nn.Module):\n",
        "    def __init__(self, ndim_in, edims, ndim_out, activation):\n",
        "        super(SAGELayer, self).__init__()\n",
        "        ### force to output fix dimensions\n",
        "        self.W_msg = nn.Linear(ndim_in + edims, ndim_out)\n",
        "        ### apply weight\n",
        "        self.W_apply = nn.Linear(ndim_in + ndim_out, ndim_out)\n",
        "        self.activation = activation\n",
        "\n",
        "    def message_func(self, edges):\n",
        "        return {'m': self.W_msg(th.cat([edges.src['h'], edges.data['h']], 2))}\n",
        "\n",
        "    def forward(self, g_dgl, nfeats, efeats):\n",
        "        with g_dgl.local_scope():\n",
        "            g = g_dgl\n",
        "            g.ndata['h'] = nfeats\n",
        "            g.edata['h'] = efeats\n",
        "            # Eq4\n",
        "            g.update_all(self.message_func, fn.mean('m', 'h_neigh'))\n",
        "            # Eq5          \n",
        "            g.ndata['h'] = F.relu(self.W_apply(th.cat([g.ndata['h'], g.ndata['h_neigh']], 2)))\n",
        "            return g.ndata['h']\n",
        "\n",
        "\n",
        "class SAGE(nn.Module):\n",
        "    def __init__(self, ndim_in, ndim_out, edim, activation, dropout):\n",
        "        super(SAGE, self).__init__()\n",
        "        self.layers = nn.ModuleList()\n",
        "        self.layers.append(SAGELayer(ndim_in, edim, 128, activation))\n",
        "        self.layers.append(SAGELayer(128, edim, ndim_out, activation))\n",
        "        self.dropout = nn.Dropout(p=dropout)\n",
        "\n",
        "    def forward(self, g, nfeats, efeats):\n",
        "        for i, layer in enumerate(self.layers):\n",
        "            if i != 0:\n",
        "                nfeats = self.dropout(nfeats)\n",
        "            nfeats = layer(g, nfeats, efeats)\n",
        "        return nfeats.sum(1)"
      ]
    },
    {
      "cell_type": "code",
      "execution_count": null,
      "metadata": {
        "id": "hrLYvze5wwMi"
      },
      "outputs": [],
      "source": [
        "class MLPPredictor(nn.Module):\n",
        "    def __init__(self, in_features, out_classes):\n",
        "        super().__init__()\n",
        "        self.W = nn.Linear(in_features * 2, out_classes)\n",
        "\n",
        "    def apply_edges(self, edges):\n",
        "        h_u = edges.src['h']\n",
        "        h_v = edges.dst['h']\n",
        "        global score\n",
        "        global emb\n",
        "        emb = th.cat([h_u, h_v], 1)\n",
        "        score = self.W(th.cat([h_u, h_v], 1))\n",
        "        return {'score': score}\n",
        "\n",
        "    def forward(self, graph, h):\n",
        "        with graph.local_scope():\n",
        "            graph.ndata['h'] = h\n",
        "            graph.apply_edges(self.apply_edges)\n",
        "            return graph.edata['score']"
      ]
    },
    {
      "cell_type": "code",
      "execution_count": null,
      "metadata": {
        "id": "SwdZs785w1dT"
      },
      "outputs": [],
      "source": [
        "class Model(nn.Module):\n",
        "    def __init__(self, ndim_in, ndim_out, edim, activation, dropout):\n",
        "        super().__init__()\n",
        "        self.gnn = SAGE(ndim_in, ndim_out, edim, activation, dropout)\n",
        "        self.pred = MLPPredictor(ndim_out, 5)\n",
        "    def forward(self, g, nfeats, efeats):\n",
        "        h = self.gnn(g, nfeats, efeats)\n",
        "        return self.pred(g, h)"
      ]
    },
    {
      "cell_type": "code",
      "execution_count": null,
      "metadata": {
        "id": "BEw7J1Z45R62"
      },
      "outputs": [],
      "source": [
        "from sklearn.utils import class_weight\n",
        "class_weights = class_weight.compute_class_weight('balanced',\n",
        "                                                 classes= np.unique(G.edata['label'].cpu().numpy()),\n",
        "                                                 y= G.edata['label'].cpu().numpy())"
      ]
    },
    {
      "cell_type": "code",
      "execution_count": null,
      "metadata": {
        "id": "Cti0vAFYw3A0",
        "colab": {
          "base_uri": "https://localhost:8080/",
          "height": 304
        },
        "outputId": "8efcf419-bb22-46dc-cea8-909449d6d8bf"
      },
      "outputs": [
        {
          "output_type": "error",
          "ename": "RuntimeError",
          "evalue": "ignored",
          "traceback": [
            "\u001b[0;31m---------------------------------------------------------------------------\u001b[0m",
            "\u001b[0;31mRuntimeError\u001b[0m                              Traceback (most recent call last)",
            "\u001b[0;32m<ipython-input-54-3030b228cddc>\u001b[0m in \u001b[0;36m<module>\u001b[0;34m\u001b[0m\n\u001b[0;32m----> 1\u001b[0;31m \u001b[0mclass_weights\u001b[0m \u001b[0;34m=\u001b[0m \u001b[0mth\u001b[0m\u001b[0;34m.\u001b[0m\u001b[0mFloatTensor\u001b[0m\u001b[0;34m(\u001b[0m\u001b[0mclass_weights\u001b[0m\u001b[0;34m)\u001b[0m\u001b[0;34m.\u001b[0m\u001b[0mcuda\u001b[0m\u001b[0;34m(\u001b[0m\u001b[0;34m)\u001b[0m\u001b[0;34m\u001b[0m\u001b[0;34m\u001b[0m\u001b[0m\n\u001b[0m\u001b[1;32m      2\u001b[0m \u001b[0mcriterion\u001b[0m \u001b[0;34m=\u001b[0m \u001b[0mnn\u001b[0m\u001b[0;34m.\u001b[0m\u001b[0mCrossEntropyLoss\u001b[0m\u001b[0;34m(\u001b[0m\u001b[0mweight\u001b[0m \u001b[0;34m=\u001b[0m \u001b[0mclass_weights\u001b[0m\u001b[0;34m)\u001b[0m\u001b[0;34m\u001b[0m\u001b[0;34m\u001b[0m\u001b[0m\n",
            "\u001b[0;32m/usr/local/lib/python3.8/dist-packages/torch/cuda/__init__.py\u001b[0m in \u001b[0;36m_lazy_init\u001b[0;34m()\u001b[0m\n\u001b[1;32m    227\u001b[0m         \u001b[0;32mif\u001b[0m \u001b[0;34m'CUDA_MODULE_LOADING'\u001b[0m \u001b[0;32mnot\u001b[0m \u001b[0;32min\u001b[0m \u001b[0mos\u001b[0m\u001b[0;34m.\u001b[0m\u001b[0menviron\u001b[0m\u001b[0;34m:\u001b[0m\u001b[0;34m\u001b[0m\u001b[0;34m\u001b[0m\u001b[0m\n\u001b[1;32m    228\u001b[0m             \u001b[0mos\u001b[0m\u001b[0;34m.\u001b[0m\u001b[0menviron\u001b[0m\u001b[0;34m[\u001b[0m\u001b[0;34m'CUDA_MODULE_LOADING'\u001b[0m\u001b[0;34m]\u001b[0m \u001b[0;34m=\u001b[0m \u001b[0;34m'LAZY'\u001b[0m\u001b[0;34m\u001b[0m\u001b[0;34m\u001b[0m\u001b[0m\n\u001b[0;32m--> 229\u001b[0;31m         \u001b[0mtorch\u001b[0m\u001b[0;34m.\u001b[0m\u001b[0m_C\u001b[0m\u001b[0;34m.\u001b[0m\u001b[0m_cuda_init\u001b[0m\u001b[0;34m(\u001b[0m\u001b[0;34m)\u001b[0m\u001b[0;34m\u001b[0m\u001b[0;34m\u001b[0m\u001b[0m\n\u001b[0m\u001b[1;32m    230\u001b[0m         \u001b[0;31m# Some of the queued calls may reentrantly call _lazy_init();\u001b[0m\u001b[0;34m\u001b[0m\u001b[0;34m\u001b[0m\u001b[0;34m\u001b[0m\u001b[0m\n\u001b[1;32m    231\u001b[0m         \u001b[0;31m# we need to just return without initializing in that case.\u001b[0m\u001b[0;34m\u001b[0m\u001b[0;34m\u001b[0m\u001b[0;34m\u001b[0m\u001b[0m\n",
            "\u001b[0;31mRuntimeError\u001b[0m: No CUDA GPUs are available"
          ]
        }
      ],
      "source": [
        "class_weights = th.FloatTensor(class_weights).cuda()\n",
        "criterion = nn.CrossEntropyLoss(weight = class_weights)"
      ]
    },
    {
      "cell_type": "code",
      "execution_count": null,
      "metadata": {
        "id": "Rj3DHIZmw4IM"
      },
      "outputs": [],
      "source": [
        "G = G.to('cuda:0')\n",
        "G.device"
      ]
    },
    {
      "cell_type": "code",
      "execution_count": null,
      "metadata": {
        "id": "qdlVG3JOw5Qj"
      },
      "outputs": [],
      "source": [
        "G.ndata['h'].device\n"
      ]
    },
    {
      "cell_type": "code",
      "execution_count": null,
      "metadata": {
        "id": "dvt3pnXmw6U7"
      },
      "outputs": [],
      "source": [
        "G.edata['h'].device\n"
      ]
    },
    {
      "cell_type": "code",
      "source": [
        "G.ndata['h'].shape"
      ],
      "metadata": {
        "id": "e9FEztOPo0Zb"
      },
      "execution_count": null,
      "outputs": []
    },
    {
      "cell_type": "code",
      "source": [
        "G.edata['h'].shape"
      ],
      "metadata": {
        "id": "JrAC_GyxpYrB"
      },
      "execution_count": null,
      "outputs": []
    },
    {
      "cell_type": "code",
      "execution_count": null,
      "metadata": {
        "id": "-_eTiHzWw8Cz"
      },
      "outputs": [],
      "source": [
        "node_features = G.ndata['h']\n",
        "edge_features = G.edata['h']\n",
        "\n",
        "edge_label = G.edata['label']\n",
        "train_mask = G.edata['train_mask']\n",
        "\n",
        "model = Model(G.ndata['h'].shape[2], 128, G.ndata['h'].shape[2], F.relu, 0.2).cuda()\n",
        "opt = th.optim.Adam(model.parameters())\n",
        "\n",
        "for epoch in range(1,2000):\n",
        "    pred = model(G, node_features,edge_features).cuda()\n",
        "    loss = criterion(pred[train_mask] ,edge_label[train_mask])\n",
        "    opt.zero_grad()\n",
        "    loss.backward()\n",
        "    opt.step()\n",
        "    if epoch % 100 == 0:\n",
        "      print('Epoch:', epoch,'Training acc:', compute_accuracy(pred[train_mask], edge_label[train_mask]))\n"
      ]
    },
    {
      "cell_type": "code",
      "source": [
        "model"
      ],
      "metadata": {
        "id": "Yav2SOVZfFVf"
      },
      "execution_count": null,
      "outputs": []
    },
    {
      "cell_type": "code",
      "execution_count": null,
      "metadata": {
        "id": "p7gYo6lVtHCN"
      },
      "outputs": [],
      "source": [
        "X_test = encoder.transform(X_test)\n",
        "\n",
        "#test\n",
        "# X_test_t = encoder.transform(X_test_t)"
      ]
    },
    {
      "cell_type": "code",
      "execution_count": null,
      "metadata": {
        "id": "OUGIEbMFtSnf"
      },
      "outputs": [],
      "source": [
        "#test\n",
        "# cols_to_norm_test = list(set(list(X_train_t.iloc[:, 2:].columns ))  - set(list(['label_test'])) )\n",
        "\n",
        "X_test[cols_to_norm] = scaler.transform(X_test[cols_to_norm])\n",
        "# X_test_t[cols_to_norm_test] = scaler.transform(X_test_t[cols_to_norm_test])"
      ]
    },
    {
      "cell_type": "code",
      "execution_count": null,
      "metadata": {
        "id": "VlyqlEqjtb9s"
      },
      "outputs": [],
      "source": [
        "X_test\n",
        "# X_test_t"
      ]
    },
    {
      "cell_type": "code",
      "source": [
        "X_test.label.value_counts()\n",
        "# X_test_t.label_test.value_counts()"
      ],
      "metadata": {
        "id": "ucmj-ENv7dTj"
      },
      "execution_count": null,
      "outputs": []
    },
    {
      "cell_type": "code",
      "execution_count": null,
      "metadata": {
        "id": "q5CMxVe5xIDb"
      },
      "outputs": [],
      "source": [
        "X_test['h'] = X_test[ cols_to_norm ].values.tolist()"
      ]
    },
    {
      "cell_type": "code",
      "source": [
        "# X_test_t['h'] = X_test_t[ cols_to_norm_test ].values.tolist()"
      ],
      "metadata": {
        "id": "AD6lR1hpdG11"
      },
      "execution_count": null,
      "outputs": []
    },
    {
      "cell_type": "code",
      "execution_count": null,
      "metadata": {
        "id": "VsAmtLAbxN_6"
      },
      "outputs": [],
      "source": [
        "G_test = nx.from_pandas_edgelist(X_test, \"IPV4_SRC_ADDR\", \"IPV4_DST_ADDR\", ['h','label'],create_using=nx.MultiGraph())\n",
        "G_test = G_test.to_directed()\n",
        "G_test = from_networkx(G_test,edge_attrs=['h','label'] )\n",
        "actual = G_test.edata.pop('label')\n",
        "G_test.ndata['feature'] = th.ones(G_test.num_nodes(), G.ndata['h'].shape[2])"
      ]
    },
    {
      "cell_type": "code",
      "source": [
        "# G_test = nx.from_pandas_edgelist(X_test_t, \"IPV4_SRC_ADDR\", \"IPV4_DST_ADDR\", ['h','label_test'],create_using=nx.MultiGraph())\n",
        "# G_test = G_test.to_directed()\n",
        "# G_test = from_networkx(G_test,edge_attrs=['h','label_test'] )\n",
        "# actual = G_test.edata.pop('label_test')\n",
        "# G_test.ndata['feature'] = th.ones(G_test.num_nodes(), G.ndata['h'].shape[2])"
      ],
      "metadata": {
        "id": "dDBZlNT9dDR3"
      },
      "execution_count": null,
      "outputs": []
    },
    {
      "cell_type": "code",
      "execution_count": null,
      "metadata": {
        "id": "Eeux6JIxxQtC"
      },
      "outputs": [],
      "source": [
        "G_test.ndata['feature'] = th.reshape(G_test.ndata['feature'], (G_test.ndata['feature'].shape[0], 1, G_test.ndata['feature'].shape[1]))"
      ]
    },
    {
      "cell_type": "code",
      "execution_count": null,
      "metadata": {
        "id": "PBETQI3YxYay"
      },
      "outputs": [],
      "source": [
        "G_test.edata['h'] = th.reshape(G_test.edata['h'], (G_test.edata['h'].shape[0], 1, G_test.edata['h'].shape[1]))\n"
      ]
    },
    {
      "cell_type": "code",
      "execution_count": null,
      "metadata": {
        "id": "qlTOyVN6xZZB"
      },
      "outputs": [],
      "source": [
        "G_test = G_test.to('cuda:0')\n"
      ]
    },
    {
      "cell_type": "code",
      "execution_count": null,
      "metadata": {
        "id": "QyugNIt9xac6"
      },
      "outputs": [],
      "source": [
        "import timeit\n",
        "start_time = timeit.default_timer()\n",
        "node_features_test = G_test.ndata['feature']\n",
        "edge_features_test = G_test.edata['h']\n",
        "test_pred = model(G_test, node_features_test, edge_features_test).cuda()\n",
        "elapsed = timeit.default_timer() - start_time"
      ]
    },
    {
      "cell_type": "code",
      "execution_count": null,
      "metadata": {
        "id": "KecCvilSxcFK"
      },
      "outputs": [],
      "source": [
        "print(str(elapsed) + ' seconds')\n"
      ]
    },
    {
      "cell_type": "code",
      "execution_count": null,
      "metadata": {
        "id": "BNQLnLoAxdST"
      },
      "outputs": [],
      "source": [
        "test_pred = test_pred.argmax(1)\n"
      ]
    },
    {
      "cell_type": "code",
      "execution_count": null,
      "metadata": {
        "id": "9dtggXXsxevx"
      },
      "outputs": [],
      "source": [
        "test_pred = th.Tensor.cpu(test_pred).detach().numpy()\n"
      ]
    },
    {
      "cell_type": "code",
      "execution_count": null,
      "metadata": {
        "id": "5TGb_KWRxfzS"
      },
      "outputs": [],
      "source": [
        "actual = le.inverse_transform(actual)\n",
        "test_pred = le.inverse_transform(test_pred)"
      ]
    },
    {
      "cell_type": "code",
      "execution_count": null,
      "metadata": {
        "id": "n7z7tHTPxhBC"
      },
      "outputs": [],
      "source": [
        "from sklearn.metrics import plot_confusion_matrix\n"
      ]
    },
    {
      "cell_type": "code",
      "execution_count": null,
      "metadata": {
        "id": "uMRairwzxiBC"
      },
      "outputs": [],
      "source": [
        "import numpy as np\n",
        "\n",
        "\n",
        "def plot_confusion_matrix(cm,\n",
        "                          target_names,\n",
        "                          title='Confusion matrix',\n",
        "                          cmap=None,\n",
        "                          normalize=True):\n",
        "    \n",
        "    import matplotlib.pyplot as plt\n",
        "    import numpy as np\n",
        "    import itertools\n",
        "\n",
        "    accuracy = np.trace(cm) / float(np.sum(cm))\n",
        "    misclass = 1 - accuracy\n",
        "\n",
        "    if cmap is None:\n",
        "        cmap = plt.get_cmap('Blues')\n",
        "\n",
        "    plt.figure(figsize=(12, 12))\n",
        "    plt.imshow(cm, interpolation='nearest', cmap=cmap)\n",
        "    plt.title(title)\n",
        "    plt.colorbar()\n",
        "\n",
        "    if target_names is not None:\n",
        "        tick_marks = np.arange(len(target_names))\n",
        "        plt.xticks(tick_marks, target_names, rotation=45)\n",
        "        plt.yticks(tick_marks, target_names)\n",
        "\n",
        "    if normalize:\n",
        "        cm = cm.astype('float') / cm.sum(axis=1)[:, np.newaxis]\n",
        "\n",
        "\n",
        "    thresh = cm.max() / 1.5 if normalize else cm.max() / 2\n",
        "    for i, j in itertools.product(range(cm.shape[0]), range(cm.shape[1])):\n",
        "        if normalize:\n",
        "            plt.text(j, i, \"{:0.4f}\".format(cm[i, j]),\n",
        "                     horizontalalignment=\"center\",\n",
        "                     color=\"white\" if cm[i, j] > thresh else \"black\")\n",
        "        else:\n",
        "            plt.text(j, i, \"{:,}\".format(cm[i, j]),\n",
        "                     horizontalalignment=\"center\",\n",
        "                     color=\"white\" if cm[i, j] > thresh else \"black\")\n",
        "\n",
        "\n",
        "    plt.tight_layout()\n",
        "    plt.ylabel('True label')\n",
        "    plt.xlabel('Predicted label\\naccuracy={:0.4f}; misclass={:0.4f}'.format(accuracy, misclass))\n",
        "    plt.show()"
      ]
    },
    {
      "cell_type": "code",
      "execution_count": null,
      "metadata": {
        "id": "KNCkVWyqxjaR"
      },
      "outputs": [],
      "source": [
        "from sklearn.metrics import confusion_matrix\n",
        "\n",
        "plot_confusion_matrix(cm = confusion_matrix(actual, test_pred), \n",
        "                      normalize    = False,\n",
        "                      target_names = np.unique(actual),\n",
        "                      title        = \"Confusion Matrix\")"
      ]
    },
    {
      "cell_type": "code",
      "execution_count": null,
      "metadata": {
        "id": "rC9-S7j9A48K"
      },
      "outputs": [],
      "source": [
        "from sklearn.metrics import classification_report\n",
        "target_names = np.unique(actual)\n",
        "print(classification_report(actual, test_pred, target_names=target_names, digits=4))"
      ]
    },
    {
      "cell_type": "code",
      "source": [
        "actual"
      ],
      "metadata": {
        "id": "l62qo1HpBM-_"
      },
      "execution_count": null,
      "outputs": []
    },
    {
      "cell_type": "code",
      "source": [
        "test_pred"
      ],
      "metadata": {
        "id": "6_B4K7ZQGT_x"
      },
      "execution_count": null,
      "outputs": []
    },
    {
      "cell_type": "code",
      "source": [
        "# # ROC curve：\n",
        "\n",
        "# from tensorflow.keras.utils import to_categorical\n",
        "# from sklearn.metrics import roc_curve, auc\n",
        "# from sklearn.metrics import roc_auc_score\n",
        "# from itertools import cycle\n",
        "# def RoC_Curve(y_score, y, labels, title): \n",
        "#     y_cat = to_categorical(y)\n",
        "\n",
        "        \n",
        "#     # Compute ROC curve and ROC area for each class\n",
        "#     fpr = dict()\n",
        "#     tpr = dict()\n",
        "#     roc_auc = dict()\n",
        "#     lw = 2\n",
        "#     # First aggregate all false positive rates\n",
        "#     n_classes = len(labels)\n",
        "#     print('n_classes:', n_classes)\n",
        "\n",
        "#     for i in range(n_classes):\n",
        "#         fpr[i], tpr[i], _ = roc_curve(y_cat[:, i], y_score[:, i])\n",
        "#         roc_auc[i] = auc(fpr[i], tpr[i])\n",
        "\n",
        "        \n",
        "        \n",
        "        \n",
        "#     # Compute micro-average ROC curve and ROC area\n",
        "#     fpr[\"micro\"], tpr[\"micro\"], _ = roc_curve(y_cat.ravel(), y_score.ravel())\n",
        "#     roc_auc[\"micro\"] = auc(fpr[\"micro\"], tpr[\"micro\"])\n",
        "\n",
        "#     # First aggregate all false positive rates\n",
        "#     all_fpr = np.unique(np.concatenate([fpr[i] for i in range(n_classes)]))\n",
        "\n",
        "#     # Then interpolate all ROC curves at this points\n",
        "#     mean_tpr = np.zeros_like(all_fpr)\n",
        "#     for i in range(n_classes):\n",
        "#         mean_tpr += np.interp(all_fpr, fpr[i], tpr[i])\n",
        "\n",
        "        \n",
        "        \n",
        "        \n",
        "#     # Finally average it and compute AUC\n",
        "#     mean_tpr /= n_classes\n",
        "\n",
        "#     fpr[\"macro\"] = all_fpr\n",
        "#     tpr[\"macro\"] = mean_tpr\n",
        "#     roc_auc[\"macro\"] = auc(fpr[\"macro\"], tpr[\"macro\"])\n",
        "\n",
        "#     # Plot all ROC curves\n",
        "#     plt.figure(figsize=(8,8))\n",
        "#     plt.plot(fpr[\"micro\"], tpr[\"micro\"],\n",
        "#              label='micro-average ROC curve (area = {0:0.4f})'\n",
        "#                    ''.format(roc_auc[\"micro\"]),\n",
        "#              color='deeppink', linestyle=':', linewidth=4)\n",
        "\n",
        "#     plt.plot(fpr[\"macro\"], tpr[\"macro\"],\n",
        "#              label='macro-average ROC curve (area = {0:0.4f})'\n",
        "#                    ''.format(roc_auc[\"macro\"]),\n",
        "#              color='navy', linestyle=':', linewidth=4)\n",
        "\n",
        "#     colors = cycle(['aqua', 'darkorange', 'cornflowerblue'])\n",
        "#     for i, color in zip(range(n_classes), colors):\n",
        "#         plt.plot(fpr[i], tpr[i], color=color, lw=lw,\n",
        "#                  label=f'ROC curve of class {labels[i]} (area = {roc_auc[i]:0.4f})')\n",
        "\n",
        "#     plt.plot([0, 1], [0, 1], 'k--', lw=lw)\n",
        "#     plt.xlim([0.0, 1.0])\n",
        "#     plt.ylim([0.0, 1.05])\n",
        "#     plt.xlabel('False Positive Rate')\n",
        "#     plt.ylabel('True Positive Rate')\n",
        "#     plt.title(title, fontsize=16)\n",
        "#     plt.legend(loc=\"lower right\")\n",
        "#     plt.show()\n",
        "\n",
        "\n",
        "# y_eval= le.fit_transform(actual)\n",
        "# y_test= le.fit_transform(test_pred)\n",
        "# RoC_Curve(y_test, y_eval, le.classes_, title=' 0:Dos  1:normal  2:Probe  3:R2L  4:U2L \\n\\n ROC for E-GraphSAGE')"
      ],
      "metadata": {
        "id": "TRjNPV3g5v0B"
      },
      "execution_count": null,
      "outputs": []
    },
    {
      "cell_type": "code",
      "source": [
        "cm = confusion_matrix(actual, test_pred)\n",
        "\n",
        "FP = cm.sum(axis=0) - np.diag(cm)  \n",
        "FN = cm.sum(axis=1) - np.diag(cm)\n",
        "TP = np.diag(cm)\n",
        "TN = cm.sum() - (FP + FN + TP)\n",
        "\n",
        "FP = FP.astype(float)\n",
        "FN = FN.astype(float)\n",
        "TP = TP.astype(float)\n",
        "TN = TN.astype(float)\n",
        "\n",
        "print(\"TP = \", TP)\n",
        "print(\"TN = \", TN)\n",
        "print(\"FP = \", FP)\n",
        "print(\"FN = \", FN)\n",
        "print(\"\\n\")\n",
        "\n",
        "# Sensitivity, hit rate, recall, or true positive rate\n",
        "TPR = TP/(TP+FN)\n",
        "print(\"TPR = \", TPR , \"  True positive rate, Sensitivity, hit rate, or recall\")\n",
        "# Fall out or false positive rate\n",
        "FPR = FP/(FP+TN)\n",
        "print(\"FPR = \", FPR, \"  False positive rate or fall out\")\n",
        "# Specificity or true negative rate\n",
        "TNR = TN/(TN+FP)\n",
        "print(\"TNR = \", TNR, \"  True negative rate or specificity\")\n",
        "# False negative rate\n",
        "FNR = FN/(TP+FN)\n",
        "print(\"FNR = \", FNR, \"  False negative rate\")\n",
        "print(\"\\n\")\n",
        "\n",
        "# Precision or positive predictive value\n",
        "PPV = TP/(TP+FP)\n",
        "print(\"PPV = \", PPV, \"  Positive predictive value or precision\")\n",
        "# Negative predictive value\n",
        "NPV = TN/(TN+FN)\n",
        "print(\"NPV = \", NPV, \"  Negative predictive value\")\n",
        "# False discovery rate\n",
        "FDR = FP/(TP+FP)\n",
        "print(\"FDR = \", FDR, \"  False discovery rate\")\n",
        "print(\"\\n\")\n",
        "\n",
        "#Overall accuracy\n",
        "ACC = (TP+TN)/(TP+FP+FN+TN)\n",
        "print(target_names)\n",
        "print(\"ACC = \", ACC)"
      ],
      "metadata": {
        "id": "1jStThewHdb4"
      },
      "execution_count": null,
      "outputs": []
    }
  ],
  "metadata": {
    "colab": {
      "machine_shape": "hm",
      "provenance": []
    },
    "kernelspec": {
      "display_name": "Python 3",
      "language": "python",
      "name": "python3"
    },
    "language_info": {
      "codemirror_mode": {
        "name": "ipython",
        "version": 3
      },
      "file_extension": ".py",
      "mimetype": "text/x-python",
      "name": "python",
      "nbconvert_exporter": "python",
      "pygments_lexer": "ipython3",
      "version": "3.8.5"
    },
    "gpuClass": "standard"
  },
  "nbformat": 4,
  "nbformat_minor": 0
}