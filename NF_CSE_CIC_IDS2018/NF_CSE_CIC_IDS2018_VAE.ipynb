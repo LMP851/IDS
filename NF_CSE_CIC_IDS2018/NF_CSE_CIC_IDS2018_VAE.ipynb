{
  "cells": [
    {
      "cell_type": "code",
      "execution_count": null,
      "metadata": {
        "id": "j6ZSRZDx6YO8"
      },
      "outputs": [],
      "source": [
        "# importing required libraries\n",
        "import numpy as np\n",
        "import pandas as pd\n",
        "\n",
        "import pickle # saving and loading trained model\n",
        "from os import path\n",
        "\n",
        "# importing required libraries for normalizing data\n",
        "from sklearn import preprocessing\n",
        "from sklearn.preprocessing import StandardScaler\n",
        "\n",
        "# importing library for plotting\n",
        "import matplotlib.pyplot as plt\n",
        "# importing library for dealing ipaddress\n",
        "import ipaddress\n",
        "from ipaddress import IPv4Address\n",
        "# importing library for support vector machine classifier\n",
        "from sklearn.svm import SVC\n",
        "# importing library for K-neares-neighbor classifier\n",
        "from sklearn.neighbors import KNeighborsClassifier\n",
        "# importing library for Linear Discriminant Analysis Model\n",
        "from sklearn.discriminant_analysis import LinearDiscriminantAnalysis\n",
        "# importing library for Quadratic Discriminant Analysis Model\n",
        "from sklearn.discriminant_analysis import QuadraticDiscriminantAnalysis\n",
        "\n",
        "from sklearn import metrics\n",
        "from sklearn.metrics import accuracy_score # for calculating accuracy of model\n",
        "from sklearn.model_selection import train_test_split # for splitting the dataset for training and testing\n",
        "from sklearn.metrics import classification_report # for generating a classification report of model\n",
        "\n",
        "from sklearn.metrics import precision_score\n",
        "from sklearn.metrics import recall_score\n",
        "from sklearn.metrics import f1_score\n",
        "\n",
        "from sklearn.metrics import roc_auc_score\n",
        "from sklearn.metrics import roc_curve, auc\n",
        "\n",
        "from keras.layers import Dense # importing dense layer\n",
        "from keras.models import Sequential #importing Sequential layer\n",
        "from keras.models import model_from_json # saving and loading trained model\n",
        "\n",
        "from keras.layers import LSTM\n",
        "from keras.layers import Input\n",
        "from keras.models import Model\n",
        "from tensorflow.keras.callbacks import EarlyStopping\n",
        "# representation of model layers\n",
        "from keras.utils.vis_utils import plot_model\n",
        "from sklearn.preprocessing import MinMaxScaler\n",
        "\n",
        "%matplotlib inline"
      ]
    },
    {
      "cell_type": "markdown",
      "metadata": {
        "id": "K6x2D7Cw6YPB"
      },
      "source": [
        "# NF-CSE-CIC-IDS2018\n"
      ]
    },
    {
      "cell_type": "code",
      "execution_count": null,
      "metadata": {
        "colab": {
          "base_uri": "https://localhost:8080/"
        },
        "id": "AS-O_8Isl159",
        "outputId": "28a91857-be5c-48c6-ad8f-920b047f290b"
      },
      "outputs": [
        {
          "output_type": "stream",
          "name": "stdout",
          "text": [
            "Mounted at /content/drive\n"
          ]
        }
      ],
      "source": [
        "from google.colab import drive\n",
        "drive.mount('/content/drive')"
      ]
    },
    {
      "cell_type": "code",
      "execution_count": null,
      "metadata": {
        "id": "TOQ6E7KWn5u8"
      },
      "outputs": [],
      "source": [
        "df = pd.read_csv('/content/drive/MyDrive/Data/NF-CSE-CIC-IDS2018.csv') \n",
        "df.drop(df.index[-1],axis=0,inplace=True)"
      ]
    },
    {
      "cell_type": "code",
      "execution_count": null,
      "metadata": {
        "colab": {
          "base_uri": "https://localhost:8080/",
          "height": 424
        },
        "id": "HJfQXk7EoCUj",
        "outputId": "3542b741-2f06-445a-be31-efefc78cb987"
      },
      "outputs": [
        {
          "output_type": "execute_result",
          "data": {
            "text/plain": [
              "           IPV4_SRC_ADDR  L4_SRC_PORT    IPV4_DST_ADDR  L4_DST_PORT  PROTOCOL  \\\n",
              "0           172.31.66.17        51128     23.36.69.189          443         6   \n",
              "1          34.195.59.178          443     172.31.66.17        51036         6   \n",
              "2        112.215.171.212        12262     172.31.66.17          445         6   \n",
              "3           172.31.66.17        61023       172.31.0.2           53        17   \n",
              "4         34.204.112.168          443     172.31.66.17        51037         6   \n",
              "...                  ...          ...              ...          ...       ...   \n",
              "8392395  122.226.181.164        40810      172.31.69.7           22         6   \n",
              "8392396      172.31.69.7           22  122.226.181.164        40810         6   \n",
              "8392397    45.70.167.112        15476      172.31.69.7           23         6   \n",
              "8392398      172.31.69.7           23    45.70.167.112        15476         6   \n",
              "8392399      172.31.69.7        56407       172.31.0.2           53        17   \n",
              "\n",
              "         L7_PROTO  IN_BYTES  OUT_BYTES  IN_PKTS  OUT_PKTS  TCP_FLAGS  \\\n",
              "0          91.000       152          0        3         0        194   \n",
              "1          91.178       994        979        7         7         24   \n",
              "2           0.000       585        344        5         4         30   \n",
              "3           0.000       136        168        2         2          0   \n",
              "4          91.178        72         40        1         1         24   \n",
              "...           ...       ...        ...      ...       ...        ...   \n",
              "8392395     0.000      1963          0       16         0         27   \n",
              "8392396     0.000      2601          0       12         0         27   \n",
              "8392397     0.000        44          0        1         0          2   \n",
              "8392398     0.000        40          0        1         0         20   \n",
              "8392399     0.000        72          0        1         0          0   \n",
              "\n",
              "         FLOW_DURATION_MILLISECONDS  Label  Attack  \n",
              "0                           4285680      0  Benign  \n",
              "1                           4234714      0  Benign  \n",
              "2                           4294106      0  Benign  \n",
              "3                           4293985      0  Benign  \n",
              "4                           4294845      0  Benign  \n",
              "...                             ...    ...     ...  \n",
              "8392395                           0      0  Benign  \n",
              "8392396                           0      0  Benign  \n",
              "8392397                           0      0  Benign  \n",
              "8392398                           0      0  Benign  \n",
              "8392399                           0      0  Benign  \n",
              "\n",
              "[8392400 rows x 14 columns]"
            ],
            "text/html": [
              "\n",
              "  <div id=\"df-9289721b-8879-4097-90f2-62143ffdaaad\">\n",
              "    <div class=\"colab-df-container\">\n",
              "      <div>\n",
              "<style scoped>\n",
              "    .dataframe tbody tr th:only-of-type {\n",
              "        vertical-align: middle;\n",
              "    }\n",
              "\n",
              "    .dataframe tbody tr th {\n",
              "        vertical-align: top;\n",
              "    }\n",
              "\n",
              "    .dataframe thead th {\n",
              "        text-align: right;\n",
              "    }\n",
              "</style>\n",
              "<table border=\"1\" class=\"dataframe\">\n",
              "  <thead>\n",
              "    <tr style=\"text-align: right;\">\n",
              "      <th></th>\n",
              "      <th>IPV4_SRC_ADDR</th>\n",
              "      <th>L4_SRC_PORT</th>\n",
              "      <th>IPV4_DST_ADDR</th>\n",
              "      <th>L4_DST_PORT</th>\n",
              "      <th>PROTOCOL</th>\n",
              "      <th>L7_PROTO</th>\n",
              "      <th>IN_BYTES</th>\n",
              "      <th>OUT_BYTES</th>\n",
              "      <th>IN_PKTS</th>\n",
              "      <th>OUT_PKTS</th>\n",
              "      <th>TCP_FLAGS</th>\n",
              "      <th>FLOW_DURATION_MILLISECONDS</th>\n",
              "      <th>Label</th>\n",
              "      <th>Attack</th>\n",
              "    </tr>\n",
              "  </thead>\n",
              "  <tbody>\n",
              "    <tr>\n",
              "      <th>0</th>\n",
              "      <td>172.31.66.17</td>\n",
              "      <td>51128</td>\n",
              "      <td>23.36.69.189</td>\n",
              "      <td>443</td>\n",
              "      <td>6</td>\n",
              "      <td>91.000</td>\n",
              "      <td>152</td>\n",
              "      <td>0</td>\n",
              "      <td>3</td>\n",
              "      <td>0</td>\n",
              "      <td>194</td>\n",
              "      <td>4285680</td>\n",
              "      <td>0</td>\n",
              "      <td>Benign</td>\n",
              "    </tr>\n",
              "    <tr>\n",
              "      <th>1</th>\n",
              "      <td>34.195.59.178</td>\n",
              "      <td>443</td>\n",
              "      <td>172.31.66.17</td>\n",
              "      <td>51036</td>\n",
              "      <td>6</td>\n",
              "      <td>91.178</td>\n",
              "      <td>994</td>\n",
              "      <td>979</td>\n",
              "      <td>7</td>\n",
              "      <td>7</td>\n",
              "      <td>24</td>\n",
              "      <td>4234714</td>\n",
              "      <td>0</td>\n",
              "      <td>Benign</td>\n",
              "    </tr>\n",
              "    <tr>\n",
              "      <th>2</th>\n",
              "      <td>112.215.171.212</td>\n",
              "      <td>12262</td>\n",
              "      <td>172.31.66.17</td>\n",
              "      <td>445</td>\n",
              "      <td>6</td>\n",
              "      <td>0.000</td>\n",
              "      <td>585</td>\n",
              "      <td>344</td>\n",
              "      <td>5</td>\n",
              "      <td>4</td>\n",
              "      <td>30</td>\n",
              "      <td>4294106</td>\n",
              "      <td>0</td>\n",
              "      <td>Benign</td>\n",
              "    </tr>\n",
              "    <tr>\n",
              "      <th>3</th>\n",
              "      <td>172.31.66.17</td>\n",
              "      <td>61023</td>\n",
              "      <td>172.31.0.2</td>\n",
              "      <td>53</td>\n",
              "      <td>17</td>\n",
              "      <td>0.000</td>\n",
              "      <td>136</td>\n",
              "      <td>168</td>\n",
              "      <td>2</td>\n",
              "      <td>2</td>\n",
              "      <td>0</td>\n",
              "      <td>4293985</td>\n",
              "      <td>0</td>\n",
              "      <td>Benign</td>\n",
              "    </tr>\n",
              "    <tr>\n",
              "      <th>4</th>\n",
              "      <td>34.204.112.168</td>\n",
              "      <td>443</td>\n",
              "      <td>172.31.66.17</td>\n",
              "      <td>51037</td>\n",
              "      <td>6</td>\n",
              "      <td>91.178</td>\n",
              "      <td>72</td>\n",
              "      <td>40</td>\n",
              "      <td>1</td>\n",
              "      <td>1</td>\n",
              "      <td>24</td>\n",
              "      <td>4294845</td>\n",
              "      <td>0</td>\n",
              "      <td>Benign</td>\n",
              "    </tr>\n",
              "    <tr>\n",
              "      <th>...</th>\n",
              "      <td>...</td>\n",
              "      <td>...</td>\n",
              "      <td>...</td>\n",
              "      <td>...</td>\n",
              "      <td>...</td>\n",
              "      <td>...</td>\n",
              "      <td>...</td>\n",
              "      <td>...</td>\n",
              "      <td>...</td>\n",
              "      <td>...</td>\n",
              "      <td>...</td>\n",
              "      <td>...</td>\n",
              "      <td>...</td>\n",
              "      <td>...</td>\n",
              "    </tr>\n",
              "    <tr>\n",
              "      <th>8392395</th>\n",
              "      <td>122.226.181.164</td>\n",
              "      <td>40810</td>\n",
              "      <td>172.31.69.7</td>\n",
              "      <td>22</td>\n",
              "      <td>6</td>\n",
              "      <td>0.000</td>\n",
              "      <td>1963</td>\n",
              "      <td>0</td>\n",
              "      <td>16</td>\n",
              "      <td>0</td>\n",
              "      <td>27</td>\n",
              "      <td>0</td>\n",
              "      <td>0</td>\n",
              "      <td>Benign</td>\n",
              "    </tr>\n",
              "    <tr>\n",
              "      <th>8392396</th>\n",
              "      <td>172.31.69.7</td>\n",
              "      <td>22</td>\n",
              "      <td>122.226.181.164</td>\n",
              "      <td>40810</td>\n",
              "      <td>6</td>\n",
              "      <td>0.000</td>\n",
              "      <td>2601</td>\n",
              "      <td>0</td>\n",
              "      <td>12</td>\n",
              "      <td>0</td>\n",
              "      <td>27</td>\n",
              "      <td>0</td>\n",
              "      <td>0</td>\n",
              "      <td>Benign</td>\n",
              "    </tr>\n",
              "    <tr>\n",
              "      <th>8392397</th>\n",
              "      <td>45.70.167.112</td>\n",
              "      <td>15476</td>\n",
              "      <td>172.31.69.7</td>\n",
              "      <td>23</td>\n",
              "      <td>6</td>\n",
              "      <td>0.000</td>\n",
              "      <td>44</td>\n",
              "      <td>0</td>\n",
              "      <td>1</td>\n",
              "      <td>0</td>\n",
              "      <td>2</td>\n",
              "      <td>0</td>\n",
              "      <td>0</td>\n",
              "      <td>Benign</td>\n",
              "    </tr>\n",
              "    <tr>\n",
              "      <th>8392398</th>\n",
              "      <td>172.31.69.7</td>\n",
              "      <td>23</td>\n",
              "      <td>45.70.167.112</td>\n",
              "      <td>15476</td>\n",
              "      <td>6</td>\n",
              "      <td>0.000</td>\n",
              "      <td>40</td>\n",
              "      <td>0</td>\n",
              "      <td>1</td>\n",
              "      <td>0</td>\n",
              "      <td>20</td>\n",
              "      <td>0</td>\n",
              "      <td>0</td>\n",
              "      <td>Benign</td>\n",
              "    </tr>\n",
              "    <tr>\n",
              "      <th>8392399</th>\n",
              "      <td>172.31.69.7</td>\n",
              "      <td>56407</td>\n",
              "      <td>172.31.0.2</td>\n",
              "      <td>53</td>\n",
              "      <td>17</td>\n",
              "      <td>0.000</td>\n",
              "      <td>72</td>\n",
              "      <td>0</td>\n",
              "      <td>1</td>\n",
              "      <td>0</td>\n",
              "      <td>0</td>\n",
              "      <td>0</td>\n",
              "      <td>0</td>\n",
              "      <td>Benign</td>\n",
              "    </tr>\n",
              "  </tbody>\n",
              "</table>\n",
              "<p>8392400 rows × 14 columns</p>\n",
              "</div>\n",
              "      <button class=\"colab-df-convert\" onclick=\"convertToInteractive('df-9289721b-8879-4097-90f2-62143ffdaaad')\"\n",
              "              title=\"Convert this dataframe to an interactive table.\"\n",
              "              style=\"display:none;\">\n",
              "        \n",
              "  <svg xmlns=\"http://www.w3.org/2000/svg\" height=\"24px\"viewBox=\"0 0 24 24\"\n",
              "       width=\"24px\">\n",
              "    <path d=\"M0 0h24v24H0V0z\" fill=\"none\"/>\n",
              "    <path d=\"M18.56 5.44l.94 2.06.94-2.06 2.06-.94-2.06-.94-.94-2.06-.94 2.06-2.06.94zm-11 1L8.5 8.5l.94-2.06 2.06-.94-2.06-.94L8.5 2.5l-.94 2.06-2.06.94zm10 10l.94 2.06.94-2.06 2.06-.94-2.06-.94-.94-2.06-.94 2.06-2.06.94z\"/><path d=\"M17.41 7.96l-1.37-1.37c-.4-.4-.92-.59-1.43-.59-.52 0-1.04.2-1.43.59L10.3 9.45l-7.72 7.72c-.78.78-.78 2.05 0 2.83L4 21.41c.39.39.9.59 1.41.59.51 0 1.02-.2 1.41-.59l7.78-7.78 2.81-2.81c.8-.78.8-2.07 0-2.86zM5.41 20L4 18.59l7.72-7.72 1.47 1.35L5.41 20z\"/>\n",
              "  </svg>\n",
              "      </button>\n",
              "      \n",
              "  <style>\n",
              "    .colab-df-container {\n",
              "      display:flex;\n",
              "      flex-wrap:wrap;\n",
              "      gap: 12px;\n",
              "    }\n",
              "\n",
              "    .colab-df-convert {\n",
              "      background-color: #E8F0FE;\n",
              "      border: none;\n",
              "      border-radius: 50%;\n",
              "      cursor: pointer;\n",
              "      display: none;\n",
              "      fill: #1967D2;\n",
              "      height: 32px;\n",
              "      padding: 0 0 0 0;\n",
              "      width: 32px;\n",
              "    }\n",
              "\n",
              "    .colab-df-convert:hover {\n",
              "      background-color: #E2EBFA;\n",
              "      box-shadow: 0px 1px 2px rgba(60, 64, 67, 0.3), 0px 1px 3px 1px rgba(60, 64, 67, 0.15);\n",
              "      fill: #174EA6;\n",
              "    }\n",
              "\n",
              "    [theme=dark] .colab-df-convert {\n",
              "      background-color: #3B4455;\n",
              "      fill: #D2E3FC;\n",
              "    }\n",
              "\n",
              "    [theme=dark] .colab-df-convert:hover {\n",
              "      background-color: #434B5C;\n",
              "      box-shadow: 0px 1px 3px 1px rgba(0, 0, 0, 0.15);\n",
              "      filter: drop-shadow(0px 1px 2px rgba(0, 0, 0, 0.3));\n",
              "      fill: #FFFFFF;\n",
              "    }\n",
              "  </style>\n",
              "\n",
              "      <script>\n",
              "        const buttonEl =\n",
              "          document.querySelector('#df-9289721b-8879-4097-90f2-62143ffdaaad button.colab-df-convert');\n",
              "        buttonEl.style.display =\n",
              "          google.colab.kernel.accessAllowed ? 'block' : 'none';\n",
              "\n",
              "        async function convertToInteractive(key) {\n",
              "          const element = document.querySelector('#df-9289721b-8879-4097-90f2-62143ffdaaad');\n",
              "          const dataTable =\n",
              "            await google.colab.kernel.invokeFunction('convertToInteractive',\n",
              "                                                     [key], {});\n",
              "          if (!dataTable) return;\n",
              "\n",
              "          const docLinkHtml = 'Like what you see? Visit the ' +\n",
              "            '<a target=\"_blank\" href=https://colab.research.google.com/notebooks/data_table.ipynb>data table notebook</a>'\n",
              "            + ' to learn more about interactive tables.';\n",
              "          element.innerHTML = '';\n",
              "          dataTable['output_type'] = 'display_data';\n",
              "          await google.colab.output.renderOutput(dataTable, element);\n",
              "          const docLink = document.createElement('div');\n",
              "          docLink.innerHTML = docLinkHtml;\n",
              "          element.appendChild(docLink);\n",
              "        }\n",
              "      </script>\n",
              "    </div>\n",
              "  </div>\n",
              "  "
            ]
          },
          "metadata": {},
          "execution_count": 5
        }
      ],
      "source": [
        "df"
      ]
    },
    {
      "cell_type": "code",
      "execution_count": null,
      "metadata": {
        "colab": {
          "base_uri": "https://localhost:8080/",
          "height": 424
        },
        "id": "xGNjFpEisSSL",
        "outputId": "2935fb21-521e-4b18-d400-ed57dedb6e5f"
      },
      "outputs": [
        {
          "output_type": "execute_result",
          "data": {
            "text/plain": [
              "           IPV4_SRC_ADDR  L4_SRC_PORT    IPV4_DST_ADDR  L4_DST_PORT  PROTOCOL  \\\n",
              "0           172.31.66.17        51128     23.36.69.189          443         6   \n",
              "1          34.195.59.178          443     172.31.66.17        51036         6   \n",
              "2        112.215.171.212        12262     172.31.66.17          445         6   \n",
              "3           172.31.66.17        61023       172.31.0.2           53        17   \n",
              "4         34.204.112.168          443     172.31.66.17        51037         6   \n",
              "...                  ...          ...              ...          ...       ...   \n",
              "8392395  122.226.181.164        40810      172.31.69.7           22         6   \n",
              "8392396      172.31.69.7           22  122.226.181.164        40810         6   \n",
              "8392397    45.70.167.112        15476      172.31.69.7           23         6   \n",
              "8392398      172.31.69.7           23    45.70.167.112        15476         6   \n",
              "8392399      172.31.69.7        56407       172.31.0.2           53        17   \n",
              "\n",
              "         L7_PROTO  IN_BYTES  OUT_BYTES  IN_PKTS  OUT_PKTS  TCP_FLAGS  \\\n",
              "0          91.000       152          0        3         0        194   \n",
              "1          91.178       994        979        7         7         24   \n",
              "2           0.000       585        344        5         4         30   \n",
              "3           0.000       136        168        2         2          0   \n",
              "4          91.178        72         40        1         1         24   \n",
              "...           ...       ...        ...      ...       ...        ...   \n",
              "8392395     0.000      1963          0       16         0         27   \n",
              "8392396     0.000      2601          0       12         0         27   \n",
              "8392397     0.000        44          0        1         0          2   \n",
              "8392398     0.000        40          0        1         0         20   \n",
              "8392399     0.000        72          0        1         0          0   \n",
              "\n",
              "         FLOW_DURATION_MILLISECONDS  Label  Attack  \n",
              "0                           4285680      0  Benign  \n",
              "1                           4234714      0  Benign  \n",
              "2                           4294106      0  Benign  \n",
              "3                           4293985      0  Benign  \n",
              "4                           4294845      0  Benign  \n",
              "...                             ...    ...     ...  \n",
              "8392395                           0      0  Benign  \n",
              "8392396                           0      0  Benign  \n",
              "8392397                           0      0  Benign  \n",
              "8392398                           0      0  Benign  \n",
              "8392399                           0      0  Benign  \n",
              "\n",
              "[8392398 rows x 14 columns]"
            ],
            "text/html": [
              "\n",
              "  <div id=\"df-55390a1a-f4c8-4764-b557-0122d9849a24\">\n",
              "    <div class=\"colab-df-container\">\n",
              "      <div>\n",
              "<style scoped>\n",
              "    .dataframe tbody tr th:only-of-type {\n",
              "        vertical-align: middle;\n",
              "    }\n",
              "\n",
              "    .dataframe tbody tr th {\n",
              "        vertical-align: top;\n",
              "    }\n",
              "\n",
              "    .dataframe thead th {\n",
              "        text-align: right;\n",
              "    }\n",
              "</style>\n",
              "<table border=\"1\" class=\"dataframe\">\n",
              "  <thead>\n",
              "    <tr style=\"text-align: right;\">\n",
              "      <th></th>\n",
              "      <th>IPV4_SRC_ADDR</th>\n",
              "      <th>L4_SRC_PORT</th>\n",
              "      <th>IPV4_DST_ADDR</th>\n",
              "      <th>L4_DST_PORT</th>\n",
              "      <th>PROTOCOL</th>\n",
              "      <th>L7_PROTO</th>\n",
              "      <th>IN_BYTES</th>\n",
              "      <th>OUT_BYTES</th>\n",
              "      <th>IN_PKTS</th>\n",
              "      <th>OUT_PKTS</th>\n",
              "      <th>TCP_FLAGS</th>\n",
              "      <th>FLOW_DURATION_MILLISECONDS</th>\n",
              "      <th>Label</th>\n",
              "      <th>Attack</th>\n",
              "    </tr>\n",
              "  </thead>\n",
              "  <tbody>\n",
              "    <tr>\n",
              "      <th>0</th>\n",
              "      <td>172.31.66.17</td>\n",
              "      <td>51128</td>\n",
              "      <td>23.36.69.189</td>\n",
              "      <td>443</td>\n",
              "      <td>6</td>\n",
              "      <td>91.000</td>\n",
              "      <td>152</td>\n",
              "      <td>0</td>\n",
              "      <td>3</td>\n",
              "      <td>0</td>\n",
              "      <td>194</td>\n",
              "      <td>4285680</td>\n",
              "      <td>0</td>\n",
              "      <td>Benign</td>\n",
              "    </tr>\n",
              "    <tr>\n",
              "      <th>1</th>\n",
              "      <td>34.195.59.178</td>\n",
              "      <td>443</td>\n",
              "      <td>172.31.66.17</td>\n",
              "      <td>51036</td>\n",
              "      <td>6</td>\n",
              "      <td>91.178</td>\n",
              "      <td>994</td>\n",
              "      <td>979</td>\n",
              "      <td>7</td>\n",
              "      <td>7</td>\n",
              "      <td>24</td>\n",
              "      <td>4234714</td>\n",
              "      <td>0</td>\n",
              "      <td>Benign</td>\n",
              "    </tr>\n",
              "    <tr>\n",
              "      <th>2</th>\n",
              "      <td>112.215.171.212</td>\n",
              "      <td>12262</td>\n",
              "      <td>172.31.66.17</td>\n",
              "      <td>445</td>\n",
              "      <td>6</td>\n",
              "      <td>0.000</td>\n",
              "      <td>585</td>\n",
              "      <td>344</td>\n",
              "      <td>5</td>\n",
              "      <td>4</td>\n",
              "      <td>30</td>\n",
              "      <td>4294106</td>\n",
              "      <td>0</td>\n",
              "      <td>Benign</td>\n",
              "    </tr>\n",
              "    <tr>\n",
              "      <th>3</th>\n",
              "      <td>172.31.66.17</td>\n",
              "      <td>61023</td>\n",
              "      <td>172.31.0.2</td>\n",
              "      <td>53</td>\n",
              "      <td>17</td>\n",
              "      <td>0.000</td>\n",
              "      <td>136</td>\n",
              "      <td>168</td>\n",
              "      <td>2</td>\n",
              "      <td>2</td>\n",
              "      <td>0</td>\n",
              "      <td>4293985</td>\n",
              "      <td>0</td>\n",
              "      <td>Benign</td>\n",
              "    </tr>\n",
              "    <tr>\n",
              "      <th>4</th>\n",
              "      <td>34.204.112.168</td>\n",
              "      <td>443</td>\n",
              "      <td>172.31.66.17</td>\n",
              "      <td>51037</td>\n",
              "      <td>6</td>\n",
              "      <td>91.178</td>\n",
              "      <td>72</td>\n",
              "      <td>40</td>\n",
              "      <td>1</td>\n",
              "      <td>1</td>\n",
              "      <td>24</td>\n",
              "      <td>4294845</td>\n",
              "      <td>0</td>\n",
              "      <td>Benign</td>\n",
              "    </tr>\n",
              "    <tr>\n",
              "      <th>...</th>\n",
              "      <td>...</td>\n",
              "      <td>...</td>\n",
              "      <td>...</td>\n",
              "      <td>...</td>\n",
              "      <td>...</td>\n",
              "      <td>...</td>\n",
              "      <td>...</td>\n",
              "      <td>...</td>\n",
              "      <td>...</td>\n",
              "      <td>...</td>\n",
              "      <td>...</td>\n",
              "      <td>...</td>\n",
              "      <td>...</td>\n",
              "      <td>...</td>\n",
              "    </tr>\n",
              "    <tr>\n",
              "      <th>8392395</th>\n",
              "      <td>122.226.181.164</td>\n",
              "      <td>40810</td>\n",
              "      <td>172.31.69.7</td>\n",
              "      <td>22</td>\n",
              "      <td>6</td>\n",
              "      <td>0.000</td>\n",
              "      <td>1963</td>\n",
              "      <td>0</td>\n",
              "      <td>16</td>\n",
              "      <td>0</td>\n",
              "      <td>27</td>\n",
              "      <td>0</td>\n",
              "      <td>0</td>\n",
              "      <td>Benign</td>\n",
              "    </tr>\n",
              "    <tr>\n",
              "      <th>8392396</th>\n",
              "      <td>172.31.69.7</td>\n",
              "      <td>22</td>\n",
              "      <td>122.226.181.164</td>\n",
              "      <td>40810</td>\n",
              "      <td>6</td>\n",
              "      <td>0.000</td>\n",
              "      <td>2601</td>\n",
              "      <td>0</td>\n",
              "      <td>12</td>\n",
              "      <td>0</td>\n",
              "      <td>27</td>\n",
              "      <td>0</td>\n",
              "      <td>0</td>\n",
              "      <td>Benign</td>\n",
              "    </tr>\n",
              "    <tr>\n",
              "      <th>8392397</th>\n",
              "      <td>45.70.167.112</td>\n",
              "      <td>15476</td>\n",
              "      <td>172.31.69.7</td>\n",
              "      <td>23</td>\n",
              "      <td>6</td>\n",
              "      <td>0.000</td>\n",
              "      <td>44</td>\n",
              "      <td>0</td>\n",
              "      <td>1</td>\n",
              "      <td>0</td>\n",
              "      <td>2</td>\n",
              "      <td>0</td>\n",
              "      <td>0</td>\n",
              "      <td>Benign</td>\n",
              "    </tr>\n",
              "    <tr>\n",
              "      <th>8392398</th>\n",
              "      <td>172.31.69.7</td>\n",
              "      <td>23</td>\n",
              "      <td>45.70.167.112</td>\n",
              "      <td>15476</td>\n",
              "      <td>6</td>\n",
              "      <td>0.000</td>\n",
              "      <td>40</td>\n",
              "      <td>0</td>\n",
              "      <td>1</td>\n",
              "      <td>0</td>\n",
              "      <td>20</td>\n",
              "      <td>0</td>\n",
              "      <td>0</td>\n",
              "      <td>Benign</td>\n",
              "    </tr>\n",
              "    <tr>\n",
              "      <th>8392399</th>\n",
              "      <td>172.31.69.7</td>\n",
              "      <td>56407</td>\n",
              "      <td>172.31.0.2</td>\n",
              "      <td>53</td>\n",
              "      <td>17</td>\n",
              "      <td>0.000</td>\n",
              "      <td>72</td>\n",
              "      <td>0</td>\n",
              "      <td>1</td>\n",
              "      <td>0</td>\n",
              "      <td>0</td>\n",
              "      <td>0</td>\n",
              "      <td>0</td>\n",
              "      <td>Benign</td>\n",
              "    </tr>\n",
              "  </tbody>\n",
              "</table>\n",
              "<p>8392398 rows × 14 columns</p>\n",
              "</div>\n",
              "      <button class=\"colab-df-convert\" onclick=\"convertToInteractive('df-55390a1a-f4c8-4764-b557-0122d9849a24')\"\n",
              "              title=\"Convert this dataframe to an interactive table.\"\n",
              "              style=\"display:none;\">\n",
              "        \n",
              "  <svg xmlns=\"http://www.w3.org/2000/svg\" height=\"24px\"viewBox=\"0 0 24 24\"\n",
              "       width=\"24px\">\n",
              "    <path d=\"M0 0h24v24H0V0z\" fill=\"none\"/>\n",
              "    <path d=\"M18.56 5.44l.94 2.06.94-2.06 2.06-.94-2.06-.94-.94-2.06-.94 2.06-2.06.94zm-11 1L8.5 8.5l.94-2.06 2.06-.94-2.06-.94L8.5 2.5l-.94 2.06-2.06.94zm10 10l.94 2.06.94-2.06 2.06-.94-2.06-.94-.94-2.06-.94 2.06-2.06.94z\"/><path d=\"M17.41 7.96l-1.37-1.37c-.4-.4-.92-.59-1.43-.59-.52 0-1.04.2-1.43.59L10.3 9.45l-7.72 7.72c-.78.78-.78 2.05 0 2.83L4 21.41c.39.39.9.59 1.41.59.51 0 1.02-.2 1.41-.59l7.78-7.78 2.81-2.81c.8-.78.8-2.07 0-2.86zM5.41 20L4 18.59l7.72-7.72 1.47 1.35L5.41 20z\"/>\n",
              "  </svg>\n",
              "      </button>\n",
              "      \n",
              "  <style>\n",
              "    .colab-df-container {\n",
              "      display:flex;\n",
              "      flex-wrap:wrap;\n",
              "      gap: 12px;\n",
              "    }\n",
              "\n",
              "    .colab-df-convert {\n",
              "      background-color: #E8F0FE;\n",
              "      border: none;\n",
              "      border-radius: 50%;\n",
              "      cursor: pointer;\n",
              "      display: none;\n",
              "      fill: #1967D2;\n",
              "      height: 32px;\n",
              "      padding: 0 0 0 0;\n",
              "      width: 32px;\n",
              "    }\n",
              "\n",
              "    .colab-df-convert:hover {\n",
              "      background-color: #E2EBFA;\n",
              "      box-shadow: 0px 1px 2px rgba(60, 64, 67, 0.3), 0px 1px 3px 1px rgba(60, 64, 67, 0.15);\n",
              "      fill: #174EA6;\n",
              "    }\n",
              "\n",
              "    [theme=dark] .colab-df-convert {\n",
              "      background-color: #3B4455;\n",
              "      fill: #D2E3FC;\n",
              "    }\n",
              "\n",
              "    [theme=dark] .colab-df-convert:hover {\n",
              "      background-color: #434B5C;\n",
              "      box-shadow: 0px 1px 3px 1px rgba(0, 0, 0, 0.15);\n",
              "      filter: drop-shadow(0px 1px 2px rgba(0, 0, 0, 0.3));\n",
              "      fill: #FFFFFF;\n",
              "    }\n",
              "  </style>\n",
              "\n",
              "      <script>\n",
              "        const buttonEl =\n",
              "          document.querySelector('#df-55390a1a-f4c8-4764-b557-0122d9849a24 button.colab-df-convert');\n",
              "        buttonEl.style.display =\n",
              "          google.colab.kernel.accessAllowed ? 'block' : 'none';\n",
              "\n",
              "        async function convertToInteractive(key) {\n",
              "          const element = document.querySelector('#df-55390a1a-f4c8-4764-b557-0122d9849a24');\n",
              "          const dataTable =\n",
              "            await google.colab.kernel.invokeFunction('convertToInteractive',\n",
              "                                                     [key], {});\n",
              "          if (!dataTable) return;\n",
              "\n",
              "          const docLinkHtml = 'Like what you see? Visit the ' +\n",
              "            '<a target=\"_blank\" href=https://colab.research.google.com/notebooks/data_table.ipynb>data table notebook</a>'\n",
              "            + ' to learn more about interactive tables.';\n",
              "          element.innerHTML = '';\n",
              "          dataTable['output_type'] = 'display_data';\n",
              "          await google.colab.output.renderOutput(dataTable, element);\n",
              "          const docLink = document.createElement('div');\n",
              "          docLink.innerHTML = docLinkHtml;\n",
              "          element.appendChild(docLink);\n",
              "        }\n",
              "      </script>\n",
              "    </div>\n",
              "  </div>\n",
              "  "
            ]
          },
          "metadata": {},
          "execution_count": 6
        }
      ],
      "source": [
        "df.drop(df.index[1844166],axis=0,inplace=True)\n",
        "df.drop(df.index[7795208],axis=0,inplace=True)\n",
        "df"
      ]
    },
    {
      "cell_type": "code",
      "execution_count": null,
      "metadata": {
        "colab": {
          "base_uri": "https://localhost:8080/"
        },
        "id": "j4YVziyWsXIt",
        "outputId": "0157fb8d-564b-4daf-babe-d74aa09de4a5"
      },
      "outputs": [
        {
          "output_type": "execute_result",
          "data": {
            "text/plain": [
              "Index(['IPV4_SRC_ADDR', 'L4_SRC_PORT', 'IPV4_DST_ADDR', 'L4_DST_PORT',\n",
              "       'PROTOCOL', 'L7_PROTO', 'IN_BYTES', 'OUT_BYTES', 'IN_PKTS', 'OUT_PKTS',\n",
              "       'TCP_FLAGS', 'FLOW_DURATION_MILLISECONDS', 'Label', 'Attack'],\n",
              "      dtype='object')"
            ]
          },
          "metadata": {},
          "execution_count": 7
        }
      ],
      "source": [
        "df.columns"
      ]
    },
    {
      "cell_type": "code",
      "execution_count": null,
      "metadata": {
        "colab": {
          "base_uri": "https://localhost:8080/"
        },
        "id": "CaHk8qM_sYcN",
        "outputId": "b83a0163-b56e-496a-f0bc-2f4c37256f72"
      },
      "outputs": [
        {
          "output_type": "execute_result",
          "data": {
            "text/plain": [
              "IPV4_SRC_ADDR                  object\n",
              "L4_SRC_PORT                     int64\n",
              "IPV4_DST_ADDR                  object\n",
              "L4_DST_PORT                     int64\n",
              "PROTOCOL                        int64\n",
              "L7_PROTO                      float64\n",
              "IN_BYTES                        int64\n",
              "OUT_BYTES                       int64\n",
              "IN_PKTS                         int64\n",
              "OUT_PKTS                        int64\n",
              "TCP_FLAGS                       int64\n",
              "FLOW_DURATION_MILLISECONDS      int64\n",
              "Label                           int64\n",
              "Attack                         object\n",
              "dtype: object"
            ]
          },
          "metadata": {},
          "execution_count": 8
        }
      ],
      "source": [
        "df.dtypes"
      ]
    },
    {
      "cell_type": "code",
      "execution_count": null,
      "metadata": {
        "colab": {
          "base_uri": "https://localhost:8080/"
        },
        "id": "0PaBxB0CsZ1e",
        "outputId": "a98f11ee-ef33-4797-eab6-49caaedb3d25"
      },
      "outputs": [
        {
          "output_type": "execute_result",
          "data": {
            "text/plain": [
              "Benign                      7373195\n",
              "DDoS attacks-LOIC-HTTP       378199\n",
              "FTP-BruteForce               193360\n",
              "DoS attacks-Hulk             108136\n",
              "DoS attacks-SlowHTTPTest     105550\n",
              "SSH-Bruteforce                94237\n",
              "Infilteration                 62072\n",
              "DoS attacks-GoldenEye         32850\n",
              "DoS attacks-Slowloris         22825\n",
              "Bot                           15683\n",
              "Brute Force -Web               2613\n",
              "Brute Force -XSS               1745\n",
              "DDOS attack-LOIC-UDP           1667\n",
              "DDOS attack-HOIC                230\n",
              "SQL Injection                    36\n",
              "Name: Attack, dtype: int64"
            ]
          },
          "metadata": {},
          "execution_count": 9
        }
      ],
      "source": [
        "df.Attack.value_counts()"
      ]
    },
    {
      "cell_type": "code",
      "execution_count": null,
      "metadata": {
        "colab": {
          "base_uri": "https://localhost:8080/"
        },
        "id": "SQN7UJW_qR9A",
        "outputId": "ff9194b3-75f1-4bc1-b095-1b33b70410c1"
      },
      "outputs": [
        {
          "output_type": "execute_result",
          "data": {
            "text/plain": [
              "Normal    7373195\n",
              "Dos        649457\n",
              "Probe      290210\n",
              "R2L         77755\n",
              "U2R          1781\n",
              "Name: Attack, dtype: int64"
            ]
          },
          "metadata": {},
          "execution_count": 10
        }
      ],
      "source": [
        "def change_label(df):\n",
        "  df.Attack.replace(['DDoS attacks-LOIC-HTTP', 'DoS attacks-Hulk', 'DoS attacks-SlowHTTPTest', 'DoS attacks-GoldenEye', \n",
        "                    'DoS attacks-Slowloris', 'DDOS attack-LOIC-UDP', 'DDOS attack-HOIC'],'Dos',inplace=True)\n",
        "  df.Attack.replace(['FTP-BruteForce', 'SSH-Bruteforce', 'Brute Force -Web'],'Probe',inplace=True)\n",
        "  df.Attack.replace(['SQL Injection', 'Brute Force -XSS'],'U2R',inplace=True)\n",
        "  df.Attack.replace(['Benign'],'Normal',inplace=True)\n",
        "  df.Attack.replace(['Bot', 'Infilteration'],'R2L',inplace=True)\n",
        "change_label(df)\n",
        "df.Attack.value_counts()"
      ]
    },
    {
      "cell_type": "code",
      "source": [
        "# df.drop(df.loc[df['Attack']=='Normal'].index[:6900000], axis=0, inplace=True)\n",
        "# df.drop(df.loc[df['Attack']=='Dos'].index[:520000], axis=0, inplace=True)\n",
        "# df.drop(df.loc[df['Attack']=='Probe'].index[:100000], axis=0, inplace=True)\n",
        "# df.drop(df.loc[df['Attack']=='R2L'].index[:30000], axis=0, inplace=True)"
      ],
      "metadata": {
        "id": "oRnVFSmrNfBS"
      },
      "execution_count": null,
      "outputs": []
    },
    {
      "cell_type": "markdown",
      "source": [],
      "metadata": {
        "id": "h_0V3sx8NhSD"
      }
    },
    {
      "cell_type": "code",
      "source": [
        "df.Attack.value_counts()"
      ],
      "metadata": {
        "colab": {
          "base_uri": "https://localhost:8080/"
        },
        "id": "avVYlSNHNgOR",
        "outputId": "359c2830-2f27-45c1-adb4-89dd4737cabe"
      },
      "execution_count": null,
      "outputs": [
        {
          "output_type": "execute_result",
          "data": {
            "text/plain": [
              "Normal    7373195\n",
              "Dos        649457\n",
              "Probe      290210\n",
              "R2L         77755\n",
              "U2R          1781\n",
              "Name: Attack, dtype: int64"
            ]
          },
          "metadata": {},
          "execution_count": 12
        }
      ]
    },
    {
      "cell_type": "code",
      "execution_count": null,
      "metadata": {
        "colab": {
          "base_uri": "https://localhost:8080/"
        },
        "id": "zSAgWctPqTI3",
        "outputId": "13fc1818-e7fd-43f7-8c43-b0a39ab7535b"
      },
      "outputs": [
        {
          "output_type": "stream",
          "name": "stdout",
          "text": [
            "\n",
            "8392398 rows\n",
            "** IPV4_SRC_ADDR:75404 (0%)\n",
            "** L4_SRC_PORT:65010 (0%)\n",
            "** IPV4_DST_ADDR:26301 (0%)\n",
            "** L4_DST_PORT:65092 (0%)\n",
            "** PROTOCOL:[6:73.54%, 17:25.86%, 1:0.46%, 2:0.07%, 58:0.07%, 47:0.0%, 0:0.0%]\n",
            "** L7_PROTO:237 (0%)\n",
            "** IN_BYTES:34677 (0%)\n",
            "** OUT_BYTES:66601 (0%)\n",
            "** IN_PKTS:4659 (0%)\n",
            "** OUT_PKTS:2839 (0%)\n",
            "** TCP_FLAGS:[0:26.46%, 27:11.14%, 20:10.11%, 222:9.33%, 219:8.97%, 2:6.95%, 24:6.58%, 30:5.69%, 218:3.2%, 223:1.97%, 25:1.76%, 23:1.63%, 31:1.31%, 26:1.17%, 17:0.87%, 29:0.62%, 22:0.38%, 211:0.35%, 214:0.31%, 18:0.27%, 28:0.24%, 16:0.19%, 194:0.14%, 19:0.08%, 6:0.08%, 4:0.07%, 21:0.03%, 215:0.02%, 210:0.02%, 90:0.02%, 91:0.01%, 148:0.0%, 157:0.0%, 10:0.0%, 152:0.0%, 83:0.0%, 41:0.0%, 208:0.0%, 94:0.0%, 156:0.0%, 43:0.0%, 82:0.0%, 149:0.0%, 86:0.0%, 61:0.0%, 153:0.0%, 198:0.0%, 158:0.0%]\n",
            "** FLOW_DURATION_MILLISECONDS:80199 (0%)\n",
            "** Label:[0:87.86%, 1:12.14%]\n",
            "** Attack:[Normal:87.86%, Dos:7.74%, Probe:3.46%, R2L:0.93%, U2R:0.02%]\n"
          ]
        }
      ],
      "source": [
        "import pandas as pd\n",
        "import os\n",
        "import numpy as np\n",
        "from sklearn import metrics\n",
        "from scipy.stats import zscore\n",
        "\n",
        "def expand_categories(values):\n",
        "    result = []\n",
        "    s = values.value_counts()\n",
        "    t = float(len(values))\n",
        "    for v in s.index:\n",
        "        result.append(\"{}:{}%\".format(v,round(100*(s[v]/t),2)))\n",
        "    return \"[{}]\".format(\", \".join(result))\n",
        "        \n",
        "def analyze(df):\n",
        "    print()\n",
        "    cols = df.columns.values\n",
        "    total = float(len(df))\n",
        "\n",
        "    print(\"{} rows\".format(int(total)))\n",
        "    for col in cols:\n",
        "        uniques = df[col].unique()\n",
        "        unique_count = len(uniques)\n",
        "        if unique_count>100:\n",
        "            print(\"** {}:{} ({}%)\".format(col,unique_count,\\\n",
        "                int(((unique_count)/total)*100)))\n",
        "        else:\n",
        "            print(\"** {}:{}\".format(col,expand_categories(df[col])))\n",
        "            expand_categories(df[col])\n",
        "analyze(df)"
      ]
    },
    {
      "cell_type": "code",
      "execution_count": null,
      "metadata": {
        "colab": {
          "base_uri": "https://localhost:8080/",
          "height": 482
        },
        "id": "_geEmb5rsgcE",
        "outputId": "33ea12ab-162a-4641-e89f-4cd7e112704f"
      },
      "outputs": [
        {
          "output_type": "display_data",
          "data": {
            "text/plain": [
              "<Figure size 576x576 with 1 Axes>"
            ],
            "image/png": "[encoded data removed]"
          },
          "metadata": {}
        }
      ],
      "source": [
        "plt.figure(figsize=(8,8))\n",
        "plt.pie(df.Attack.value_counts(),labels=['Normal', 'Dos', 'Probe', 'R2L', 'U2R'],autopct='%0.2f%%')\n",
        "plt.title('Pie chart distribution of multi-class labels')\n",
        "plt.legend()\n",
        "plt.show()"
      ]
    },
    {
      "cell_type": "code",
      "execution_count": null,
      "metadata": {
        "colab": {
          "base_uri": "https://localhost:8080/",
          "height": 206
        },
        "id": "uwuLIz_X5UXr",
        "outputId": "7af92dd0-df2f-4d2c-996a-4e4c5041575d"
      },
      "outputs": [
        {
          "output_type": "execute_result",
          "data": {
            "text/plain": [
              "  IPV4_SRC_ADDR  L4_SRC_PORT IPV4_DST_ADDR  L4_DST_PORT  PROTOCOL  L7_PROTO  \\\n",
              "0    2887729681        51128     388253117          443         6    91.000   \n",
              "1     583220146          443    2887729681        51036         6    91.178   \n",
              "2    1893182420        12262    2887729681          445         6     0.000   \n",
              "3    2887729681        61023    2887712770           53        17     0.000   \n",
              "4     583823528          443    2887729681        51037         6    91.178   \n",
              "\n",
              "   IN_BYTES  OUT_BYTES  IN_PKTS  OUT_PKTS  TCP_FLAGS  \\\n",
              "0       152          0        3         0        194   \n",
              "1       994        979        7         7         24   \n",
              "2       585        344        5         4         30   \n",
              "3       136        168        2         2          0   \n",
              "4        72         40        1         1         24   \n",
              "\n",
              "   FLOW_DURATION_MILLISECONDS  Label  Attack  \n",
              "0                     4285680      0  Normal  \n",
              "1                     4234714      0  Normal  \n",
              "2                     4294106      0  Normal  \n",
              "3                     4293985      0  Normal  \n",
              "4                     4294845      0  Normal  "
            ],
            "text/html": [
              "\n",
              "  <div id=\"df-ea090f8c-1489-42b4-a41b-ef86b450390e\">\n",
              "    <div class=\"colab-df-container\">\n",
              "      <div>\n",
              "<style scoped>\n",
              "    .dataframe tbody tr th:only-of-type {\n",
              "        vertical-align: middle;\n",
              "    }\n",
              "\n",
              "    .dataframe tbody tr th {\n",
              "        vertical-align: top;\n",
              "    }\n",
              "\n",
              "    .dataframe thead th {\n",
              "        text-align: right;\n",
              "    }\n",
              "</style>\n",
              "<table border=\"1\" class=\"dataframe\">\n",
              "  <thead>\n",
              "    <tr style=\"text-align: right;\">\n",
              "      <th></th>\n",
              "      <th>IPV4_SRC_ADDR</th>\n",
              "      <th>L4_SRC_PORT</th>\n",
              "      <th>IPV4_DST_ADDR</th>\n",
              "      <th>L4_DST_PORT</th>\n",
              "      <th>PROTOCOL</th>\n",
              "      <th>L7_PROTO</th>\n",
              "      <th>IN_BYTES</th>\n",
              "      <th>OUT_BYTES</th>\n",
              "      <th>IN_PKTS</th>\n",
              "      <th>OUT_PKTS</th>\n",
              "      <th>TCP_FLAGS</th>\n",
              "      <th>FLOW_DURATION_MILLISECONDS</th>\n",
              "      <th>Label</th>\n",
              "      <th>Attack</th>\n",
              "    </tr>\n",
              "  </thead>\n",
              "  <tbody>\n",
              "    <tr>\n",
              "      <th>0</th>\n",
              "      <td>2887729681</td>\n",
              "      <td>51128</td>\n",
              "      <td>388253117</td>\n",
              "      <td>443</td>\n",
              "      <td>6</td>\n",
              "      <td>91.000</td>\n",
              "      <td>152</td>\n",
              "      <td>0</td>\n",
              "      <td>3</td>\n",
              "      <td>0</td>\n",
              "      <td>194</td>\n",
              "      <td>4285680</td>\n",
              "      <td>0</td>\n",
              "      <td>Normal</td>\n",
              "    </tr>\n",
              "    <tr>\n",
              "      <th>1</th>\n",
              "      <td>583220146</td>\n",
              "      <td>443</td>\n",
              "      <td>2887729681</td>\n",
              "      <td>51036</td>\n",
              "      <td>6</td>\n",
              "      <td>91.178</td>\n",
              "      <td>994</td>\n",
              "      <td>979</td>\n",
              "      <td>7</td>\n",
              "      <td>7</td>\n",
              "      <td>24</td>\n",
              "      <td>4234714</td>\n",
              "      <td>0</td>\n",
              "      <td>Normal</td>\n",
              "    </tr>\n",
              "    <tr>\n",
              "      <th>2</th>\n",
              "      <td>1893182420</td>\n",
              "      <td>12262</td>\n",
              "      <td>2887729681</td>\n",
              "      <td>445</td>\n",
              "      <td>6</td>\n",
              "      <td>0.000</td>\n",
              "      <td>585</td>\n",
              "      <td>344</td>\n",
              "      <td>5</td>\n",
              "      <td>4</td>\n",
              "      <td>30</td>\n",
              "      <td>4294106</td>\n",
              "      <td>0</td>\n",
              "      <td>Normal</td>\n",
              "    </tr>\n",
              "    <tr>\n",
              "      <th>3</th>\n",
              "      <td>2887729681</td>\n",
              "      <td>61023</td>\n",
              "      <td>2887712770</td>\n",
              "      <td>53</td>\n",
              "      <td>17</td>\n",
              "      <td>0.000</td>\n",
              "      <td>136</td>\n",
              "      <td>168</td>\n",
              "      <td>2</td>\n",
              "      <td>2</td>\n",
              "      <td>0</td>\n",
              "      <td>4293985</td>\n",
              "      <td>0</td>\n",
              "      <td>Normal</td>\n",
              "    </tr>\n",
              "    <tr>\n",
              "      <th>4</th>\n",
              "      <td>583823528</td>\n",
              "      <td>443</td>\n",
              "      <td>2887729681</td>\n",
              "      <td>51037</td>\n",
              "      <td>6</td>\n",
              "      <td>91.178</td>\n",
              "      <td>72</td>\n",
              "      <td>40</td>\n",
              "      <td>1</td>\n",
              "      <td>1</td>\n",
              "      <td>24</td>\n",
              "      <td>4294845</td>\n",
              "      <td>0</td>\n",
              "      <td>Normal</td>\n",
              "    </tr>\n",
              "  </tbody>\n",
              "</table>\n",
              "</div>\n",
              "      <button class=\"colab-df-convert\" onclick=\"convertToInteractive('df-ea090f8c-1489-42b4-a41b-ef86b450390e')\"\n",
              "              title=\"Convert this dataframe to an interactive table.\"\n",
              "              style=\"display:none;\">\n",
              "        \n",
              "  <svg xmlns=\"http://www.w3.org/2000/svg\" height=\"24px\"viewBox=\"0 0 24 24\"\n",
              "       width=\"24px\">\n",
              "    <path d=\"M0 0h24v24H0V0z\" fill=\"none\"/>\n",
              "    <path d=\"M18.56 5.44l.94 2.06.94-2.06 2.06-.94-2.06-.94-.94-2.06-.94 2.06-2.06.94zm-11 1L8.5 8.5l.94-2.06 2.06-.94-2.06-.94L8.5 2.5l-.94 2.06-2.06.94zm10 10l.94 2.06.94-2.06 2.06-.94-2.06-.94-.94-2.06-.94 2.06-2.06.94z\"/><path d=\"M17.41 7.96l-1.37-1.37c-.4-.4-.92-.59-1.43-.59-.52 0-1.04.2-1.43.59L10.3 9.45l-7.72 7.72c-.78.78-.78 2.05 0 2.83L4 21.41c.39.39.9.59 1.41.59.51 0 1.02-.2 1.41-.59l7.78-7.78 2.81-2.81c.8-.78.8-2.07 0-2.86zM5.41 20L4 18.59l7.72-7.72 1.47 1.35L5.41 20z\"/>\n",
              "  </svg>\n",
              "      </button>\n",
              "      \n",
              "  <style>\n",
              "    .colab-df-container {\n",
              "      display:flex;\n",
              "      flex-wrap:wrap;\n",
              "      gap: 12px;\n",
              "    }\n",
              "\n",
              "    .colab-df-convert {\n",
              "      background-color: #E8F0FE;\n",
              "      border: none;\n",
              "      border-radius: 50%;\n",
              "      cursor: pointer;\n",
              "      display: none;\n",
              "      fill: #1967D2;\n",
              "      height: 32px;\n",
              "      padding: 0 0 0 0;\n",
              "      width: 32px;\n",
              "    }\n",
              "\n",
              "    .colab-df-convert:hover {\n",
              "      background-color: #E2EBFA;\n",
              "      box-shadow: 0px 1px 2px rgba(60, 64, 67, 0.3), 0px 1px 3px 1px rgba(60, 64, 67, 0.15);\n",
              "      fill: #174EA6;\n",
              "    }\n",
              "\n",
              "    [theme=dark] .colab-df-convert {\n",
              "      background-color: #3B4455;\n",
              "      fill: #D2E3FC;\n",
              "    }\n",
              "\n",
              "    [theme=dark] .colab-df-convert:hover {\n",
              "      background-color: #434B5C;\n",
              "      box-shadow: 0px 1px 3px 1px rgba(0, 0, 0, 0.15);\n",
              "      filter: drop-shadow(0px 1px 2px rgba(0, 0, 0, 0.3));\n",
              "      fill: #FFFFFF;\n",
              "    }\n",
              "  </style>\n",
              "\n",
              "      <script>\n",
              "        const buttonEl =\n",
              "          document.querySelector('#df-ea090f8c-1489-42b4-a41b-ef86b450390e button.colab-df-convert');\n",
              "        buttonEl.style.display =\n",
              "          google.colab.kernel.accessAllowed ? 'block' : 'none';\n",
              "\n",
              "        async function convertToInteractive(key) {\n",
              "          const element = document.querySelector('#df-ea090f8c-1489-42b4-a41b-ef86b450390e');\n",
              "          const dataTable =\n",
              "            await google.colab.kernel.invokeFunction('convertToInteractive',\n",
              "                                                     [key], {});\n",
              "          if (!dataTable) return;\n",
              "\n",
              "          const docLinkHtml = 'Like what you see? Visit the ' +\n",
              "            '<a target=\"_blank\" href=https://colab.research.google.com/notebooks/data_table.ipynb>data table notebook</a>'\n",
              "            + ' to learn more about interactive tables.';\n",
              "          element.innerHTML = '';\n",
              "          dataTable['output_type'] = 'display_data';\n",
              "          await google.colab.output.renderOutput(dataTable, element);\n",
              "          const docLink = document.createElement('div');\n",
              "          docLink.innerHTML = docLinkHtml;\n",
              "          element.appendChild(docLink);\n",
              "        }\n",
              "      </script>\n",
              "    </div>\n",
              "  </div>\n",
              "  "
            ]
          },
          "metadata": {},
          "execution_count": 15
        }
      ],
      "source": [
        "def IP_deal(df, len):\n",
        "    arr1 = df.IPV4_SRC_ADDR; arr2 = df.IPV4_DST_ADDR\n",
        "    arr1 = np.array(arr1)\n",
        "    arr2 = np.array(arr2)\n",
        "    for i in range(len):\n",
        "      try:\n",
        "        arr1[i] = int(ipaddress.IPv4Address(arr1[i]))\n",
        "        arr2[i] = int(ipaddress.IPv4Address(arr2[i]))\n",
        "      except:\n",
        "        print(arr1[i], i)\n",
        "        print(arr2[i], i)\n",
        "    df.IPV4_SRC_ADDR = arr1.reshape(len,1)\n",
        "    df.IPV4_DST_ADDR = arr2.reshape(len,1)\n",
        "    return df\n",
        "\n",
        "df = IP_deal(df, df.shape[0])\n",
        "df.head()"
      ]
    },
    {
      "cell_type": "code",
      "execution_count": null,
      "metadata": {
        "colab": {
          "base_uri": "https://localhost:8080/"
        },
        "id": "vwBIfWQTszos",
        "outputId": "ca03ac7e-5729-42a5-f228-43f68866e442"
      },
      "outputs": [
        {
          "output_type": "execute_result",
          "data": {
            "text/plain": [
              "Index(['L4_SRC_PORT', 'L4_DST_PORT', 'PROTOCOL', 'L7_PROTO', 'IN_BYTES',\n",
              "       'OUT_BYTES', 'IN_PKTS', 'OUT_PKTS', 'TCP_FLAGS',\n",
              "       'FLOW_DURATION_MILLISECONDS', 'Label'],\n",
              "      dtype='object')"
            ]
          },
          "metadata": {},
          "execution_count": 16
        }
      ],
      "source": [
        "numeric_col = df.select_dtypes(include='number').columns\n",
        "numeric_col"
      ]
    },
    {
      "cell_type": "code",
      "execution_count": null,
      "metadata": {
        "colab": {
          "base_uri": "https://localhost:8080/"
        },
        "id": "bM8VQX8qs2-b",
        "outputId": "93a4da56-70a4-4dae-dc23-00791ca54f70"
      },
      "outputs": [
        {
          "output_type": "execute_result",
          "data": {
            "text/plain": [
              "IPV4_SRC_ADDR                  object\n",
              "L4_SRC_PORT                     int64\n",
              "IPV4_DST_ADDR                  object\n",
              "L4_DST_PORT                     int64\n",
              "PROTOCOL                        int64\n",
              "L7_PROTO                      float64\n",
              "IN_BYTES                        int64\n",
              "OUT_BYTES                       int64\n",
              "IN_PKTS                         int64\n",
              "OUT_PKTS                        int64\n",
              "TCP_FLAGS                       int64\n",
              "FLOW_DURATION_MILLISECONDS      int64\n",
              "Label                           int64\n",
              "Attack                         object\n",
              "dtype: object"
            ]
          },
          "metadata": {},
          "execution_count": 17
        }
      ],
      "source": [
        "df.dtypes"
      ]
    },
    {
      "cell_type": "code",
      "execution_count": null,
      "metadata": {
        "colab": {
          "base_uri": "https://localhost:8080/"
        },
        "id": "nZx4bETns4Oz",
        "outputId": "80c98247-11cb-4642-c97c-9e578dcd0e0e"
      },
      "outputs": [
        {
          "output_type": "execute_result",
          "data": {
            "text/plain": [
              "IPV4_SRC_ADDR                   int64\n",
              "L4_SRC_PORT                     int64\n",
              "IPV4_DST_ADDR                   int64\n",
              "L4_DST_PORT                     int64\n",
              "PROTOCOL                        int64\n",
              "L7_PROTO                      float64\n",
              "IN_BYTES                        int64\n",
              "OUT_BYTES                       int64\n",
              "IN_PKTS                         int64\n",
              "OUT_PKTS                        int64\n",
              "TCP_FLAGS                       int64\n",
              "FLOW_DURATION_MILLISECONDS      int64\n",
              "Label                           int64\n",
              "Attack                         object\n",
              "dtype: object"
            ]
          },
          "metadata": {},
          "execution_count": 18
        }
      ],
      "source": [
        "df.IPV4_SRC_ADDR = pd.to_numeric(df.IPV4_SRC_ADDR)\n",
        "df.IPV4_DST_ADDR = pd.to_numeric(df.IPV4_DST_ADDR)\n",
        "df.dtypes"
      ]
    },
    {
      "cell_type": "code",
      "execution_count": null,
      "metadata": {
        "colab": {
          "base_uri": "https://localhost:8080/",
          "height": 206
        },
        "id": "06XOhtXus5vK",
        "outputId": "9aa39b6d-7c1f-4ccd-b01c-84718b45baaf"
      },
      "outputs": [
        {
          "output_type": "execute_result",
          "data": {
            "text/plain": [
              "   IPV4_SRC_ADDR  L4_SRC_PORT  IPV4_DST_ADDR  L4_DST_PORT  PROTOCOL  L7_PROTO  \\\n",
              "0       0.451583     0.390872      -1.984851    -0.453166 -0.570070  2.018234   \n",
              "1      -1.777374    -1.911674       0.445502     2.425901 -0.570070  2.023228   \n",
              "2      -0.510359    -1.374754       0.445502    -0.453052 -0.570070 -0.534687   \n",
              "3       0.451583     0.840387       0.445486    -0.475359  1.627921 -0.534687   \n",
              "4      -1.776791    -1.911674       0.445502     2.425958 -0.570070  2.023228   \n",
              "\n",
              "   IN_BYTES  OUT_BYTES   IN_PKTS  OUT_PKTS  TCP_FLAGS  \\\n",
              "0 -0.027630  -0.016851 -0.018695 -0.033282   1.458887   \n",
              "1 -0.021185  -0.013056 -0.016641  0.006210  -0.450245   \n",
              "2 -0.024316  -0.015518 -0.017668 -0.010715  -0.382864   \n",
              "3 -0.027753  -0.016200 -0.019208 -0.021998  -0.719770   \n",
              "4 -0.028243  -0.016696 -0.019721 -0.027640  -0.450245   \n",
              "\n",
              "   FLOW_DURATION_MILLISECONDS     Label  Attack  \n",
              "0                    0.715855 -0.371794  Normal  \n",
              "1                    0.690751 -0.371794  Normal  \n",
              "2                    0.720005 -0.371794  Normal  \n",
              "3                    0.719945 -0.371794  Normal  \n",
              "4                    0.720369 -0.371794  Normal  "
            ],
            "text/html": [
              "\n",
              "  <div id=\"df-c3a97ef5-6b12-4831-9555-ac3c8e6cf9d0\">\n",
              "    <div class=\"colab-df-container\">\n",
              "      <div>\n",
              "<style scoped>\n",
              "    .dataframe tbody tr th:only-of-type {\n",
              "        vertical-align: middle;\n",
              "    }\n",
              "\n",
              "    .dataframe tbody tr th {\n",
              "        vertical-align: top;\n",
              "    }\n",
              "\n",
              "    .dataframe thead th {\n",
              "        text-align: right;\n",
              "    }\n",
              "</style>\n",
              "<table border=\"1\" class=\"dataframe\">\n",
              "  <thead>\n",
              "    <tr style=\"text-align: right;\">\n",
              "      <th></th>\n",
              "      <th>IPV4_SRC_ADDR</th>\n",
              "      <th>L4_SRC_PORT</th>\n",
              "      <th>IPV4_DST_ADDR</th>\n",
              "      <th>L4_DST_PORT</th>\n",
              "      <th>PROTOCOL</th>\n",
              "      <th>L7_PROTO</th>\n",
              "      <th>IN_BYTES</th>\n",
              "      <th>OUT_BYTES</th>\n",
              "      <th>IN_PKTS</th>\n",
              "      <th>OUT_PKTS</th>\n",
              "      <th>TCP_FLAGS</th>\n",
              "      <th>FLOW_DURATION_MILLISECONDS</th>\n",
              "      <th>Label</th>\n",
              "      <th>Attack</th>\n",
              "    </tr>\n",
              "  </thead>\n",
              "  <tbody>\n",
              "    <tr>\n",
              "      <th>0</th>\n",
              "      <td>0.451583</td>\n",
              "      <td>0.390872</td>\n",
              "      <td>-1.984851</td>\n",
              "      <td>-0.453166</td>\n",
              "      <td>-0.570070</td>\n",
              "      <td>2.018234</td>\n",
              "      <td>-0.027630</td>\n",
              "      <td>-0.016851</td>\n",
              "      <td>-0.018695</td>\n",
              "      <td>-0.033282</td>\n",
              "      <td>1.458887</td>\n",
              "      <td>0.715855</td>\n",
              "      <td>-0.371794</td>\n",
              "      <td>Normal</td>\n",
              "    </tr>\n",
              "    <tr>\n",
              "      <th>1</th>\n",
              "      <td>-1.777374</td>\n",
              "      <td>-1.911674</td>\n",
              "      <td>0.445502</td>\n",
              "      <td>2.425901</td>\n",
              "      <td>-0.570070</td>\n",
              "      <td>2.023228</td>\n",
              "      <td>-0.021185</td>\n",
              "      <td>-0.013056</td>\n",
              "      <td>-0.016641</td>\n",
              "      <td>0.006210</td>\n",
              "      <td>-0.450245</td>\n",
              "      <td>0.690751</td>\n",
              "      <td>-0.371794</td>\n",
              "      <td>Normal</td>\n",
              "    </tr>\n",
              "    <tr>\n",
              "      <th>2</th>\n",
              "      <td>-0.510359</td>\n",
              "      <td>-1.374754</td>\n",
              "      <td>0.445502</td>\n",
              "      <td>-0.453052</td>\n",
              "      <td>-0.570070</td>\n",
              "      <td>-0.534687</td>\n",
              "      <td>-0.024316</td>\n",
              "      <td>-0.015518</td>\n",
              "      <td>-0.017668</td>\n",
              "      <td>-0.010715</td>\n",
              "      <td>-0.382864</td>\n",
              "      <td>0.720005</td>\n",
              "      <td>-0.371794</td>\n",
              "      <td>Normal</td>\n",
              "    </tr>\n",
              "    <tr>\n",
              "      <th>3</th>\n",
              "      <td>0.451583</td>\n",
              "      <td>0.840387</td>\n",
              "      <td>0.445486</td>\n",
              "      <td>-0.475359</td>\n",
              "      <td>1.627921</td>\n",
              "      <td>-0.534687</td>\n",
              "      <td>-0.027753</td>\n",
              "      <td>-0.016200</td>\n",
              "      <td>-0.019208</td>\n",
              "      <td>-0.021998</td>\n",
              "      <td>-0.719770</td>\n",
              "      <td>0.719945</td>\n",
              "      <td>-0.371794</td>\n",
              "      <td>Normal</td>\n",
              "    </tr>\n",
              "    <tr>\n",
              "      <th>4</th>\n",
              "      <td>-1.776791</td>\n",
              "      <td>-1.911674</td>\n",
              "      <td>0.445502</td>\n",
              "      <td>2.425958</td>\n",
              "      <td>-0.570070</td>\n",
              "      <td>2.023228</td>\n",
              "      <td>-0.028243</td>\n",
              "      <td>-0.016696</td>\n",
              "      <td>-0.019721</td>\n",
              "      <td>-0.027640</td>\n",
              "      <td>-0.450245</td>\n",
              "      <td>0.720369</td>\n",
              "      <td>-0.371794</td>\n",
              "      <td>Normal</td>\n",
              "    </tr>\n",
              "  </tbody>\n",
              "</table>\n",
              "</div>\n",
              "      <button class=\"colab-df-convert\" onclick=\"convertToInteractive('df-c3a97ef5-6b12-4831-9555-ac3c8e6cf9d0')\"\n",
              "              title=\"Convert this dataframe to an interactive table.\"\n",
              "              style=\"display:none;\">\n",
              "        \n",
              "  <svg xmlns=\"http://www.w3.org/2000/svg\" height=\"24px\"viewBox=\"0 0 24 24\"\n",
              "       width=\"24px\">\n",
              "    <path d=\"M0 0h24v24H0V0z\" fill=\"none\"/>\n",
              "    <path d=\"M18.56 5.44l.94 2.06.94-2.06 2.06-.94-2.06-.94-.94-2.06-.94 2.06-2.06.94zm-11 1L8.5 8.5l.94-2.06 2.06-.94-2.06-.94L8.5 2.5l-.94 2.06-2.06.94zm10 10l.94 2.06.94-2.06 2.06-.94-2.06-.94-.94-2.06-.94 2.06-2.06.94z\"/><path d=\"M17.41 7.96l-1.37-1.37c-.4-.4-.92-.59-1.43-.59-.52 0-1.04.2-1.43.59L10.3 9.45l-7.72 7.72c-.78.78-.78 2.05 0 2.83L4 21.41c.39.39.9.59 1.41.59.51 0 1.02-.2 1.41-.59l7.78-7.78 2.81-2.81c.8-.78.8-2.07 0-2.86zM5.41 20L4 18.59l7.72-7.72 1.47 1.35L5.41 20z\"/>\n",
              "  </svg>\n",
              "      </button>\n",
              "      \n",
              "  <style>\n",
              "    .colab-df-container {\n",
              "      display:flex;\n",
              "      flex-wrap:wrap;\n",
              "      gap: 12px;\n",
              "    }\n",
              "\n",
              "    .colab-df-convert {\n",
              "      background-color: #E8F0FE;\n",
              "      border: none;\n",
              "      border-radius: 50%;\n",
              "      cursor: pointer;\n",
              "      display: none;\n",
              "      fill: #1967D2;\n",
              "      height: 32px;\n",
              "      padding: 0 0 0 0;\n",
              "      width: 32px;\n",
              "    }\n",
              "\n",
              "    .colab-df-convert:hover {\n",
              "      background-color: #E2EBFA;\n",
              "      box-shadow: 0px 1px 2px rgba(60, 64, 67, 0.3), 0px 1px 3px 1px rgba(60, 64, 67, 0.15);\n",
              "      fill: #174EA6;\n",
              "    }\n",
              "\n",
              "    [theme=dark] .colab-df-convert {\n",
              "      background-color: #3B4455;\n",
              "      fill: #D2E3FC;\n",
              "    }\n",
              "\n",
              "    [theme=dark] .colab-df-convert:hover {\n",
              "      background-color: #434B5C;\n",
              "      box-shadow: 0px 1px 3px 1px rgba(0, 0, 0, 0.15);\n",
              "      filter: drop-shadow(0px 1px 2px rgba(0, 0, 0, 0.3));\n",
              "      fill: #FFFFFF;\n",
              "    }\n",
              "  </style>\n",
              "\n",
              "      <script>\n",
              "        const buttonEl =\n",
              "          document.querySelector('#df-c3a97ef5-6b12-4831-9555-ac3c8e6cf9d0 button.colab-df-convert');\n",
              "        buttonEl.style.display =\n",
              "          google.colab.kernel.accessAllowed ? 'block' : 'none';\n",
              "\n",
              "        async function convertToInteractive(key) {\n",
              "          const element = document.querySelector('#df-c3a97ef5-6b12-4831-9555-ac3c8e6cf9d0');\n",
              "          const dataTable =\n",
              "            await google.colab.kernel.invokeFunction('convertToInteractive',\n",
              "                                                     [key], {});\n",
              "          if (!dataTable) return;\n",
              "\n",
              "          const docLinkHtml = 'Like what you see? Visit the ' +\n",
              "            '<a target=\"_blank\" href=https://colab.research.google.com/notebooks/data_table.ipynb>data table notebook</a>'\n",
              "            + ' to learn more about interactive tables.';\n",
              "          element.innerHTML = '';\n",
              "          dataTable['output_type'] = 'display_data';\n",
              "          await google.colab.output.renderOutput(dataTable, element);\n",
              "          const docLink = document.createElement('div');\n",
              "          docLink.innerHTML = docLinkHtml;\n",
              "          element.appendChild(docLink);\n",
              "        }\n",
              "      </script>\n",
              "    </div>\n",
              "  </div>\n",
              "  "
            ]
          },
          "metadata": {},
          "execution_count": 19
        }
      ],
      "source": [
        "\n",
        "numeric_col = df.select_dtypes(include='number').columns\n",
        "\n",
        "std_scaler = StandardScaler()\n",
        "def normalization(df,col):\n",
        "  for i in col:\n",
        "    arr = df[i]\n",
        "    arr = np.array(arr)\n",
        "    df[i] = std_scaler.fit_transform(arr.reshape(len(arr),1))\n",
        "  return df\n",
        "\n",
        "data = normalization(df.copy(),numeric_col)\n",
        "data.head()"
      ]
    },
    {
      "cell_type": "code",
      "execution_count": null,
      "metadata": {
        "colab": {
          "base_uri": "https://localhost:8080/"
        },
        "id": "5shbvgYdKCy0",
        "outputId": "d19509e9-8c12-489a-b046-dff1b1d11de3"
      },
      "outputs": [
        {
          "output_type": "execute_result",
          "data": {
            "text/plain": [
              "14"
            ]
          },
          "metadata": {},
          "execution_count": 20
        }
      ],
      "source": [
        "  data.shape[1]"
      ]
    },
    {
      "cell_type": "code",
      "execution_count": null,
      "metadata": {
        "colab": {
          "base_uri": "https://localhost:8080/",
          "height": 488
        },
        "id": "-eBgETmns7tM",
        "outputId": "e4688b8a-bb7c-459d-8056-2c907c0ac529"
      },
      "outputs": [
        {
          "output_type": "execute_result",
          "data": {
            "text/plain": [
              "         IPV4_SRC_ADDR  L4_SRC_PORT  IPV4_DST_ADDR  L4_DST_PORT  PROTOCOL  \\\n",
              "0             0.451583     0.390872      -1.984851    -0.453166 -0.570070   \n",
              "1            -1.777374    -1.911674       0.445502     2.425901 -0.570070   \n",
              "2            -0.510359    -1.374754       0.445502    -0.453052 -0.570070   \n",
              "3             0.451583     0.840387       0.445486    -0.475359  1.627921   \n",
              "4            -1.776791    -1.911674       0.445502     2.425958 -0.570070   \n",
              "...                ...          ...            ...          ...       ...   \n",
              "8392395      -0.347387    -0.077860       0.445503    -0.477123 -0.570070   \n",
              "8392396       0.451583    -1.930800      -0.357705     1.843976 -0.570070   \n",
              "8392397      -1.606772    -1.228747       0.445503    -0.477066 -0.570070   \n",
              "8392398       0.451583    -1.930754      -1.623768     0.402309 -0.570070   \n",
              "8392399       0.451583     0.630689       0.445486    -0.475359  1.627921   \n",
              "\n",
              "         L7_PROTO  IN_BYTES  OUT_BYTES   IN_PKTS  OUT_PKTS  TCP_FLAGS  \\\n",
              "0        2.018234 -0.027630  -0.016851 -0.018695 -0.033282   1.458887   \n",
              "1        2.023228 -0.021185  -0.013056 -0.016641  0.006210  -0.450245   \n",
              "2       -0.534687 -0.024316  -0.015518 -0.017668 -0.010715  -0.382864   \n",
              "3       -0.534687 -0.027753  -0.016200 -0.019208 -0.021998  -0.719770   \n",
              "4        2.023228 -0.028243  -0.016696 -0.019721 -0.027640  -0.450245   \n",
              "...           ...       ...        ...       ...       ...        ...   \n",
              "8392395 -0.534687 -0.013767  -0.016851 -0.012022 -0.033282  -0.416555   \n",
              "8392396 -0.534687 -0.008883  -0.016851 -0.014075 -0.033282  -0.416555   \n",
              "8392397 -0.534687 -0.028457  -0.016851 -0.019721 -0.033282  -0.697310   \n",
              "8392398 -0.534687 -0.028488  -0.016851 -0.019721 -0.033282  -0.495166   \n",
              "8392399 -0.534687 -0.028243  -0.016851 -0.019721 -0.033282  -0.719770   \n",
              "\n",
              "         FLOW_DURATION_MILLISECONDS     Label  intrusion  Dos  Normal  Probe  \\\n",
              "0                          0.715855 -0.371794          1    0       1      0   \n",
              "1                          0.690751 -0.371794          1    0       1      0   \n",
              "2                          0.720005 -0.371794          1    0       1      0   \n",
              "3                          0.719945 -0.371794          1    0       1      0   \n",
              "4                          0.720369 -0.371794          1    0       1      0   \n",
              "...                             ...       ...        ...  ...     ...    ...   \n",
              "8392395                   -1.395058 -0.371794          1    0       1      0   \n",
              "8392396                   -1.395058 -0.371794          1    0       1      0   \n",
              "8392397                   -1.395058 -0.371794          1    0       1      0   \n",
              "8392398                   -1.395058 -0.371794          1    0       1      0   \n",
              "8392399                   -1.395058 -0.371794          1    0       1      0   \n",
              "\n",
              "         R2L  U2R  Attack  \n",
              "0          0    0  Normal  \n",
              "1          0    0  Normal  \n",
              "2          0    0  Normal  \n",
              "3          0    0  Normal  \n",
              "4          0    0  Normal  \n",
              "...      ...  ...     ...  \n",
              "8392395    0    0  Normal  \n",
              "8392396    0    0  Normal  \n",
              "8392397    0    0  Normal  \n",
              "8392398    0    0  Normal  \n",
              "8392399    0    0  Normal  \n",
              "\n",
              "[8392398 rows x 20 columns]"
            ],
            "text/html": [
              "\n",
              "  <div id=\"df-b5c1321b-7ba1-459c-8920-d0daddb26aa3\">\n",
              "    <div class=\"colab-df-container\">\n",
              "      <div>\n",
              "<style scoped>\n",
              "    .dataframe tbody tr th:only-of-type {\n",
              "        vertical-align: middle;\n",
              "    }\n",
              "\n",
              "    .dataframe tbody tr th {\n",
              "        vertical-align: top;\n",
              "    }\n",
              "\n",
              "    .dataframe thead th {\n",
              "        text-align: right;\n",
              "    }\n",
              "</style>\n",
              "<table border=\"1\" class=\"dataframe\">\n",
              "  <thead>\n",
              "    <tr style=\"text-align: right;\">\n",
              "      <th></th>\n",
              "      <th>IPV4_SRC_ADDR</th>\n",
              "      <th>L4_SRC_PORT</th>\n",
              "      <th>IPV4_DST_ADDR</th>\n",
              "      <th>L4_DST_PORT</th>\n",
              "      <th>PROTOCOL</th>\n",
              "      <th>L7_PROTO</th>\n",
              "      <th>IN_BYTES</th>\n",
              "      <th>OUT_BYTES</th>\n",
              "      <th>IN_PKTS</th>\n",
              "      <th>OUT_PKTS</th>\n",
              "      <th>TCP_FLAGS</th>\n",
              "      <th>FLOW_DURATION_MILLISECONDS</th>\n",
              "      <th>Label</th>\n",
              "      <th>intrusion</th>\n",
              "      <th>Dos</th>\n",
              "      <th>Normal</th>\n",
              "      <th>Probe</th>\n",
              "      <th>R2L</th>\n",
              "      <th>U2R</th>\n",
              "      <th>Attack</th>\n",
              "    </tr>\n",
              "  </thead>\n",
              "  <tbody>\n",
              "    <tr>\n",
              "      <th>0</th>\n",
              "      <td>0.451583</td>\n",
              "      <td>0.390872</td>\n",
              "      <td>-1.984851</td>\n",
              "      <td>-0.453166</td>\n",
              "      <td>-0.570070</td>\n",
              "      <td>2.018234</td>\n",
              "      <td>-0.027630</td>\n",
              "      <td>-0.016851</td>\n",
              "      <td>-0.018695</td>\n",
              "      <td>-0.033282</td>\n",
              "      <td>1.458887</td>\n",
              "      <td>0.715855</td>\n",
              "      <td>-0.371794</td>\n",
              "      <td>1</td>\n",
              "      <td>0</td>\n",
              "      <td>1</td>\n",
              "      <td>0</td>\n",
              "      <td>0</td>\n",
              "      <td>0</td>\n",
              "      <td>Normal</td>\n",
              "    </tr>\n",
              "    <tr>\n",
              "      <th>1</th>\n",
              "      <td>-1.777374</td>\n",
              "      <td>-1.911674</td>\n",
              "      <td>0.445502</td>\n",
              "      <td>2.425901</td>\n",
              "      <td>-0.570070</td>\n",
              "      <td>2.023228</td>\n",
              "      <td>-0.021185</td>\n",
              "      <td>-0.013056</td>\n",
              "      <td>-0.016641</td>\n",
              "      <td>0.006210</td>\n",
              "      <td>-0.450245</td>\n",
              "      <td>0.690751</td>\n",
              "      <td>-0.371794</td>\n",
              "      <td>1</td>\n",
              "      <td>0</td>\n",
              "      <td>1</td>\n",
              "      <td>0</td>\n",
              "      <td>0</td>\n",
              "      <td>0</td>\n",
              "      <td>Normal</td>\n",
              "    </tr>\n",
              "    <tr>\n",
              "      <th>2</th>\n",
              "      <td>-0.510359</td>\n",
              "      <td>-1.374754</td>\n",
              "      <td>0.445502</td>\n",
              "      <td>-0.453052</td>\n",
              "      <td>-0.570070</td>\n",
              "      <td>-0.534687</td>\n",
              "      <td>-0.024316</td>\n",
              "      <td>-0.015518</td>\n",
              "      <td>-0.017668</td>\n",
              "      <td>-0.010715</td>\n",
              "      <td>-0.382864</td>\n",
              "      <td>0.720005</td>\n",
              "      <td>-0.371794</td>\n",
              "      <td>1</td>\n",
              "      <td>0</td>\n",
              "      <td>1</td>\n",
              "      <td>0</td>\n",
              "      <td>0</td>\n",
              "      <td>0</td>\n",
              "      <td>Normal</td>\n",
              "    </tr>\n",
              "    <tr>\n",
              "      <th>3</th>\n",
              "      <td>0.451583</td>\n",
              "      <td>0.840387</td>\n",
              "      <td>0.445486</td>\n",
              "      <td>-0.475359</td>\n",
              "      <td>1.627921</td>\n",
              "      <td>-0.534687</td>\n",
              "      <td>-0.027753</td>\n",
              "      <td>-0.016200</td>\n",
              "      <td>-0.019208</td>\n",
              "      <td>-0.021998</td>\n",
              "      <td>-0.719770</td>\n",
              "      <td>0.719945</td>\n",
              "      <td>-0.371794</td>\n",
              "      <td>1</td>\n",
              "      <td>0</td>\n",
              "      <td>1</td>\n",
              "      <td>0</td>\n",
              "      <td>0</td>\n",
              "      <td>0</td>\n",
              "      <td>Normal</td>\n",
              "    </tr>\n",
              "    <tr>\n",
              "      <th>4</th>\n",
              "      <td>-1.776791</td>\n",
              "      <td>-1.911674</td>\n",
              "      <td>0.445502</td>\n",
              "      <td>2.425958</td>\n",
              "      <td>-0.570070</td>\n",
              "      <td>2.023228</td>\n",
              "      <td>-0.028243</td>\n",
              "      <td>-0.016696</td>\n",
              "      <td>-0.019721</td>\n",
              "      <td>-0.027640</td>\n",
              "      <td>-0.450245</td>\n",
              "      <td>0.720369</td>\n",
              "      <td>-0.371794</td>\n",
              "      <td>1</td>\n",
              "      <td>0</td>\n",
              "      <td>1</td>\n",
              "      <td>0</td>\n",
              "      <td>0</td>\n",
              "      <td>0</td>\n",
              "      <td>Normal</td>\n",
              "    </tr>\n",
              "    <tr>\n",
              "      <th>...</th>\n",
              "      <td>...</td>\n",
              "      <td>...</td>\n",
              "      <td>...</td>\n",
              "      <td>...</td>\n",
              "      <td>...</td>\n",
              "      <td>...</td>\n",
              "      <td>...</td>\n",
              "      <td>...</td>\n",
              "      <td>...</td>\n",
              "      <td>...</td>\n",
              "      <td>...</td>\n",
              "      <td>...</td>\n",
              "      <td>...</td>\n",
              "      <td>...</td>\n",
              "      <td>...</td>\n",
              "      <td>...</td>\n",
              "      <td>...</td>\n",
              "      <td>...</td>\n",
              "      <td>...</td>\n",
              "      <td>...</td>\n",
              "    </tr>\n",
              "    <tr>\n",
              "      <th>8392395</th>\n",
              "      <td>-0.347387</td>\n",
              "      <td>-0.077860</td>\n",
              "      <td>0.445503</td>\n",
              "      <td>-0.477123</td>\n",
              "      <td>-0.570070</td>\n",
              "      <td>-0.534687</td>\n",
              "      <td>-0.013767</td>\n",
              "      <td>-0.016851</td>\n",
              "      <td>-0.012022</td>\n",
              "      <td>-0.033282</td>\n",
              "      <td>-0.416555</td>\n",
              "      <td>-1.395058</td>\n",
              "      <td>-0.371794</td>\n",
              "      <td>1</td>\n",
              "      <td>0</td>\n",
              "      <td>1</td>\n",
              "      <td>0</td>\n",
              "      <td>0</td>\n",
              "      <td>0</td>\n",
              "      <td>Normal</td>\n",
              "    </tr>\n",
              "    <tr>\n",
              "      <th>8392396</th>\n",
              "      <td>0.451583</td>\n",
              "      <td>-1.930800</td>\n",
              "      <td>-0.357705</td>\n",
              "      <td>1.843976</td>\n",
              "      <td>-0.570070</td>\n",
              "      <td>-0.534687</td>\n",
              "      <td>-0.008883</td>\n",
              "      <td>-0.016851</td>\n",
              "      <td>-0.014075</td>\n",
              "      <td>-0.033282</td>\n",
              "      <td>-0.416555</td>\n",
              "      <td>-1.395058</td>\n",
              "      <td>-0.371794</td>\n",
              "      <td>1</td>\n",
              "      <td>0</td>\n",
              "      <td>1</td>\n",
              "      <td>0</td>\n",
              "      <td>0</td>\n",
              "      <td>0</td>\n",
              "      <td>Normal</td>\n",
              "    </tr>\n",
              "    <tr>\n",
              "      <th>8392397</th>\n",
              "      <td>-1.606772</td>\n",
              "      <td>-1.228747</td>\n",
              "      <td>0.445503</td>\n",
              "      <td>-0.477066</td>\n",
              "      <td>-0.570070</td>\n",
              "      <td>-0.534687</td>\n",
              "      <td>-0.028457</td>\n",
              "      <td>-0.016851</td>\n",
              "      <td>-0.019721</td>\n",
              "      <td>-0.033282</td>\n",
              "      <td>-0.697310</td>\n",
              "      <td>-1.395058</td>\n",
              "      <td>-0.371794</td>\n",
              "      <td>1</td>\n",
              "      <td>0</td>\n",
              "      <td>1</td>\n",
              "      <td>0</td>\n",
              "      <td>0</td>\n",
              "      <td>0</td>\n",
              "      <td>Normal</td>\n",
              "    </tr>\n",
              "    <tr>\n",
              "      <th>8392398</th>\n",
              "      <td>0.451583</td>\n",
              "      <td>-1.930754</td>\n",
              "      <td>-1.623768</td>\n",
              "      <td>0.402309</td>\n",
              "      <td>-0.570070</td>\n",
              "      <td>-0.534687</td>\n",
              "      <td>-0.028488</td>\n",
              "      <td>-0.016851</td>\n",
              "      <td>-0.019721</td>\n",
              "      <td>-0.033282</td>\n",
              "      <td>-0.495166</td>\n",
              "      <td>-1.395058</td>\n",
              "      <td>-0.371794</td>\n",
              "      <td>1</td>\n",
              "      <td>0</td>\n",
              "      <td>1</td>\n",
              "      <td>0</td>\n",
              "      <td>0</td>\n",
              "      <td>0</td>\n",
              "      <td>Normal</td>\n",
              "    </tr>\n",
              "    <tr>\n",
              "      <th>8392399</th>\n",
              "      <td>0.451583</td>\n",
              "      <td>0.630689</td>\n",
              "      <td>0.445486</td>\n",
              "      <td>-0.475359</td>\n",
              "      <td>1.627921</td>\n",
              "      <td>-0.534687</td>\n",
              "      <td>-0.028243</td>\n",
              "      <td>-0.016851</td>\n",
              "      <td>-0.019721</td>\n",
              "      <td>-0.033282</td>\n",
              "      <td>-0.719770</td>\n",
              "      <td>-1.395058</td>\n",
              "      <td>-0.371794</td>\n",
              "      <td>1</td>\n",
              "      <td>0</td>\n",
              "      <td>1</td>\n",
              "      <td>0</td>\n",
              "      <td>0</td>\n",
              "      <td>0</td>\n",
              "      <td>Normal</td>\n",
              "    </tr>\n",
              "  </tbody>\n",
              "</table>\n",
              "<p>8392398 rows × 20 columns</p>\n",
              "</div>\n",
              "      <button class=\"colab-df-convert\" onclick=\"convertToInteractive('df-b5c1321b-7ba1-459c-8920-d0daddb26aa3')\"\n",
              "              title=\"Convert this dataframe to an interactive table.\"\n",
              "              style=\"display:none;\">\n",
              "        \n",
              "  <svg xmlns=\"http://www.w3.org/2000/svg\" height=\"24px\"viewBox=\"0 0 24 24\"\n",
              "       width=\"24px\">\n",
              "    <path d=\"M0 0h24v24H0V0z\" fill=\"none\"/>\n",
              "    <path d=\"M18.56 5.44l.94 2.06.94-2.06 2.06-.94-2.06-.94-.94-2.06-.94 2.06-2.06.94zm-11 1L8.5 8.5l.94-2.06 2.06-.94-2.06-.94L8.5 2.5l-.94 2.06-2.06.94zm10 10l.94 2.06.94-2.06 2.06-.94-2.06-.94-.94-2.06-.94 2.06-2.06.94z\"/><path d=\"M17.41 7.96l-1.37-1.37c-.4-.4-.92-.59-1.43-.59-.52 0-1.04.2-1.43.59L10.3 9.45l-7.72 7.72c-.78.78-.78 2.05 0 2.83L4 21.41c.39.39.9.59 1.41.59.51 0 1.02-.2 1.41-.59l7.78-7.78 2.81-2.81c.8-.78.8-2.07 0-2.86zM5.41 20L4 18.59l7.72-7.72 1.47 1.35L5.41 20z\"/>\n",
              "  </svg>\n",
              "      </button>\n",
              "      \n",
              "  <style>\n",
              "    .colab-df-container {\n",
              "      display:flex;\n",
              "      flex-wrap:wrap;\n",
              "      gap: 12px;\n",
              "    }\n",
              "\n",
              "    .colab-df-convert {\n",
              "      background-color: #E8F0FE;\n",
              "      border: none;\n",
              "      border-radius: 50%;\n",
              "      cursor: pointer;\n",
              "      display: none;\n",
              "      fill: #1967D2;\n",
              "      height: 32px;\n",
              "      padding: 0 0 0 0;\n",
              "      width: 32px;\n",
              "    }\n",
              "\n",
              "    .colab-df-convert:hover {\n",
              "      background-color: #E2EBFA;\n",
              "      box-shadow: 0px 1px 2px rgba(60, 64, 67, 0.3), 0px 1px 3px 1px rgba(60, 64, 67, 0.15);\n",
              "      fill: #174EA6;\n",
              "    }\n",
              "\n",
              "    [theme=dark] .colab-df-convert {\n",
              "      background-color: #3B4455;\n",
              "      fill: #D2E3FC;\n",
              "    }\n",
              "\n",
              "    [theme=dark] .colab-df-convert:hover {\n",
              "      background-color: #434B5C;\n",
              "      box-shadow: 0px 1px 3px 1px rgba(0, 0, 0, 0.15);\n",
              "      filter: drop-shadow(0px 1px 2px rgba(0, 0, 0, 0.3));\n",
              "      fill: #FFFFFF;\n",
              "    }\n",
              "  </style>\n",
              "\n",
              "      <script>\n",
              "        const buttonEl =\n",
              "          document.querySelector('#df-b5c1321b-7ba1-459c-8920-d0daddb26aa3 button.colab-df-convert');\n",
              "        buttonEl.style.display =\n",
              "          google.colab.kernel.accessAllowed ? 'block' : 'none';\n",
              "\n",
              "        async function convertToInteractive(key) {\n",
              "          const element = document.querySelector('#df-b5c1321b-7ba1-459c-8920-d0daddb26aa3');\n",
              "          const dataTable =\n",
              "            await google.colab.kernel.invokeFunction('convertToInteractive',\n",
              "                                                     [key], {});\n",
              "          if (!dataTable) return;\n",
              "\n",
              "          const docLinkHtml = 'Like what you see? Visit the ' +\n",
              "            '<a target=\"_blank\" href=https://colab.research.google.com/notebooks/data_table.ipynb>data table notebook</a>'\n",
              "            + ' to learn more about interactive tables.';\n",
              "          element.innerHTML = '';\n",
              "          dataTable['output_type'] = 'display_data';\n",
              "          await google.colab.output.renderOutput(dataTable, element);\n",
              "          const docLink = document.createElement('div');\n",
              "          docLink.innerHTML = docLinkHtml;\n",
              "          element.appendChild(docLink);\n",
              "        }\n",
              "      </script>\n",
              "    </div>\n",
              "  </div>\n",
              "  "
            ]
          },
          "metadata": {},
          "execution_count": 21
        }
      ],
      "source": [
        "multi_data = data.copy()\n",
        "multi_label = pd.DataFrame(multi_data.Attack)\n",
        "\n",
        "le2 = preprocessing.LabelEncoder()\n",
        "enc_label = multi_label.apply(le2.fit_transform)\n",
        "multi_data['intrusion'] = enc_label\n",
        "#np.save(\"/content/drive/MyDrive/Colab Notebooks/IDS-AutoEncoder/labels/le2_classes.npy\",le2.classes_,allow_pickle=True)\n",
        "\n",
        "multi_data = pd.get_dummies(multi_data,columns=['Attack'],prefix=\"\",prefix_sep=\"\") \n",
        "multi_data['Attack'] = multi_label\n",
        "multi_data"
      ]
    },
    {
      "cell_type": "code",
      "execution_count": null,
      "metadata": {
        "colab": {
          "base_uri": "https://localhost:8080/"
        },
        "id": "9_752D7RHlRc",
        "outputId": "4f340075-8711-4dff-f971-4ddd6d215c96"
      },
      "outputs": [
        {
          "output_type": "execute_result",
          "data": {
            "text/plain": [
              "20"
            ]
          },
          "metadata": {},
          "execution_count": 22
        }
      ],
      "source": [
        "multi_data.shape[1]"
      ]
    },
    {
      "cell_type": "code",
      "execution_count": null,
      "metadata": {
        "colab": {
          "base_uri": "https://localhost:8080/"
        },
        "id": "kklzZJaOuFQ0",
        "outputId": "fc044654-bbb4-4954-f646-aa1e6e0eab2d"
      },
      "outputs": [
        {
          "output_type": "execute_result",
          "data": {
            "text/plain": [
              "1    7373195\n",
              "0     649457\n",
              "2     290210\n",
              "3      77755\n",
              "4       1781\n",
              "Name: intrusion, dtype: int64"
            ]
          },
          "metadata": {},
          "execution_count": 23
        }
      ],
      "source": [
        "multi_data.intrusion.value_counts()"
      ]
    },
    {
      "cell_type": "code",
      "execution_count": null,
      "metadata": {
        "id": "IBr-N9vI8i17"
      },
      "outputs": [],
      "source": []
    },
    {
      "cell_type": "code",
      "execution_count": null,
      "metadata": {
        "colab": {
          "base_uri": "https://localhost:8080/"
        },
        "id": "u9_PBd0YuIpT",
        "outputId": "6c76ba7f-cb56-42b2-faa0-f80d8b3ac502"
      },
      "outputs": [
        {
          "output_type": "stream",
          "name": "stderr",
          "text": [
            "<ipython-input-24-2fbbef84d961>:2: SettingWithCopyWarning: \n",
            "A value is trying to be set on a copy of a slice from a DataFrame.\n",
            "Try using .loc[row_indexer,col_indexer] = value instead\n",
            "\n",
            "See the caveats in the documentation: https://pandas.pydata.org/pandas-docs/stable/user_guide/indexing.html#returning-a-view-versus-a-copy\n",
            "  numeric_multi['intrusion'] = multi_data['intrusion']\n"
          ]
        },
        {
          "output_type": "execute_result",
          "data": {
            "text/plain": [
              "TCP_FLAGS                     0.144202\n",
              "Label                         0.163964\n",
              "FLOW_DURATION_MILLISECONDS    0.182597\n",
              "IPV4_SRC_ADDR                 0.233399\n",
              "intrusion                     1.000000\n",
              "Name: intrusion, dtype: float64"
            ]
          },
          "metadata": {},
          "execution_count": 24
        }
      ],
      "source": [
        "numeric_multi = multi_data[numeric_col]\n",
        "numeric_multi['intrusion'] = multi_data['intrusion']\n",
        "\n",
        "corr = numeric_multi.corr()\n",
        "corr_y = abs(corr['intrusion'])\n",
        "highest_corr = corr_y[corr_y > 0.1]\n",
        "highest_corr.sort_values(ascending=True)"
      ]
    },
    {
      "cell_type": "code",
      "execution_count": null,
      "metadata": {
        "id": "Sg0UdFdkHxXz",
        "colab": {
          "base_uri": "https://localhost:8080/"
        },
        "outputId": "4cbede01-f5d7-4d1b-c2ee-77a569438dfe"
      },
      "outputs": [
        {
          "output_type": "execute_result",
          "data": {
            "text/plain": [
              "20"
            ]
          },
          "metadata": {},
          "execution_count": 25
        }
      ],
      "source": [
        "multi_data.shape[1]"
      ]
    },
    {
      "cell_type": "code",
      "execution_count": null,
      "metadata": {
        "colab": {
          "base_uri": "https://localhost:8080/",
          "height": 488
        },
        "id": "uhPZdFqYuKg-",
        "outputId": "14f9b16d-ad02-4c71-a443-122948c0fc95"
      },
      "outputs": [
        {
          "output_type": "execute_result",
          "data": {
            "text/plain": [
              "         IPV4_SRC_ADDR  L4_SRC_PORT  IPV4_DST_ADDR  L4_DST_PORT  PROTOCOL  \\\n",
              "0             0.451583     0.390872      -1.984851    -0.453166 -0.570070   \n",
              "1            -1.777374    -1.911674       0.445502     2.425901 -0.570070   \n",
              "2            -0.510359    -1.374754       0.445502    -0.453052 -0.570070   \n",
              "3             0.451583     0.840387       0.445486    -0.475359  1.627921   \n",
              "4            -1.776791    -1.911674       0.445502     2.425958 -0.570070   \n",
              "...                ...          ...            ...          ...       ...   \n",
              "8392395      -0.347387    -0.077860       0.445503    -0.477123 -0.570070   \n",
              "8392396       0.451583    -1.930800      -0.357705     1.843976 -0.570070   \n",
              "8392397      -1.606772    -1.228747       0.445503    -0.477066 -0.570070   \n",
              "8392398       0.451583    -1.930754      -1.623768     0.402309 -0.570070   \n",
              "8392399       0.451583     0.630689       0.445486    -0.475359  1.627921   \n",
              "\n",
              "         L7_PROTO  IN_BYTES  OUT_BYTES   IN_PKTS  OUT_PKTS  TCP_FLAGS  \\\n",
              "0        2.018234 -0.027630  -0.016851 -0.018695 -0.033282   1.458887   \n",
              "1        2.023228 -0.021185  -0.013056 -0.016641  0.006210  -0.450245   \n",
              "2       -0.534687 -0.024316  -0.015518 -0.017668 -0.010715  -0.382864   \n",
              "3       -0.534687 -0.027753  -0.016200 -0.019208 -0.021998  -0.719770   \n",
              "4        2.023228 -0.028243  -0.016696 -0.019721 -0.027640  -0.450245   \n",
              "...           ...       ...        ...       ...       ...        ...   \n",
              "8392395 -0.534687 -0.013767  -0.016851 -0.012022 -0.033282  -0.416555   \n",
              "8392396 -0.534687 -0.008883  -0.016851 -0.014075 -0.033282  -0.416555   \n",
              "8392397 -0.534687 -0.028457  -0.016851 -0.019721 -0.033282  -0.697310   \n",
              "8392398 -0.534687 -0.028488  -0.016851 -0.019721 -0.033282  -0.495166   \n",
              "8392399 -0.534687 -0.028243  -0.016851 -0.019721 -0.033282  -0.719770   \n",
              "\n",
              "         FLOW_DURATION_MILLISECONDS     Label  intrusion  Dos  Normal  Probe  \\\n",
              "0                          0.715855 -0.371794          1    0       1      0   \n",
              "1                          0.690751 -0.371794          1    0       1      0   \n",
              "2                          0.720005 -0.371794          1    0       1      0   \n",
              "3                          0.719945 -0.371794          1    0       1      0   \n",
              "4                          0.720369 -0.371794          1    0       1      0   \n",
              "...                             ...       ...        ...  ...     ...    ...   \n",
              "8392395                   -1.395058 -0.371794          1    0       1      0   \n",
              "8392396                   -1.395058 -0.371794          1    0       1      0   \n",
              "8392397                   -1.395058 -0.371794          1    0       1      0   \n",
              "8392398                   -1.395058 -0.371794          1    0       1      0   \n",
              "8392399                   -1.395058 -0.371794          1    0       1      0   \n",
              "\n",
              "         R2L  U2R  Attack  \n",
              "0          0    0  Normal  \n",
              "1          0    0  Normal  \n",
              "2          0    0  Normal  \n",
              "3          0    0  Normal  \n",
              "4          0    0  Normal  \n",
              "...      ...  ...     ...  \n",
              "8392395    0    0  Normal  \n",
              "8392396    0    0  Normal  \n",
              "8392397    0    0  Normal  \n",
              "8392398    0    0  Normal  \n",
              "8392399    0    0  Normal  \n",
              "\n",
              "[8392398 rows x 20 columns]"
            ],
            "text/html": [
              "\n",
              "  <div id=\"df-b17a55de-227f-4bb5-9f0d-e360b60790ac\">\n",
              "    <div class=\"colab-df-container\">\n",
              "      <div>\n",
              "<style scoped>\n",
              "    .dataframe tbody tr th:only-of-type {\n",
              "        vertical-align: middle;\n",
              "    }\n",
              "\n",
              "    .dataframe tbody tr th {\n",
              "        vertical-align: top;\n",
              "    }\n",
              "\n",
              "    .dataframe thead th {\n",
              "        text-align: right;\n",
              "    }\n",
              "</style>\n",
              "<table border=\"1\" class=\"dataframe\">\n",
              "  <thead>\n",
              "    <tr style=\"text-align: right;\">\n",
              "      <th></th>\n",
              "      <th>IPV4_SRC_ADDR</th>\n",
              "      <th>L4_SRC_PORT</th>\n",
              "      <th>IPV4_DST_ADDR</th>\n",
              "      <th>L4_DST_PORT</th>\n",
              "      <th>PROTOCOL</th>\n",
              "      <th>L7_PROTO</th>\n",
              "      <th>IN_BYTES</th>\n",
              "      <th>OUT_BYTES</th>\n",
              "      <th>IN_PKTS</th>\n",
              "      <th>OUT_PKTS</th>\n",
              "      <th>TCP_FLAGS</th>\n",
              "      <th>FLOW_DURATION_MILLISECONDS</th>\n",
              "      <th>Label</th>\n",
              "      <th>intrusion</th>\n",
              "      <th>Dos</th>\n",
              "      <th>Normal</th>\n",
              "      <th>Probe</th>\n",
              "      <th>R2L</th>\n",
              "      <th>U2R</th>\n",
              "      <th>Attack</th>\n",
              "    </tr>\n",
              "  </thead>\n",
              "  <tbody>\n",
              "    <tr>\n",
              "      <th>0</th>\n",
              "      <td>0.451583</td>\n",
              "      <td>0.390872</td>\n",
              "      <td>-1.984851</td>\n",
              "      <td>-0.453166</td>\n",
              "      <td>-0.570070</td>\n",
              "      <td>2.018234</td>\n",
              "      <td>-0.027630</td>\n",
              "      <td>-0.016851</td>\n",
              "      <td>-0.018695</td>\n",
              "      <td>-0.033282</td>\n",
              "      <td>1.458887</td>\n",
              "      <td>0.715855</td>\n",
              "      <td>-0.371794</td>\n",
              "      <td>1</td>\n",
              "      <td>0</td>\n",
              "      <td>1</td>\n",
              "      <td>0</td>\n",
              "      <td>0</td>\n",
              "      <td>0</td>\n",
              "      <td>Normal</td>\n",
              "    </tr>\n",
              "    <tr>\n",
              "      <th>1</th>\n",
              "      <td>-1.777374</td>\n",
              "      <td>-1.911674</td>\n",
              "      <td>0.445502</td>\n",
              "      <td>2.425901</td>\n",
              "      <td>-0.570070</td>\n",
              "      <td>2.023228</td>\n",
              "      <td>-0.021185</td>\n",
              "      <td>-0.013056</td>\n",
              "      <td>-0.016641</td>\n",
              "      <td>0.006210</td>\n",
              "      <td>-0.450245</td>\n",
              "      <td>0.690751</td>\n",
              "      <td>-0.371794</td>\n",
              "      <td>1</td>\n",
              "      <td>0</td>\n",
              "      <td>1</td>\n",
              "      <td>0</td>\n",
              "      <td>0</td>\n",
              "      <td>0</td>\n",
              "      <td>Normal</td>\n",
              "    </tr>\n",
              "    <tr>\n",
              "      <th>2</th>\n",
              "      <td>-0.510359</td>\n",
              "      <td>-1.374754</td>\n",
              "      <td>0.445502</td>\n",
              "      <td>-0.453052</td>\n",
              "      <td>-0.570070</td>\n",
              "      <td>-0.534687</td>\n",
              "      <td>-0.024316</td>\n",
              "      <td>-0.015518</td>\n",
              "      <td>-0.017668</td>\n",
              "      <td>-0.010715</td>\n",
              "      <td>-0.382864</td>\n",
              "      <td>0.720005</td>\n",
              "      <td>-0.371794</td>\n",
              "      <td>1</td>\n",
              "      <td>0</td>\n",
              "      <td>1</td>\n",
              "      <td>0</td>\n",
              "      <td>0</td>\n",
              "      <td>0</td>\n",
              "      <td>Normal</td>\n",
              "    </tr>\n",
              "    <tr>\n",
              "      <th>3</th>\n",
              "      <td>0.451583</td>\n",
              "      <td>0.840387</td>\n",
              "      <td>0.445486</td>\n",
              "      <td>-0.475359</td>\n",
              "      <td>1.627921</td>\n",
              "      <td>-0.534687</td>\n",
              "      <td>-0.027753</td>\n",
              "      <td>-0.016200</td>\n",
              "      <td>-0.019208</td>\n",
              "      <td>-0.021998</td>\n",
              "      <td>-0.719770</td>\n",
              "      <td>0.719945</td>\n",
              "      <td>-0.371794</td>\n",
              "      <td>1</td>\n",
              "      <td>0</td>\n",
              "      <td>1</td>\n",
              "      <td>0</td>\n",
              "      <td>0</td>\n",
              "      <td>0</td>\n",
              "      <td>Normal</td>\n",
              "    </tr>\n",
              "    <tr>\n",
              "      <th>4</th>\n",
              "      <td>-1.776791</td>\n",
              "      <td>-1.911674</td>\n",
              "      <td>0.445502</td>\n",
              "      <td>2.425958</td>\n",
              "      <td>-0.570070</td>\n",
              "      <td>2.023228</td>\n",
              "      <td>-0.028243</td>\n",
              "      <td>-0.016696</td>\n",
              "      <td>-0.019721</td>\n",
              "      <td>-0.027640</td>\n",
              "      <td>-0.450245</td>\n",
              "      <td>0.720369</td>\n",
              "      <td>-0.371794</td>\n",
              "      <td>1</td>\n",
              "      <td>0</td>\n",
              "      <td>1</td>\n",
              "      <td>0</td>\n",
              "      <td>0</td>\n",
              "      <td>0</td>\n",
              "      <td>Normal</td>\n",
              "    </tr>\n",
              "    <tr>\n",
              "      <th>...</th>\n",
              "      <td>...</td>\n",
              "      <td>...</td>\n",
              "      <td>...</td>\n",
              "      <td>...</td>\n",
              "      <td>...</td>\n",
              "      <td>...</td>\n",
              "      <td>...</td>\n",
              "      <td>...</td>\n",
              "      <td>...</td>\n",
              "      <td>...</td>\n",
              "      <td>...</td>\n",
              "      <td>...</td>\n",
              "      <td>...</td>\n",
              "      <td>...</td>\n",
              "      <td>...</td>\n",
              "      <td>...</td>\n",
              "      <td>...</td>\n",
              "      <td>...</td>\n",
              "      <td>...</td>\n",
              "      <td>...</td>\n",
              "    </tr>\n",
              "    <tr>\n",
              "      <th>8392395</th>\n",
              "      <td>-0.347387</td>\n",
              "      <td>-0.077860</td>\n",
              "      <td>0.445503</td>\n",
              "      <td>-0.477123</td>\n",
              "      <td>-0.570070</td>\n",
              "      <td>-0.534687</td>\n",
              "      <td>-0.013767</td>\n",
              "      <td>-0.016851</td>\n",
              "      <td>-0.012022</td>\n",
              "      <td>-0.033282</td>\n",
              "      <td>-0.416555</td>\n",
              "      <td>-1.395058</td>\n",
              "      <td>-0.371794</td>\n",
              "      <td>1</td>\n",
              "      <td>0</td>\n",
              "      <td>1</td>\n",
              "      <td>0</td>\n",
              "      <td>0</td>\n",
              "      <td>0</td>\n",
              "      <td>Normal</td>\n",
              "    </tr>\n",
              "    <tr>\n",
              "      <th>8392396</th>\n",
              "      <td>0.451583</td>\n",
              "      <td>-1.930800</td>\n",
              "      <td>-0.357705</td>\n",
              "      <td>1.843976</td>\n",
              "      <td>-0.570070</td>\n",
              "      <td>-0.534687</td>\n",
              "      <td>-0.008883</td>\n",
              "      <td>-0.016851</td>\n",
              "      <td>-0.014075</td>\n",
              "      <td>-0.033282</td>\n",
              "      <td>-0.416555</td>\n",
              "      <td>-1.395058</td>\n",
              "      <td>-0.371794</td>\n",
              "      <td>1</td>\n",
              "      <td>0</td>\n",
              "      <td>1</td>\n",
              "      <td>0</td>\n",
              "      <td>0</td>\n",
              "      <td>0</td>\n",
              "      <td>Normal</td>\n",
              "    </tr>\n",
              "    <tr>\n",
              "      <th>8392397</th>\n",
              "      <td>-1.606772</td>\n",
              "      <td>-1.228747</td>\n",
              "      <td>0.445503</td>\n",
              "      <td>-0.477066</td>\n",
              "      <td>-0.570070</td>\n",
              "      <td>-0.534687</td>\n",
              "      <td>-0.028457</td>\n",
              "      <td>-0.016851</td>\n",
              "      <td>-0.019721</td>\n",
              "      <td>-0.033282</td>\n",
              "      <td>-0.697310</td>\n",
              "      <td>-1.395058</td>\n",
              "      <td>-0.371794</td>\n",
              "      <td>1</td>\n",
              "      <td>0</td>\n",
              "      <td>1</td>\n",
              "      <td>0</td>\n",
              "      <td>0</td>\n",
              "      <td>0</td>\n",
              "      <td>Normal</td>\n",
              "    </tr>\n",
              "    <tr>\n",
              "      <th>8392398</th>\n",
              "      <td>0.451583</td>\n",
              "      <td>-1.930754</td>\n",
              "      <td>-1.623768</td>\n",
              "      <td>0.402309</td>\n",
              "      <td>-0.570070</td>\n",
              "      <td>-0.534687</td>\n",
              "      <td>-0.028488</td>\n",
              "      <td>-0.016851</td>\n",
              "      <td>-0.019721</td>\n",
              "      <td>-0.033282</td>\n",
              "      <td>-0.495166</td>\n",
              "      <td>-1.395058</td>\n",
              "      <td>-0.371794</td>\n",
              "      <td>1</td>\n",
              "      <td>0</td>\n",
              "      <td>1</td>\n",
              "      <td>0</td>\n",
              "      <td>0</td>\n",
              "      <td>0</td>\n",
              "      <td>Normal</td>\n",
              "    </tr>\n",
              "    <tr>\n",
              "      <th>8392399</th>\n",
              "      <td>0.451583</td>\n",
              "      <td>0.630689</td>\n",
              "      <td>0.445486</td>\n",
              "      <td>-0.475359</td>\n",
              "      <td>1.627921</td>\n",
              "      <td>-0.534687</td>\n",
              "      <td>-0.028243</td>\n",
              "      <td>-0.016851</td>\n",
              "      <td>-0.019721</td>\n",
              "      <td>-0.033282</td>\n",
              "      <td>-0.719770</td>\n",
              "      <td>-1.395058</td>\n",
              "      <td>-0.371794</td>\n",
              "      <td>1</td>\n",
              "      <td>0</td>\n",
              "      <td>1</td>\n",
              "      <td>0</td>\n",
              "      <td>0</td>\n",
              "      <td>0</td>\n",
              "      <td>Normal</td>\n",
              "    </tr>\n",
              "  </tbody>\n",
              "</table>\n",
              "<p>8392398 rows × 20 columns</p>\n",
              "</div>\n",
              "      <button class=\"colab-df-convert\" onclick=\"convertToInteractive('df-b17a55de-227f-4bb5-9f0d-e360b60790ac')\"\n",
              "              title=\"Convert this dataframe to an interactive table.\"\n",
              "              style=\"display:none;\">\n",
              "        \n",
              "  <svg xmlns=\"http://www.w3.org/2000/svg\" height=\"24px\"viewBox=\"0 0 24 24\"\n",
              "       width=\"24px\">\n",
              "    <path d=\"M0 0h24v24H0V0z\" fill=\"none\"/>\n",
              "    <path d=\"M18.56 5.44l.94 2.06.94-2.06 2.06-.94-2.06-.94-.94-2.06-.94 2.06-2.06.94zm-11 1L8.5 8.5l.94-2.06 2.06-.94-2.06-.94L8.5 2.5l-.94 2.06-2.06.94zm10 10l.94 2.06.94-2.06 2.06-.94-2.06-.94-.94-2.06-.94 2.06-2.06.94z\"/><path d=\"M17.41 7.96l-1.37-1.37c-.4-.4-.92-.59-1.43-.59-.52 0-1.04.2-1.43.59L10.3 9.45l-7.72 7.72c-.78.78-.78 2.05 0 2.83L4 21.41c.39.39.9.59 1.41.59.51 0 1.02-.2 1.41-.59l7.78-7.78 2.81-2.81c.8-.78.8-2.07 0-2.86zM5.41 20L4 18.59l7.72-7.72 1.47 1.35L5.41 20z\"/>\n",
              "  </svg>\n",
              "      </button>\n",
              "      \n",
              "  <style>\n",
              "    .colab-df-container {\n",
              "      display:flex;\n",
              "      flex-wrap:wrap;\n",
              "      gap: 12px;\n",
              "    }\n",
              "\n",
              "    .colab-df-convert {\n",
              "      background-color: #E8F0FE;\n",
              "      border: none;\n",
              "      border-radius: 50%;\n",
              "      cursor: pointer;\n",
              "      display: none;\n",
              "      fill: #1967D2;\n",
              "      height: 32px;\n",
              "      padding: 0 0 0 0;\n",
              "      width: 32px;\n",
              "    }\n",
              "\n",
              "    .colab-df-convert:hover {\n",
              "      background-color: #E2EBFA;\n",
              "      box-shadow: 0px 1px 2px rgba(60, 64, 67, 0.3), 0px 1px 3px 1px rgba(60, 64, 67, 0.15);\n",
              "      fill: #174EA6;\n",
              "    }\n",
              "\n",
              "    [theme=dark] .colab-df-convert {\n",
              "      background-color: #3B4455;\n",
              "      fill: #D2E3FC;\n",
              "    }\n",
              "\n",
              "    [theme=dark] .colab-df-convert:hover {\n",
              "      background-color: #434B5C;\n",
              "      box-shadow: 0px 1px 3px 1px rgba(0, 0, 0, 0.15);\n",
              "      filter: drop-shadow(0px 1px 2px rgba(0, 0, 0, 0.3));\n",
              "      fill: #FFFFFF;\n",
              "    }\n",
              "  </style>\n",
              "\n",
              "      <script>\n",
              "        const buttonEl =\n",
              "          document.querySelector('#df-b17a55de-227f-4bb5-9f0d-e360b60790ac button.colab-df-convert');\n",
              "        buttonEl.style.display =\n",
              "          google.colab.kernel.accessAllowed ? 'block' : 'none';\n",
              "\n",
              "        async function convertToInteractive(key) {\n",
              "          const element = document.querySelector('#df-b17a55de-227f-4bb5-9f0d-e360b60790ac');\n",
              "          const dataTable =\n",
              "            await google.colab.kernel.invokeFunction('convertToInteractive',\n",
              "                                                     [key], {});\n",
              "          if (!dataTable) return;\n",
              "\n",
              "          const docLinkHtml = 'Like what you see? Visit the ' +\n",
              "            '<a target=\"_blank\" href=https://colab.research.google.com/notebooks/data_table.ipynb>data table notebook</a>'\n",
              "            + ' to learn more about interactive tables.';\n",
              "          element.innerHTML = '';\n",
              "          dataTable['output_type'] = 'display_data';\n",
              "          await google.colab.output.renderOutput(dataTable, element);\n",
              "          const docLink = document.createElement('div');\n",
              "          docLink.innerHTML = docLinkHtml;\n",
              "          element.appendChild(docLink);\n",
              "        }\n",
              "      </script>\n",
              "    </div>\n",
              "  </div>\n",
              "  "
            ]
          },
          "metadata": {},
          "execution_count": 26
        }
      ],
      "source": [
        "#numerical_data = multi_data[['L4_SRC_PORT', 'L7_PROTO', 'L4_DST_PORT', 'PROTOCOL', 'FLOW_DURATION_MILLISECONDS']]\n",
        "#multi_data = numerical_data.join(multi_data[['intrusion', 'R2L', 'Dos', 'Normal', 'Probe', 'U2R', 'Attack']])\n",
        "# multi_data.rename(columns={'Attack':'Label'}, inplace=True)\n",
        "multi_data"
      ]
    },
    {
      "cell_type": "code",
      "execution_count": null,
      "metadata": {
        "id": "DXGxUF2YE6tk"
      },
      "outputs": [],
      "source": [
        "# scaler = MinMaxScaler()\n",
        "# df_scaled = scaler.fit_transform(df)"
      ]
    },
    {
      "cell_type": "code",
      "execution_count": null,
      "metadata": {
        "id": "3QMnmfFsuQJ-"
      },
      "outputs": [],
      "source": [
        " \n",
        "X_train, X_test = train_test_split(multi_data, test_size=0.25, random_state=42)\n",
        "\n",
        "y_train = X_train[['R2L', 'Dos', 'Normal', 'Probe', 'U2R']]\n",
        "X_train = X_train.drop(['intrusion', 'R2L', 'Dos', 'Normal', 'Probe', 'U2R', 'Attack'],axis=1)\n",
        "\n",
        "y_test = X_test[['R2L', 'Dos', 'Normal', 'Probe', 'U2R']]\n",
        "X_test = X_test.drop(['intrusion', 'R2L', 'Dos', 'Normal', 'Probe', 'U2R', 'Attack'],axis=1)\n"
      ]
    },
    {
      "cell_type": "code",
      "execution_count": null,
      "metadata": {
        "colab": {
          "base_uri": "https://localhost:8080/"
        },
        "id": "FmOOCtRZ8shc",
        "outputId": "15d8c2b7-dcb6-4c2f-90e5-f3b649adf346"
      },
      "outputs": [
        {
          "output_type": "execute_result",
          "data": {
            "text/plain": [
              "6294298"
            ]
          },
          "metadata": {},
          "execution_count": 29
        }
      ],
      "source": [
        " X_train.shape[0]"
      ]
    },
    {
      "cell_type": "code",
      "execution_count": null,
      "metadata": {
        "id": "9NIcgjvpUgiS"
      },
      "outputs": [],
      "source": [
        "scaler = MinMaxScaler()\n",
        "X_train = scaler.fit_transform(X_train)\n",
        "y_train = scaler.fit_transform(y_train)\n",
        "X_test = scaler.fit_transform(X_test)\n",
        "y_test = scaler.fit_transform(y_test)"
      ]
    },
    {
      "cell_type": "code",
      "execution_count": null,
      "metadata": {
        "id": "g1l4EHOlELcG",
        "colab": {
          "base_uri": "https://localhost:8080/"
        },
        "outputId": "29299074-70a6-4f6a-b0a1-0bde69a25f69"
      },
      "outputs": [
        {
          "output_type": "execute_result",
          "data": {
            "text/plain": [
              "5"
            ]
          },
          "metadata": {},
          "execution_count": 31
        }
      ],
      "source": [
        " y_test.shape[1]"
      ]
    },
    {
      "cell_type": "code",
      "execution_count": null,
      "metadata": {
        "colab": {
          "base_uri": "https://localhost:8080/"
        },
        "id": "nawcHj--8rsr",
        "outputId": "97557a55-0077-4539-c7da-3c86be8b0374"
      },
      "outputs": [
        {
          "output_type": "execute_result",
          "data": {
            "text/plain": [
              "5"
            ]
          },
          "metadata": {},
          "execution_count": 32
        }
      ],
      "source": [
        "y_test.shape[1]"
      ]
    },
    {
      "cell_type": "code",
      "execution_count": null,
      "metadata": {
        "id": "3GBQDWLIUIrk",
        "colab": {
          "base_uri": "https://localhost:8080/"
        },
        "outputId": "ed02064d-2433-487d-e821-0f9b68e3dce0"
      },
      "outputs": [
        {
          "output_type": "execute_result",
          "data": {
            "text/plain": [
              "array([[0., 0., 1., 0., 0.],\n",
              "       [0., 0., 1., 0., 0.],\n",
              "       [1., 0., 0., 0., 0.],\n",
              "       ...,\n",
              "       [0., 0., 1., 0., 0.],\n",
              "       [0., 1., 0., 0., 0.],\n",
              "       [0., 0., 1., 0., 0.]])"
            ]
          },
          "metadata": {},
          "execution_count": 33
        }
      ],
      "source": [
        "y_train"
      ]
    },
    {
      "cell_type": "code",
      "execution_count": null,
      "metadata": {
        "id": "2FMsAkwyvIw6",
        "colab": {
          "base_uri": "https://localhost:8080/"
        },
        "outputId": "8d71356f-3a26-40ac-8db7-f8e1fdea1744"
      },
      "outputs": [
        {
          "output_type": "execute_result",
          "data": {
            "text/plain": [
              "array([1, 1, 1, ..., 1, 1, 1])"
            ]
          },
          "metadata": {},
          "execution_count": 34
        }
      ],
      "source": [
        "labels = np.where(df['Label'] == 0, 1, 0)\n",
        "labels"
      ]
    },
    {
      "cell_type": "code",
      "execution_count": null,
      "metadata": {
        "id": "BMpalMFMuU18"
      },
      "outputs": [],
      "source": [
        "X = multi_data.iloc[:,0:93]\n",
        "Y = multi_data[['R2L', 'Dos', 'Normal', 'Probe', 'U2R']]"
      ]
    },
    {
      "cell_type": "code",
      "execution_count": null,
      "metadata": {
        "id": "eAae60WluWc8"
      },
      "outputs": [],
      "source": [
        "# X_train = X_train.values\n",
        "# X_test = X_test.values\n",
        "# y_test = y_test.values"
      ]
    },
    {
      "cell_type": "code",
      "execution_count": null,
      "metadata": {
        "id": "vJQ77CEfVQki",
        "colab": {
          "base_uri": "https://localhost:8080/"
        },
        "outputId": "c5ef4244-3526-4845-c080-8c81859a4f09"
      },
      "outputs": [
        {
          "output_type": "execute_result",
          "data": {
            "text/plain": [
              "array([[0.4907289 , 0.54033722, 0.67235185, ..., 0.        , 0.        ,\n",
              "        0.        ],\n",
              "       [0.7684027 , 0.05171283, 0.75561179, ..., 0.0896861 , 0.        ,\n",
              "        0.        ],\n",
              "       [0.76840303, 0.96229496, 0.67234802, ..., 0.        , 0.99999977,\n",
              "        1.        ],\n",
              "       ...,\n",
              "       [0.76840296, 0.05171283, 0.83512728, ..., 0.0896861 , 0.        ,\n",
              "        0.        ],\n",
              "       [0.05907323, 0.72742809, 0.67235214, ..., 0.00896861, 0.        ,\n",
              "        1.        ],\n",
              "       [0.76840304, 0.82496376, 0.67234802, ..., 0.        , 0.99999977,\n",
              "        0.        ]])"
            ]
          },
          "metadata": {},
          "execution_count": 37
        }
      ],
      "source": [
        "X_train"
      ]
    },
    {
      "cell_type": "code",
      "execution_count": null,
      "metadata": {
        "id": "dqLbvBz33eOc"
      },
      "outputs": [],
      "source": [
        "def get_error_term(v1, v2, _rmse=True):\n",
        "    if _rmse:\n",
        "        return np.sqrt(np.mean((v1 - v2) ** 2, axis=1))\n",
        "    #return MAE\n",
        "    return np.mean(abs(v1 - v2), axis=1)"
      ]
    },
    {
      "cell_type": "code",
      "execution_count": null,
      "metadata": {
        "id": "f5hDUSWv3QvT"
      },
      "outputs": [],
      "source": [
        "def sample(args):\n",
        "    z_mean, z_log_var = args\n",
        "    batch = K.shape(z_mean)[0]\n",
        "    dim = K.int_shape(z_mean)[1]\n",
        "    epsilon = K.random_normal(shape=(batch, dim))\n",
        "    return z_mean + K.exp(0.5 * z_log_var) * epsilon"
      ]
    },
    {
      "cell_type": "code",
      "execution_count": null,
      "metadata": {
        "id": "g2zNX_ycupqE"
      },
      "outputs": [],
      "source": [
        "original_dim = X_train.shape[1]\n",
        "input_shape = (original_dim,)\n",
        "intermediate_dim = int(original_dim / 2)\n",
        "latent_dim = int(original_dim / 3)"
      ]
    },
    {
      "cell_type": "code",
      "execution_count": null,
      "metadata": {
        "id": "Zpo9hdR7uuM8",
        "colab": {
          "base_uri": "https://localhost:8080/"
        },
        "outputId": "4c17163a-7cda-45ef-ad35-91431b45e110"
      },
      "outputs": [
        {
          "output_type": "execute_result",
          "data": {
            "text/plain": [
              "13"
            ]
          },
          "metadata": {},
          "execution_count": 41
        }
      ],
      "source": [
        "original_dim"
      ]
    },
    {
      "cell_type": "code",
      "execution_count": null,
      "metadata": {
        "id": "PGsCIlR98YhM",
        "colab": {
          "base_uri": "https://localhost:8080/"
        },
        "outputId": "525a9b05-7127-4c2c-c926-286e426dbee5"
      },
      "outputs": [
        {
          "output_type": "execute_result",
          "data": {
            "text/plain": [
              "6"
            ]
          },
          "metadata": {},
          "execution_count": 42
        }
      ],
      "source": [
        "intermediate_dim"
      ]
    },
    {
      "cell_type": "code",
      "execution_count": null,
      "metadata": {
        "id": "RR2pLMu08aRb",
        "colab": {
          "base_uri": "https://localhost:8080/"
        },
        "outputId": "60167e8d-408b-4df9-93fb-9885df7d98a0"
      },
      "outputs": [
        {
          "output_type": "execute_result",
          "data": {
            "text/plain": [
              "4"
            ]
          },
          "metadata": {},
          "execution_count": 43
        }
      ],
      "source": [
        "latent_dim"
      ]
    },
    {
      "cell_type": "code",
      "execution_count": null,
      "metadata": {
        "id": "q6vRfPsafFvC"
      },
      "outputs": [],
      "source": [
        "from datetime import datetime\n",
        "import matplotlib.pyplot as plt\n",
        "import numpy as np\n",
        "import pandas as pd\n",
        "\n",
        "\n",
        "import tensorflow as tf\n",
        "tf.compat.v1.disable_eager_execution()\n",
        "from tensorflow.keras.models import Model, load_model\n",
        "from tensorflow.keras.layers import Lambda, Input, Dense\n",
        "from tensorflow.keras.losses import mse, binary_crossentropy, kl_divergence\n",
        "from tensorflow.keras import optimizers\n",
        "from tensorflow.keras import backend as K\n",
        "\n",
        "from sklearn.model_selection import train_test_split\n",
        "from sklearn.preprocessing import MinMaxScaler, StandardScaler, PowerTransformer\n",
        "\n",
        "import seaborn as sns\n",
        "import matplotlib.pyplot as plt\n",
        "import numpy as np\n",
        "import pandas as pd\n",
        "\n",
        "import pickle # saving and loading trained model\n",
        "from os import path\n",
        "\n",
        "# importing required libraries for normalizing data\n",
        "from sklearn import preprocessing\n",
        "from sklearn.preprocessing import StandardScaler\n",
        "\n",
        "# importing library for plotting\n",
        "import matplotlib.pyplot as plt\n",
        "# importing library for dealing ipaddress\n",
        "import ipaddress\n",
        "from ipaddress import IPv4Address\n",
        "# importing library for support vector machine classifier\n",
        "from sklearn.svm import SVC\n",
        "# importing library for K-neares-neighbor classifier\n",
        "from sklearn.neighbors import KNeighborsClassifier\n",
        "# importing library for Linear Discriminant Analysis Model\n",
        "from sklearn.discriminant_analysis import LinearDiscriminantAnalysis\n",
        "# importing library for Quadratic Discriminant Analysis Model\n",
        "from sklearn.discriminant_analysis import QuadraticDiscriminantAnalysis\n",
        "\n",
        "from sklearn import metrics\n",
        "from sklearn.metrics import accuracy_score # for calculating accuracy of model\n",
        "from sklearn.model_selection import train_test_split # for splitting the dataset for training and testing\n",
        "from sklearn.metrics import classification_report # for generating a classification report of model\n",
        "\n",
        "from sklearn.metrics import precision_score\n",
        "from sklearn.metrics import recall_score\n",
        "from sklearn.metrics import f1_score\n",
        "\n",
        "from sklearn.metrics import roc_auc_score\n",
        "from sklearn.metrics import roc_curve, auc\n",
        "\n",
        "from keras.layers import Dense # importing dense layer\n",
        "from keras.models import Sequential #importing Sequential layer\n",
        "from keras.models import model_from_json # saving and loading trained model"
      ]
    },
    {
      "cell_type": "code",
      "execution_count": null,
      "metadata": {
        "id": "FbbrK0dduxlP",
        "colab": {
          "base_uri": "https://localhost:8080/"
        },
        "outputId": "673e8062-1c38-4446-babd-8c8ea114a9ad"
      },
      "outputs": [
        {
          "output_type": "stream",
          "name": "stdout",
          "text": [
            "Model: \"encoder\"\n",
            "__________________________________________________________________________________________________\n",
            " Layer (type)                   Output Shape         Param #     Connected to                     \n",
            "==================================================================================================\n",
            " encoder_input (InputLayer)     [(None, 13)]         0           []                               \n",
            "                                                                                                  \n",
            " dense (Dense)                  (None, 6)            84          ['encoder_input[0][0]']          \n",
            "                                                                                                  \n",
            " z_mean (Dense)                 (None, 4)            28          ['dense[0][0]']                  \n",
            "                                                                                                  \n",
            " z_log_var (Dense)              (None, 4)            28          ['dense[0][0]']                  \n",
            "                                                                                                  \n",
            " z (Lambda)                     (None, 4)            0           ['z_mean[0][0]',                 \n",
            "                                                                  'z_log_var[0][0]']              \n",
            "                                                                                                  \n",
            "==================================================================================================\n",
            "Total params: 140\n",
            "Trainable params: 140\n",
            "Non-trainable params: 0\n",
            "__________________________________________________________________________________________________\n"
          ]
        }
      ],
      "source": [
        "# encoder model\n",
        "\n",
        "inputs = Input(shape=input_shape, name='encoder_input')\n",
        "x = Dense(intermediate_dim, activation='relu')(inputs)\n",
        "z_mean = Dense(latent_dim, name='z_mean')(x)\n",
        "z_log_var = Dense(latent_dim, name='z_log_var')(x)\n",
        "# use the reparameterization trick and get the output from the sample() function\n",
        "# z = Lambda(sample, output_shape=(1,), name='z')([z_mean, z_log_var])\n",
        " \n",
        "z = Lambda(sample, output_shape=(input_shape,), name='z')([z_mean, z_log_var])\n",
        " \n",
        "\n",
        "\n",
        "encoder = Model(inputs, z, name='encoder')\n",
        "encoder.summary()\n"
      ]
    },
    {
      "cell_type": "code",
      "execution_count": null,
      "metadata": {
        "id": "E87lWQFaL-pL"
      },
      "outputs": [],
      "source": [
        "# # creating model with input, encoding, decoding, output layers\n",
        "# autoencoder = Model(inputs=inputs, outputs=z)\n",
        "\n",
        "# # defining loss function, optimizer, metrics and then compiling model\n",
        "# autoencoder.compile(optimizer='adam', loss='mean_squared_error',metrics=['accuracy'])"
      ]
    },
    {
      "cell_type": "code",
      "execution_count": null,
      "metadata": {
        "id": "Pnp74RZNM83U"
      },
      "outputs": [],
      "source": [
        "# # summary of model layers\n",
        "# autoencoder.summary()"
      ]
    },
    {
      "cell_type": "code",
      "execution_count": null,
      "metadata": {
        "id": "1CY-xRlgNRez"
      },
      "outputs": [],
      "source": [
        "# from keras.callbacks import ModelCheckpoint, EarlyStopping"
      ]
    },
    {
      "cell_type": "code",
      "execution_count": null,
      "metadata": {
        "id": "fhFcz6tT6CtT"
      },
      "outputs": [],
      "source": [
        "# # training the model on training dataset\n",
        "# monitor = EarlyStopping(monitor='val_loss', min_delta=1e-3, \n",
        "#                         patience=20, verbose=1, mode='auto',\n",
        "#                            restore_best_weights=True)\n",
        "# history = autoencoder.fit(X_train, X_train, epochs=1,batch_size=500,validation_data=(X_test, X_test),callbacks=monitor).history"
      ]
    },
    {
      "cell_type": "code",
      "execution_count": null,
      "metadata": {
        "id": "_hEguLe75-_5"
      },
      "outputs": [],
      "source": [
        "# autoencoder.summary()"
      ]
    },
    {
      "cell_type": "code",
      "execution_count": null,
      "metadata": {
        "id": "M9jMHubnuz2Y",
        "colab": {
          "base_uri": "https://localhost:8080/"
        },
        "outputId": "9ef1e4af-ad15-489c-b85f-f2a8e8b0e81b"
      },
      "outputs": [
        {
          "output_type": "stream",
          "name": "stdout",
          "text": [
            "Model: \"decoder\"\n",
            "_________________________________________________________________\n",
            " Layer (type)                Output Shape              Param #   \n",
            "=================================================================\n",
            " z_sampling (InputLayer)     [(None, 4)]               0         \n",
            "                                                                 \n",
            " dense_1 (Dense)             (None, 6)                 30        \n",
            "                                                                 \n",
            " dense_2 (Dense)             (None, 13)                91        \n",
            "                                                                 \n",
            "=================================================================\n",
            "Total params: 121\n",
            "Trainable params: 121\n",
            "Non-trainable params: 0\n",
            "_________________________________________________________________\n"
          ]
        }
      ],
      "source": [
        "# decoder model\n",
        "latent_inputs = Input(shape=(latent_dim,), name='z_sampling')\n",
        "x = Dense(intermediate_dim, activation='relu')(latent_inputs)\n",
        "outputs = Dense(original_dim, activation='sigmoid')(x)\n",
        "# Instantiate the decoder model:\n",
        "decoder = Model(latent_inputs, outputs, name='decoder')\n",
        "decoder.summary()"
      ]
    },
    {
      "cell_type": "code",
      "execution_count": null,
      "metadata": {
        "id": "tdw4jeVn5GHS"
      },
      "outputs": [],
      "source": [
        "# full VAE model\n",
        "outputs = decoder(encoder(inputs))\n",
        "vae_model = Model(inputs, outputs, name='vae_mlp')"
      ]
    },
    {
      "cell_type": "code",
      "execution_count": null,
      "metadata": {
        "id": "tka5FliK5JL_"
      },
      "outputs": [],
      "source": [
        "# the KL loss function:\n",
        "def vae_loss(x, x_decoded_mean):\n",
        "    # compute the average MSE error, then scale it up, ie. simply sum on all axes\n",
        "    reconstruction_loss = K.sum(K.square(x - x_decoded_mean))\n",
        "    # compute the KL loss\n",
        "    kl_loss = - 0.5 * K.sum(1 + z_log_var - K.square(z_mean) - K.square(K.exp(z_log_var)), axis=-1)\n",
        "    # return the average loss over all \n",
        "    total_loss = K.mean(reconstruction_loss + kl_loss)    \n",
        "    #total_loss = reconstruction_loss + kl_loss\n",
        "    return total_loss"
      ]
    },
    {
      "cell_type": "code",
      "execution_count": null,
      "metadata": {
        "id": "bt1DuMplT8dU",
        "colab": {
          "base_uri": "https://localhost:8080/"
        },
        "outputId": "a3598146-e798-4885-a24e-95812635ab8c"
      },
      "outputs": [
        {
          "output_type": "execute_result",
          "data": {
            "text/plain": [
              "array([[0.4907289 , 0.54033722, 0.67235185, ..., 0.        , 0.        ,\n",
              "        0.        ],\n",
              "       [0.7684027 , 0.05171283, 0.75561179, ..., 0.0896861 , 0.        ,\n",
              "        0.        ],\n",
              "       [0.76840303, 0.96229496, 0.67234802, ..., 0.        , 0.99999977,\n",
              "        1.        ],\n",
              "       ...,\n",
              "       [0.76840296, 0.05171283, 0.83512728, ..., 0.0896861 , 0.        ,\n",
              "        0.        ],\n",
              "       [0.05907323, 0.72742809, 0.67235214, ..., 0.00896861, 0.        ,\n",
              "        1.        ],\n",
              "       [0.76840304, 0.82496376, 0.67234802, ..., 0.        , 0.99999977,\n",
              "        0.        ]])"
            ]
          },
          "metadata": {},
          "execution_count": 54
        }
      ],
      "source": [
        "X_train "
      ]
    },
    {
      "cell_type": "code",
      "execution_count": null,
      "metadata": {
        "id": "f_65UTk35MRi",
        "colab": {
          "base_uri": "https://localhost:8080/"
        },
        "outputId": "02b7502c-5c24-4331-8b7b-59f6df9c55c9"
      },
      "outputs": [
        {
          "output_type": "stream",
          "name": "stdout",
          "text": [
            "Model: \"vae_mlp\"\n",
            "_________________________________________________________________\n",
            " Layer (type)                Output Shape              Param #   \n",
            "=================================================================\n",
            " encoder_input (InputLayer)  [(None, 13)]              0         \n",
            "                                                                 \n",
            " encoder (Functional)        (None, 4)                 140       \n",
            "                                                                 \n",
            " decoder (Functional)        (None, 13)                121       \n",
            "                                                                 \n",
            "=================================================================\n",
            "Total params: 261\n",
            "Trainable params: 261\n",
            "Non-trainable params: 0\n",
            "_________________________________________________________________\n",
            "Train on 6294298 samples, validate on 2098100 samples\n",
            "Epoch 1/10\n",
            "6294272/6294298 [============================>.] - ETA: 0s - loss: 32.6759 - accuracy: 0.7007"
          ]
        },
        {
          "output_type": "stream",
          "name": "stderr",
          "text": [
            "/usr/local/lib/python3.8/dist-packages/keras/engine/training_v1.py:2045: UserWarning: `Model.state_updates` will be removed in a future version. This property should not be used in TensorFlow 2.0, as `updates` are applied automatically.\n",
            "  updates = self.state_updates\n"
          ]
        },
        {
          "output_type": "stream",
          "name": "stdout",
          "text": [
            "\b\b\b\b\b\b\b\b\b\b\b\b\b\b\b\b\b\b\b\b\b\b\b\b\b\b\b\b\b\b\b\b\b\b\b\b\b\b\b\b\b\b\b\b\b\b\b\b\b\b\b\b\b\b\b\b\b\b\b\b\b\b\b\b\b\b\b\b\b\b\b\b\b\b\b\b\b\b\b\b\b\b\b\b\b\b\b\b\b\b\b\b\b\r6294298/6294298 [==============================] - 165s 26us/sample - loss: 32.6757 - accuracy: 0.7007 - val_loss: 12.3859 - val_accuracy: 0.8253\n",
            "Epoch 2/10\n",
            "6294298/6294298 [==============================] - 159s 25us/sample - loss: 11.1498 - accuracy: 0.8373 - val_loss: 10.5589 - val_accuracy: 0.8528\n",
            "Epoch 3/10\n",
            "6294298/6294298 [==============================] - 155s 25us/sample - loss: 10.4657 - accuracy: 0.8577 - val_loss: 10.3076 - val_accuracy: 0.8602\n",
            "Epoch 4/10\n",
            "6294298/6294298 [==============================] - 154s 24us/sample - loss: 10.0149 - accuracy: 0.8646 - val_loss: 9.6294 - val_accuracy: 0.8734\n",
            "Epoch 5/10\n",
            "6294298/6294298 [==============================] - 153s 24us/sample - loss: 9.3385 - accuracy: 0.8815 - val_loss: 9.1655 - val_accuracy: 0.8876\n",
            "Epoch 6/10\n",
            "6294298/6294298 [==============================] - 154s 24us/sample - loss: 9.0479 - accuracy: 0.8900 - val_loss: 8.9428 - val_accuracy: 0.8905\n",
            "Epoch 7/10\n",
            "6294298/6294298 [==============================] - 152s 24us/sample - loss: 8.8900 - accuracy: 0.8899 - val_loss: 8.8547 - val_accuracy: 0.8889\n",
            "Epoch 8/10\n",
            "6294298/6294298 [==============================] - 154s 24us/sample - loss: 8.8289 - accuracy: 0.8885 - val_loss: 8.7973 - val_accuracy: 0.8878\n",
            "Epoch 9/10\n",
            "6294298/6294298 [==============================] - 153s 24us/sample - loss: 8.7832 - accuracy: 0.8869 - val_loss: 8.7542 - val_accuracy: 0.8881\n",
            "Epoch 10/10\n",
            "6294298/6294298 [==============================] - 152s 24us/sample - loss: 8.7433 - accuracy: 0.8889 - val_loss: 8.7322 - val_accuracy: 0.8888\n"
          ]
        }
      ],
      "source": [
        "opt = optimizers.Adam(learning_rate=3e-5, clipvalue=0.5)\n",
        "#opt = optimizers.RMSprop(learning_rate=0.0001)\n",
        "\n",
        "vae_model.compile(optimizer=opt, loss=vae_loss,metrics=['accuracy'])\n",
        "vae_model.summary()\n",
        "# Finally, we train the model:\n",
        "results = vae_model.fit(X_train, X_train ,shuffle=True,epochs=10,batch_size=64,validation_data=(X_test, X_test)).history"
      ]
    },
    {
      "cell_type": "code",
      "execution_count": null,
      "metadata": {
        "id": "1KCfgUzDgfTi",
        "colab": {
          "base_uri": "https://localhost:8080/",
          "height": 621
        },
        "outputId": "dac23457-f3c1-4bcb-ebac-553390edd284"
      },
      "outputs": [
        {
          "output_type": "display_data",
          "data": {
            "text/plain": [
              "<Figure size 720x720 with 1 Axes>"
            ],
            "image/png": "[encoded data removed]"
          },
          "metadata": {
            "needs_background": "light"
          }
        }
      ],
      "source": [
        "plt.figure(figsize=(10,10))\n",
        "plt.plot(vae_model.history.history['loss'])\n",
        "plt.plot(vae_model.history.history['val_loss'])\n",
        "plt.title(\"Performance of VAE model with increase in epochs \")\n",
        "plt.xlabel('Epochs')\n",
        "plt.ylabel('Loss')\n",
        "plt.legend(['Train','Validation'],loc='upper right')\n",
        "plt.show()"
      ]
    },
    {
      "cell_type": "code",
      "execution_count": null,
      "metadata": {
        "id": "y4uMKsYciuMF"
      },
      "outputs": [],
      "source": [
        "vae_model.compile(optimizer='adam', loss='mean_squared_error',metrics=['accuracy'])"
      ]
    },
    {
      "cell_type": "code",
      "execution_count": null,
      "metadata": {
        "id": "7czBIaTDi0dB",
        "colab": {
          "base_uri": "https://localhost:8080/"
        },
        "outputId": "41c3d449-db3a-4dee-8bcf-da866e01a816"
      },
      "outputs": [
        {
          "output_type": "stream",
          "name": "stdout",
          "text": [
            "Test results - Loss: 0.005078559071623689 - Accuracy: 88.89919519424438%\n"
          ]
        }
      ],
      "source": [
        "# predicting target attribute on testing dataset\n",
        "test_results = vae_model.evaluate(X_test, X_test, verbose=1)\n",
        "print(f'Test results - Loss: {test_results[0]} - Accuracy: {test_results[1]*100}%')"
      ]
    },
    {
      "cell_type": "code",
      "execution_count": null,
      "metadata": {
        "id": "K0_mo-lLi9H9",
        "colab": {
          "base_uri": "https://localhost:8080/"
        },
        "outputId": "701dc627-69c0-487d-f8db-7b1b57e1fd65"
      },
      "outputs": [
        {
          "output_type": "stream",
          "name": "stderr",
          "text": [
            "/usr/local/lib/python3.8/dist-packages/keras/engine/training_v1.py:2067: UserWarning: `Model.state_updates` will be removed in a future version. This property should not be used in TensorFlow 2.0, as `updates` are applied automatically.\n",
            "  updates=self.state_updates,\n"
          ]
        }
      ],
      "source": [
        " predictions = vae_model.predict(X_test)"
      ]
    },
    {
      "cell_type": "markdown",
      "metadata": {
        "id": "n2HTd1VGRG8U"
      },
      "source": [
        "# AE Classifier"
      ]
    },
    {
      "cell_type": "code",
      "execution_count": null,
      "metadata": {
        "id": "xMwBmEgBjdK6",
        "colab": {
          "base_uri": "https://localhost:8080/"
        },
        "outputId": "d335262e-1d34-48f7-a8b1-0fb2024a15f0"
      },
      "outputs": [
        {
          "output_type": "stream",
          "name": "stdout",
          "text": [
            "Model: \"encoder\"\n",
            "__________________________________________________________________________________________________\n",
            " Layer (type)                   Output Shape         Param #     Connected to                     \n",
            "==================================================================================================\n",
            " input_1 (InputLayer)           [(None, 13)]         0           []                               \n",
            "                                                                                                  \n",
            " dense_3 (Dense)                (None, 6)            84          ['input_1[0][0]']                \n",
            "                                                                                                  \n",
            " z_mean (Dense)                 (None, 4)            28          ['dense_3[0][0]']                \n",
            "                                                                                                  \n",
            " z_log_var (Dense)              (None, 4)            28          ['dense_3[0][0]']                \n",
            "                                                                                                  \n",
            " z (Lambda)                     (None, 4)            0           ['z_mean[0][0]',                 \n",
            "                                                                  'z_log_var[0][0]']              \n",
            "                                                                                                  \n",
            "==================================================================================================\n",
            "Total params: 140\n",
            "Trainable params: 140\n",
            "Non-trainable params: 0\n",
            "__________________________________________________________________________________________________\n"
          ]
        }
      ],
      "source": [
        " \n",
        "inputs = Input(shape=predictions.shape[1])\n",
        "x = Dense(intermediate_dim, activation='relu')(inputs)\n",
        "z_mean = Dense(latent_dim, name='z_mean')(x)\n",
        "z_log_var = Dense(latent_dim, name='z_log_var')(x)\n",
        "z = Lambda(sample, output_shape=(input_shape,), name='z')([z_mean, z_log_var])\n",
        "\n",
        "encoder1 = Model(inputs, z, name='encoder')\n",
        "encoder1.summary()\n",
        " \n"
      ]
    },
    {
      "cell_type": "code",
      "execution_count": null,
      "metadata": {
        "id": "00Tauc29vCQK",
        "colab": {
          "base_uri": "https://localhost:8080/"
        },
        "outputId": "6d92c4d7-58b6-476f-e57d-d19452e4e302"
      },
      "outputs": [
        {
          "output_type": "stream",
          "name": "stdout",
          "text": [
            "Model: \"decoder\"\n",
            "_________________________________________________________________\n",
            " Layer (type)                Output Shape              Param #   \n",
            "=================================================================\n",
            " z_sampling (InputLayer)     [(None, 4)]               0         \n",
            "                                                                 \n",
            " dense_4 (Dense)             (None, 6)                 30        \n",
            "                                                                 \n",
            " dense_5 (Dense)             (None, 5)                 35        \n",
            "                                                                 \n",
            "=================================================================\n",
            "Total params: 65\n",
            "Trainable params: 65\n",
            "Non-trainable params: 0\n",
            "_________________________________________________________________\n"
          ]
        }
      ],
      "source": [
        "\n",
        "latent_inputs = Input(shape=(latent_dim,), name='z_sampling')\n",
        "x = Dense(intermediate_dim, activation='relu')(latent_inputs)\n",
        "outputs = Dense(5, activation='sigmoid')(x)\n",
        " \n",
        "decoder1 = Model(latent_inputs, outputs, name='decoder')\n",
        "decoder1.summary()"
      ]
    },
    {
      "cell_type": "code",
      "execution_count": null,
      "metadata": {
        "id": "jNIPlnGUkUcy"
      },
      "outputs": [],
      "source": [
        "# full VAE model\n",
        "outputs = decoder1(encoder1(inputs))\n",
        "vae_model1 = Model(inputs, outputs, name='vae_mlp')"
      ]
    },
    {
      "cell_type": "code",
      "execution_count": null,
      "metadata": {
        "id": "_EGru4NllWO3",
        "colab": {
          "base_uri": "https://localhost:8080/"
        },
        "outputId": "a7cd914e-2f69-40d7-9c94-5dde4bd56730"
      },
      "outputs": [
        {
          "output_type": "stream",
          "name": "stdout",
          "text": [
            "Train on 1678480 samples, validate on 419620 samples\n",
            "Epoch 1/10\n",
            "1678480/1678480 [==============================] - 40s 24us/sample - loss: 15.3879 - accuracy: 0.8834 - val_loss: 6.8295 - val_accuracy: 0.9501\n",
            "Epoch 2/10\n",
            "1678480/1678480 [==============================] - 40s 24us/sample - loss: 6.0485 - accuracy: 0.9512 - val_loss: 5.5858 - val_accuracy: 0.9516\n",
            "Epoch 3/10\n",
            "1678480/1678480 [==============================] - 43s 26us/sample - loss: 5.3515 - accuracy: 0.9520 - val_loss: 5.1382 - val_accuracy: 0.9523\n",
            "Epoch 4/10\n",
            "1678480/1678480 [==============================] - 40s 24us/sample - loss: 5.0174 - accuracy: 0.9524 - val_loss: 4.8672 - val_accuracy: 0.9528\n",
            "Epoch 5/10\n",
            "1678480/1678480 [==============================] - 40s 24us/sample - loss: 4.8085 - accuracy: 0.9525 - val_loss: 4.7019 - val_accuracy: 0.9526\n",
            "Epoch 6/10\n",
            "1678480/1678480 [==============================] - 39s 23us/sample - loss: 4.6686 - accuracy: 0.9525 - val_loss: 4.6020 - val_accuracy: 0.9525\n",
            "Epoch 7/10\n",
            "1678480/1678480 [==============================] - 40s 24us/sample - loss: 4.5964 - accuracy: 0.9526 - val_loss: 4.5462 - val_accuracy: 0.9527\n",
            "Epoch 8/10\n",
            "1678480/1678480 [==============================] - 38s 23us/sample - loss: 4.5568 - accuracy: 0.9526 - val_loss: 4.5099 - val_accuracy: 0.9528\n",
            "Epoch 9/10\n",
            "1678480/1678480 [==============================] - 38s 23us/sample - loss: 4.5322 - accuracy: 0.9525 - val_loss: 4.5059 - val_accuracy: 0.9524\n",
            "Epoch 10/10\n",
            "1678480/1678480 [==============================] - 38s 23us/sample - loss: 4.5344 - accuracy: 0.9524 - val_loss: 4.5012 - val_accuracy: 0.9526\n"
          ]
        }
      ],
      "source": [
        "\n",
        "vae_model1.compile(optimizer=opt, loss=vae_loss,metrics=['accuracy'])\n",
        "\n",
        "his  =  vae_model1.fit(predictions,y_test,shuffle=True,epochs=10,batch_size=64,validation_split=0.2).history"
      ]
    },
    {
      "cell_type": "code",
      "execution_count": null,
      "metadata": {
        "id": "iUGYCtnoyrqy"
      },
      "outputs": [],
      "source": [
        "vae_model1.compile(optimizer='adam', loss='mean_squared_error',metrics=['accuracy'])"
      ]
    },
    {
      "cell_type": "code",
      "execution_count": null,
      "metadata": {
        "id": "mVACUZktyvrw",
        "colab": {
          "base_uri": "https://localhost:8080/"
        },
        "outputId": "04433cfd-fa70-4547-8a96-4f47dc455423"
      },
      "outputs": [
        {
          "output_type": "stream",
          "name": "stdout",
          "text": [
            "Test results - Loss: 0.011279946622733877 - Accuracy: 95.38053274154663%\n"
          ]
        }
      ],
      "source": [
        "# predicting target attribute on testing dataset\n",
        "test_results = vae_model1.evaluate(X_test, y_test, verbose=1)\n",
        "print(f'Test results - Loss: {test_results[0]} - Accuracy: {test_results[1]*100}%')\n",
        " "
      ]
    },
    {
      "cell_type": "code",
      "execution_count": null,
      "metadata": {
        "id": "QM_icqxayzpD",
        "colab": {
          "base_uri": "https://localhost:8080/",
          "height": 295
        },
        "outputId": "bc2f5cf3-2014-49ee-e672-bff998cbf29d"
      },
      "outputs": [
        {
          "output_type": "display_data",
          "data": {
            "text/plain": [
              "<Figure size 432x288 with 1 Axes>"
            ],
            "image/png": "[encoded data removed]"
          },
          "metadata": {
            "needs_background": "light"
          }
        }
      ],
      "source": [
        "# Plot of loss vs epoch of train and test dataset\n",
        "plt.plot(his['loss'])\n",
        "plt.plot(his['val_loss'])\n",
        "plt.title(\"Plot of loss vs epoch for train and test dataset\")\n",
        "plt.ylabel('loss')\n",
        "plt.xlabel('epoch')\n",
        "plt.legend(['train', 'test'], loc='upper right')\n",
        "# plt.savefig('/content/drive/MyDrive/Colab Notebooks/IDS-AutoEncoder/plots/ae_classifier_multi_loss.png')\n",
        "plt.show()"
      ]
    },
    {
      "cell_type": "code",
      "execution_count": null,
      "metadata": {
        "id": "hN4T0DV-zIgQ",
        "colab": {
          "base_uri": "https://localhost:8080/",
          "height": 295
        },
        "outputId": "be7598a6-bf86-4443-f456-e2ff20acb20e"
      },
      "outputs": [
        {
          "output_type": "display_data",
          "data": {
            "text/plain": [
              "<Figure size 432x288 with 1 Axes>"
            ],
            "image/png": "[encoded data removed]"
          },
          "metadata": {
            "needs_background": "light"
          }
        }
      ],
      "source": [
        "plt.plot(his['accuracy'])\n",
        "plt.plot(his['val_accuracy'])\n",
        "plt.title(\"Plot of accuracy vs epoch for train and test dataset\")\n",
        "plt.ylabel('accuracy')\n",
        "plt.xlabel('epoch')\n",
        "plt.legend(['train', 'test'], loc='best')\n",
        "# plt.savefig('/content/drive/MyDrive/Colab Notebooks/IDS-AutoEncoder/plots/ae_classifier_multi_accuracy.png')\n",
        "plt.show()"
      ]
    },
    {
      "cell_type": "code",
      "execution_count": null,
      "metadata": {
        "id": "zyPbfUj5g1Jy"
      },
      "outputs": [],
      "source": [
        "n_classes = len(le2.classes_)\n",
        "y_pred = vae_model1.predict(X_test)"
      ]
    },
    {
      "cell_type": "code",
      "execution_count": null,
      "metadata": {
        "id": "CXfhRVZeg2ea"
      },
      "outputs": [],
      "source": [
        "fpr_ae = dict()\n",
        "tpr_ae = dict()\n",
        "roc_auc_ae = dict()\n",
        "for i in range(n_classes):\n",
        "    fpr_ae[i], tpr_ae[i], _ = roc_curve(y_test[:, i], y_pred[:, i])\n",
        "    roc_auc_ae[i] = auc(fpr_ae[i], tpr_ae[i])"
      ]
    },
    {
      "cell_type": "code",
      "execution_count": null,
      "metadata": {
        "id": "U88JfRxeg1Fr"
      },
      "outputs": [],
      "source": [
        "for j in range(0,y_pred.shape[1]):\n",
        "  for i in range(0,y_pred.shape[0]):\n",
        "    y_pred[i][j] = int(round(y_pred[i][j]))"
      ]
    },
    {
      "cell_type": "code",
      "execution_count": null,
      "metadata": {
        "id": "fIiujusdgzpl",
        "colab": {
          "base_uri": "https://localhost:8080/"
        },
        "outputId": "d125216b-c6d2-4f22-9a10-6082df54444c"
      },
      "outputs": [
        {
          "output_type": "stream",
          "name": "stdout",
          "text": [
            "Recall Score -  0.9474138506267575\n",
            "F1 Score -  0.957954731378856\n",
            "Precision Score -  0.9687328057966974\n"
          ]
        }
      ],
      "source": [
        "print(\"Recall Score - \",recall_score(y_test,y_pred.astype('uint8'),average='micro'))\n",
        "print(\"F1 Score - \",f1_score(y_test,y_pred.astype('uint8'),average='micro'))\n",
        "print(\"Precision Score - \",precision_score(y_test,y_pred.astype('uint8'),average='micro'))"
      ]
    },
    {
      "cell_type": "code",
      "execution_count": null,
      "metadata": {
        "id": "04jkIemngrT7",
        "colab": {
          "base_uri": "https://localhost:8080/"
        },
        "outputId": "4f4eed5e-14af-4530-a345-7a993c35f78c"
      },
      "outputs": [
        {
          "output_type": "stream",
          "name": "stderr",
          "text": [
            "/usr/local/lib/python3.8/dist-packages/sklearn/metrics/_classification.py:1318: UndefinedMetricWarning: Precision and F-score are ill-defined and being set to 0.0 in labels with no predicted samples. Use `zero_division` parameter to control this behavior.\n",
            "  _warn_prf(average, modifier, msg_start, len(result))\n"
          ]
        },
        {
          "output_type": "stream",
          "name": "stdout",
          "text": [
            "              precision    recall  f1-score   support\n",
            "\n",
            "         R2L     0.0000    0.0000    0.0000     19445\n",
            "         Dos     0.7078    0.9242    0.8017    162335\n",
            "      normal     0.9993    0.9971    0.9982   1843057\n",
            "       Probe     0.0972    0.0013    0.0025     72810\n",
            "         U2R     0.0000    0.0000    0.0000       453\n",
            "\n",
            "   micro avg     0.9687    0.9474    0.9580   2098100\n",
            "   macro avg     0.3609    0.3845    0.3605   2098100\n",
            "weighted avg     0.9359    0.9474    0.9389   2098100\n",
            " samples avg     0.9474    0.9474    0.9474   2098100\n",
            "\n"
          ]
        },
        {
          "output_type": "stream",
          "name": "stderr",
          "text": [
            "/usr/local/lib/python3.8/dist-packages/sklearn/metrics/_classification.py:1318: UndefinedMetricWarning: Precision and F-score are ill-defined and being set to 0.0 in samples with no predicted labels. Use `zero_division` parameter to control this behavior.\n",
            "  _warn_prf(average, modifier, msg_start, len(result))\n"
          ]
        }
      ],
      "source": [
        "from sklearn.metrics import classification_report\n",
        "attack_name = [\"R2L\",\"Dos\",\"normal\",\"Probe\",\"U2R\"]\n",
        "print(classification_report(y_test, y_pred, target_names=attack_name, digits=4))"
      ]
    }
  ],
  "metadata": {
    "colab": {
      "provenance": []
    },
    "kernelspec": {
      "display_name": "Python 3",
      "language": "python",
      "name": "python3"
    },
    "language_info": {
      "codemirror_mode": {
        "name": "ipython",
        "version": 3
      },
      "file_extension": ".py",
      "mimetype": "text/x-python",
      "name": "python",
      "nbconvert_exporter": "python",
      "pygments_lexer": "ipython3",
      "version": "3.8.5"
    }
  },
  "nbformat": 4,
  "nbformat_minor": 0
}