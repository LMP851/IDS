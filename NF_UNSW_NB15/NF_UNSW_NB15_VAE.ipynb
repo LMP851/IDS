{
  "cells": [
    {
      "cell_type": "code",
      "execution_count": null,
      "metadata": {
        "id": "j6ZSRZDx6YO8"
      },
      "outputs": [],
      "source": [
        "# importing required libraries\n",
        "import numpy as np\n",
        "import pandas as pd\n",
        "\n",
        "import pickle # saving and loading trained model\n",
        "from os import path\n",
        "\n",
        "# importing required libraries for normalizing data\n",
        "from sklearn import preprocessing\n",
        "from sklearn.preprocessing import StandardScaler\n",
        "\n",
        "# importing library for plotting\n",
        "import matplotlib.pyplot as plt\n",
        "# importing library for dealing ipaddress\n",
        "import ipaddress\n",
        "from ipaddress import IPv4Address\n",
        "# importing library for support vector machine classifier\n",
        "from sklearn.svm import SVC\n",
        "# importing library for K-neares-neighbor classifier\n",
        "from sklearn.neighbors import KNeighborsClassifier\n",
        "# importing library for Linear Discriminant Analysis Model\n",
        "from sklearn.discriminant_analysis import LinearDiscriminantAnalysis\n",
        "# importing library for Quadratic Discriminant Analysis Model\n",
        "from sklearn.discriminant_analysis import QuadraticDiscriminantAnalysis\n",
        "\n",
        "from sklearn import metrics\n",
        "from sklearn.metrics import accuracy_score # for calculating accuracy of model\n",
        "from sklearn.model_selection import train_test_split # for splitting the dataset for training and testing\n",
        "from sklearn.metrics import classification_report # for generating a classification report of model\n",
        "\n",
        "from sklearn.metrics import precision_score\n",
        "from sklearn.metrics import recall_score\n",
        "from sklearn.metrics import f1_score\n",
        "\n",
        "from sklearn.metrics import roc_auc_score\n",
        "from sklearn.metrics import roc_curve, auc\n",
        "\n",
        "from keras.layers import Dense # importing dense layer\n",
        "from keras.models import Sequential #importing Sequential layer\n",
        "from keras.models import model_from_json # saving and loading trained model\n",
        "\n",
        "from keras.layers import LSTM\n",
        "from keras.layers import Input\n",
        "from keras.models import Model\n",
        "from tensorflow.keras.callbacks import EarlyStopping\n",
        "# representation of model layers\n",
        "from keras.utils.vis_utils import plot_model\n",
        "from sklearn.preprocessing import MinMaxScaler\n",
        "\n",
        "%matplotlib inline"
      ]
    },
    {
      "cell_type": "markdown",
      "metadata": {
        "id": "K6x2D7Cw6YPB"
      },
      "source": [
        "# NF-UNSW-NB15\n"
      ]
    },
    {
      "cell_type": "code",
      "execution_count": null,
      "metadata": {
        "colab": {
          "base_uri": "https://localhost:8080/"
        },
        "id": "AS-O_8Isl159",
        "outputId": "7ccb9b46-9402-4d1d-effd-7344c32ea6e5"
      },
      "outputs": [
        {
          "output_type": "stream",
          "name": "stdout",
          "text": [
            "Drive already mounted at /content/drive; to attempt to forcibly remount, call drive.mount(\"/content/drive\", force_remount=True).\n"
          ]
        }
      ],
      "source": [
        "from google.colab import drive\n",
        "drive.mount('/content/drive')"
      ]
    },
    {
      "cell_type": "code",
      "execution_count": null,
      "metadata": {
        "id": "TOQ6E7KWn5u8"
      },
      "outputs": [],
      "source": [
        "df = pd.read_csv('/content/drive/MyDrive/Data/NF-UNSW-NB15.csv') \n",
        "df.drop(df.index[-1],axis=0,inplace=True)"
      ]
    },
    {
      "cell_type": "code",
      "execution_count": null,
      "metadata": {
        "colab": {
          "base_uri": "https://localhost:8080/",
          "height": 424
        },
        "id": "HJfQXk7EoCUj",
        "outputId": "2ec4a76f-9234-4cc4-b42f-bfc141f5b447"
      },
      "outputs": [
        {
          "output_type": "execute_result",
          "data": {
            "text/plain": [
              "         IPV4_SRC_ADDR  L4_SRC_PORT  IPV4_DST_ADDR  L4_DST_PORT  PROTOCOL  \\\n",
              "0        149.171.126.0        62073     59.166.0.5        56082         6   \n",
              "1        149.171.126.2        32284     59.166.0.5         1526         6   \n",
              "2        149.171.126.0           21     59.166.0.1        21971         6   \n",
              "3           59.166.0.1        23800  149.171.126.0        46893         6   \n",
              "4           59.166.0.5        63062  149.171.126.2           21         6   \n",
              "...                ...          ...            ...          ...       ...   \n",
              "1623112     59.166.0.3        48121  149.171.126.2         6881         6   \n",
              "1623113     59.166.0.2         1640  149.171.126.8           53        17   \n",
              "1623114     59.166.0.2         3610  149.171.126.6           21         6   \n",
              "1623115     59.166.0.2         4667  149.171.126.6        40725         6   \n",
              "1623116     59.166.0.2         5641  149.171.126.6        56243         6   \n",
              "\n",
              "         L7_PROTO  IN_BYTES  OUT_BYTES  IN_PKTS  OUT_PKTS  TCP_FLAGS  \\\n",
              "0             0.0      9672        416       11         8         25   \n",
              "1             0.0      1776        104        6         2         25   \n",
              "2             1.0      1842       1236       26        22         25   \n",
              "3             0.0       528       8824       10        12         27   \n",
              "4             1.0      1786       2340       32        34         25   \n",
              "...           ...       ...        ...      ...       ...        ...   \n",
              "1623112       0.0      1218        456       10         6         26   \n",
              "1623113       0.0       130        162        2         2          0   \n",
              "1623114       1.0      2044       2404       36        34         26   \n",
              "1623115       0.0       320       1918        6         8         27   \n",
              "1623116       0.0       528       8824       10        12         27   \n",
              "\n",
              "         FLOW_DURATION_MILLISECONDS  Label  Attack  \n",
              "0                                15      0  Benign  \n",
              "1                                 0      0  Benign  \n",
              "2                              1111      0  Benign  \n",
              "3                               124      0  Benign  \n",
              "4                              1459      0  Benign  \n",
              "...                             ...    ...     ...  \n",
              "1623112                           0      0  Benign  \n",
              "1623113                           0      0  Benign  \n",
              "1623114                           0      0  Benign  \n",
              "1623115                           0      0  Benign  \n",
              "1623116                           0      0  Benign  \n",
              "\n",
              "[1623117 rows x 14 columns]"
            ],
            "text/html": [
              "\n",
              "  <div id=\"df-d8f56e39-e626-439e-85bd-620c23fe8ada\">\n",
              "    <div class=\"colab-df-container\">\n",
              "      <div>\n",
              "<style scoped>\n",
              "    .dataframe tbody tr th:only-of-type {\n",
              "        vertical-align: middle;\n",
              "    }\n",
              "\n",
              "    .dataframe tbody tr th {\n",
              "        vertical-align: top;\n",
              "    }\n",
              "\n",
              "    .dataframe thead th {\n",
              "        text-align: right;\n",
              "    }\n",
              "</style>\n",
              "<table border=\"1\" class=\"dataframe\">\n",
              "  <thead>\n",
              "    <tr style=\"text-align: right;\">\n",
              "      <th></th>\n",
              "      <th>IPV4_SRC_ADDR</th>\n",
              "      <th>L4_SRC_PORT</th>\n",
              "      <th>IPV4_DST_ADDR</th>\n",
              "      <th>L4_DST_PORT</th>\n",
              "      <th>PROTOCOL</th>\n",
              "      <th>L7_PROTO</th>\n",
              "      <th>IN_BYTES</th>\n",
              "      <th>OUT_BYTES</th>\n",
              "      <th>IN_PKTS</th>\n",
              "      <th>OUT_PKTS</th>\n",
              "      <th>TCP_FLAGS</th>\n",
              "      <th>FLOW_DURATION_MILLISECONDS</th>\n",
              "      <th>Label</th>\n",
              "      <th>Attack</th>\n",
              "    </tr>\n",
              "  </thead>\n",
              "  <tbody>\n",
              "    <tr>\n",
              "      <th>0</th>\n",
              "      <td>149.171.126.0</td>\n",
              "      <td>62073</td>\n",
              "      <td>59.166.0.5</td>\n",
              "      <td>56082</td>\n",
              "      <td>6</td>\n",
              "      <td>0.0</td>\n",
              "      <td>9672</td>\n",
              "      <td>416</td>\n",
              "      <td>11</td>\n",
              "      <td>8</td>\n",
              "      <td>25</td>\n",
              "      <td>15</td>\n",
              "      <td>0</td>\n",
              "      <td>Benign</td>\n",
              "    </tr>\n",
              "    <tr>\n",
              "      <th>1</th>\n",
              "      <td>149.171.126.2</td>\n",
              "      <td>32284</td>\n",
              "      <td>59.166.0.5</td>\n",
              "      <td>1526</td>\n",
              "      <td>6</td>\n",
              "      <td>0.0</td>\n",
              "      <td>1776</td>\n",
              "      <td>104</td>\n",
              "      <td>6</td>\n",
              "      <td>2</td>\n",
              "      <td>25</td>\n",
              "      <td>0</td>\n",
              "      <td>0</td>\n",
              "      <td>Benign</td>\n",
              "    </tr>\n",
              "    <tr>\n",
              "      <th>2</th>\n",
              "      <td>149.171.126.0</td>\n",
              "      <td>21</td>\n",
              "      <td>59.166.0.1</td>\n",
              "      <td>21971</td>\n",
              "      <td>6</td>\n",
              "      <td>1.0</td>\n",
              "      <td>1842</td>\n",
              "      <td>1236</td>\n",
              "      <td>26</td>\n",
              "      <td>22</td>\n",
              "      <td>25</td>\n",
              "      <td>1111</td>\n",
              "      <td>0</td>\n",
              "      <td>Benign</td>\n",
              "    </tr>\n",
              "    <tr>\n",
              "      <th>3</th>\n",
              "      <td>59.166.0.1</td>\n",
              "      <td>23800</td>\n",
              "      <td>149.171.126.0</td>\n",
              "      <td>46893</td>\n",
              "      <td>6</td>\n",
              "      <td>0.0</td>\n",
              "      <td>528</td>\n",
              "      <td>8824</td>\n",
              "      <td>10</td>\n",
              "      <td>12</td>\n",
              "      <td>27</td>\n",
              "      <td>124</td>\n",
              "      <td>0</td>\n",
              "      <td>Benign</td>\n",
              "    </tr>\n",
              "    <tr>\n",
              "      <th>4</th>\n",
              "      <td>59.166.0.5</td>\n",
              "      <td>63062</td>\n",
              "      <td>149.171.126.2</td>\n",
              "      <td>21</td>\n",
              "      <td>6</td>\n",
              "      <td>1.0</td>\n",
              "      <td>1786</td>\n",
              "      <td>2340</td>\n",
              "      <td>32</td>\n",
              "      <td>34</td>\n",
              "      <td>25</td>\n",
              "      <td>1459</td>\n",
              "      <td>0</td>\n",
              "      <td>Benign</td>\n",
              "    </tr>\n",
              "    <tr>\n",
              "      <th>...</th>\n",
              "      <td>...</td>\n",
              "      <td>...</td>\n",
              "      <td>...</td>\n",
              "      <td>...</td>\n",
              "      <td>...</td>\n",
              "      <td>...</td>\n",
              "      <td>...</td>\n",
              "      <td>...</td>\n",
              "      <td>...</td>\n",
              "      <td>...</td>\n",
              "      <td>...</td>\n",
              "      <td>...</td>\n",
              "      <td>...</td>\n",
              "      <td>...</td>\n",
              "    </tr>\n",
              "    <tr>\n",
              "      <th>1623112</th>\n",
              "      <td>59.166.0.3</td>\n",
              "      <td>48121</td>\n",
              "      <td>149.171.126.2</td>\n",
              "      <td>6881</td>\n",
              "      <td>6</td>\n",
              "      <td>0.0</td>\n",
              "      <td>1218</td>\n",
              "      <td>456</td>\n",
              "      <td>10</td>\n",
              "      <td>6</td>\n",
              "      <td>26</td>\n",
              "      <td>0</td>\n",
              "      <td>0</td>\n",
              "      <td>Benign</td>\n",
              "    </tr>\n",
              "    <tr>\n",
              "      <th>1623113</th>\n",
              "      <td>59.166.0.2</td>\n",
              "      <td>1640</td>\n",
              "      <td>149.171.126.8</td>\n",
              "      <td>53</td>\n",
              "      <td>17</td>\n",
              "      <td>0.0</td>\n",
              "      <td>130</td>\n",
              "      <td>162</td>\n",
              "      <td>2</td>\n",
              "      <td>2</td>\n",
              "      <td>0</td>\n",
              "      <td>0</td>\n",
              "      <td>0</td>\n",
              "      <td>Benign</td>\n",
              "    </tr>\n",
              "    <tr>\n",
              "      <th>1623114</th>\n",
              "      <td>59.166.0.2</td>\n",
              "      <td>3610</td>\n",
              "      <td>149.171.126.6</td>\n",
              "      <td>21</td>\n",
              "      <td>6</td>\n",
              "      <td>1.0</td>\n",
              "      <td>2044</td>\n",
              "      <td>2404</td>\n",
              "      <td>36</td>\n",
              "      <td>34</td>\n",
              "      <td>26</td>\n",
              "      <td>0</td>\n",
              "      <td>0</td>\n",
              "      <td>Benign</td>\n",
              "    </tr>\n",
              "    <tr>\n",
              "      <th>1623115</th>\n",
              "      <td>59.166.0.2</td>\n",
              "      <td>4667</td>\n",
              "      <td>149.171.126.6</td>\n",
              "      <td>40725</td>\n",
              "      <td>6</td>\n",
              "      <td>0.0</td>\n",
              "      <td>320</td>\n",
              "      <td>1918</td>\n",
              "      <td>6</td>\n",
              "      <td>8</td>\n",
              "      <td>27</td>\n",
              "      <td>0</td>\n",
              "      <td>0</td>\n",
              "      <td>Benign</td>\n",
              "    </tr>\n",
              "    <tr>\n",
              "      <th>1623116</th>\n",
              "      <td>59.166.0.2</td>\n",
              "      <td>5641</td>\n",
              "      <td>149.171.126.6</td>\n",
              "      <td>56243</td>\n",
              "      <td>6</td>\n",
              "      <td>0.0</td>\n",
              "      <td>528</td>\n",
              "      <td>8824</td>\n",
              "      <td>10</td>\n",
              "      <td>12</td>\n",
              "      <td>27</td>\n",
              "      <td>0</td>\n",
              "      <td>0</td>\n",
              "      <td>Benign</td>\n",
              "    </tr>\n",
              "  </tbody>\n",
              "</table>\n",
              "<p>1623117 rows × 14 columns</p>\n",
              "</div>\n",
              "      <button class=\"colab-df-convert\" onclick=\"convertToInteractive('df-d8f56e39-e626-439e-85bd-620c23fe8ada')\"\n",
              "              title=\"Convert this dataframe to an interactive table.\"\n",
              "              style=\"display:none;\">\n",
              "        \n",
              "  <svg xmlns=\"http://www.w3.org/2000/svg\" height=\"24px\"viewBox=\"0 0 24 24\"\n",
              "       width=\"24px\">\n",
              "    <path d=\"M0 0h24v24H0V0z\" fill=\"none\"/>\n",
              "    <path d=\"M18.56 5.44l.94 2.06.94-2.06 2.06-.94-2.06-.94-.94-2.06-.94 2.06-2.06.94zm-11 1L8.5 8.5l.94-2.06 2.06-.94-2.06-.94L8.5 2.5l-.94 2.06-2.06.94zm10 10l.94 2.06.94-2.06 2.06-.94-2.06-.94-.94-2.06-.94 2.06-2.06.94z\"/><path d=\"M17.41 7.96l-1.37-1.37c-.4-.4-.92-.59-1.43-.59-.52 0-1.04.2-1.43.59L10.3 9.45l-7.72 7.72c-.78.78-.78 2.05 0 2.83L4 21.41c.39.39.9.59 1.41.59.51 0 1.02-.2 1.41-.59l7.78-7.78 2.81-2.81c.8-.78.8-2.07 0-2.86zM5.41 20L4 18.59l7.72-7.72 1.47 1.35L5.41 20z\"/>\n",
              "  </svg>\n",
              "      </button>\n",
              "      \n",
              "  <style>\n",
              "    .colab-df-container {\n",
              "      display:flex;\n",
              "      flex-wrap:wrap;\n",
              "      gap: 12px;\n",
              "    }\n",
              "\n",
              "    .colab-df-convert {\n",
              "      background-color: #E8F0FE;\n",
              "      border: none;\n",
              "      border-radius: 50%;\n",
              "      cursor: pointer;\n",
              "      display: none;\n",
              "      fill: #1967D2;\n",
              "      height: 32px;\n",
              "      padding: 0 0 0 0;\n",
              "      width: 32px;\n",
              "    }\n",
              "\n",
              "    .colab-df-convert:hover {\n",
              "      background-color: #E2EBFA;\n",
              "      box-shadow: 0px 1px 2px rgba(60, 64, 67, 0.3), 0px 1px 3px 1px rgba(60, 64, 67, 0.15);\n",
              "      fill: #174EA6;\n",
              "    }\n",
              "\n",
              "    [theme=dark] .colab-df-convert {\n",
              "      background-color: #3B4455;\n",
              "      fill: #D2E3FC;\n",
              "    }\n",
              "\n",
              "    [theme=dark] .colab-df-convert:hover {\n",
              "      background-color: #434B5C;\n",
              "      box-shadow: 0px 1px 3px 1px rgba(0, 0, 0, 0.15);\n",
              "      filter: drop-shadow(0px 1px 2px rgba(0, 0, 0, 0.3));\n",
              "      fill: #FFFFFF;\n",
              "    }\n",
              "  </style>\n",
              "\n",
              "      <script>\n",
              "        const buttonEl =\n",
              "          document.querySelector('#df-d8f56e39-e626-439e-85bd-620c23fe8ada button.colab-df-convert');\n",
              "        buttonEl.style.display =\n",
              "          google.colab.kernel.accessAllowed ? 'block' : 'none';\n",
              "\n",
              "        async function convertToInteractive(key) {\n",
              "          const element = document.querySelector('#df-d8f56e39-e626-439e-85bd-620c23fe8ada');\n",
              "          const dataTable =\n",
              "            await google.colab.kernel.invokeFunction('convertToInteractive',\n",
              "                                                     [key], {});\n",
              "          if (!dataTable) return;\n",
              "\n",
              "          const docLinkHtml = 'Like what you see? Visit the ' +\n",
              "            '<a target=\"_blank\" href=https://colab.research.google.com/notebooks/data_table.ipynb>data table notebook</a>'\n",
              "            + ' to learn more about interactive tables.';\n",
              "          element.innerHTML = '';\n",
              "          dataTable['output_type'] = 'display_data';\n",
              "          await google.colab.output.renderOutput(dataTable, element);\n",
              "          const docLink = document.createElement('div');\n",
              "          docLink.innerHTML = docLinkHtml;\n",
              "          element.appendChild(docLink);\n",
              "        }\n",
              "      </script>\n",
              "    </div>\n",
              "  </div>\n",
              "  "
            ]
          },
          "metadata": {},
          "execution_count": 81
        }
      ],
      "source": [
        "df"
      ]
    },
    {
      "cell_type": "code",
      "execution_count": null,
      "metadata": {
        "colab": {
          "base_uri": "https://localhost:8080/"
        },
        "id": "j4YVziyWsXIt",
        "outputId": "0981dbc9-5205-4ebe-e569-b304dcfb4f96"
      },
      "outputs": [
        {
          "output_type": "execute_result",
          "data": {
            "text/plain": [
              "Index(['IPV4_SRC_ADDR', 'L4_SRC_PORT', 'IPV4_DST_ADDR', 'L4_DST_PORT',\n",
              "       'PROTOCOL', 'L7_PROTO', 'IN_BYTES', 'OUT_BYTES', 'IN_PKTS', 'OUT_PKTS',\n",
              "       'TCP_FLAGS', 'FLOW_DURATION_MILLISECONDS', 'Label', 'Attack'],\n",
              "      dtype='object')"
            ]
          },
          "metadata": {},
          "execution_count": 82
        }
      ],
      "source": [
        "df.columns"
      ]
    },
    {
      "cell_type": "code",
      "execution_count": null,
      "metadata": {
        "colab": {
          "base_uri": "https://localhost:8080/"
        },
        "id": "CaHk8qM_sYcN",
        "outputId": "34560ded-a357-41fd-c187-75cfa4f570b3"
      },
      "outputs": [
        {
          "output_type": "execute_result",
          "data": {
            "text/plain": [
              "IPV4_SRC_ADDR                  object\n",
              "L4_SRC_PORT                     int64\n",
              "IPV4_DST_ADDR                  object\n",
              "L4_DST_PORT                     int64\n",
              "PROTOCOL                        int64\n",
              "L7_PROTO                      float64\n",
              "IN_BYTES                        int64\n",
              "OUT_BYTES                       int64\n",
              "IN_PKTS                         int64\n",
              "OUT_PKTS                        int64\n",
              "TCP_FLAGS                       int64\n",
              "FLOW_DURATION_MILLISECONDS      int64\n",
              "Label                           int64\n",
              "Attack                         object\n",
              "dtype: object"
            ]
          },
          "metadata": {},
          "execution_count": 83
        }
      ],
      "source": [
        "df.dtypes"
      ]
    },
    {
      "cell_type": "code",
      "execution_count": null,
      "metadata": {
        "colab": {
          "base_uri": "https://localhost:8080/"
        },
        "id": "0PaBxB0CsZ1e",
        "outputId": "a5a9a69d-2dfd-48a4-9479-5d7e82d94815"
      },
      "outputs": [
        {
          "output_type": "execute_result",
          "data": {
            "text/plain": [
              "Benign            1550711\n",
              "Exploits            24736\n",
              "Fuzzers             19463\n",
              "Reconnaissance      12291\n",
              "Generic              5570\n",
              "DoS                  5051\n",
              "Analysis             1995\n",
              "Backdoor             1782\n",
              "Shellcode            1365\n",
              "Worms                 153\n",
              "Name: Attack, dtype: int64"
            ]
          },
          "metadata": {},
          "execution_count": 84
        }
      ],
      "source": [
        "df.Attack.value_counts()"
      ]
    },
    {
      "cell_type": "code",
      "execution_count": null,
      "metadata": {
        "colab": {
          "base_uri": "https://localhost:8080/"
        },
        "id": "SQN7UJW_qR9A",
        "outputId": "e6f7a89f-c956-459d-e206-cf90daad18ce"
      },
      "outputs": [
        {
          "output_type": "execute_result",
          "data": {
            "text/plain": [
              "Normal            1550711\n",
              "Exploits            24736\n",
              "Fuzzers             19463\n",
              "Reconnaissance      12291\n",
              "Generic              5570\n",
              "DoS                  5051\n",
              "Analysis             1995\n",
              "Backdoor             1782\n",
              "Shellcode            1365\n",
              "Worms                 153\n",
              "Name: Attack, dtype: int64"
            ]
          },
          "metadata": {},
          "execution_count": 85
        }
      ],
      "source": [
        "  def change_label(df):\n",
        "#   df.Attack.replace(['DDoS attacks-LOIC-HTTP', 'DoS attacks-Hulk', 'DoS attacks-SlowHTTPTest', 'DoS attacks-GoldenEye', \n",
        "#                     'DoS attacks-Slowloris', 'DDOS attack-LOIC-UDP', 'DDOS attack-HOIC'],'Dos',inplace=True)\n",
        "#   df.Attack.replace(['FTP-BruteForce', 'SSH-Bruteforce', 'Brute Force -Web'],'Probe',inplace=True)\n",
        "#   df.Attack.replace(['SQL Injection', 'Brute Force -XSS'],'U2R',inplace=True)\n",
        "    df.Attack.replace(['Benign'],'Normal',inplace=True)\n",
        "#   df.Attack.replace(['Bot', 'Infilteration'],'R2L',inplace=True)\n",
        "  change_label(df)\n",
        "df.Attack.value_counts()"
      ]
    },
    {
      "cell_type": "code",
      "source": [
        "# df.drop(df.loc[df['Attack']=='Normal'].index[:6900000], axis=0, inplace=True)\n",
        "# df.drop(df.loc[df['Attack']=='Dos'].index[:520000], axis=0, inplace=True)\n",
        "# df.drop(df.loc[df['Attack']=='Probe'].index[:100000], axis=0, inplace=True)\n",
        "# df.drop(df.loc[df['Attack']=='R2L'].index[:30000], axis=0, inplace=True)"
      ],
      "metadata": {
        "id": "oRnVFSmrNfBS"
      },
      "execution_count": null,
      "outputs": []
    },
    {
      "cell_type": "markdown",
      "source": [],
      "metadata": {
        "id": "h_0V3sx8NhSD"
      }
    },
    {
      "cell_type": "code",
      "source": [
        "df.Attack.value_counts()"
      ],
      "metadata": {
        "colab": {
          "base_uri": "https://localhost:8080/"
        },
        "id": "avVYlSNHNgOR",
        "outputId": "fbc39c73-6e4c-4be4-9a4f-b2d744ced8b8"
      },
      "execution_count": null,
      "outputs": [
        {
          "output_type": "execute_result",
          "data": {
            "text/plain": [
              "Normal            1550711\n",
              "Exploits            24736\n",
              "Fuzzers             19463\n",
              "Reconnaissance      12291\n",
              "Generic              5570\n",
              "DoS                  5051\n",
              "Analysis             1995\n",
              "Backdoor             1782\n",
              "Shellcode            1365\n",
              "Worms                 153\n",
              "Name: Attack, dtype: int64"
            ]
          },
          "metadata": {},
          "execution_count": 87
        }
      ]
    },
    {
      "cell_type": "code",
      "execution_count": null,
      "metadata": {
        "colab": {
          "base_uri": "https://localhost:8080/"
        },
        "id": "zSAgWctPqTI3",
        "outputId": "6bb416f2-52a2-45e8-85bf-66b9e1241d75"
      },
      "outputs": [
        {
          "output_type": "stream",
          "name": "stdout",
          "text": [
            "\n",
            "1623117 rows\n",
            "** IPV4_SRC_ADDR:[59.166.0.5:9.47%, 59.166.0.1:9.45%, 59.166.0.4:9.45%, 59.166.0.2:9.44%, 59.166.0.0:9.42%, 59.166.0.3:9.39%, 59.166.0.9:9.1%, 59.166.0.8:9.06%, 59.166.0.6:9.05%, 59.166.0.7:9.01%, 175.45.176.1:1.83%, 175.45.176.3:1.74%, 175.45.176.0:1.69%, 175.45.176.2:1.61%, 10.40.85.10:0.03%, 10.40.85.1:0.03%, 10.40.182.1:0.03%, 149.171.126.5:0.02%, 149.171.126.1:0.02%, 149.171.126.2:0.02%, 149.171.126.6:0.02%, 149.171.126.8:0.01%, 149.171.126.4:0.01%, 149.171.126.3:0.01%, 149.171.126.9:0.01%, 149.171.126.7:0.01%, 149.171.126.0:0.01%, 149.171.126.18:0.01%, 149.171.126.12:0.01%, 149.171.126.14:0.01%, 149.171.126.15:0.0%, 149.171.126.10:0.0%, 10.40.182.6:0.0%, 149.171.126.13:0.0%, 149.171.126.17:0.0%, 149.171.126.19:0.0%, 192.168.241.243:0.0%, 149.171.126.16:0.0%, 149.171.126.11:0.0%, 127.0.0.1:0.0%]\n",
            "** L4_SRC_PORT:64586 (3%)\n",
            "** IPV4_DST_ADDR:[149.171.126.1:9.45%, 149.171.126.4:9.45%, 149.171.126.2:9.45%, 149.171.126.3:9.45%, 149.171.126.5:9.42%, 149.171.126.0:9.38%, 149.171.126.7:9.1%, 149.171.126.6:9.09%, 149.171.126.9:9.08%, 149.171.126.8:8.97%, 149.171.126.17:0.94%, 149.171.126.13:0.81%, 149.171.126.11:0.74%, 149.171.126.10:0.68%, 149.171.126.19:0.67%, 149.171.126.15:0.65%, 149.171.126.16:0.65%, 149.171.126.14:0.62%, 149.171.126.12:0.58%, 149.171.126.18:0.54%, 224.0.0.5:0.06%, 59.166.0.1:0.02%, 59.166.0.0:0.02%, 59.166.0.9:0.02%, 10.40.198.10:0.02%, 59.166.0.2:0.02%, 192.168.241.50:0.02%, 59.166.0.4:0.01%, 59.166.0.5:0.01%, 59.166.0.8:0.01%, 59.166.0.6:0.01%, 59.166.0.3:0.01%, 175.45.176.0:0.01%, 59.166.0.7:0.01%, 175.45.176.1:0.01%, 175.45.176.3:0.01%, 10.40.182.255:0.0%, 175.45.176.2:0.0%, 192.168.241.243:0.0%, 127.0.0.1:0.0%]\n",
            "** L4_DST_PORT:64610 (3%)\n",
            "** PROTOCOL:255 (0%)\n",
            "** L7_PROTO:265 (0%)\n",
            "** IN_BYTES:12256 (0%)\n",
            "** OUT_BYTES:16047 (0%)\n",
            "** IN_PKTS:892 (0%)\n",
            "** OUT_PKTS:1207 (0%)\n",
            "** TCP_FLAGS:[27:67.7%, 0:28.17%, 19:3.23%, 18:0.3%, 26:0.23%, 25:0.16%, 2:0.13%, 24:0.04%, 22:0.03%, 17:0.0%, 20:0.0%, 16:0.0%, 30:0.0%, 31:0.0%, 23:0.0%]\n",
            "** FLOW_DURATION_MILLISECONDS:17377 (1%)\n",
            "** Label:[0:95.54%, 1:4.46%]\n",
            "** Attack:[Normal:95.54%, Exploits:1.52%, Fuzzers:1.2%, Reconnaissance:0.76%, Generic:0.34%, DoS:0.31%, Analysis:0.12%, Backdoor:0.11%, Shellcode:0.08%, Worms:0.01%]\n"
          ]
        }
      ],
      "source": [
        "import pandas as pd\n",
        "import os\n",
        "import numpy as np\n",
        "from sklearn import metrics\n",
        "from scipy.stats import zscore\n",
        "\n",
        "def expand_categories(values):\n",
        "    result = []\n",
        "    s = values.value_counts()\n",
        "    t = float(len(values))\n",
        "    for v in s.index:\n",
        "        result.append(\"{}:{}%\".format(v,round(100*(s[v]/t),2)))\n",
        "    return \"[{}]\".format(\", \".join(result))\n",
        "        \n",
        "def analyze(df):\n",
        "    print()\n",
        "    cols = df.columns.values\n",
        "    total = float(len(df))\n",
        "\n",
        "    print(\"{} rows\".format(int(total)))\n",
        "    for col in cols:\n",
        "        uniques = df[col].unique()\n",
        "        unique_count = len(uniques)\n",
        "        if unique_count>100:\n",
        "            print(\"** {}:{} ({}%)\".format(col,unique_count,\\\n",
        "                int(((unique_count)/total)*100)))\n",
        "        else:\n",
        "            print(\"** {}:{}\".format(col,expand_categories(df[col])))\n",
        "            expand_categories(df[col])\n",
        "analyze(df)"
      ]
    },
    {
      "cell_type": "code",
      "execution_count": null,
      "metadata": {
        "colab": {
          "base_uri": "https://localhost:8080/",
          "height": 482
        },
        "id": "_geEmb5rsgcE",
        "outputId": "fe9695fc-41bc-44de-8a35-526087618146"
      },
      "outputs": [
        {
          "output_type": "display_data",
          "data": {
            "text/plain": [
              "<Figure size 576x576 with 1 Axes>"
            ],
            "image/png": "[encoded data removed]"
          },
          "metadata": {}
        }
      ],
      "source": [
        "plt.figure(figsize=(8,8))\n",
        "plt.pie(df.Attack.value_counts(),labels=['Normal', 'Exploits', 'Fuzzers', 'Reconnaissance', 'Generic', 'DoS', 'Analysis','Backdoor', 'Shellcode','Worms',],autopct='%0.2f%%')\n",
        "plt.title('Pie chart distribution of multi-class labels')\n",
        "plt.legend()\n",
        "plt.show()"
      ]
    },
    {
      "cell_type": "code",
      "execution_count": null,
      "metadata": {
        "id": "uwuLIz_X5UXr",
        "colab": {
          "base_uri": "https://localhost:8080/",
          "height": 206
        },
        "outputId": "3e6271d6-454e-4535-ddaf-7b78b1073a64"
      },
      "outputs": [
        {
          "output_type": "execute_result",
          "data": {
            "text/plain": [
              "  IPV4_SRC_ADDR  L4_SRC_PORT IPV4_DST_ADDR  L4_DST_PORT  PROTOCOL  L7_PROTO  \\\n",
              "0    2511044096        62073    1000734725        56082         6       0.0   \n",
              "1    2511044098        32284    1000734725         1526         6       0.0   \n",
              "2    2511044096           21    1000734721        21971         6       1.0   \n",
              "3    1000734721        23800    2511044096        46893         6       0.0   \n",
              "4    1000734725        63062    2511044098           21         6       1.0   \n",
              "\n",
              "   IN_BYTES  OUT_BYTES  IN_PKTS  OUT_PKTS  TCP_FLAGS  \\\n",
              "0      9672        416       11         8         25   \n",
              "1      1776        104        6         2         25   \n",
              "2      1842       1236       26        22         25   \n",
              "3       528       8824       10        12         27   \n",
              "4      1786       2340       32        34         25   \n",
              "\n",
              "   FLOW_DURATION_MILLISECONDS  Label  Attack  \n",
              "0                          15      0  Normal  \n",
              "1                           0      0  Normal  \n",
              "2                        1111      0  Normal  \n",
              "3                         124      0  Normal  \n",
              "4                        1459      0  Normal  "
            ],
            "text/html": [
              "\n",
              "  <div id=\"df-1f5711e6-a47b-45a2-9344-4dea8691b6c3\">\n",
              "    <div class=\"colab-df-container\">\n",
              "      <div>\n",
              "<style scoped>\n",
              "    .dataframe tbody tr th:only-of-type {\n",
              "        vertical-align: middle;\n",
              "    }\n",
              "\n",
              "    .dataframe tbody tr th {\n",
              "        vertical-align: top;\n",
              "    }\n",
              "\n",
              "    .dataframe thead th {\n",
              "        text-align: right;\n",
              "    }\n",
              "</style>\n",
              "<table border=\"1\" class=\"dataframe\">\n",
              "  <thead>\n",
              "    <tr style=\"text-align: right;\">\n",
              "      <th></th>\n",
              "      <th>IPV4_SRC_ADDR</th>\n",
              "      <th>L4_SRC_PORT</th>\n",
              "      <th>IPV4_DST_ADDR</th>\n",
              "      <th>L4_DST_PORT</th>\n",
              "      <th>PROTOCOL</th>\n",
              "      <th>L7_PROTO</th>\n",
              "      <th>IN_BYTES</th>\n",
              "      <th>OUT_BYTES</th>\n",
              "      <th>IN_PKTS</th>\n",
              "      <th>OUT_PKTS</th>\n",
              "      <th>TCP_FLAGS</th>\n",
              "      <th>FLOW_DURATION_MILLISECONDS</th>\n",
              "      <th>Label</th>\n",
              "      <th>Attack</th>\n",
              "    </tr>\n",
              "  </thead>\n",
              "  <tbody>\n",
              "    <tr>\n",
              "      <th>0</th>\n",
              "      <td>2511044096</td>\n",
              "      <td>62073</td>\n",
              "      <td>1000734725</td>\n",
              "      <td>56082</td>\n",
              "      <td>6</td>\n",
              "      <td>0.0</td>\n",
              "      <td>9672</td>\n",
              "      <td>416</td>\n",
              "      <td>11</td>\n",
              "      <td>8</td>\n",
              "      <td>25</td>\n",
              "      <td>15</td>\n",
              "      <td>0</td>\n",
              "      <td>Normal</td>\n",
              "    </tr>\n",
              "    <tr>\n",
              "      <th>1</th>\n",
              "      <td>2511044098</td>\n",
              "      <td>32284</td>\n",
              "      <td>1000734725</td>\n",
              "      <td>1526</td>\n",
              "      <td>6</td>\n",
              "      <td>0.0</td>\n",
              "      <td>1776</td>\n",
              "      <td>104</td>\n",
              "      <td>6</td>\n",
              "      <td>2</td>\n",
              "      <td>25</td>\n",
              "      <td>0</td>\n",
              "      <td>0</td>\n",
              "      <td>Normal</td>\n",
              "    </tr>\n",
              "    <tr>\n",
              "      <th>2</th>\n",
              "      <td>2511044096</td>\n",
              "      <td>21</td>\n",
              "      <td>1000734721</td>\n",
              "      <td>21971</td>\n",
              "      <td>6</td>\n",
              "      <td>1.0</td>\n",
              "      <td>1842</td>\n",
              "      <td>1236</td>\n",
              "      <td>26</td>\n",
              "      <td>22</td>\n",
              "      <td>25</td>\n",
              "      <td>1111</td>\n",
              "      <td>0</td>\n",
              "      <td>Normal</td>\n",
              "    </tr>\n",
              "    <tr>\n",
              "      <th>3</th>\n",
              "      <td>1000734721</td>\n",
              "      <td>23800</td>\n",
              "      <td>2511044096</td>\n",
              "      <td>46893</td>\n",
              "      <td>6</td>\n",
              "      <td>0.0</td>\n",
              "      <td>528</td>\n",
              "      <td>8824</td>\n",
              "      <td>10</td>\n",
              "      <td>12</td>\n",
              "      <td>27</td>\n",
              "      <td>124</td>\n",
              "      <td>0</td>\n",
              "      <td>Normal</td>\n",
              "    </tr>\n",
              "    <tr>\n",
              "      <th>4</th>\n",
              "      <td>1000734725</td>\n",
              "      <td>63062</td>\n",
              "      <td>2511044098</td>\n",
              "      <td>21</td>\n",
              "      <td>6</td>\n",
              "      <td>1.0</td>\n",
              "      <td>1786</td>\n",
              "      <td>2340</td>\n",
              "      <td>32</td>\n",
              "      <td>34</td>\n",
              "      <td>25</td>\n",
              "      <td>1459</td>\n",
              "      <td>0</td>\n",
              "      <td>Normal</td>\n",
              "    </tr>\n",
              "  </tbody>\n",
              "</table>\n",
              "</div>\n",
              "      <button class=\"colab-df-convert\" onclick=\"convertToInteractive('df-1f5711e6-a47b-45a2-9344-4dea8691b6c3')\"\n",
              "              title=\"Convert this dataframe to an interactive table.\"\n",
              "              style=\"display:none;\">\n",
              "        \n",
              "  <svg xmlns=\"http://www.w3.org/2000/svg\" height=\"24px\"viewBox=\"0 0 24 24\"\n",
              "       width=\"24px\">\n",
              "    <path d=\"M0 0h24v24H0V0z\" fill=\"none\"/>\n",
              "    <path d=\"M18.56 5.44l.94 2.06.94-2.06 2.06-.94-2.06-.94-.94-2.06-.94 2.06-2.06.94zm-11 1L8.5 8.5l.94-2.06 2.06-.94-2.06-.94L8.5 2.5l-.94 2.06-2.06.94zm10 10l.94 2.06.94-2.06 2.06-.94-2.06-.94-.94-2.06-.94 2.06-2.06.94z\"/><path d=\"M17.41 7.96l-1.37-1.37c-.4-.4-.92-.59-1.43-.59-.52 0-1.04.2-1.43.59L10.3 9.45l-7.72 7.72c-.78.78-.78 2.05 0 2.83L4 21.41c.39.39.9.59 1.41.59.51 0 1.02-.2 1.41-.59l7.78-7.78 2.81-2.81c.8-.78.8-2.07 0-2.86zM5.41 20L4 18.59l7.72-7.72 1.47 1.35L5.41 20z\"/>\n",
              "  </svg>\n",
              "      </button>\n",
              "      \n",
              "  <style>\n",
              "    .colab-df-container {\n",
              "      display:flex;\n",
              "      flex-wrap:wrap;\n",
              "      gap: 12px;\n",
              "    }\n",
              "\n",
              "    .colab-df-convert {\n",
              "      background-color: #E8F0FE;\n",
              "      border: none;\n",
              "      border-radius: 50%;\n",
              "      cursor: pointer;\n",
              "      display: none;\n",
              "      fill: #1967D2;\n",
              "      height: 32px;\n",
              "      padding: 0 0 0 0;\n",
              "      width: 32px;\n",
              "    }\n",
              "\n",
              "    .colab-df-convert:hover {\n",
              "      background-color: #E2EBFA;\n",
              "      box-shadow: 0px 1px 2px rgba(60, 64, 67, 0.3), 0px 1px 3px 1px rgba(60, 64, 67, 0.15);\n",
              "      fill: #174EA6;\n",
              "    }\n",
              "\n",
              "    [theme=dark] .colab-df-convert {\n",
              "      background-color: #3B4455;\n",
              "      fill: #D2E3FC;\n",
              "    }\n",
              "\n",
              "    [theme=dark] .colab-df-convert:hover {\n",
              "      background-color: #434B5C;\n",
              "      box-shadow: 0px 1px 3px 1px rgba(0, 0, 0, 0.15);\n",
              "      filter: drop-shadow(0px 1px 2px rgba(0, 0, 0, 0.3));\n",
              "      fill: #FFFFFF;\n",
              "    }\n",
              "  </style>\n",
              "\n",
              "      <script>\n",
              "        const buttonEl =\n",
              "          document.querySelector('#df-1f5711e6-a47b-45a2-9344-4dea8691b6c3 button.colab-df-convert');\n",
              "        buttonEl.style.display =\n",
              "          google.colab.kernel.accessAllowed ? 'block' : 'none';\n",
              "\n",
              "        async function convertToInteractive(key) {\n",
              "          const element = document.querySelector('#df-1f5711e6-a47b-45a2-9344-4dea8691b6c3');\n",
              "          const dataTable =\n",
              "            await google.colab.kernel.invokeFunction('convertToInteractive',\n",
              "                                                     [key], {});\n",
              "          if (!dataTable) return;\n",
              "\n",
              "          const docLinkHtml = 'Like what you see? Visit the ' +\n",
              "            '<a target=\"_blank\" href=https://colab.research.google.com/notebooks/data_table.ipynb>data table notebook</a>'\n",
              "            + ' to learn more about interactive tables.';\n",
              "          element.innerHTML = '';\n",
              "          dataTable['output_type'] = 'display_data';\n",
              "          await google.colab.output.renderOutput(dataTable, element);\n",
              "          const docLink = document.createElement('div');\n",
              "          docLink.innerHTML = docLinkHtml;\n",
              "          element.appendChild(docLink);\n",
              "        }\n",
              "      </script>\n",
              "    </div>\n",
              "  </div>\n",
              "  "
            ]
          },
          "metadata": {},
          "execution_count": 90
        }
      ],
      "source": [
        "def IP_deal(df, len):\n",
        "    arr1 = df.IPV4_SRC_ADDR; arr2 = df.IPV4_DST_ADDR\n",
        "    arr1 = np.array(arr1)\n",
        "    arr2 = np.array(arr2)\n",
        "    for i in range(len):\n",
        "      try:\n",
        "        arr1[i] = int(ipaddress.IPv4Address(arr1[i]))\n",
        "        arr2[i] = int(ipaddress.IPv4Address(arr2[i]))\n",
        "      except:\n",
        "        print(arr1[i], i)\n",
        "        print(arr2[i], i)\n",
        "    df.IPV4_SRC_ADDR = arr1.reshape(len,1)\n",
        "    df.IPV4_DST_ADDR = arr2.reshape(len,1)\n",
        "    return df\n",
        "\n",
        "df = IP_deal(df, df.shape[0])\n",
        "df.head()"
      ]
    },
    {
      "cell_type": "code",
      "execution_count": null,
      "metadata": {
        "id": "vwBIfWQTszos",
        "colab": {
          "base_uri": "https://localhost:8080/"
        },
        "outputId": "ba5d4a55-5fcd-4c1c-c4d2-91c85b1ca8dd"
      },
      "outputs": [
        {
          "output_type": "execute_result",
          "data": {
            "text/plain": [
              "Index(['L4_SRC_PORT', 'L4_DST_PORT', 'PROTOCOL', 'L7_PROTO', 'IN_BYTES',\n",
              "       'OUT_BYTES', 'IN_PKTS', 'OUT_PKTS', 'TCP_FLAGS',\n",
              "       'FLOW_DURATION_MILLISECONDS', 'Label'],\n",
              "      dtype='object')"
            ]
          },
          "metadata": {},
          "execution_count": 91
        }
      ],
      "source": [
        "numeric_col = df.select_dtypes(include='number').columns\n",
        "numeric_col"
      ]
    },
    {
      "cell_type": "code",
      "execution_count": null,
      "metadata": {
        "id": "bM8VQX8qs2-b",
        "colab": {
          "base_uri": "https://localhost:8080/"
        },
        "outputId": "e9fac584-9eb6-4bd4-a117-b62ea8800df2"
      },
      "outputs": [
        {
          "output_type": "execute_result",
          "data": {
            "text/plain": [
              "IPV4_SRC_ADDR                  object\n",
              "L4_SRC_PORT                     int64\n",
              "IPV4_DST_ADDR                  object\n",
              "L4_DST_PORT                     int64\n",
              "PROTOCOL                        int64\n",
              "L7_PROTO                      float64\n",
              "IN_BYTES                        int64\n",
              "OUT_BYTES                       int64\n",
              "IN_PKTS                         int64\n",
              "OUT_PKTS                        int64\n",
              "TCP_FLAGS                       int64\n",
              "FLOW_DURATION_MILLISECONDS      int64\n",
              "Label                           int64\n",
              "Attack                         object\n",
              "dtype: object"
            ]
          },
          "metadata": {},
          "execution_count": 92
        }
      ],
      "source": [
        "df.dtypes"
      ]
    },
    {
      "cell_type": "code",
      "execution_count": null,
      "metadata": {
        "id": "nZx4bETns4Oz",
        "colab": {
          "base_uri": "https://localhost:8080/"
        },
        "outputId": "ed7bf4fe-9932-4eb3-a5c4-e8a85a8a9fe5"
      },
      "outputs": [
        {
          "output_type": "execute_result",
          "data": {
            "text/plain": [
              "IPV4_SRC_ADDR                   int64\n",
              "L4_SRC_PORT                     int64\n",
              "IPV4_DST_ADDR                   int64\n",
              "L4_DST_PORT                     int64\n",
              "PROTOCOL                        int64\n",
              "L7_PROTO                      float64\n",
              "IN_BYTES                        int64\n",
              "OUT_BYTES                       int64\n",
              "IN_PKTS                         int64\n",
              "OUT_PKTS                        int64\n",
              "TCP_FLAGS                       int64\n",
              "FLOW_DURATION_MILLISECONDS      int64\n",
              "Label                           int64\n",
              "Attack                         object\n",
              "dtype: object"
            ]
          },
          "metadata": {},
          "execution_count": 93
        }
      ],
      "source": [
        "df.IPV4_SRC_ADDR = pd.to_numeric(df.IPV4_SRC_ADDR)\n",
        "df.IPV4_DST_ADDR = pd.to_numeric(df.IPV4_DST_ADDR)\n",
        "df.dtypes"
      ]
    },
    {
      "cell_type": "code",
      "execution_count": null,
      "metadata": {
        "id": "06XOhtXus5vK",
        "colab": {
          "base_uri": "https://localhost:8080/",
          "height": 206
        },
        "outputId": "2a2a1244-cddf-4088-c65e-4ae16548bc7c"
      },
      "outputs": [
        {
          "output_type": "execute_result",
          "data": {
            "text/plain": [
              "   IPV4_SRC_ADDR  L4_SRC_PORT  IPV4_DST_ADDR  L4_DST_PORT  PROTOCOL  L7_PROTO  \\\n",
              "0       2.778414     1.533064     -20.329288     2.156946 -0.310688 -0.662235   \n",
              "1       2.778414    -0.018623     -20.329288    -0.627423 -0.310688 -0.662235   \n",
              "2       2.778414    -1.699178     -20.329288     0.416026 -0.310688 -0.613741   \n",
              "3      -0.273377    -0.460548       0.022812     1.687967 -0.310688 -0.662235   \n",
              "4      -0.273377     1.584580       0.022812    -0.704234 -0.310688 -0.613741   \n",
              "\n",
              "   IN_BYTES  OUT_BYTES   IN_PKTS  OUT_PKTS  TCP_FLAGS  \\\n",
              "0  0.055297  -0.241222 -0.321254 -0.325353   0.491742   \n",
              "1 -0.045403  -0.243001 -0.377538 -0.370978   0.491742   \n",
              "2 -0.044561  -0.236548 -0.152404 -0.218896   0.491742   \n",
              "3 -0.061319  -0.193292 -0.332511 -0.294937   0.657499   \n",
              "4 -0.045275  -0.230254 -0.084864 -0.127647   0.491742   \n",
              "\n",
              "   FLOW_DURATION_MILLISECONDS     Label  Attack  \n",
              "0                   -0.114590 -0.216084  Normal  \n",
              "1                   -0.114621 -0.216084  Normal  \n",
              "2                   -0.112312 -0.216084  Normal  \n",
              "3                   -0.114364 -0.216084  Normal  \n",
              "4                   -0.111589 -0.216084  Normal  "
            ],
            "text/html": [
              "\n",
              "  <div id=\"df-6c1a863d-848d-4dc8-a269-9ad44d052ed9\">\n",
              "    <div class=\"colab-df-container\">\n",
              "      <div>\n",
              "<style scoped>\n",
              "    .dataframe tbody tr th:only-of-type {\n",
              "        vertical-align: middle;\n",
              "    }\n",
              "\n",
              "    .dataframe tbody tr th {\n",
              "        vertical-align: top;\n",
              "    }\n",
              "\n",
              "    .dataframe thead th {\n",
              "        text-align: right;\n",
              "    }\n",
              "</style>\n",
              "<table border=\"1\" class=\"dataframe\">\n",
              "  <thead>\n",
              "    <tr style=\"text-align: right;\">\n",
              "      <th></th>\n",
              "      <th>IPV4_SRC_ADDR</th>\n",
              "      <th>L4_SRC_PORT</th>\n",
              "      <th>IPV4_DST_ADDR</th>\n",
              "      <th>L4_DST_PORT</th>\n",
              "      <th>PROTOCOL</th>\n",
              "      <th>L7_PROTO</th>\n",
              "      <th>IN_BYTES</th>\n",
              "      <th>OUT_BYTES</th>\n",
              "      <th>IN_PKTS</th>\n",
              "      <th>OUT_PKTS</th>\n",
              "      <th>TCP_FLAGS</th>\n",
              "      <th>FLOW_DURATION_MILLISECONDS</th>\n",
              "      <th>Label</th>\n",
              "      <th>Attack</th>\n",
              "    </tr>\n",
              "  </thead>\n",
              "  <tbody>\n",
              "    <tr>\n",
              "      <th>0</th>\n",
              "      <td>2.778414</td>\n",
              "      <td>1.533064</td>\n",
              "      <td>-20.329288</td>\n",
              "      <td>2.156946</td>\n",
              "      <td>-0.310688</td>\n",
              "      <td>-0.662235</td>\n",
              "      <td>0.055297</td>\n",
              "      <td>-0.241222</td>\n",
              "      <td>-0.321254</td>\n",
              "      <td>-0.325353</td>\n",
              "      <td>0.491742</td>\n",
              "      <td>-0.114590</td>\n",
              "      <td>-0.216084</td>\n",
              "      <td>Normal</td>\n",
              "    </tr>\n",
              "    <tr>\n",
              "      <th>1</th>\n",
              "      <td>2.778414</td>\n",
              "      <td>-0.018623</td>\n",
              "      <td>-20.329288</td>\n",
              "      <td>-0.627423</td>\n",
              "      <td>-0.310688</td>\n",
              "      <td>-0.662235</td>\n",
              "      <td>-0.045403</td>\n",
              "      <td>-0.243001</td>\n",
              "      <td>-0.377538</td>\n",
              "      <td>-0.370978</td>\n",
              "      <td>0.491742</td>\n",
              "      <td>-0.114621</td>\n",
              "      <td>-0.216084</td>\n",
              "      <td>Normal</td>\n",
              "    </tr>\n",
              "    <tr>\n",
              "      <th>2</th>\n",
              "      <td>2.778414</td>\n",
              "      <td>-1.699178</td>\n",
              "      <td>-20.329288</td>\n",
              "      <td>0.416026</td>\n",
              "      <td>-0.310688</td>\n",
              "      <td>-0.613741</td>\n",
              "      <td>-0.044561</td>\n",
              "      <td>-0.236548</td>\n",
              "      <td>-0.152404</td>\n",
              "      <td>-0.218896</td>\n",
              "      <td>0.491742</td>\n",
              "      <td>-0.112312</td>\n",
              "      <td>-0.216084</td>\n",
              "      <td>Normal</td>\n",
              "    </tr>\n",
              "    <tr>\n",
              "      <th>3</th>\n",
              "      <td>-0.273377</td>\n",
              "      <td>-0.460548</td>\n",
              "      <td>0.022812</td>\n",
              "      <td>1.687967</td>\n",
              "      <td>-0.310688</td>\n",
              "      <td>-0.662235</td>\n",
              "      <td>-0.061319</td>\n",
              "      <td>-0.193292</td>\n",
              "      <td>-0.332511</td>\n",
              "      <td>-0.294937</td>\n",
              "      <td>0.657499</td>\n",
              "      <td>-0.114364</td>\n",
              "      <td>-0.216084</td>\n",
              "      <td>Normal</td>\n",
              "    </tr>\n",
              "    <tr>\n",
              "      <th>4</th>\n",
              "      <td>-0.273377</td>\n",
              "      <td>1.584580</td>\n",
              "      <td>0.022812</td>\n",
              "      <td>-0.704234</td>\n",
              "      <td>-0.310688</td>\n",
              "      <td>-0.613741</td>\n",
              "      <td>-0.045275</td>\n",
              "      <td>-0.230254</td>\n",
              "      <td>-0.084864</td>\n",
              "      <td>-0.127647</td>\n",
              "      <td>0.491742</td>\n",
              "      <td>-0.111589</td>\n",
              "      <td>-0.216084</td>\n",
              "      <td>Normal</td>\n",
              "    </tr>\n",
              "  </tbody>\n",
              "</table>\n",
              "</div>\n",
              "      <button class=\"colab-df-convert\" onclick=\"convertToInteractive('df-6c1a863d-848d-4dc8-a269-9ad44d052ed9')\"\n",
              "              title=\"Convert this dataframe to an interactive table.\"\n",
              "              style=\"display:none;\">\n",
              "        \n",
              "  <svg xmlns=\"http://www.w3.org/2000/svg\" height=\"24px\"viewBox=\"0 0 24 24\"\n",
              "       width=\"24px\">\n",
              "    <path d=\"M0 0h24v24H0V0z\" fill=\"none\"/>\n",
              "    <path d=\"M18.56 5.44l.94 2.06.94-2.06 2.06-.94-2.06-.94-.94-2.06-.94 2.06-2.06.94zm-11 1L8.5 8.5l.94-2.06 2.06-.94-2.06-.94L8.5 2.5l-.94 2.06-2.06.94zm10 10l.94 2.06.94-2.06 2.06-.94-2.06-.94-.94-2.06-.94 2.06-2.06.94z\"/><path d=\"M17.41 7.96l-1.37-1.37c-.4-.4-.92-.59-1.43-.59-.52 0-1.04.2-1.43.59L10.3 9.45l-7.72 7.72c-.78.78-.78 2.05 0 2.83L4 21.41c.39.39.9.59 1.41.59.51 0 1.02-.2 1.41-.59l7.78-7.78 2.81-2.81c.8-.78.8-2.07 0-2.86zM5.41 20L4 18.59l7.72-7.72 1.47 1.35L5.41 20z\"/>\n",
              "  </svg>\n",
              "      </button>\n",
              "      \n",
              "  <style>\n",
              "    .colab-df-container {\n",
              "      display:flex;\n",
              "      flex-wrap:wrap;\n",
              "      gap: 12px;\n",
              "    }\n",
              "\n",
              "    .colab-df-convert {\n",
              "      background-color: #E8F0FE;\n",
              "      border: none;\n",
              "      border-radius: 50%;\n",
              "      cursor: pointer;\n",
              "      display: none;\n",
              "      fill: #1967D2;\n",
              "      height: 32px;\n",
              "      padding: 0 0 0 0;\n",
              "      width: 32px;\n",
              "    }\n",
              "\n",
              "    .colab-df-convert:hover {\n",
              "      background-color: #E2EBFA;\n",
              "      box-shadow: 0px 1px 2px rgba(60, 64, 67, 0.3), 0px 1px 3px 1px rgba(60, 64, 67, 0.15);\n",
              "      fill: #174EA6;\n",
              "    }\n",
              "\n",
              "    [theme=dark] .colab-df-convert {\n",
              "      background-color: #3B4455;\n",
              "      fill: #D2E3FC;\n",
              "    }\n",
              "\n",
              "    [theme=dark] .colab-df-convert:hover {\n",
              "      background-color: #434B5C;\n",
              "      box-shadow: 0px 1px 3px 1px rgba(0, 0, 0, 0.15);\n",
              "      filter: drop-shadow(0px 1px 2px rgba(0, 0, 0, 0.3));\n",
              "      fill: #FFFFFF;\n",
              "    }\n",
              "  </style>\n",
              "\n",
              "      <script>\n",
              "        const buttonEl =\n",
              "          document.querySelector('#df-6c1a863d-848d-4dc8-a269-9ad44d052ed9 button.colab-df-convert');\n",
              "        buttonEl.style.display =\n",
              "          google.colab.kernel.accessAllowed ? 'block' : 'none';\n",
              "\n",
              "        async function convertToInteractive(key) {\n",
              "          const element = document.querySelector('#df-6c1a863d-848d-4dc8-a269-9ad44d052ed9');\n",
              "          const dataTable =\n",
              "            await google.colab.kernel.invokeFunction('convertToInteractive',\n",
              "                                                     [key], {});\n",
              "          if (!dataTable) return;\n",
              "\n",
              "          const docLinkHtml = 'Like what you see? Visit the ' +\n",
              "            '<a target=\"_blank\" href=https://colab.research.google.com/notebooks/data_table.ipynb>data table notebook</a>'\n",
              "            + ' to learn more about interactive tables.';\n",
              "          element.innerHTML = '';\n",
              "          dataTable['output_type'] = 'display_data';\n",
              "          await google.colab.output.renderOutput(dataTable, element);\n",
              "          const docLink = document.createElement('div');\n",
              "          docLink.innerHTML = docLinkHtml;\n",
              "          element.appendChild(docLink);\n",
              "        }\n",
              "      </script>\n",
              "    </div>\n",
              "  </div>\n",
              "  "
            ]
          },
          "metadata": {},
          "execution_count": 94
        }
      ],
      "source": [
        "\n",
        "numeric_col = df.select_dtypes(include='number').columns\n",
        "\n",
        "std_scaler = StandardScaler()\n",
        "def normalization(df,col):\n",
        "  for i in col:\n",
        "    arr = df[i]\n",
        "    arr = np.array(arr)\n",
        "    df[i] = std_scaler.fit_transform(arr.reshape(len(arr),1))\n",
        "  return df\n",
        "\n",
        "data = normalization(df.copy(),numeric_col)\n",
        "data.head()"
      ]
    },
    {
      "cell_type": "code",
      "execution_count": null,
      "metadata": {
        "id": "5shbvgYdKCy0",
        "colab": {
          "base_uri": "https://localhost:8080/"
        },
        "outputId": "315e5185-e6a9-4954-c472-187e71e47b65"
      },
      "outputs": [
        {
          "output_type": "execute_result",
          "data": {
            "text/plain": [
              "14"
            ]
          },
          "metadata": {},
          "execution_count": 95
        }
      ],
      "source": [
        "  data.shape[1]"
      ]
    },
    {
      "cell_type": "code",
      "execution_count": null,
      "metadata": {
        "id": "-eBgETmns7tM",
        "colab": {
          "base_uri": "https://localhost:8080/",
          "height": 488
        },
        "outputId": "93239d1e-6bba-43e4-c395-c75efd299af6"
      },
      "outputs": [
        {
          "output_type": "execute_result",
          "data": {
            "text/plain": [
              "         IPV4_SRC_ADDR  L4_SRC_PORT  IPV4_DST_ADDR  L4_DST_PORT  PROTOCOL  \\\n",
              "0             2.778414     1.533064     -20.329288     2.156946 -0.310688   \n",
              "1             2.778414    -0.018623     -20.329288    -0.627423 -0.310688   \n",
              "2             2.778414    -1.699178     -20.329288     0.416026 -0.310688   \n",
              "3            -0.273377    -0.460548       0.022812     1.687967 -0.310688   \n",
              "4            -0.273377     1.584580       0.022812    -0.704234 -0.310688   \n",
              "...                ...          ...            ...          ...       ...   \n",
              "1623112      -0.273377     0.806315       0.022812    -0.354121 -0.310688   \n",
              "1623113      -0.273377    -1.614846       0.022812    -0.702601  0.567681   \n",
              "1623114      -0.273377    -1.512230       0.022812    -0.704234 -0.310688   \n",
              "1623115      -0.273377    -1.457172       0.022812     1.373172 -0.310688   \n",
              "1623116      -0.273377    -1.406437       0.022812     2.165162 -0.310688   \n",
              "\n",
              "         L7_PROTO  IN_BYTES  OUT_BYTES   IN_PKTS  OUT_PKTS  ...  Backdoor  \\\n",
              "0       -0.662235  0.055297  -0.241222 -0.321254 -0.325353  ...         0   \n",
              "1       -0.662235 -0.045403  -0.243001 -0.377538 -0.370978  ...         0   \n",
              "2       -0.613741 -0.044561  -0.236548 -0.152404 -0.218896  ...         0   \n",
              "3       -0.662235 -0.061319  -0.193292 -0.332511 -0.294937  ...         0   \n",
              "4       -0.613741 -0.045275  -0.230254 -0.084864 -0.127647  ...         0   \n",
              "...           ...       ...        ...       ...       ...  ...       ...   \n",
              "1623112 -0.662235 -0.052519  -0.240994 -0.332511 -0.340562  ...         0   \n",
              "1623113 -0.662235 -0.066394  -0.242670 -0.422564 -0.370978  ...         0   \n",
              "1623114 -0.613741 -0.041985  -0.229889 -0.039838 -0.127647  ...         0   \n",
              "1623115 -0.662235 -0.063971  -0.232660 -0.377538 -0.325353  ...         0   \n",
              "1623116 -0.662235 -0.061319  -0.193292 -0.332511 -0.294937  ...         0   \n",
              "\n",
              "         DoS  Exploits  Fuzzers  Generic  Normal  Reconnaissance  Shellcode  \\\n",
              "0          0         0        0        0       1               0          0   \n",
              "1          0         0        0        0       1               0          0   \n",
              "2          0         0        0        0       1               0          0   \n",
              "3          0         0        0        0       1               0          0   \n",
              "4          0         0        0        0       1               0          0   \n",
              "...      ...       ...      ...      ...     ...             ...        ...   \n",
              "1623112    0         0        0        0       1               0          0   \n",
              "1623113    0         0        0        0       1               0          0   \n",
              "1623114    0         0        0        0       1               0          0   \n",
              "1623115    0         0        0        0       1               0          0   \n",
              "1623116    0         0        0        0       1               0          0   \n",
              "\n",
              "         Worms  Attack  \n",
              "0            0  Normal  \n",
              "1            0  Normal  \n",
              "2            0  Normal  \n",
              "3            0  Normal  \n",
              "4            0  Normal  \n",
              "...        ...     ...  \n",
              "1623112      0  Normal  \n",
              "1623113      0  Normal  \n",
              "1623114      0  Normal  \n",
              "1623115      0  Normal  \n",
              "1623116      0  Normal  \n",
              "\n",
              "[1623117 rows x 25 columns]"
            ],
            "text/html": [
              "\n",
              "  <div id=\"df-d8a24ce0-1145-4fdd-9d99-119c7add77e0\">\n",
              "    <div class=\"colab-df-container\">\n",
              "      <div>\n",
              "<style scoped>\n",
              "    .dataframe tbody tr th:only-of-type {\n",
              "        vertical-align: middle;\n",
              "    }\n",
              "\n",
              "    .dataframe tbody tr th {\n",
              "        vertical-align: top;\n",
              "    }\n",
              "\n",
              "    .dataframe thead th {\n",
              "        text-align: right;\n",
              "    }\n",
              "</style>\n",
              "<table border=\"1\" class=\"dataframe\">\n",
              "  <thead>\n",
              "    <tr style=\"text-align: right;\">\n",
              "      <th></th>\n",
              "      <th>IPV4_SRC_ADDR</th>\n",
              "      <th>L4_SRC_PORT</th>\n",
              "      <th>IPV4_DST_ADDR</th>\n",
              "      <th>L4_DST_PORT</th>\n",
              "      <th>PROTOCOL</th>\n",
              "      <th>L7_PROTO</th>\n",
              "      <th>IN_BYTES</th>\n",
              "      <th>OUT_BYTES</th>\n",
              "      <th>IN_PKTS</th>\n",
              "      <th>OUT_PKTS</th>\n",
              "      <th>...</th>\n",
              "      <th>Backdoor</th>\n",
              "      <th>DoS</th>\n",
              "      <th>Exploits</th>\n",
              "      <th>Fuzzers</th>\n",
              "      <th>Generic</th>\n",
              "      <th>Normal</th>\n",
              "      <th>Reconnaissance</th>\n",
              "      <th>Shellcode</th>\n",
              "      <th>Worms</th>\n",
              "      <th>Attack</th>\n",
              "    </tr>\n",
              "  </thead>\n",
              "  <tbody>\n",
              "    <tr>\n",
              "      <th>0</th>\n",
              "      <td>2.778414</td>\n",
              "      <td>1.533064</td>\n",
              "      <td>-20.329288</td>\n",
              "      <td>2.156946</td>\n",
              "      <td>-0.310688</td>\n",
              "      <td>-0.662235</td>\n",
              "      <td>0.055297</td>\n",
              "      <td>-0.241222</td>\n",
              "      <td>-0.321254</td>\n",
              "      <td>-0.325353</td>\n",
              "      <td>...</td>\n",
              "      <td>0</td>\n",
              "      <td>0</td>\n",
              "      <td>0</td>\n",
              "      <td>0</td>\n",
              "      <td>0</td>\n",
              "      <td>1</td>\n",
              "      <td>0</td>\n",
              "      <td>0</td>\n",
              "      <td>0</td>\n",
              "      <td>Normal</td>\n",
              "    </tr>\n",
              "    <tr>\n",
              "      <th>1</th>\n",
              "      <td>2.778414</td>\n",
              "      <td>-0.018623</td>\n",
              "      <td>-20.329288</td>\n",
              "      <td>-0.627423</td>\n",
              "      <td>-0.310688</td>\n",
              "      <td>-0.662235</td>\n",
              "      <td>-0.045403</td>\n",
              "      <td>-0.243001</td>\n",
              "      <td>-0.377538</td>\n",
              "      <td>-0.370978</td>\n",
              "      <td>...</td>\n",
              "      <td>0</td>\n",
              "      <td>0</td>\n",
              "      <td>0</td>\n",
              "      <td>0</td>\n",
              "      <td>0</td>\n",
              "      <td>1</td>\n",
              "      <td>0</td>\n",
              "      <td>0</td>\n",
              "      <td>0</td>\n",
              "      <td>Normal</td>\n",
              "    </tr>\n",
              "    <tr>\n",
              "      <th>2</th>\n",
              "      <td>2.778414</td>\n",
              "      <td>-1.699178</td>\n",
              "      <td>-20.329288</td>\n",
              "      <td>0.416026</td>\n",
              "      <td>-0.310688</td>\n",
              "      <td>-0.613741</td>\n",
              "      <td>-0.044561</td>\n",
              "      <td>-0.236548</td>\n",
              "      <td>-0.152404</td>\n",
              "      <td>-0.218896</td>\n",
              "      <td>...</td>\n",
              "      <td>0</td>\n",
              "      <td>0</td>\n",
              "      <td>0</td>\n",
              "      <td>0</td>\n",
              "      <td>0</td>\n",
              "      <td>1</td>\n",
              "      <td>0</td>\n",
              "      <td>0</td>\n",
              "      <td>0</td>\n",
              "      <td>Normal</td>\n",
              "    </tr>\n",
              "    <tr>\n",
              "      <th>3</th>\n",
              "      <td>-0.273377</td>\n",
              "      <td>-0.460548</td>\n",
              "      <td>0.022812</td>\n",
              "      <td>1.687967</td>\n",
              "      <td>-0.310688</td>\n",
              "      <td>-0.662235</td>\n",
              "      <td>-0.061319</td>\n",
              "      <td>-0.193292</td>\n",
              "      <td>-0.332511</td>\n",
              "      <td>-0.294937</td>\n",
              "      <td>...</td>\n",
              "      <td>0</td>\n",
              "      <td>0</td>\n",
              "      <td>0</td>\n",
              "      <td>0</td>\n",
              "      <td>0</td>\n",
              "      <td>1</td>\n",
              "      <td>0</td>\n",
              "      <td>0</td>\n",
              "      <td>0</td>\n",
              "      <td>Normal</td>\n",
              "    </tr>\n",
              "    <tr>\n",
              "      <th>4</th>\n",
              "      <td>-0.273377</td>\n",
              "      <td>1.584580</td>\n",
              "      <td>0.022812</td>\n",
              "      <td>-0.704234</td>\n",
              "      <td>-0.310688</td>\n",
              "      <td>-0.613741</td>\n",
              "      <td>-0.045275</td>\n",
              "      <td>-0.230254</td>\n",
              "      <td>-0.084864</td>\n",
              "      <td>-0.127647</td>\n",
              "      <td>...</td>\n",
              "      <td>0</td>\n",
              "      <td>0</td>\n",
              "      <td>0</td>\n",
              "      <td>0</td>\n",
              "      <td>0</td>\n",
              "      <td>1</td>\n",
              "      <td>0</td>\n",
              "      <td>0</td>\n",
              "      <td>0</td>\n",
              "      <td>Normal</td>\n",
              "    </tr>\n",
              "    <tr>\n",
              "      <th>...</th>\n",
              "      <td>...</td>\n",
              "      <td>...</td>\n",
              "      <td>...</td>\n",
              "      <td>...</td>\n",
              "      <td>...</td>\n",
              "      <td>...</td>\n",
              "      <td>...</td>\n",
              "      <td>...</td>\n",
              "      <td>...</td>\n",
              "      <td>...</td>\n",
              "      <td>...</td>\n",
              "      <td>...</td>\n",
              "      <td>...</td>\n",
              "      <td>...</td>\n",
              "      <td>...</td>\n",
              "      <td>...</td>\n",
              "      <td>...</td>\n",
              "      <td>...</td>\n",
              "      <td>...</td>\n",
              "      <td>...</td>\n",
              "      <td>...</td>\n",
              "    </tr>\n",
              "    <tr>\n",
              "      <th>1623112</th>\n",
              "      <td>-0.273377</td>\n",
              "      <td>0.806315</td>\n",
              "      <td>0.022812</td>\n",
              "      <td>-0.354121</td>\n",
              "      <td>-0.310688</td>\n",
              "      <td>-0.662235</td>\n",
              "      <td>-0.052519</td>\n",
              "      <td>-0.240994</td>\n",
              "      <td>-0.332511</td>\n",
              "      <td>-0.340562</td>\n",
              "      <td>...</td>\n",
              "      <td>0</td>\n",
              "      <td>0</td>\n",
              "      <td>0</td>\n",
              "      <td>0</td>\n",
              "      <td>0</td>\n",
              "      <td>1</td>\n",
              "      <td>0</td>\n",
              "      <td>0</td>\n",
              "      <td>0</td>\n",
              "      <td>Normal</td>\n",
              "    </tr>\n",
              "    <tr>\n",
              "      <th>1623113</th>\n",
              "      <td>-0.273377</td>\n",
              "      <td>-1.614846</td>\n",
              "      <td>0.022812</td>\n",
              "      <td>-0.702601</td>\n",
              "      <td>0.567681</td>\n",
              "      <td>-0.662235</td>\n",
              "      <td>-0.066394</td>\n",
              "      <td>-0.242670</td>\n",
              "      <td>-0.422564</td>\n",
              "      <td>-0.370978</td>\n",
              "      <td>...</td>\n",
              "      <td>0</td>\n",
              "      <td>0</td>\n",
              "      <td>0</td>\n",
              "      <td>0</td>\n",
              "      <td>0</td>\n",
              "      <td>1</td>\n",
              "      <td>0</td>\n",
              "      <td>0</td>\n",
              "      <td>0</td>\n",
              "      <td>Normal</td>\n",
              "    </tr>\n",
              "    <tr>\n",
              "      <th>1623114</th>\n",
              "      <td>-0.273377</td>\n",
              "      <td>-1.512230</td>\n",
              "      <td>0.022812</td>\n",
              "      <td>-0.704234</td>\n",
              "      <td>-0.310688</td>\n",
              "      <td>-0.613741</td>\n",
              "      <td>-0.041985</td>\n",
              "      <td>-0.229889</td>\n",
              "      <td>-0.039838</td>\n",
              "      <td>-0.127647</td>\n",
              "      <td>...</td>\n",
              "      <td>0</td>\n",
              "      <td>0</td>\n",
              "      <td>0</td>\n",
              "      <td>0</td>\n",
              "      <td>0</td>\n",
              "      <td>1</td>\n",
              "      <td>0</td>\n",
              "      <td>0</td>\n",
              "      <td>0</td>\n",
              "      <td>Normal</td>\n",
              "    </tr>\n",
              "    <tr>\n",
              "      <th>1623115</th>\n",
              "      <td>-0.273377</td>\n",
              "      <td>-1.457172</td>\n",
              "      <td>0.022812</td>\n",
              "      <td>1.373172</td>\n",
              "      <td>-0.310688</td>\n",
              "      <td>-0.662235</td>\n",
              "      <td>-0.063971</td>\n",
              "      <td>-0.232660</td>\n",
              "      <td>-0.377538</td>\n",
              "      <td>-0.325353</td>\n",
              "      <td>...</td>\n",
              "      <td>0</td>\n",
              "      <td>0</td>\n",
              "      <td>0</td>\n",
              "      <td>0</td>\n",
              "      <td>0</td>\n",
              "      <td>1</td>\n",
              "      <td>0</td>\n",
              "      <td>0</td>\n",
              "      <td>0</td>\n",
              "      <td>Normal</td>\n",
              "    </tr>\n",
              "    <tr>\n",
              "      <th>1623116</th>\n",
              "      <td>-0.273377</td>\n",
              "      <td>-1.406437</td>\n",
              "      <td>0.022812</td>\n",
              "      <td>2.165162</td>\n",
              "      <td>-0.310688</td>\n",
              "      <td>-0.662235</td>\n",
              "      <td>-0.061319</td>\n",
              "      <td>-0.193292</td>\n",
              "      <td>-0.332511</td>\n",
              "      <td>-0.294937</td>\n",
              "      <td>...</td>\n",
              "      <td>0</td>\n",
              "      <td>0</td>\n",
              "      <td>0</td>\n",
              "      <td>0</td>\n",
              "      <td>0</td>\n",
              "      <td>1</td>\n",
              "      <td>0</td>\n",
              "      <td>0</td>\n",
              "      <td>0</td>\n",
              "      <td>Normal</td>\n",
              "    </tr>\n",
              "  </tbody>\n",
              "</table>\n",
              "<p>1623117 rows × 25 columns</p>\n",
              "</div>\n",
              "      <button class=\"colab-df-convert\" onclick=\"convertToInteractive('df-d8a24ce0-1145-4fdd-9d99-119c7add77e0')\"\n",
              "              title=\"Convert this dataframe to an interactive table.\"\n",
              "              style=\"display:none;\">\n",
              "        \n",
              "  <svg xmlns=\"http://www.w3.org/2000/svg\" height=\"24px\"viewBox=\"0 0 24 24\"\n",
              "       width=\"24px\">\n",
              "    <path d=\"M0 0h24v24H0V0z\" fill=\"none\"/>\n",
              "    <path d=\"M18.56 5.44l.94 2.06.94-2.06 2.06-.94-2.06-.94-.94-2.06-.94 2.06-2.06.94zm-11 1L8.5 8.5l.94-2.06 2.06-.94-2.06-.94L8.5 2.5l-.94 2.06-2.06.94zm10 10l.94 2.06.94-2.06 2.06-.94-2.06-.94-.94-2.06-.94 2.06-2.06.94z\"/><path d=\"M17.41 7.96l-1.37-1.37c-.4-.4-.92-.59-1.43-.59-.52 0-1.04.2-1.43.59L10.3 9.45l-7.72 7.72c-.78.78-.78 2.05 0 2.83L4 21.41c.39.39.9.59 1.41.59.51 0 1.02-.2 1.41-.59l7.78-7.78 2.81-2.81c.8-.78.8-2.07 0-2.86zM5.41 20L4 18.59l7.72-7.72 1.47 1.35L5.41 20z\"/>\n",
              "  </svg>\n",
              "      </button>\n",
              "      \n",
              "  <style>\n",
              "    .colab-df-container {\n",
              "      display:flex;\n",
              "      flex-wrap:wrap;\n",
              "      gap: 12px;\n",
              "    }\n",
              "\n",
              "    .colab-df-convert {\n",
              "      background-color: #E8F0FE;\n",
              "      border: none;\n",
              "      border-radius: 50%;\n",
              "      cursor: pointer;\n",
              "      display: none;\n",
              "      fill: #1967D2;\n",
              "      height: 32px;\n",
              "      padding: 0 0 0 0;\n",
              "      width: 32px;\n",
              "    }\n",
              "\n",
              "    .colab-df-convert:hover {\n",
              "      background-color: #E2EBFA;\n",
              "      box-shadow: 0px 1px 2px rgba(60, 64, 67, 0.3), 0px 1px 3px 1px rgba(60, 64, 67, 0.15);\n",
              "      fill: #174EA6;\n",
              "    }\n",
              "\n",
              "    [theme=dark] .colab-df-convert {\n",
              "      background-color: #3B4455;\n",
              "      fill: #D2E3FC;\n",
              "    }\n",
              "\n",
              "    [theme=dark] .colab-df-convert:hover {\n",
              "      background-color: #434B5C;\n",
              "      box-shadow: 0px 1px 3px 1px rgba(0, 0, 0, 0.15);\n",
              "      filter: drop-shadow(0px 1px 2px rgba(0, 0, 0, 0.3));\n",
              "      fill: #FFFFFF;\n",
              "    }\n",
              "  </style>\n",
              "\n",
              "      <script>\n",
              "        const buttonEl =\n",
              "          document.querySelector('#df-d8a24ce0-1145-4fdd-9d99-119c7add77e0 button.colab-df-convert');\n",
              "        buttonEl.style.display =\n",
              "          google.colab.kernel.accessAllowed ? 'block' : 'none';\n",
              "\n",
              "        async function convertToInteractive(key) {\n",
              "          const element = document.querySelector('#df-d8a24ce0-1145-4fdd-9d99-119c7add77e0');\n",
              "          const dataTable =\n",
              "            await google.colab.kernel.invokeFunction('convertToInteractive',\n",
              "                                                     [key], {});\n",
              "          if (!dataTable) return;\n",
              "\n",
              "          const docLinkHtml = 'Like what you see? Visit the ' +\n",
              "            '<a target=\"_blank\" href=https://colab.research.google.com/notebooks/data_table.ipynb>data table notebook</a>'\n",
              "            + ' to learn more about interactive tables.';\n",
              "          element.innerHTML = '';\n",
              "          dataTable['output_type'] = 'display_data';\n",
              "          await google.colab.output.renderOutput(dataTable, element);\n",
              "          const docLink = document.createElement('div');\n",
              "          docLink.innerHTML = docLinkHtml;\n",
              "          element.appendChild(docLink);\n",
              "        }\n",
              "      </script>\n",
              "    </div>\n",
              "  </div>\n",
              "  "
            ]
          },
          "metadata": {},
          "execution_count": 96
        }
      ],
      "source": [
        "multi_data = data.copy()\n",
        "multi_label = pd.DataFrame(multi_data.Attack)\n",
        "\n",
        "le2 = preprocessing.LabelEncoder()\n",
        "enc_label = multi_label.apply(le2.fit_transform)\n",
        "multi_data['intrusion'] = enc_label\n",
        "#np.save(\"/content/drive/MyDrive/Colab Notebooks/IDS-AutoEncoder/labels/le2_classes.npy\",le2.classes_,allow_pickle=True)\n",
        "\n",
        "multi_data = pd.get_dummies(multi_data,columns=['Attack'],prefix=\"\",prefix_sep=\"\") \n",
        "multi_data['Attack'] = multi_label\n",
        "multi_data"
      ]
    },
    {
      "cell_type": "code",
      "execution_count": null,
      "metadata": {
        "id": "9_752D7RHlRc",
        "colab": {
          "base_uri": "https://localhost:8080/"
        },
        "outputId": "cb11b46b-94db-44c7-cf4a-13b06f9af355"
      },
      "outputs": [
        {
          "output_type": "execute_result",
          "data": {
            "text/plain": [
              "25"
            ]
          },
          "metadata": {},
          "execution_count": 97
        }
      ],
      "source": [
        "multi_data.shape[1]"
      ]
    },
    {
      "cell_type": "code",
      "execution_count": null,
      "metadata": {
        "id": "kklzZJaOuFQ0",
        "colab": {
          "base_uri": "https://localhost:8080/"
        },
        "outputId": "f267b276-516c-4c0c-80a3-43dc73b3555a"
      },
      "outputs": [
        {
          "output_type": "execute_result",
          "data": {
            "text/plain": [
              "6    1550711\n",
              "3      24736\n",
              "4      19463\n",
              "7      12291\n",
              "5       5570\n",
              "2       5051\n",
              "0       1995\n",
              "1       1782\n",
              "8       1365\n",
              "9        153\n",
              "Name: intrusion, dtype: int64"
            ]
          },
          "metadata": {},
          "execution_count": 98
        }
      ],
      "source": [
        "multi_data.intrusion.value_counts()"
      ]
    },
    {
      "cell_type": "code",
      "execution_count": null,
      "metadata": {
        "id": "IBr-N9vI8i17"
      },
      "outputs": [],
      "source": []
    },
    {
      "cell_type": "code",
      "execution_count": null,
      "metadata": {
        "id": "u9_PBd0YuIpT",
        "colab": {
          "base_uri": "https://localhost:8080/"
        },
        "outputId": "44fd2c3d-c644-4394-a24d-c667fe691a70"
      },
      "outputs": [
        {
          "output_type": "stream",
          "name": "stderr",
          "text": [
            "<ipython-input-99-2fbbef84d961>:2: SettingWithCopyWarning: \n",
            "A value is trying to be set on a copy of a slice from a DataFrame.\n",
            "Try using .loc[row_indexer,col_indexer] = value instead\n",
            "\n",
            "See the caveats in the documentation: https://pandas.pydata.org/pandas-docs/stable/user_guide/indexing.html#returning-a-view-versus-a-copy\n",
            "  numeric_multi['intrusion'] = multi_data['intrusion']\n"
          ]
        },
        {
          "output_type": "execute_result",
          "data": {
            "text/plain": [
              "PROTOCOL         0.288543\n",
              "IPV4_SRC_ADDR    0.578110\n",
              "Label            0.734360\n",
              "intrusion        1.000000\n",
              "Name: intrusion, dtype: float64"
            ]
          },
          "metadata": {},
          "execution_count": 99
        }
      ],
      "source": [
        "numeric_multi = multi_data[numeric_col]\n",
        "numeric_multi['intrusion'] = multi_data['intrusion']\n",
        "\n",
        "corr = numeric_multi.corr()\n",
        "corr_y = abs(corr['intrusion'])\n",
        "highest_corr = corr_y[corr_y > 0.1]\n",
        "highest_corr.sort_values(ascending=True)"
      ]
    },
    {
      "cell_type": "code",
      "execution_count": null,
      "metadata": {
        "id": "Sg0UdFdkHxXz",
        "colab": {
          "base_uri": "https://localhost:8080/"
        },
        "outputId": "884d2dcc-5ab0-4ca4-e68b-2863f62eed19"
      },
      "outputs": [
        {
          "output_type": "execute_result",
          "data": {
            "text/plain": [
              "25"
            ]
          },
          "metadata": {},
          "execution_count": 100
        }
      ],
      "source": [
        "multi_data.shape[1]"
      ]
    },
    {
      "cell_type": "code",
      "execution_count": null,
      "metadata": {
        "id": "uhPZdFqYuKg-",
        "colab": {
          "base_uri": "https://localhost:8080/",
          "height": 488
        },
        "outputId": "9b8b5fe4-ce1a-400c-c2eb-24d02fbe84f1"
      },
      "outputs": [
        {
          "output_type": "execute_result",
          "data": {
            "text/plain": [
              "         IPV4_SRC_ADDR  L4_SRC_PORT  IPV4_DST_ADDR  L4_DST_PORT  PROTOCOL  \\\n",
              "0             2.778414     1.533064     -20.329288     2.156946 -0.310688   \n",
              "1             2.778414    -0.018623     -20.329288    -0.627423 -0.310688   \n",
              "2             2.778414    -1.699178     -20.329288     0.416026 -0.310688   \n",
              "3            -0.273377    -0.460548       0.022812     1.687967 -0.310688   \n",
              "4            -0.273377     1.584580       0.022812    -0.704234 -0.310688   \n",
              "...                ...          ...            ...          ...       ...   \n",
              "1623112      -0.273377     0.806315       0.022812    -0.354121 -0.310688   \n",
              "1623113      -0.273377    -1.614846       0.022812    -0.702601  0.567681   \n",
              "1623114      -0.273377    -1.512230       0.022812    -0.704234 -0.310688   \n",
              "1623115      -0.273377    -1.457172       0.022812     1.373172 -0.310688   \n",
              "1623116      -0.273377    -1.406437       0.022812     2.165162 -0.310688   \n",
              "\n",
              "         L7_PROTO  IN_BYTES  OUT_BYTES   IN_PKTS  OUT_PKTS  ...  Backdoor  \\\n",
              "0       -0.662235  0.055297  -0.241222 -0.321254 -0.325353  ...         0   \n",
              "1       -0.662235 -0.045403  -0.243001 -0.377538 -0.370978  ...         0   \n",
              "2       -0.613741 -0.044561  -0.236548 -0.152404 -0.218896  ...         0   \n",
              "3       -0.662235 -0.061319  -0.193292 -0.332511 -0.294937  ...         0   \n",
              "4       -0.613741 -0.045275  -0.230254 -0.084864 -0.127647  ...         0   \n",
              "...           ...       ...        ...       ...       ...  ...       ...   \n",
              "1623112 -0.662235 -0.052519  -0.240994 -0.332511 -0.340562  ...         0   \n",
              "1623113 -0.662235 -0.066394  -0.242670 -0.422564 -0.370978  ...         0   \n",
              "1623114 -0.613741 -0.041985  -0.229889 -0.039838 -0.127647  ...         0   \n",
              "1623115 -0.662235 -0.063971  -0.232660 -0.377538 -0.325353  ...         0   \n",
              "1623116 -0.662235 -0.061319  -0.193292 -0.332511 -0.294937  ...         0   \n",
              "\n",
              "         DoS  Exploits  Fuzzers  Generic  Normal  Reconnaissance  Shellcode  \\\n",
              "0          0         0        0        0       1               0          0   \n",
              "1          0         0        0        0       1               0          0   \n",
              "2          0         0        0        0       1               0          0   \n",
              "3          0         0        0        0       1               0          0   \n",
              "4          0         0        0        0       1               0          0   \n",
              "...      ...       ...      ...      ...     ...             ...        ...   \n",
              "1623112    0         0        0        0       1               0          0   \n",
              "1623113    0         0        0        0       1               0          0   \n",
              "1623114    0         0        0        0       1               0          0   \n",
              "1623115    0         0        0        0       1               0          0   \n",
              "1623116    0         0        0        0       1               0          0   \n",
              "\n",
              "         Worms  Attack  \n",
              "0            0  Normal  \n",
              "1            0  Normal  \n",
              "2            0  Normal  \n",
              "3            0  Normal  \n",
              "4            0  Normal  \n",
              "...        ...     ...  \n",
              "1623112      0  Normal  \n",
              "1623113      0  Normal  \n",
              "1623114      0  Normal  \n",
              "1623115      0  Normal  \n",
              "1623116      0  Normal  \n",
              "\n",
              "[1623117 rows x 25 columns]"
            ],
            "text/html": [
              "\n",
              "  <div id=\"df-cf690311-e48f-4fd5-a054-3a0d2d32aa95\">\n",
              "    <div class=\"colab-df-container\">\n",
              "      <div>\n",
              "<style scoped>\n",
              "    .dataframe tbody tr th:only-of-type {\n",
              "        vertical-align: middle;\n",
              "    }\n",
              "\n",
              "    .dataframe tbody tr th {\n",
              "        vertical-align: top;\n",
              "    }\n",
              "\n",
              "    .dataframe thead th {\n",
              "        text-align: right;\n",
              "    }\n",
              "</style>\n",
              "<table border=\"1\" class=\"dataframe\">\n",
              "  <thead>\n",
              "    <tr style=\"text-align: right;\">\n",
              "      <th></th>\n",
              "      <th>IPV4_SRC_ADDR</th>\n",
              "      <th>L4_SRC_PORT</th>\n",
              "      <th>IPV4_DST_ADDR</th>\n",
              "      <th>L4_DST_PORT</th>\n",
              "      <th>PROTOCOL</th>\n",
              "      <th>L7_PROTO</th>\n",
              "      <th>IN_BYTES</th>\n",
              "      <th>OUT_BYTES</th>\n",
              "      <th>IN_PKTS</th>\n",
              "      <th>OUT_PKTS</th>\n",
              "      <th>...</th>\n",
              "      <th>Backdoor</th>\n",
              "      <th>DoS</th>\n",
              "      <th>Exploits</th>\n",
              "      <th>Fuzzers</th>\n",
              "      <th>Generic</th>\n",
              "      <th>Normal</th>\n",
              "      <th>Reconnaissance</th>\n",
              "      <th>Shellcode</th>\n",
              "      <th>Worms</th>\n",
              "      <th>Attack</th>\n",
              "    </tr>\n",
              "  </thead>\n",
              "  <tbody>\n",
              "    <tr>\n",
              "      <th>0</th>\n",
              "      <td>2.778414</td>\n",
              "      <td>1.533064</td>\n",
              "      <td>-20.329288</td>\n",
              "      <td>2.156946</td>\n",
              "      <td>-0.310688</td>\n",
              "      <td>-0.662235</td>\n",
              "      <td>0.055297</td>\n",
              "      <td>-0.241222</td>\n",
              "      <td>-0.321254</td>\n",
              "      <td>-0.325353</td>\n",
              "      <td>...</td>\n",
              "      <td>0</td>\n",
              "      <td>0</td>\n",
              "      <td>0</td>\n",
              "      <td>0</td>\n",
              "      <td>0</td>\n",
              "      <td>1</td>\n",
              "      <td>0</td>\n",
              "      <td>0</td>\n",
              "      <td>0</td>\n",
              "      <td>Normal</td>\n",
              "    </tr>\n",
              "    <tr>\n",
              "      <th>1</th>\n",
              "      <td>2.778414</td>\n",
              "      <td>-0.018623</td>\n",
              "      <td>-20.329288</td>\n",
              "      <td>-0.627423</td>\n",
              "      <td>-0.310688</td>\n",
              "      <td>-0.662235</td>\n",
              "      <td>-0.045403</td>\n",
              "      <td>-0.243001</td>\n",
              "      <td>-0.377538</td>\n",
              "      <td>-0.370978</td>\n",
              "      <td>...</td>\n",
              "      <td>0</td>\n",
              "      <td>0</td>\n",
              "      <td>0</td>\n",
              "      <td>0</td>\n",
              "      <td>0</td>\n",
              "      <td>1</td>\n",
              "      <td>0</td>\n",
              "      <td>0</td>\n",
              "      <td>0</td>\n",
              "      <td>Normal</td>\n",
              "    </tr>\n",
              "    <tr>\n",
              "      <th>2</th>\n",
              "      <td>2.778414</td>\n",
              "      <td>-1.699178</td>\n",
              "      <td>-20.329288</td>\n",
              "      <td>0.416026</td>\n",
              "      <td>-0.310688</td>\n",
              "      <td>-0.613741</td>\n",
              "      <td>-0.044561</td>\n",
              "      <td>-0.236548</td>\n",
              "      <td>-0.152404</td>\n",
              "      <td>-0.218896</td>\n",
              "      <td>...</td>\n",
              "      <td>0</td>\n",
              "      <td>0</td>\n",
              "      <td>0</td>\n",
              "      <td>0</td>\n",
              "      <td>0</td>\n",
              "      <td>1</td>\n",
              "      <td>0</td>\n",
              "      <td>0</td>\n",
              "      <td>0</td>\n",
              "      <td>Normal</td>\n",
              "    </tr>\n",
              "    <tr>\n",
              "      <th>3</th>\n",
              "      <td>-0.273377</td>\n",
              "      <td>-0.460548</td>\n",
              "      <td>0.022812</td>\n",
              "      <td>1.687967</td>\n",
              "      <td>-0.310688</td>\n",
              "      <td>-0.662235</td>\n",
              "      <td>-0.061319</td>\n",
              "      <td>-0.193292</td>\n",
              "      <td>-0.332511</td>\n",
              "      <td>-0.294937</td>\n",
              "      <td>...</td>\n",
              "      <td>0</td>\n",
              "      <td>0</td>\n",
              "      <td>0</td>\n",
              "      <td>0</td>\n",
              "      <td>0</td>\n",
              "      <td>1</td>\n",
              "      <td>0</td>\n",
              "      <td>0</td>\n",
              "      <td>0</td>\n",
              "      <td>Normal</td>\n",
              "    </tr>\n",
              "    <tr>\n",
              "      <th>4</th>\n",
              "      <td>-0.273377</td>\n",
              "      <td>1.584580</td>\n",
              "      <td>0.022812</td>\n",
              "      <td>-0.704234</td>\n",
              "      <td>-0.310688</td>\n",
              "      <td>-0.613741</td>\n",
              "      <td>-0.045275</td>\n",
              "      <td>-0.230254</td>\n",
              "      <td>-0.084864</td>\n",
              "      <td>-0.127647</td>\n",
              "      <td>...</td>\n",
              "      <td>0</td>\n",
              "      <td>0</td>\n",
              "      <td>0</td>\n",
              "      <td>0</td>\n",
              "      <td>0</td>\n",
              "      <td>1</td>\n",
              "      <td>0</td>\n",
              "      <td>0</td>\n",
              "      <td>0</td>\n",
              "      <td>Normal</td>\n",
              "    </tr>\n",
              "    <tr>\n",
              "      <th>...</th>\n",
              "      <td>...</td>\n",
              "      <td>...</td>\n",
              "      <td>...</td>\n",
              "      <td>...</td>\n",
              "      <td>...</td>\n",
              "      <td>...</td>\n",
              "      <td>...</td>\n",
              "      <td>...</td>\n",
              "      <td>...</td>\n",
              "      <td>...</td>\n",
              "      <td>...</td>\n",
              "      <td>...</td>\n",
              "      <td>...</td>\n",
              "      <td>...</td>\n",
              "      <td>...</td>\n",
              "      <td>...</td>\n",
              "      <td>...</td>\n",
              "      <td>...</td>\n",
              "      <td>...</td>\n",
              "      <td>...</td>\n",
              "      <td>...</td>\n",
              "    </tr>\n",
              "    <tr>\n",
              "      <th>1623112</th>\n",
              "      <td>-0.273377</td>\n",
              "      <td>0.806315</td>\n",
              "      <td>0.022812</td>\n",
              "      <td>-0.354121</td>\n",
              "      <td>-0.310688</td>\n",
              "      <td>-0.662235</td>\n",
              "      <td>-0.052519</td>\n",
              "      <td>-0.240994</td>\n",
              "      <td>-0.332511</td>\n",
              "      <td>-0.340562</td>\n",
              "      <td>...</td>\n",
              "      <td>0</td>\n",
              "      <td>0</td>\n",
              "      <td>0</td>\n",
              "      <td>0</td>\n",
              "      <td>0</td>\n",
              "      <td>1</td>\n",
              "      <td>0</td>\n",
              "      <td>0</td>\n",
              "      <td>0</td>\n",
              "      <td>Normal</td>\n",
              "    </tr>\n",
              "    <tr>\n",
              "      <th>1623113</th>\n",
              "      <td>-0.273377</td>\n",
              "      <td>-1.614846</td>\n",
              "      <td>0.022812</td>\n",
              "      <td>-0.702601</td>\n",
              "      <td>0.567681</td>\n",
              "      <td>-0.662235</td>\n",
              "      <td>-0.066394</td>\n",
              "      <td>-0.242670</td>\n",
              "      <td>-0.422564</td>\n",
              "      <td>-0.370978</td>\n",
              "      <td>...</td>\n",
              "      <td>0</td>\n",
              "      <td>0</td>\n",
              "      <td>0</td>\n",
              "      <td>0</td>\n",
              "      <td>0</td>\n",
              "      <td>1</td>\n",
              "      <td>0</td>\n",
              "      <td>0</td>\n",
              "      <td>0</td>\n",
              "      <td>Normal</td>\n",
              "    </tr>\n",
              "    <tr>\n",
              "      <th>1623114</th>\n",
              "      <td>-0.273377</td>\n",
              "      <td>-1.512230</td>\n",
              "      <td>0.022812</td>\n",
              "      <td>-0.704234</td>\n",
              "      <td>-0.310688</td>\n",
              "      <td>-0.613741</td>\n",
              "      <td>-0.041985</td>\n",
              "      <td>-0.229889</td>\n",
              "      <td>-0.039838</td>\n",
              "      <td>-0.127647</td>\n",
              "      <td>...</td>\n",
              "      <td>0</td>\n",
              "      <td>0</td>\n",
              "      <td>0</td>\n",
              "      <td>0</td>\n",
              "      <td>0</td>\n",
              "      <td>1</td>\n",
              "      <td>0</td>\n",
              "      <td>0</td>\n",
              "      <td>0</td>\n",
              "      <td>Normal</td>\n",
              "    </tr>\n",
              "    <tr>\n",
              "      <th>1623115</th>\n",
              "      <td>-0.273377</td>\n",
              "      <td>-1.457172</td>\n",
              "      <td>0.022812</td>\n",
              "      <td>1.373172</td>\n",
              "      <td>-0.310688</td>\n",
              "      <td>-0.662235</td>\n",
              "      <td>-0.063971</td>\n",
              "      <td>-0.232660</td>\n",
              "      <td>-0.377538</td>\n",
              "      <td>-0.325353</td>\n",
              "      <td>...</td>\n",
              "      <td>0</td>\n",
              "      <td>0</td>\n",
              "      <td>0</td>\n",
              "      <td>0</td>\n",
              "      <td>0</td>\n",
              "      <td>1</td>\n",
              "      <td>0</td>\n",
              "      <td>0</td>\n",
              "      <td>0</td>\n",
              "      <td>Normal</td>\n",
              "    </tr>\n",
              "    <tr>\n",
              "      <th>1623116</th>\n",
              "      <td>-0.273377</td>\n",
              "      <td>-1.406437</td>\n",
              "      <td>0.022812</td>\n",
              "      <td>2.165162</td>\n",
              "      <td>-0.310688</td>\n",
              "      <td>-0.662235</td>\n",
              "      <td>-0.061319</td>\n",
              "      <td>-0.193292</td>\n",
              "      <td>-0.332511</td>\n",
              "      <td>-0.294937</td>\n",
              "      <td>...</td>\n",
              "      <td>0</td>\n",
              "      <td>0</td>\n",
              "      <td>0</td>\n",
              "      <td>0</td>\n",
              "      <td>0</td>\n",
              "      <td>1</td>\n",
              "      <td>0</td>\n",
              "      <td>0</td>\n",
              "      <td>0</td>\n",
              "      <td>Normal</td>\n",
              "    </tr>\n",
              "  </tbody>\n",
              "</table>\n",
              "<p>1623117 rows × 25 columns</p>\n",
              "</div>\n",
              "      <button class=\"colab-df-convert\" onclick=\"convertToInteractive('df-cf690311-e48f-4fd5-a054-3a0d2d32aa95')\"\n",
              "              title=\"Convert this dataframe to an interactive table.\"\n",
              "              style=\"display:none;\">\n",
              "        \n",
              "  <svg xmlns=\"http://www.w3.org/2000/svg\" height=\"24px\"viewBox=\"0 0 24 24\"\n",
              "       width=\"24px\">\n",
              "    <path d=\"M0 0h24v24H0V0z\" fill=\"none\"/>\n",
              "    <path d=\"M18.56 5.44l.94 2.06.94-2.06 2.06-.94-2.06-.94-.94-2.06-.94 2.06-2.06.94zm-11 1L8.5 8.5l.94-2.06 2.06-.94-2.06-.94L8.5 2.5l-.94 2.06-2.06.94zm10 10l.94 2.06.94-2.06 2.06-.94-2.06-.94-.94-2.06-.94 2.06-2.06.94z\"/><path d=\"M17.41 7.96l-1.37-1.37c-.4-.4-.92-.59-1.43-.59-.52 0-1.04.2-1.43.59L10.3 9.45l-7.72 7.72c-.78.78-.78 2.05 0 2.83L4 21.41c.39.39.9.59 1.41.59.51 0 1.02-.2 1.41-.59l7.78-7.78 2.81-2.81c.8-.78.8-2.07 0-2.86zM5.41 20L4 18.59l7.72-7.72 1.47 1.35L5.41 20z\"/>\n",
              "  </svg>\n",
              "      </button>\n",
              "      \n",
              "  <style>\n",
              "    .colab-df-container {\n",
              "      display:flex;\n",
              "      flex-wrap:wrap;\n",
              "      gap: 12px;\n",
              "    }\n",
              "\n",
              "    .colab-df-convert {\n",
              "      background-color: #E8F0FE;\n",
              "      border: none;\n",
              "      border-radius: 50%;\n",
              "      cursor: pointer;\n",
              "      display: none;\n",
              "      fill: #1967D2;\n",
              "      height: 32px;\n",
              "      padding: 0 0 0 0;\n",
              "      width: 32px;\n",
              "    }\n",
              "\n",
              "    .colab-df-convert:hover {\n",
              "      background-color: #E2EBFA;\n",
              "      box-shadow: 0px 1px 2px rgba(60, 64, 67, 0.3), 0px 1px 3px 1px rgba(60, 64, 67, 0.15);\n",
              "      fill: #174EA6;\n",
              "    }\n",
              "\n",
              "    [theme=dark] .colab-df-convert {\n",
              "      background-color: #3B4455;\n",
              "      fill: #D2E3FC;\n",
              "    }\n",
              "\n",
              "    [theme=dark] .colab-df-convert:hover {\n",
              "      background-color: #434B5C;\n",
              "      box-shadow: 0px 1px 3px 1px rgba(0, 0, 0, 0.15);\n",
              "      filter: drop-shadow(0px 1px 2px rgba(0, 0, 0, 0.3));\n",
              "      fill: #FFFFFF;\n",
              "    }\n",
              "  </style>\n",
              "\n",
              "      <script>\n",
              "        const buttonEl =\n",
              "          document.querySelector('#df-cf690311-e48f-4fd5-a054-3a0d2d32aa95 button.colab-df-convert');\n",
              "        buttonEl.style.display =\n",
              "          google.colab.kernel.accessAllowed ? 'block' : 'none';\n",
              "\n",
              "        async function convertToInteractive(key) {\n",
              "          const element = document.querySelector('#df-cf690311-e48f-4fd5-a054-3a0d2d32aa95');\n",
              "          const dataTable =\n",
              "            await google.colab.kernel.invokeFunction('convertToInteractive',\n",
              "                                                     [key], {});\n",
              "          if (!dataTable) return;\n",
              "\n",
              "          const docLinkHtml = 'Like what you see? Visit the ' +\n",
              "            '<a target=\"_blank\" href=https://colab.research.google.com/notebooks/data_table.ipynb>data table notebook</a>'\n",
              "            + ' to learn more about interactive tables.';\n",
              "          element.innerHTML = '';\n",
              "          dataTable['output_type'] = 'display_data';\n",
              "          await google.colab.output.renderOutput(dataTable, element);\n",
              "          const docLink = document.createElement('div');\n",
              "          docLink.innerHTML = docLinkHtml;\n",
              "          element.appendChild(docLink);\n",
              "        }\n",
              "      </script>\n",
              "    </div>\n",
              "  </div>\n",
              "  "
            ]
          },
          "metadata": {},
          "execution_count": 101
        }
      ],
      "source": [
        "#numerical_data = multi_data[['L4_SRC_PORT', 'L7_PROTO', 'L4_DST_PORT', 'PROTOCOL', 'FLOW_DURATION_MILLISECONDS']]\n",
        "#multi_data = numerical_data.join(multi_data[['intrusion', 'R2L', 'Dos', 'Normal', 'Probe', 'U2R', 'Attack']])\n",
        "# multi_data.rename(columns={'Attack':'Label'}, inplace=True)\n",
        "multi_data"
      ]
    },
    {
      "cell_type": "code",
      "execution_count": null,
      "metadata": {
        "id": "DXGxUF2YE6tk"
      },
      "outputs": [],
      "source": [
        "# scaler = MinMaxScaler()\n",
        "# df_scaled = scaler.fit_transform(df)"
      ]
    },
    {
      "cell_type": "code",
      "execution_count": null,
      "metadata": {
        "id": "3QMnmfFsuQJ-"
      },
      "outputs": [],
      "source": [
        " \n",
        "X_train, X_test = train_test_split(multi_data, test_size=0.25, random_state=42)\n",
        "\n",
        "y_train = X_train[['Normal','Exploits', 'Fuzzers', 'Reconnaissance', 'Generic', 'DoS', 'Analysis','Backdoor', 'Shellcode','Worms']]\n",
        "X_train = X_train.drop(['intrusion','Normal', 'Exploits', 'Fuzzers', 'Reconnaissance', 'Generic', 'DoS', 'Analysis','Backdoor', 'Shellcode','Worms', 'Attack'],axis=1)\n",
        "\n",
        "y_test = X_test[['Normal', 'Exploits', 'Fuzzers', 'Reconnaissance', 'Generic', 'DoS', 'Analysis','Backdoor', 'Shellcode','Worms']]\n",
        "X_test = X_test.drop(['intrusion','Normal', 'Exploits', 'Fuzzers', 'Reconnaissance', 'Generic', 'DoS', 'Analysis','Backdoor', 'Shellcode','Worms', 'Attack'],axis=1)\n"
      ]
    },
    {
      "cell_type": "code",
      "execution_count": null,
      "metadata": {
        "id": "FmOOCtRZ8shc",
        "colab": {
          "base_uri": "https://localhost:8080/"
        },
        "outputId": "c8fd0c53-1255-4285-a3d5-0f4ac752702c"
      },
      "outputs": [
        {
          "output_type": "execute_result",
          "data": {
            "text/plain": [
              "1217337"
            ]
          },
          "metadata": {},
          "execution_count": 104
        }
      ],
      "source": [
        " X_train.shape[0]"
      ]
    },
    {
      "cell_type": "code",
      "execution_count": null,
      "metadata": {
        "id": "9NIcgjvpUgiS"
      },
      "outputs": [],
      "source": [
        "scaler = MinMaxScaler()\n",
        "X_train = scaler.fit_transform(X_train)\n",
        "y_train = scaler.fit_transform(y_train)\n",
        "X_test = scaler.fit_transform(X_test)\n",
        "y_test = scaler.fit_transform(y_test)"
      ]
    },
    {
      "cell_type": "code",
      "execution_count": null,
      "metadata": {
        "id": "g1l4EHOlELcG",
        "colab": {
          "base_uri": "https://localhost:8080/"
        },
        "outputId": "1da95124-53bb-4d60-e3e5-06221711ce2e"
      },
      "outputs": [
        {
          "output_type": "execute_result",
          "data": {
            "text/plain": [
              "10"
            ]
          },
          "metadata": {},
          "execution_count": 142
        }
      ],
      "source": [
        " y_test.shape[1]"
      ]
    },
    {
      "cell_type": "code",
      "execution_count": null,
      "metadata": {
        "id": "nawcHj--8rsr",
        "colab": {
          "base_uri": "https://localhost:8080/"
        },
        "outputId": "55f6c4f3-d585-414c-886f-0848b2ddfec6"
      },
      "outputs": [
        {
          "output_type": "execute_result",
          "data": {
            "text/plain": [
              "10"
            ]
          },
          "metadata": {},
          "execution_count": 143
        }
      ],
      "source": [
        "y_test.shape[1]"
      ]
    },
    {
      "cell_type": "code",
      "execution_count": null,
      "metadata": {
        "id": "3GBQDWLIUIrk",
        "colab": {
          "base_uri": "https://localhost:8080/"
        },
        "outputId": "1e118c4d-c1a8-42dc-893b-dc9de9e441f1"
      },
      "outputs": [
        {
          "output_type": "execute_result",
          "data": {
            "text/plain": [
              "array([[1., 0., 0., ..., 0., 0., 0.],\n",
              "       [1., 0., 0., ..., 0., 0., 0.],\n",
              "       [1., 0., 0., ..., 0., 0., 0.],\n",
              "       ...,\n",
              "       [1., 0., 0., ..., 0., 0., 0.],\n",
              "       [1., 0., 0., ..., 0., 0., 0.],\n",
              "       [1., 0., 0., ..., 0., 0., 0.]])"
            ]
          },
          "metadata": {},
          "execution_count": 144
        }
      ],
      "source": [
        "y_train"
      ]
    },
    {
      "cell_type": "code",
      "execution_count": null,
      "metadata": {
        "id": "2FMsAkwyvIw6",
        "colab": {
          "base_uri": "https://localhost:8080/"
        },
        "outputId": "06547daf-66f9-46f5-800c-77b9b726792f"
      },
      "outputs": [
        {
          "output_type": "execute_result",
          "data": {
            "text/plain": [
              "array([1, 1, 1, ..., 1, 1, 1])"
            ]
          },
          "metadata": {},
          "execution_count": 145
        }
      ],
      "source": [
        "labels = np.where(df['Label'] == 0, 1, 0)\n",
        "labels"
      ]
    },
    {
      "cell_type": "code",
      "execution_count": null,
      "metadata": {
        "id": "BMpalMFMuU18"
      },
      "outputs": [],
      "source": [
        "X = multi_data.iloc[:,0:93]\n",
        "Y = multi_data[['Normal','Exploits', 'Fuzzers', 'Reconnaissance', 'Generic', 'DoS', 'Analysis','Backdoor', 'Shellcode','Worms']]"
      ]
    },
    {
      "cell_type": "code",
      "execution_count": null,
      "metadata": {
        "id": "eAae60WluWc8"
      },
      "outputs": [],
      "source": [
        "# X_train = X_train.values\n",
        "# X_test = X_test.values\n",
        "# y_test = y_test.values"
      ]
    },
    {
      "cell_type": "code",
      "execution_count": null,
      "metadata": {
        "id": "vJQ77CEfVQki",
        "colab": {
          "base_uri": "https://localhost:8080/"
        },
        "outputId": "b92ee9e2-ba67-4141-b1c1-7a192e427fcf"
      },
      "outputs": [
        {
          "output_type": "execute_result",
          "data": {
            "text/plain": [
              "array([[2.71179403e-01, 7.34813458e-01, 6.52404715e-01, ...,\n",
              "        8.70967742e-01, 6.88249834e-04, 0.00000000e+00],\n",
              "       [2.71179404e-01, 3.57045853e-01, 6.52404717e-01, ...,\n",
              "        8.70967742e-01, 1.62004139e-03, 0.00000000e+00],\n",
              "       [2.71179405e-01, 7.23094530e-01, 6.52404715e-01, ...,\n",
              "        8.70967742e-01, 9.99999767e-01, 0.00000000e+00],\n",
              "       ...,\n",
              "       [2.71179405e-01, 6.76768139e-01, 6.52404717e-01, ...,\n",
              "        8.70967742e-01, 9.31325891e-07, 0.00000000e+00],\n",
              "       [2.71179403e-01, 4.05951019e-01, 6.52404714e-01, ...,\n",
              "        8.70967742e-01, 9.31325891e-07, 0.00000000e+00],\n",
              "       [2.71179403e-01, 8.30762188e-01, 6.52404715e-01, ...,\n",
              "        0.00000000e+00, 0.00000000e+00, 0.00000000e+00]])"
            ]
          },
          "metadata": {},
          "execution_count": 148
        }
      ],
      "source": [
        "X_train"
      ]
    },
    {
      "cell_type": "code",
      "execution_count": null,
      "metadata": {
        "id": "dqLbvBz33eOc"
      },
      "outputs": [],
      "source": [
        "def get_error_term(v1, v2, _rmse=True):\n",
        "    if _rmse:\n",
        "        return np.sqrt(np.mean((v1 - v2) ** 2, axis=1))\n",
        "    #return MAE\n",
        "    return np.mean(abs(v1 - v2), axis=1)"
      ]
    },
    {
      "cell_type": "code",
      "execution_count": null,
      "metadata": {
        "id": "f5hDUSWv3QvT"
      },
      "outputs": [],
      "source": [
        "def sample(args):\n",
        "    z_mean, z_log_var = args\n",
        "    batch = K.shape(z_mean)[0]\n",
        "    dim = K.int_shape(z_mean)[1]\n",
        "    epsilon = K.random_normal(shape=(batch, dim))\n",
        "    return z_mean + K.exp(0.5 * z_log_var) * epsilon"
      ]
    },
    {
      "cell_type": "code",
      "execution_count": null,
      "metadata": {
        "id": "g2zNX_ycupqE"
      },
      "outputs": [],
      "source": [
        "original_dim = X_train.shape[1]\n",
        "input_shape = (original_dim,)\n",
        "intermediate_dim = int(original_dim / 2)\n",
        "latent_dim = int(original_dim / 3)"
      ]
    },
    {
      "cell_type": "code",
      "execution_count": null,
      "metadata": {
        "id": "Zpo9hdR7uuM8",
        "colab": {
          "base_uri": "https://localhost:8080/"
        },
        "outputId": "acc6f0ac-4758-476d-beb2-07e3c9925d10"
      },
      "outputs": [
        {
          "output_type": "execute_result",
          "data": {
            "text/plain": [
              "13"
            ]
          },
          "metadata": {},
          "execution_count": 152
        }
      ],
      "source": [
        "original_dim"
      ]
    },
    {
      "cell_type": "code",
      "execution_count": null,
      "metadata": {
        "id": "PGsCIlR98YhM",
        "colab": {
          "base_uri": "https://localhost:8080/"
        },
        "outputId": "1a2b3f95-12ae-4cb5-ab60-b5a9434e69ae"
      },
      "outputs": [
        {
          "output_type": "execute_result",
          "data": {
            "text/plain": [
              "6"
            ]
          },
          "metadata": {},
          "execution_count": 153
        }
      ],
      "source": [
        "intermediate_dim"
      ]
    },
    {
      "cell_type": "code",
      "execution_count": null,
      "metadata": {
        "id": "RR2pLMu08aRb",
        "colab": {
          "base_uri": "https://localhost:8080/"
        },
        "outputId": "4712088e-90b0-4808-bc72-63d23e83e7b2"
      },
      "outputs": [
        {
          "output_type": "execute_result",
          "data": {
            "text/plain": [
              "4"
            ]
          },
          "metadata": {},
          "execution_count": 154
        }
      ],
      "source": [
        "latent_dim"
      ]
    },
    {
      "cell_type": "code",
      "execution_count": null,
      "metadata": {
        "id": "q6vRfPsafFvC"
      },
      "outputs": [],
      "source": [
        "from datetime import datetime\n",
        "import matplotlib.pyplot as plt\n",
        "import numpy as np\n",
        "import pandas as pd\n",
        "\n",
        "\n",
        "import tensorflow as tf\n",
        "tf.compat.v1.disable_eager_execution()\n",
        "from tensorflow.keras.models import Model, load_model\n",
        "from tensorflow.keras.layers import Lambda, Input, Dense\n",
        "from tensorflow.keras.losses import mse, binary_crossentropy, kl_divergence\n",
        "from tensorflow.keras import optimizers\n",
        "from tensorflow.keras import backend as K\n",
        "\n",
        "from sklearn.model_selection import train_test_split\n",
        "from sklearn.preprocessing import MinMaxScaler, StandardScaler, PowerTransformer\n",
        "\n",
        "import seaborn as sns\n",
        "import matplotlib.pyplot as plt\n",
        "import numpy as np\n",
        "import pandas as pd\n",
        "\n",
        "import pickle # saving and loading trained model\n",
        "from os import path\n",
        "\n",
        "# importing required libraries for normalizing data\n",
        "from sklearn import preprocessing\n",
        "from sklearn.preprocessing import StandardScaler\n",
        "\n",
        "# importing library for plotting\n",
        "import matplotlib.pyplot as plt\n",
        "# importing library for dealing ipaddress\n",
        "import ipaddress\n",
        "from ipaddress import IPv4Address\n",
        "# importing library for support vector machine classifier\n",
        "from sklearn.svm import SVC\n",
        "# importing library for K-neares-neighbor classifier\n",
        "from sklearn.neighbors import KNeighborsClassifier\n",
        "# importing library for Linear Discriminant Analysis Model\n",
        "from sklearn.discriminant_analysis import LinearDiscriminantAnalysis\n",
        "# importing library for Quadratic Discriminant Analysis Model\n",
        "from sklearn.discriminant_analysis import QuadraticDiscriminantAnalysis\n",
        "\n",
        "from sklearn import metrics\n",
        "from sklearn.metrics import accuracy_score # for calculating accuracy of model\n",
        "from sklearn.model_selection import train_test_split # for splitting the dataset for training and testing\n",
        "from sklearn.metrics import classification_report # for generating a classification report of model\n",
        "\n",
        "from sklearn.metrics import precision_score\n",
        "from sklearn.metrics import recall_score\n",
        "from sklearn.metrics import f1_score\n",
        "\n",
        "from sklearn.metrics import roc_auc_score\n",
        "from sklearn.metrics import roc_curve, auc\n",
        "\n",
        "from keras.layers import Dense # importing dense layer\n",
        "from keras.models import Sequential #importing Sequential layer\n",
        "from keras.models import model_from_json # saving and loading trained model"
      ]
    },
    {
      "cell_type": "code",
      "execution_count": null,
      "metadata": {
        "id": "FbbrK0dduxlP",
        "colab": {
          "base_uri": "https://localhost:8080/"
        },
        "outputId": "499df73d-3bb9-4d58-f174-cf7896b1e96b"
      },
      "outputs": [
        {
          "output_type": "stream",
          "name": "stdout",
          "text": [
            "Model: \"encoder\"\n",
            "__________________________________________________________________________________________________\n",
            " Layer (type)                   Output Shape         Param #     Connected to                     \n",
            "==================================================================================================\n",
            " encoder_input (InputLayer)     [(None, 13)]         0           []                               \n",
            "                                                                                                  \n",
            " dense_6 (Dense)                (None, 6)            84          ['encoder_input[0][0]']          \n",
            "                                                                                                  \n",
            " z_mean (Dense)                 (None, 4)            28          ['dense_6[0][0]']                \n",
            "                                                                                                  \n",
            " z_log_var (Dense)              (None, 4)            28          ['dense_6[0][0]']                \n",
            "                                                                                                  \n",
            " z (Lambda)                     (None, 4)            0           ['z_mean[0][0]',                 \n",
            "                                                                  'z_log_var[0][0]']              \n",
            "                                                                                                  \n",
            "==================================================================================================\n",
            "Total params: 140\n",
            "Trainable params: 140\n",
            "Non-trainable params: 0\n",
            "__________________________________________________________________________________________________\n"
          ]
        }
      ],
      "source": [
        "# encoder model\n",
        "\n",
        "inputs = Input(shape=input_shape, name='encoder_input')\n",
        "x = Dense(intermediate_dim, activation='relu')(inputs)\n",
        "z_mean = Dense(latent_dim, name='z_mean')(x)\n",
        "z_log_var = Dense(latent_dim, name='z_log_var')(x)\n",
        "# use the reparameterization trick and get the output from the sample() function\n",
        "# z = Lambda(sample, output_shape=(1,), name='z')([z_mean, z_log_var])\n",
        " \n",
        "z = Lambda(sample, output_shape=(input_shape,), name='z')([z_mean, z_log_var])\n",
        " \n",
        "\n",
        "\n",
        "encoder = Model(inputs, z, name='encoder')\n",
        "encoder.summary()\n"
      ]
    },
    {
      "cell_type": "code",
      "execution_count": null,
      "metadata": {
        "id": "E87lWQFaL-pL"
      },
      "outputs": [],
      "source": [
        "# # creating model with input, encoding, decoding, output layers\n",
        "# autoencoder = Model(inputs=inputs, outputs=z)\n",
        "\n",
        "# # defining loss function, optimizer, metrics and then compiling model\n",
        "# autoencoder.compile(optimizer='adam', loss='mean_squared_error',metrics=['accuracy'])"
      ]
    },
    {
      "cell_type": "code",
      "execution_count": null,
      "metadata": {
        "id": "Pnp74RZNM83U"
      },
      "outputs": [],
      "source": [
        "# # summary of model layers\n",
        "# autoencoder.summary()"
      ]
    },
    {
      "cell_type": "code",
      "execution_count": null,
      "metadata": {
        "id": "1CY-xRlgNRez"
      },
      "outputs": [],
      "source": [
        "# from keras.callbacks import ModelCheckpoint, EarlyStopping"
      ]
    },
    {
      "cell_type": "code",
      "execution_count": null,
      "metadata": {
        "id": "fhFcz6tT6CtT"
      },
      "outputs": [],
      "source": [
        "# # training the model on training dataset\n",
        "# monitor = EarlyStopping(monitor='val_loss', min_delta=1e-3, \n",
        "#                         patience=20, verbose=1, mode='auto',\n",
        "#                            restore_best_weights=True)\n",
        "# history = autoencoder.fit(X_train, X_train, epochs=1,batch_size=500,validation_data=(X_test, X_test),callbacks=monitor).history"
      ]
    },
    {
      "cell_type": "code",
      "execution_count": null,
      "metadata": {
        "id": "_hEguLe75-_5"
      },
      "outputs": [],
      "source": [
        "# autoencoder.summary()"
      ]
    },
    {
      "cell_type": "code",
      "execution_count": null,
      "metadata": {
        "id": "M9jMHubnuz2Y",
        "colab": {
          "base_uri": "https://localhost:8080/"
        },
        "outputId": "a5d0508c-2043-4fd6-9935-a30a5b1f24fb"
      },
      "outputs": [
        {
          "output_type": "stream",
          "name": "stdout",
          "text": [
            "Model: \"decoder\"\n",
            "_________________________________________________________________\n",
            " Layer (type)                Output Shape              Param #   \n",
            "=================================================================\n",
            " z_sampling (InputLayer)     [(None, 4)]               0         \n",
            "                                                                 \n",
            " dense_7 (Dense)             (None, 6)                 30        \n",
            "                                                                 \n",
            " dense_8 (Dense)             (None, 13)                91        \n",
            "                                                                 \n",
            "=================================================================\n",
            "Total params: 121\n",
            "Trainable params: 121\n",
            "Non-trainable params: 0\n",
            "_________________________________________________________________\n"
          ]
        }
      ],
      "source": [
        "# decoder model\n",
        "latent_inputs = Input(shape=(latent_dim,), name='z_sampling')\n",
        "x = Dense(intermediate_dim, activation='relu')(latent_inputs)\n",
        "outputs = Dense(original_dim, activation='sigmoid')(x)\n",
        "# Instantiate the decoder model:\n",
        "decoder = Model(latent_inputs, outputs, name='decoder')\n",
        "decoder.summary()"
      ]
    },
    {
      "cell_type": "code",
      "execution_count": null,
      "metadata": {
        "id": "tdw4jeVn5GHS"
      },
      "outputs": [],
      "source": [
        "# full VAE model\n",
        "outputs = decoder(encoder(inputs))\n",
        "vae_model = Model(inputs, outputs, name='vae_mlp')"
      ]
    },
    {
      "cell_type": "code",
      "execution_count": null,
      "metadata": {
        "id": "tka5FliK5JL_"
      },
      "outputs": [],
      "source": [
        "# the KL loss function:\n",
        "def vae_loss(x, x_decoded_mean):\n",
        "    # compute the average MSE error, then scale it up, ie. simply sum on all axes\n",
        "    reconstruction_loss = K.sum(K.square(x - x_decoded_mean))\n",
        "    # compute the KL loss\n",
        "    kl_loss = - 0.5 * K.sum(1 + z_log_var - K.square(z_mean) - K.square(K.exp(z_log_var)), axis=-1)\n",
        "    # return the average loss over all \n",
        "    total_loss = K.mean(reconstruction_loss + kl_loss)    \n",
        "    #total_loss = reconstruction_loss + kl_loss\n",
        "    return total_loss"
      ]
    },
    {
      "cell_type": "code",
      "execution_count": null,
      "metadata": {
        "id": "bt1DuMplT8dU",
        "colab": {
          "base_uri": "https://localhost:8080/"
        },
        "outputId": "b8b43026-fcce-4b24-e757-8a41e7da69d9"
      },
      "outputs": [
        {
          "output_type": "execute_result",
          "data": {
            "text/plain": [
              "array([[2.71179403e-01, 7.34813458e-01, 6.52404715e-01, ...,\n",
              "        8.70967742e-01, 6.88249834e-04, 0.00000000e+00],\n",
              "       [2.71179404e-01, 3.57045853e-01, 6.52404717e-01, ...,\n",
              "        8.70967742e-01, 1.62004139e-03, 0.00000000e+00],\n",
              "       [2.71179405e-01, 7.23094530e-01, 6.52404715e-01, ...,\n",
              "        8.70967742e-01, 9.99999767e-01, 0.00000000e+00],\n",
              "       ...,\n",
              "       [2.71179405e-01, 6.76768139e-01, 6.52404717e-01, ...,\n",
              "        8.70967742e-01, 9.31325891e-07, 0.00000000e+00],\n",
              "       [2.71179403e-01, 4.05951019e-01, 6.52404714e-01, ...,\n",
              "        8.70967742e-01, 9.31325891e-07, 0.00000000e+00],\n",
              "       [2.71179403e-01, 8.30762188e-01, 6.52404715e-01, ...,\n",
              "        0.00000000e+00, 0.00000000e+00, 0.00000000e+00]])"
            ]
          },
          "metadata": {},
          "execution_count": 165
        }
      ],
      "source": [
        "X_train "
      ]
    },
    {
      "cell_type": "code",
      "execution_count": null,
      "metadata": {
        "id": "f_65UTk35MRi",
        "colab": {
          "base_uri": "https://localhost:8080/"
        },
        "outputId": "86c4e4c0-70c8-42f0-da28-ed275aeb1337"
      },
      "outputs": [
        {
          "output_type": "stream",
          "name": "stdout",
          "text": [
            "Model: \"vae_mlp\"\n",
            "_________________________________________________________________\n",
            " Layer (type)                Output Shape              Param #   \n",
            "=================================================================\n",
            " encoder_input (InputLayer)  [(None, 13)]              0         \n",
            "                                                                 \n",
            " encoder (Functional)        (None, 4)                 140       \n",
            "                                                                 \n",
            " decoder (Functional)        (None, 13)                121       \n",
            "                                                                 \n",
            "=================================================================\n",
            "Total params: 261\n",
            "Trainable params: 261\n",
            "Non-trainable params: 0\n",
            "_________________________________________________________________\n",
            "Train on 1217337 samples, validate on 405780 samples\n",
            "Epoch 1/10\n",
            "1217337/1217337 [==============================] - ETA: 0s - loss: 70.0415 - accuracy: 0.1386"
          ]
        },
        {
          "output_type": "stream",
          "name": "stderr",
          "text": [
            "/usr/local/lib/python3.8/dist-packages/keras/engine/training_v1.py:2045: UserWarning: `Model.state_updates` will be removed in a future version. This property should not be used in TensorFlow 2.0, as `updates` are applied automatically.\n",
            "  updates = self.state_updates\n"
          ]
        },
        {
          "output_type": "stream",
          "name": "stdout",
          "text": [
            "\b\b\b\b\b\b\b\b\b\b\b\b\b\b\b\b\b\b\b\b\b\b\b\b\b\b\b\b\b\b\b\b\b\b\b\b\b\b\b\b\b\b\b\b\b\b\b\b\b\b\b\b\b\b\b\b\b\b\b\b\b\b\b\b\b\b\b\b\b\b\b\b\b\b\b\b\b\b\b\b\b\b\b\b\b\b\b\b\b\b\b\b\b\r1217337/1217337 [==============================] - 38s 31us/sample - loss: 70.0415 - accuracy: 0.1386 - val_loss: 28.7301 - val_accuracy: 0.1843\n",
            "Epoch 2/10\n",
            "1217337/1217337 [==============================] - 36s 29us/sample - loss: 25.9423 - accuracy: 0.2957 - val_loss: 22.7146 - val_accuracy: 0.5180\n",
            "Epoch 3/10\n",
            "1217337/1217337 [==============================] - 37s 30us/sample - loss: 18.9989 - accuracy: 0.6568 - val_loss: 15.5497 - val_accuracy: 0.7383\n",
            "Epoch 4/10\n",
            "1217337/1217337 [==============================] - 36s 30us/sample - loss: 13.6480 - accuracy: 0.7553 - val_loss: 12.3228 - val_accuracy: 0.7638\n",
            "Epoch 5/10\n",
            "1217337/1217337 [==============================] - 35s 29us/sample - loss: 11.5961 - accuracy: 0.7698 - val_loss: 11.2156 - val_accuracy: 0.7724\n",
            "Epoch 6/10\n",
            "1217337/1217337 [==============================] - 37s 30us/sample - loss: 10.9867 - accuracy: 0.7729 - val_loss: 10.9014 - val_accuracy: 0.7718\n",
            "Epoch 7/10\n",
            "1217337/1217337 [==============================] - 36s 29us/sample - loss: 10.7343 - accuracy: 0.7720 - val_loss: 10.5988 - val_accuracy: 0.7710\n",
            "Epoch 8/10\n",
            "1217337/1217337 [==============================] - 36s 29us/sample - loss: 9.9052 - accuracy: 0.7714 - val_loss: 8.9474 - val_accuracy: 0.7713\n",
            "Epoch 9/10\n",
            "1217337/1217337 [==============================] - 37s 31us/sample - loss: 8.1922 - accuracy: 0.7924 - val_loss: 7.8289 - val_accuracy: 0.8087\n",
            "Epoch 10/10\n",
            "1217337/1217337 [==============================] - 36s 30us/sample - loss: 7.7193 - accuracy: 0.8108 - val_loss: 7.6367 - val_accuracy: 0.8118\n"
          ]
        }
      ],
      "source": [
        "opt = optimizers.Adam(learning_rate=3e-5, clipvalue=0.5)\n",
        "#opt = optimizers.RMSprop(learning_rate=0.0001)\n",
        "\n",
        "vae_model.compile(optimizer=opt, loss=vae_loss,metrics=['accuracy'])\n",
        "vae_model.summary()\n",
        "# Finally, we train the model:\n",
        "results = vae_model.fit(X_train, X_train ,shuffle=True,epochs=10,batch_size=64,validation_data=(X_test, X_test)).history"
      ]
    },
    {
      "cell_type": "code",
      "execution_count": null,
      "metadata": {
        "id": "1KCfgUzDgfTi",
        "colab": {
          "base_uri": "https://localhost:8080/",
          "height": 621
        },
        "outputId": "5d8da1e9-4409-4521-f2a7-5fb4e10a5b83"
      },
      "outputs": [
        {
          "output_type": "display_data",
          "data": {
            "text/plain": [
              "<Figure size 720x720 with 1 Axes>"
            ],
            "image/png": "[encoded data removed]"
          },
          "metadata": {
            "needs_background": "light"
          }
        }
      ],
      "source": [
        "plt.figure(figsize=(10,10))\n",
        "plt.plot(vae_model.history.history['loss'])\n",
        "plt.plot(vae_model.history.history['val_loss'])\n",
        "plt.title(\"Performance of VAE model with increase in epochs \")\n",
        "plt.xlabel('Epochs')\n",
        "plt.ylabel('Loss')\n",
        "plt.legend(['Train','Validation'],loc='upper right')\n",
        "plt.show()"
      ]
    },
    {
      "cell_type": "code",
      "execution_count": null,
      "metadata": {
        "id": "y4uMKsYciuMF"
      },
      "outputs": [],
      "source": [
        "vae_model.compile(optimizer='adam', loss='mean_squared_error',metrics=['accuracy'])"
      ]
    },
    {
      "cell_type": "code",
      "execution_count": null,
      "metadata": {
        "id": "7czBIaTDi0dB",
        "colab": {
          "base_uri": "https://localhost:8080/"
        },
        "outputId": "ef61957d-5893-4657-8b56-3e93ea0f8409"
      },
      "outputs": [
        {
          "output_type": "stream",
          "name": "stdout",
          "text": [
            "Test results - Loss: 0.005425818541260126 - Accuracy: 81.15530610084534%\n"
          ]
        }
      ],
      "source": [
        "# predicting target attribute on testing dataset\n",
        "test_results = vae_model.evaluate(X_test, X_test, verbose=1)\n",
        "print(f'Test results - Loss: {test_results[0]} - Accuracy: {test_results[1]*100}%')"
      ]
    },
    {
      "cell_type": "code",
      "execution_count": null,
      "metadata": {
        "id": "K0_mo-lLi9H9",
        "colab": {
          "base_uri": "https://localhost:8080/"
        },
        "outputId": "cc8a29c1-87fe-4ca7-d136-31d50be0d009"
      },
      "outputs": [
        {
          "output_type": "stream",
          "name": "stderr",
          "text": [
            "/usr/local/lib/python3.8/dist-packages/keras/engine/training_v1.py:2067: UserWarning: `Model.state_updates` will be removed in a future version. This property should not be used in TensorFlow 2.0, as `updates` are applied automatically.\n",
            "  updates=self.state_updates,\n"
          ]
        }
      ],
      "source": [
        " predictions = vae_model.predict(X_test)"
      ]
    },
    {
      "cell_type": "markdown",
      "metadata": {
        "id": "n2HTd1VGRG8U"
      },
      "source": [
        "# AE Classifier"
      ]
    },
    {
      "cell_type": "code",
      "execution_count": null,
      "metadata": {
        "id": "xMwBmEgBjdK6",
        "colab": {
          "base_uri": "https://localhost:8080/"
        },
        "outputId": "f6ac928a-c712-429b-c954-af814bb3be44"
      },
      "outputs": [
        {
          "output_type": "stream",
          "name": "stdout",
          "text": [
            "Model: \"encoder\"\n",
            "__________________________________________________________________________________________________\n",
            " Layer (type)                   Output Shape         Param #     Connected to                     \n",
            "==================================================================================================\n",
            " input_2 (InputLayer)           [(None, 13)]         0           []                               \n",
            "                                                                                                  \n",
            " dense_9 (Dense)                (None, 6)            84          ['input_2[0][0]']                \n",
            "                                                                                                  \n",
            " z_mean (Dense)                 (None, 4)            28          ['dense_9[0][0]']                \n",
            "                                                                                                  \n",
            " z_log_var (Dense)              (None, 4)            28          ['dense_9[0][0]']                \n",
            "                                                                                                  \n",
            " z (Lambda)                     (None, 4)            0           ['z_mean[0][0]',                 \n",
            "                                                                  'z_log_var[0][0]']              \n",
            "                                                                                                  \n",
            "==================================================================================================\n",
            "Total params: 140\n",
            "Trainable params: 140\n",
            "Non-trainable params: 0\n",
            "__________________________________________________________________________________________________\n"
          ]
        }
      ],
      "source": [
        " \n",
        "inputs = Input(shape=predictions.shape[1])\n",
        "x = Dense(intermediate_dim, activation='relu')(inputs)\n",
        "z_mean = Dense(latent_dim, name='z_mean')(x)\n",
        "z_log_var = Dense(latent_dim, name='z_log_var')(x)\n",
        "z = Lambda(sample, output_shape=(input_shape,), name='z')([z_mean, z_log_var])\n",
        "\n",
        "encoder1 = Model(inputs, z, name='encoder')\n",
        "encoder1.summary()\n",
        " \n"
      ]
    },
    {
      "cell_type": "code",
      "execution_count": null,
      "metadata": {
        "id": "00Tauc29vCQK",
        "colab": {
          "base_uri": "https://localhost:8080/"
        },
        "outputId": "411a9784-66aa-4f13-9e77-0d006b8b3a09"
      },
      "outputs": [
        {
          "output_type": "stream",
          "name": "stdout",
          "text": [
            "Model: \"decoder\"\n",
            "_________________________________________________________________\n",
            " Layer (type)                Output Shape              Param #   \n",
            "=================================================================\n",
            " z_sampling (InputLayer)     [(None, 4)]               0         \n",
            "                                                                 \n",
            " dense_12 (Dense)            (None, 6)                 30        \n",
            "                                                                 \n",
            " dense_13 (Dense)            (None, 10)                70        \n",
            "                                                                 \n",
            "=================================================================\n",
            "Total params: 100\n",
            "Trainable params: 100\n",
            "Non-trainable params: 0\n",
            "_________________________________________________________________\n"
          ]
        }
      ],
      "source": [
        "\n",
        "latent_inputs = Input(shape=(latent_dim,), name='z_sampling')\n",
        "x = Dense(intermediate_dim, activation='relu')(latent_inputs)\n",
        "outputs = Dense(10, activation='sigmoid')(x)\n",
        " \n",
        "decoder1 = Model(latent_inputs, outputs, name='decoder')\n",
        "decoder1.summary()"
      ]
    },
    {
      "cell_type": "code",
      "execution_count": null,
      "metadata": {
        "id": "jNIPlnGUkUcy"
      },
      "outputs": [],
      "source": [
        "# full VAE model\n",
        "outputs = decoder1(encoder1(inputs))\n",
        "vae_model1 = Model(inputs, outputs, name='vae_mlp')"
      ]
    },
    {
      "cell_type": "code",
      "execution_count": null,
      "metadata": {
        "id": "_EGru4NllWO3",
        "colab": {
          "base_uri": "https://localhost:8080/"
        },
        "outputId": "1d85f509-aa08-4727-8717-4c1ff789689c"
      },
      "outputs": [
        {
          "output_type": "stream",
          "name": "stdout",
          "text": [
            "Train on 324624 samples, validate on 81156 samples\n",
            "Epoch 1/10\n",
            "324624/324624 [==============================] - 10s 30us/sample - loss: 68.1125 - accuracy: 0.7664 - val_loss: 18.3040 - val_accuracy: 0.9548\n",
            "Epoch 2/10\n",
            "324624/324624 [==============================] - 9s 28us/sample - loss: 11.9131 - accuracy: 0.9549 - val_loss: 9.1157 - val_accuracy: 0.9549\n",
            "Epoch 3/10\n",
            "324624/324624 [==============================] - 10s 30us/sample - loss: 8.1505 - accuracy: 0.9549 - val_loss: 7.4496 - val_accuracy: 0.9549\n",
            "Epoch 4/10\n",
            "324624/324624 [==============================] - 9s 29us/sample - loss: 6.9064 - accuracy: 0.9549 - val_loss: 6.3933 - val_accuracy: 0.9549\n",
            "Epoch 5/10\n",
            "324624/324624 [==============================] - 9s 29us/sample - loss: 5.9297 - accuracy: 0.9549 - val_loss: 5.4719 - val_accuracy: 0.9549\n",
            "Epoch 6/10\n",
            "324624/324624 [==============================] - 10s 29us/sample - loss: 5.0148 - accuracy: 0.9549 - val_loss: 4.5660 - val_accuracy: 0.9549\n",
            "Epoch 7/10\n",
            "324624/324624 [==============================] - 10s 30us/sample - loss: 4.1966 - accuracy: 0.9549 - val_loss: 3.8627 - val_accuracy: 0.9549\n",
            "Epoch 8/10\n",
            "324624/324624 [==============================] - 9s 29us/sample - loss: 3.6395 - accuracy: 0.9549 - val_loss: 3.4528 - val_accuracy: 0.9550\n",
            "Epoch 9/10\n",
            "324624/324624 [==============================] - 9s 29us/sample - loss: 3.3282 - accuracy: 0.9589 - val_loss: 3.2312 - val_accuracy: 0.9640\n",
            "Epoch 10/10\n",
            "324624/324624 [==============================] - 10s 30us/sample - loss: 3.1258 - accuracy: 0.9662 - val_loss: 3.0265 - val_accuracy: 0.9671\n"
          ]
        }
      ],
      "source": [
        "\n",
        "vae_model1.compile(optimizer=opt, loss=vae_loss,metrics=['accuracy'])\n",
        "\n",
        "his  =  vae_model1.fit(predictions,y_test,shuffle=True,epochs=10,batch_size=64,validation_split=0.2).history"
      ]
    },
    {
      "cell_type": "code",
      "execution_count": null,
      "metadata": {
        "id": "iUGYCtnoyrqy"
      },
      "outputs": [],
      "source": [
        "vae_model1.compile(optimizer='adam', loss='mean_squared_error',metrics=['accuracy'])"
      ]
    },
    {
      "cell_type": "code",
      "execution_count": null,
      "metadata": {
        "id": "mVACUZktyvrw",
        "colab": {
          "base_uri": "https://localhost:8080/"
        },
        "outputId": "29f5f9a2-47e2-4153-875c-f5d5136e5e59"
      },
      "outputs": [
        {
          "output_type": "stream",
          "name": "stdout",
          "text": [
            "Test results - Loss: 0.0040264614070522975 - Accuracy: 96.91162705421448%\n"
          ]
        }
      ],
      "source": [
        "# predicting target attribute on testing dataset\n",
        "test_results = vae_model1.evaluate(X_test, y_test, verbose=1)\n",
        "print(f'Test results - Loss: {test_results[0]} - Accuracy: {test_results[1]*100}%')\n",
        " "
      ]
    },
    {
      "cell_type": "code",
      "execution_count": null,
      "metadata": {
        "id": "QM_icqxayzpD",
        "colab": {
          "base_uri": "https://localhost:8080/",
          "height": 295
        },
        "outputId": "d4d5e616-2cc6-4ba0-d12b-d13fccb24978"
      },
      "outputs": [
        {
          "output_type": "display_data",
          "data": {
            "text/plain": [
              "<Figure size 432x288 with 1 Axes>"
            ],
            "image/png": "[encoded data removed]"
          },
          "metadata": {
            "needs_background": "light"
          }
        }
      ],
      "source": [
        "# Plot of loss vs epoch of train and test dataset\n",
        "plt.plot(his['loss'])\n",
        "plt.plot(his['val_loss'])\n",
        "plt.title(\"Plot of loss vs epoch for train and test dataset\")\n",
        "plt.ylabel('loss')\n",
        "plt.xlabel('epoch')\n",
        "plt.legend(['train', 'test'], loc='upper right')\n",
        "# plt.savefig('/content/drive/MyDrive/Colab Notebooks/IDS-AutoEncoder/plots/ae_classifier_multi_loss.png')\n",
        "plt.show()"
      ]
    },
    {
      "cell_type": "code",
      "execution_count": null,
      "metadata": {
        "id": "hN4T0DV-zIgQ",
        "colab": {
          "base_uri": "https://localhost:8080/",
          "height": 295
        },
        "outputId": "08df5410-330b-4a0d-8120-793f317a42cb"
      },
      "outputs": [
        {
          "output_type": "display_data",
          "data": {
            "text/plain": [
              "<Figure size 432x288 with 1 Axes>"
            ],
            "image/png": "[encoded data removed]"
          },
          "metadata": {
            "needs_background": "light"
          }
        }
      ],
      "source": [
        "plt.plot(his['accuracy'])\n",
        "plt.plot(his['val_accuracy'])\n",
        "plt.title(\"Plot of accuracy vs epoch for train and test dataset\")\n",
        "plt.ylabel('accuracy')\n",
        "plt.xlabel('epoch')\n",
        "plt.legend(['train', 'test'], loc='best')\n",
        "# plt.savefig('/content/drive/MyDrive/Colab Notebooks/IDS-AutoEncoder/plots/ae_classifier_multi_accuracy.png')\n",
        "plt.show()"
      ]
    },
    {
      "cell_type": "code",
      "execution_count": null,
      "metadata": {
        "id": "zyPbfUj5g1Jy"
      },
      "outputs": [],
      "source": [
        "n_classes = len(le2.classes_)\n",
        "y_pred = vae_model1.predict(X_test)"
      ]
    },
    {
      "cell_type": "code",
      "execution_count": null,
      "metadata": {
        "id": "CXfhRVZeg2ea"
      },
      "outputs": [],
      "source": [
        "fpr_ae = dict()\n",
        "tpr_ae = dict()\n",
        "roc_auc_ae = dict()\n",
        "for i in range(n_classes):\n",
        "    fpr_ae[i], tpr_ae[i], _ = roc_curve(y_test[:, i], y_pred[:, i])\n",
        "    roc_auc_ae[i] = auc(fpr_ae[i], tpr_ae[i])"
      ]
    },
    {
      "cell_type": "code",
      "execution_count": null,
      "metadata": {
        "id": "U88JfRxeg1Fr"
      },
      "outputs": [],
      "source": [
        "for j in range(0,y_pred.shape[1]):\n",
        "  for i in range(0,y_pred.shape[0]):\n",
        "    y_pred[i][j] = int(round(y_pred[i][j]))"
      ]
    },
    {
      "cell_type": "code",
      "execution_count": null,
      "metadata": {
        "id": "fIiujusdgzpl",
        "colab": {
          "base_uri": "https://localhost:8080/"
        },
        "outputId": "5672f559-9dab-4292-cf6e-df4c41749d88"
      },
      "outputs": [
        {
          "output_type": "stream",
          "name": "stdout",
          "text": [
            "Recall Score -  0.953647296564641\n",
            "F1 Score -  0.9761567820232429\n",
            "Precision Score -  0.9997545638211571\n"
          ]
        }
      ],
      "source": [
        "print(\"Recall Score - \",recall_score(y_test,y_pred.astype('uint8'),average='micro'))\n",
        "print(\"F1 Score - \",f1_score(y_test,y_pred.astype('uint8'),average='micro'))\n",
        "print(\"Precision Score - \",precision_score(y_test,y_pred.astype('uint8'),average='micro'))"
      ]
    },
    {
      "cell_type": "code",
      "source": [
        "# import numpy as np\n",
        "\n",
        "\n",
        "# def plot_confusion_matrix(cm,\n",
        "#                           target_names,\n",
        "#                           title='Confusion matrix',\n",
        "#                           cmap=None,\n",
        "#                           normalize=True):\n",
        "\n",
        "#     import matplotlib.pyplot as plt\n",
        "#     import numpy as np\n",
        "#     import itertools\n",
        "\n",
        "#     accuracy = np.trace(cm) / float(np.sum(cm))\n",
        "#     misclass = 1 - accuracy\n",
        "\n",
        "#     if cmap is None:\n",
        "#         cmap = plt.get_cmap('Blues')\n",
        "\n",
        "#     plt.figure(figsize=(12, 12))\n",
        "#     plt.imshow(cm, interpolation='nearest', cmap=cmap)\n",
        "#     plt.title(title)\n",
        "#     plt.colorbar()\n",
        "\n",
        "#     if target_names is not None:\n",
        "#         tick_marks = np.arange(len(target_names))\n",
        "#         plt.xticks(tick_marks, target_names, rotation=45)\n",
        "#         plt.yticks(tick_marks, target_names)\n",
        "\n",
        "#     if normalize:\n",
        "#         cm = cm.astype('float') / cm.sum(axis=1)[:, np.newaxis]\n",
        "\n",
        "\n",
        "#     thresh = cm.max() / 1.5 if normalize else cm.max() / 2\n",
        "#     for i, j in itertools.product(range(cm.shape[0]), range(cm.shape[1])):\n",
        "#         if normalize:\n",
        "#             plt.text(j, i, \"{:0.4f}\".format(cm[i, j]),\n",
        "#                      horizontalalignment=\"center\",\n",
        "#                      color=\"white\" if cm[i, j] > thresh else \"black\")\n",
        "#         else:\n",
        "#             plt.text(j, i, \"{:,}\".format(cm[i, j]),\n",
        "#                      horizontalalignment=\"center\",\n",
        "#                      color=\"white\" if cm[i, j] > thresh else \"black\")\n",
        "\n",
        "\n",
        "#     plt.tight_layout()\n",
        "#     plt.ylabel('True label')\n",
        "#     plt.xlabel('Predicted label\\naccuracy={:0.4f}; misclass={:0.4f}'.format(accuracy, misclass))\n",
        "#     plt.show()"
      ],
      "metadata": {
        "id": "QUGPKyw8PnRj"
      },
      "execution_count": null,
      "outputs": []
    },
    {
      "cell_type": "code",
      "source": [
        "y_test"
      ],
      "metadata": {
        "id": "gG3Iaq9GQQEl",
        "colab": {
          "base_uri": "https://localhost:8080/"
        },
        "outputId": "50961388-7c15-4480-b197-19ac8ba6c70a"
      },
      "execution_count": null,
      "outputs": [
        {
          "output_type": "execute_result",
          "data": {
            "text/plain": [
              "array([[1., 0., 0., ..., 0., 0., 0.],\n",
              "       [1., 0., 0., ..., 0., 0., 0.],\n",
              "       [1., 0., 0., ..., 0., 0., 0.],\n",
              "       ...,\n",
              "       [1., 0., 0., ..., 0., 0., 0.],\n",
              "       [1., 0., 0., ..., 0., 0., 0.],\n",
              "       [1., 0., 0., ..., 0., 0., 0.]])"
            ]
          },
          "metadata": {},
          "execution_count": 187
        }
      ]
    },
    {
      "cell_type": "code",
      "source": [
        "y_pred"
      ],
      "metadata": {
        "id": "Y2PPnXn5QRIz",
        "colab": {
          "base_uri": "https://localhost:8080/"
        },
        "outputId": "40171983-1bc5-4ac1-9348-9518d3896089"
      },
      "execution_count": null,
      "outputs": [
        {
          "output_type": "execute_result",
          "data": {
            "text/plain": [
              "array([[1., 0., 0., ..., 0., 0., 0.],\n",
              "       [1., 0., 0., ..., 0., 0., 0.],\n",
              "       [1., 0., 0., ..., 0., 0., 0.],\n",
              "       ...,\n",
              "       [1., 0., 0., ..., 0., 0., 0.],\n",
              "       [1., 0., 0., ..., 0., 0., 0.],\n",
              "       [1., 0., 0., ..., 0., 0., 0.]], dtype=float32)"
            ]
          },
          "metadata": {},
          "execution_count": 188
        }
      ]
    },
    {
      "cell_type": "code",
      "source": [
        "X_test "
      ],
      "metadata": {
        "id": "13hgbhVRQctS",
        "colab": {
          "base_uri": "https://localhost:8080/"
        },
        "outputId": "a062a9f9-cd27-47ed-f4b2-f803bbd4231d"
      },
      "execution_count": null,
      "outputs": [
        {
          "output_type": "execute_result",
          "data": {
            "text/plain": [
              "array([[2.71179405e-01, 7.69451438e-01, 6.52404716e-01, ...,\n",
              "        8.70967742e-01, 0.00000000e+00, 0.00000000e+00],\n",
              "       [2.71179404e-01, 9.88174258e-01, 6.52404714e-01, ...,\n",
              "        8.70967742e-01, 3.25964062e-06, 0.00000000e+00],\n",
              "       [2.71179404e-01, 1.66308080e-01, 6.52404714e-01, ...,\n",
              "        8.70967742e-01, 8.87087912e-05, 0.00000000e+00],\n",
              "       ...,\n",
              "       [2.71179405e-01, 5.92507820e-01, 6.52404716e-01, ...,\n",
              "        8.70967742e-01, 8.84759597e-06, 0.00000000e+00],\n",
              "       [2.71179405e-01, 3.82238499e-01, 6.52404715e-01, ...,\n",
              "        8.70967742e-01, 5.35512388e-06, 0.00000000e+00],\n",
              "       [2.71179405e-01, 6.19745174e-01, 6.52404714e-01, ...,\n",
              "        0.00000000e+00, 0.00000000e+00, 0.00000000e+00]])"
            ]
          },
          "metadata": {},
          "execution_count": 189
        }
      ]
    },
    {
      "cell_type": "code",
      "source": [
        "# from sklearn.metrics import plot_confusion_matrix\n",
        "# from sklearn.metrics import confusion_matrix\n",
        " \n",
        "# plot_confusion_matrix(cm = confusion_matrix(y_test, y_pred), \n",
        "#                       normalize    = False,\n",
        "#                       target_names = np.unique(y_test),\n",
        "#                       title        = \"Confusion Matrix\")"
      ],
      "metadata": {
        "id": "jIMd3NCQPo26"
      },
      "execution_count": null,
      "outputs": []
    },
    {
      "cell_type": "code",
      "execution_count": null,
      "metadata": {
        "id": "04jkIemngrT7",
        "colab": {
          "base_uri": "https://localhost:8080/"
        },
        "outputId": "47336df1-e183-4582-8d72-748be9d83283"
      },
      "outputs": [
        {
          "output_type": "stream",
          "name": "stderr",
          "text": [
            "/usr/local/lib/python3.8/dist-packages/sklearn/metrics/_classification.py:1318: UndefinedMetricWarning: Precision and F-score are ill-defined and being set to 0.0 in labels with no predicted samples. Use `zero_division` parameter to control this behavior.\n",
            "  _warn_prf(average, modifier, msg_start, len(result))\n"
          ]
        },
        {
          "output_type": "stream",
          "name": "stdout",
          "text": [
            "                precision    recall  f1-score   support\n",
            "\n",
            "        normal     0.9998    0.9987    0.9992    387478\n",
            "      Exploits     0.0000    0.0000    0.0000      6237\n",
            "       Fuzzers     0.0000    0.0000    0.0000      4914\n",
            "Reconnaissance     0.0000    0.0000    0.0000      3141\n",
            "       Generic     0.0000    0.0000    0.0000      1473\n",
            "           DoS     0.0000    0.0000    0.0000      1233\n",
            "      Analysis     0.0000    0.0000    0.0000       498\n",
            "      Backdoor     0.0000    0.0000    0.0000       448\n",
            "     Shellcode     0.0000    0.0000    0.0000       326\n",
            "         Worms     0.0000    0.0000    0.0000        32\n",
            "\n",
            "     micro avg     0.9998    0.9536    0.9762    405780\n",
            "     macro avg     0.1000    0.0999    0.0999    405780\n",
            "  weighted avg     0.9547    0.9536    0.9542    405780\n",
            "   samples avg     0.9536    0.9536    0.9536    405780\n",
            "\n"
          ]
        },
        {
          "output_type": "stream",
          "name": "stderr",
          "text": [
            "/usr/local/lib/python3.8/dist-packages/sklearn/metrics/_classification.py:1318: UndefinedMetricWarning: Precision and F-score are ill-defined and being set to 0.0 in samples with no predicted labels. Use `zero_division` parameter to control this behavior.\n",
            "  _warn_prf(average, modifier, msg_start, len(result))\n"
          ]
        }
      ],
      "source": [
        "from sklearn.metrics import classification_report\n",
        "attack_name = [\"normal\",'Exploits', 'Fuzzers', 'Reconnaissance', 'Generic', 'DoS', 'Analysis','Backdoor', 'Shellcode','Worms']\n",
        "print(classification_report(y_test, y_pred, target_names=attack_name, digits=4))"
      ]
    }
  ],
  "metadata": {
    "colab": {
      "provenance": []
    },
    "kernelspec": {
      "display_name": "Python 3",
      "language": "python",
      "name": "python3"
    },
    "language_info": {
      "codemirror_mode": {
        "name": "ipython",
        "version": 3
      },
      "file_extension": ".py",
      "mimetype": "text/x-python",
      "name": "python",
      "nbconvert_exporter": "python",
      "pygments_lexer": "ipython3",
      "version": "3.8.5"
    }
  },
  "nbformat": 4,
  "nbformat_minor": 0
}