{
  "cells": [
    {
      "cell_type": "code",
      "execution_count": null,
      "metadata": {
        "id": "LdTKcdSlSjbc"
      },
      "outputs": [],
      "source": [
        "import numpy as np # linear algebra\n",
        "import pandas as pd # data processing, CSV file I/O (e.g. pd.read_csv)\n",
        "from joblib import dump, load\n",
        "from sklearn.metrics import accuracy_score, f1_score, precision_score,recall_score\n",
        "from sklearn.linear_model import Perceptron\n",
        "from sklearn.linear_model import LogisticRegression\n",
        "from sklearn.neural_network import MLPClassifier\n",
        "from sklearn.tree import DecisionTreeClassifier\n",
        "from sklearn.ensemble import RandomForestClassifier, VotingClassifier\n",
        "from sklearn.ensemble import BaggingClassifier\n",
        "from sklearn.ensemble import AdaBoostClassifier\n",
        "import matplotlib.pyplot as plt\n",
        "\n",
        "from sklearn import svm, datasets\n",
        "from sklearn.model_selection import train_test_split\n",
        "from sklearn.metrics import confusion_matrix\n",
        "from sklearn.utils.multiclass import unique_labels\n",
        "from sklearn.metrics import roc_curve, auc\n",
        "from sklearn.model_selection import train_test_split\n",
        "from sklearn.preprocessing import label_binarize\n",
        "from sklearn.multiclass import OneVsRestClassifier\n",
        "from scipy import interp\n",
        "from itertools import cycle\n",
        "import seaborn as sns\n",
        "from sklearn.datasets import make_classification\n",
        "from sklearn.neighbors import KNeighborsClassifier\n",
        "from sklearn.ensemble import RandomForestClassifier\n",
        "from sklearn.model_selection import train_test_split\n",
        "from sklearn.metrics import roc_curve\n",
        "from sklearn.metrics import roc_auc_score\n",
        "import sklearn.metrics as metrics\n",
        "\n",
        "#Input data files are available in the \"../input/\" directory.\n",
        "# For example, running this (by clicking run or pressing Shift+Enter) will list all files under the input directory\n",
        "\n",
        "import os\n",
        "#for dirname, _, filenames in os.walk('/kaggle/input'):\n",
        " #   for filename in filenames:\n",
        "  #      print(os.path.join(dirname, filename))\n",
        "\n",
        "# Any results you write to the current directory are saved as output.\n"
      ]
    },
    {
      "cell_type": "code",
      "execution_count": null,
      "metadata": {
        "id": "oiiNeO15S8wn"
      },
      "outputs": [],
      "source": [
        "import pandas as pd\n",
        "import numpy as np\n",
        "import sys\n",
        "import keras\n",
        "import sklearn\n",
        "from keras.models import Sequential\n",
        "from keras.layers import Dense, Dropout, Activation, Embedding\n",
        "from keras.layers import LSTM, SimpleRNN, GRU, Bidirectional, BatchNormalization,Convolution1D,MaxPooling1D, Reshape, GlobalAveragePooling1D, Flatten\n",
        "from keras.utils.np_utils import to_categorical\n",
        "import sklearn.preprocessing\n",
        "from sklearn import metrics\n",
        "from scipy.stats import zscore\n",
        "#from keras.utils import get_file, plot_model\n",
        "from sklearn.model_selection import train_test_split\n",
        "from keras.callbacks import ModelCheckpoint, EarlyStopping, ReduceLROnPlateau, CSVLogger\n",
        "import matplotlib.pyplot as plt"
      ]
    },
    {
      "cell_type": "code",
      "execution_count": null,
      "metadata": {
        "colab": {
          "base_uri": "https://localhost:8080/"
        },
        "id": "IHNJTHOGeFIY",
        "outputId": "767edcf6-2d73-4e03-e8ee-b6006f0cc2a6"
      },
      "outputs": [
        {
          "name": "stdout",
          "output_type": "stream",
          "text": [
            "Drive already mounted at /content/drive; to attempt to forcibly remount, call drive.mount(\"/content/drive\", force_remount=True).\n"
          ]
        }
      ],
      "source": [
        "from google.colab import drive\n",
        "drive.mount('/content/drive')"
      ]
    },
    {
      "cell_type": "code",
      "execution_count": null,
      "metadata": {
        "id": "6ubOppiHS8pY"
      },
      "outputs": [],
      "source": [
        "#Loading training set into dataframe\n",
        "data = pd.read_csv('/content/drive/MyDrive/Dataset/NF-UNSW-NB15.csv')"
      ]
    },
    {
      "cell_type": "code",
      "execution_count": null,
      "metadata": {
        "colab": {
          "base_uri": "https://localhost:8080/",
          "height": 424
        },
        "id": "AUN9d1-Kd4qY",
        "outputId": "5d80165a-8bcf-4aa0-e1b6-b20ce885db22"
      },
      "outputs": [
        {
          "data": {
            "text/html": [
              "\n",
              "  <div id=\"df-ad2d86c7-4498-4983-bba8-cde69b9bf029\">\n",
              "    <div class=\"colab-df-container\">\n",
              "      <div>\n",
              "<style scoped>\n",
              "    .dataframe tbody tr th:only-of-type {\n",
              "        vertical-align: middle;\n",
              "    }\n",
              "\n",
              "    .dataframe tbody tr th {\n",
              "        vertical-align: top;\n",
              "    }\n",
              "\n",
              "    .dataframe thead th {\n",
              "        text-align: right;\n",
              "    }\n",
              "</style>\n",
              "<table border=\"1\" class=\"dataframe\">\n",
              "  <thead>\n",
              "    <tr style=\"text-align: right;\">\n",
              "      <th></th>\n",
              "      <th>IPV4_SRC_ADDR</th>\n",
              "      <th>L4_SRC_PORT</th>\n",
              "      <th>IPV4_DST_ADDR</th>\n",
              "      <th>L4_DST_PORT</th>\n",
              "      <th>PROTOCOL</th>\n",
              "      <th>L7_PROTO</th>\n",
              "      <th>IN_BYTES</th>\n",
              "      <th>OUT_BYTES</th>\n",
              "      <th>IN_PKTS</th>\n",
              "      <th>OUT_PKTS</th>\n",
              "      <th>TCP_FLAGS</th>\n",
              "      <th>FLOW_DURATION_MILLISECONDS</th>\n",
              "      <th>Label</th>\n",
              "      <th>Attack</th>\n",
              "    </tr>\n",
              "  </thead>\n",
              "  <tbody>\n",
              "    <tr>\n",
              "      <th>0</th>\n",
              "      <td>149.171.126.0</td>\n",
              "      <td>62073</td>\n",
              "      <td>59.166.0.5</td>\n",
              "      <td>56082</td>\n",
              "      <td>6</td>\n",
              "      <td>0.0</td>\n",
              "      <td>9672</td>\n",
              "      <td>416</td>\n",
              "      <td>11</td>\n",
              "      <td>8</td>\n",
              "      <td>25</td>\n",
              "      <td>15</td>\n",
              "      <td>0</td>\n",
              "      <td>Benign</td>\n",
              "    </tr>\n",
              "    <tr>\n",
              "      <th>1</th>\n",
              "      <td>149.171.126.2</td>\n",
              "      <td>32284</td>\n",
              "      <td>59.166.0.5</td>\n",
              "      <td>1526</td>\n",
              "      <td>6</td>\n",
              "      <td>0.0</td>\n",
              "      <td>1776</td>\n",
              "      <td>104</td>\n",
              "      <td>6</td>\n",
              "      <td>2</td>\n",
              "      <td>25</td>\n",
              "      <td>0</td>\n",
              "      <td>0</td>\n",
              "      <td>Benign</td>\n",
              "    </tr>\n",
              "    <tr>\n",
              "      <th>2</th>\n",
              "      <td>149.171.126.0</td>\n",
              "      <td>21</td>\n",
              "      <td>59.166.0.1</td>\n",
              "      <td>21971</td>\n",
              "      <td>6</td>\n",
              "      <td>1.0</td>\n",
              "      <td>1842</td>\n",
              "      <td>1236</td>\n",
              "      <td>26</td>\n",
              "      <td>22</td>\n",
              "      <td>25</td>\n",
              "      <td>1111</td>\n",
              "      <td>0</td>\n",
              "      <td>Benign</td>\n",
              "    </tr>\n",
              "    <tr>\n",
              "      <th>3</th>\n",
              "      <td>59.166.0.1</td>\n",
              "      <td>23800</td>\n",
              "      <td>149.171.126.0</td>\n",
              "      <td>46893</td>\n",
              "      <td>6</td>\n",
              "      <td>0.0</td>\n",
              "      <td>528</td>\n",
              "      <td>8824</td>\n",
              "      <td>10</td>\n",
              "      <td>12</td>\n",
              "      <td>27</td>\n",
              "      <td>124</td>\n",
              "      <td>0</td>\n",
              "      <td>Benign</td>\n",
              "    </tr>\n",
              "    <tr>\n",
              "      <th>4</th>\n",
              "      <td>59.166.0.5</td>\n",
              "      <td>63062</td>\n",
              "      <td>149.171.126.2</td>\n",
              "      <td>21</td>\n",
              "      <td>6</td>\n",
              "      <td>1.0</td>\n",
              "      <td>1786</td>\n",
              "      <td>2340</td>\n",
              "      <td>32</td>\n",
              "      <td>34</td>\n",
              "      <td>25</td>\n",
              "      <td>1459</td>\n",
              "      <td>0</td>\n",
              "      <td>Benign</td>\n",
              "    </tr>\n",
              "    <tr>\n",
              "      <th>...</th>\n",
              "      <td>...</td>\n",
              "      <td>...</td>\n",
              "      <td>...</td>\n",
              "      <td>...</td>\n",
              "      <td>...</td>\n",
              "      <td>...</td>\n",
              "      <td>...</td>\n",
              "      <td>...</td>\n",
              "      <td>...</td>\n",
              "      <td>...</td>\n",
              "      <td>...</td>\n",
              "      <td>...</td>\n",
              "      <td>...</td>\n",
              "      <td>...</td>\n",
              "    </tr>\n",
              "    <tr>\n",
              "      <th>1623113</th>\n",
              "      <td>59.166.0.2</td>\n",
              "      <td>1640</td>\n",
              "      <td>149.171.126.8</td>\n",
              "      <td>53</td>\n",
              "      <td>17</td>\n",
              "      <td>0.0</td>\n",
              "      <td>130</td>\n",
              "      <td>162</td>\n",
              "      <td>2</td>\n",
              "      <td>2</td>\n",
              "      <td>0</td>\n",
              "      <td>0</td>\n",
              "      <td>0</td>\n",
              "      <td>Benign</td>\n",
              "    </tr>\n",
              "    <tr>\n",
              "      <th>1623114</th>\n",
              "      <td>59.166.0.2</td>\n",
              "      <td>3610</td>\n",
              "      <td>149.171.126.6</td>\n",
              "      <td>21</td>\n",
              "      <td>6</td>\n",
              "      <td>1.0</td>\n",
              "      <td>2044</td>\n",
              "      <td>2404</td>\n",
              "      <td>36</td>\n",
              "      <td>34</td>\n",
              "      <td>26</td>\n",
              "      <td>0</td>\n",
              "      <td>0</td>\n",
              "      <td>Benign</td>\n",
              "    </tr>\n",
              "    <tr>\n",
              "      <th>1623115</th>\n",
              "      <td>59.166.0.2</td>\n",
              "      <td>4667</td>\n",
              "      <td>149.171.126.6</td>\n",
              "      <td>40725</td>\n",
              "      <td>6</td>\n",
              "      <td>0.0</td>\n",
              "      <td>320</td>\n",
              "      <td>1918</td>\n",
              "      <td>6</td>\n",
              "      <td>8</td>\n",
              "      <td>27</td>\n",
              "      <td>0</td>\n",
              "      <td>0</td>\n",
              "      <td>Benign</td>\n",
              "    </tr>\n",
              "    <tr>\n",
              "      <th>1623116</th>\n",
              "      <td>59.166.0.2</td>\n",
              "      <td>5641</td>\n",
              "      <td>149.171.126.6</td>\n",
              "      <td>56243</td>\n",
              "      <td>6</td>\n",
              "      <td>0.0</td>\n",
              "      <td>528</td>\n",
              "      <td>8824</td>\n",
              "      <td>10</td>\n",
              "      <td>12</td>\n",
              "      <td>27</td>\n",
              "      <td>0</td>\n",
              "      <td>0</td>\n",
              "      <td>Benign</td>\n",
              "    </tr>\n",
              "    <tr>\n",
              "      <th>1623117</th>\n",
              "      <td>59.166.0.1</td>\n",
              "      <td>1245</td>\n",
              "      <td>149.171.126.6</td>\n",
              "      <td>55094</td>\n",
              "      <td>6</td>\n",
              "      <td>0.0</td>\n",
              "      <td>216</td>\n",
              "      <td>112</td>\n",
              "      <td>4</td>\n",
              "      <td>2</td>\n",
              "      <td>18</td>\n",
              "      <td>0</td>\n",
              "      <td>0</td>\n",
              "      <td>Benign</td>\n",
              "    </tr>\n",
              "  </tbody>\n",
              "</table>\n",
              "<p>1623118 rows × 14 columns</p>\n",
              "</div>\n",
              "      <button class=\"colab-df-convert\" onclick=\"convertToInteractive('df-ad2d86c7-4498-4983-bba8-cde69b9bf029')\"\n",
              "              title=\"Convert this dataframe to an interactive table.\"\n",
              "              style=\"display:none;\">\n",
              "        \n",
              "  <svg xmlns=\"http://www.w3.org/2000/svg\" height=\"24px\"viewBox=\"0 0 24 24\"\n",
              "       width=\"24px\">\n",
              "    <path d=\"M0 0h24v24H0V0z\" fill=\"none\"/>\n",
              "    <path d=\"M18.56 5.44l.94 2.06.94-2.06 2.06-.94-2.06-.94-.94-2.06-.94 2.06-2.06.94zm-11 1L8.5 8.5l.94-2.06 2.06-.94-2.06-.94L8.5 2.5l-.94 2.06-2.06.94zm10 10l.94 2.06.94-2.06 2.06-.94-2.06-.94-.94-2.06-.94 2.06-2.06.94z\"/><path d=\"M17.41 7.96l-1.37-1.37c-.4-.4-.92-.59-1.43-.59-.52 0-1.04.2-1.43.59L10.3 9.45l-7.72 7.72c-.78.78-.78 2.05 0 2.83L4 21.41c.39.39.9.59 1.41.59.51 0 1.02-.2 1.41-.59l7.78-7.78 2.81-2.81c.8-.78.8-2.07 0-2.86zM5.41 20L4 18.59l7.72-7.72 1.47 1.35L5.41 20z\"/>\n",
              "  </svg>\n",
              "      </button>\n",
              "      \n",
              "  <style>\n",
              "    .colab-df-container {\n",
              "      display:flex;\n",
              "      flex-wrap:wrap;\n",
              "      gap: 12px;\n",
              "    }\n",
              "\n",
              "    .colab-df-convert {\n",
              "      background-color: #E8F0FE;\n",
              "      border: none;\n",
              "      border-radius: 50%;\n",
              "      cursor: pointer;\n",
              "      display: none;\n",
              "      fill: #1967D2;\n",
              "      height: 32px;\n",
              "      padding: 0 0 0 0;\n",
              "      width: 32px;\n",
              "    }\n",
              "\n",
              "    .colab-df-convert:hover {\n",
              "      background-color: #E2EBFA;\n",
              "      box-shadow: 0px 1px 2px rgba(60, 64, 67, 0.3), 0px 1px 3px 1px rgba(60, 64, 67, 0.15);\n",
              "      fill: #174EA6;\n",
              "    }\n",
              "\n",
              "    [theme=dark] .colab-df-convert {\n",
              "      background-color: #3B4455;\n",
              "      fill: #D2E3FC;\n",
              "    }\n",
              "\n",
              "    [theme=dark] .colab-df-convert:hover {\n",
              "      background-color: #434B5C;\n",
              "      box-shadow: 0px 1px 3px 1px rgba(0, 0, 0, 0.15);\n",
              "      filter: drop-shadow(0px 1px 2px rgba(0, 0, 0, 0.3));\n",
              "      fill: #FFFFFF;\n",
              "    }\n",
              "  </style>\n",
              "\n",
              "      <script>\n",
              "        const buttonEl =\n",
              "          document.querySelector('#df-ad2d86c7-4498-4983-bba8-cde69b9bf029 button.colab-df-convert');\n",
              "        buttonEl.style.display =\n",
              "          google.colab.kernel.accessAllowed ? 'block' : 'none';\n",
              "\n",
              "        async function convertToInteractive(key) {\n",
              "          const element = document.querySelector('#df-ad2d86c7-4498-4983-bba8-cde69b9bf029');\n",
              "          const dataTable =\n",
              "            await google.colab.kernel.invokeFunction('convertToInteractive',\n",
              "                                                     [key], {});\n",
              "          if (!dataTable) return;\n",
              "\n",
              "          const docLinkHtml = 'Like what you see? Visit the ' +\n",
              "            '<a target=\"_blank\" href=https://colab.research.google.com/notebooks/data_table.ipynb>data table notebook</a>'\n",
              "            + ' to learn more about interactive tables.';\n",
              "          element.innerHTML = '';\n",
              "          dataTable['output_type'] = 'display_data';\n",
              "          await google.colab.output.renderOutput(dataTable, element);\n",
              "          const docLink = document.createElement('div');\n",
              "          docLink.innerHTML = docLinkHtml;\n",
              "          element.appendChild(docLink);\n",
              "        }\n",
              "      </script>\n",
              "    </div>\n",
              "  </div>\n",
              "  "
            ],
            "text/plain": [
              "         IPV4_SRC_ADDR  L4_SRC_PORT  IPV4_DST_ADDR  L4_DST_PORT  PROTOCOL  \\\n",
              "0        149.171.126.0        62073     59.166.0.5        56082         6   \n",
              "1        149.171.126.2        32284     59.166.0.5         1526         6   \n",
              "2        149.171.126.0           21     59.166.0.1        21971         6   \n",
              "3           59.166.0.1        23800  149.171.126.0        46893         6   \n",
              "4           59.166.0.5        63062  149.171.126.2           21         6   \n",
              "...                ...          ...            ...          ...       ...   \n",
              "1623113     59.166.0.2         1640  149.171.126.8           53        17   \n",
              "1623114     59.166.0.2         3610  149.171.126.6           21         6   \n",
              "1623115     59.166.0.2         4667  149.171.126.6        40725         6   \n",
              "1623116     59.166.0.2         5641  149.171.126.6        56243         6   \n",
              "1623117     59.166.0.1         1245  149.171.126.6        55094         6   \n",
              "\n",
              "         L7_PROTO  IN_BYTES  OUT_BYTES  IN_PKTS  OUT_PKTS  TCP_FLAGS  \\\n",
              "0             0.0      9672        416       11         8         25   \n",
              "1             0.0      1776        104        6         2         25   \n",
              "2             1.0      1842       1236       26        22         25   \n",
              "3             0.0       528       8824       10        12         27   \n",
              "4             1.0      1786       2340       32        34         25   \n",
              "...           ...       ...        ...      ...       ...        ...   \n",
              "1623113       0.0       130        162        2         2          0   \n",
              "1623114       1.0      2044       2404       36        34         26   \n",
              "1623115       0.0       320       1918        6         8         27   \n",
              "1623116       0.0       528       8824       10        12         27   \n",
              "1623117       0.0       216        112        4         2         18   \n",
              "\n",
              "         FLOW_DURATION_MILLISECONDS  Label  Attack  \n",
              "0                                15      0  Benign  \n",
              "1                                 0      0  Benign  \n",
              "2                              1111      0  Benign  \n",
              "3                               124      0  Benign  \n",
              "4                              1459      0  Benign  \n",
              "...                             ...    ...     ...  \n",
              "1623113                           0      0  Benign  \n",
              "1623114                           0      0  Benign  \n",
              "1623115                           0      0  Benign  \n",
              "1623116                           0      0  Benign  \n",
              "1623117                           0      0  Benign  \n",
              "\n",
              "[1623118 rows x 14 columns]"
            ]
          },
          "execution_count": 163,
          "metadata": {},
          "output_type": "execute_result"
        }
      ],
      "source": [
        "data"
      ]
    },
    {
      "cell_type": "code",
      "execution_count": null,
      "metadata": {
        "colab": {
          "base_uri": "https://localhost:8080/"
        },
        "id": "FMa1yd10eeeS",
        "outputId": "621267c0-e4fa-44bb-8054-63f51c3ab773"
      },
      "outputs": [
        {
          "data": {
            "text/plain": [
              "Index(['IPV4_SRC_ADDR', 'L4_SRC_PORT', 'IPV4_DST_ADDR', 'L4_DST_PORT',\n",
              "       'PROTOCOL', 'L7_PROTO', 'IN_BYTES', 'OUT_BYTES', 'IN_PKTS', 'OUT_PKTS',\n",
              "       'TCP_FLAGS', 'FLOW_DURATION_MILLISECONDS', 'Label', 'Attack'],\n",
              "      dtype='object')"
            ]
          },
          "execution_count": 164,
          "metadata": {},
          "output_type": "execute_result"
        }
      ],
      "source": [
        "data.columns"
      ]
    },
    {
      "cell_type": "code",
      "execution_count": null,
      "metadata": {
        "colab": {
          "base_uri": "https://localhost:8080/"
        },
        "id": "vfjk5WC5ekpr",
        "outputId": "11323d06-e3e9-4735-c29e-dd6bf1ea804a"
      },
      "outputs": [
        {
          "data": {
            "text/plain": [
              "Benign            1550712\n",
              "Exploits            24736\n",
              "Fuzzers             19463\n",
              "Reconnaissance      12291\n",
              "Generic              5570\n",
              "DoS                  5051\n",
              "Analysis             1995\n",
              "Backdoor             1782\n",
              "Shellcode            1365\n",
              "Worms                 153\n",
              "Name: Attack, dtype: int64"
            ]
          },
          "execution_count": 165,
          "metadata": {},
          "output_type": "execute_result"
        }
      ],
      "source": [
        "data.Attack.value_counts()"
      ]
    },
    {
      "cell_type": "code",
      "execution_count": null,
      "metadata": {
        "colab": {
          "base_uri": "https://localhost:8080/"
        },
        "id": "-Hidz5IuerSU",
        "outputId": "fff82be8-8c9b-4b6a-f5c5-c0ac5ff5cda2"
      },
      "outputs": [
        {
          "data": {
            "text/plain": [
              "Normal    1550712\n",
              "U2R         53129\n",
              "Probe       12291\n",
              "Dos          5051\n",
              "R2L          1935\n",
              "Name: Attack, dtype: int64"
            ]
          },
          "execution_count": 166,
          "metadata": {},
          "output_type": "execute_result"
        }
      ],
      "source": [
        "def change_label(data):\n",
        "  data.Attack.replace(['DoS'],'Dos',inplace=True)\n",
        "  data.Attack.replace(['Reconnaissance'],'Probe',inplace=True)\n",
        "  data.Attack.replace(['Generic','Analysis','Exploits','Shellcode','Fuzzers'],'U2R',inplace=True)\n",
        "  data.Attack.replace(['Benign'],'Normal',inplace=True)\n",
        "  data.Attack.replace(['Backdoor','Worms'],'R2L',inplace=True)\n",
        "change_label(data)\n",
        "data.Attack.value_counts()"
      ]
    },
    {
      "cell_type": "code",
      "execution_count": null,
      "metadata": {
        "id": "gYXVAmuze-Wp"
      },
      "outputs": [],
      "source": [
        "data.drop(data.loc[data['Attack']=='Normal'].index[:1000000], axis=0, inplace=True)"
      ]
    },
    {
      "cell_type": "code",
      "execution_count": null,
      "metadata": {
        "colab": {
          "base_uri": "https://localhost:8080/"
        },
        "id": "zlbDnbZHfB33",
        "outputId": "d5f7c6c4-ce4a-4ccb-b80d-7cf2554b367a"
      },
      "outputs": [
        {
          "data": {
            "text/plain": [
              "Normal    550712\n",
              "U2R        53129\n",
              "Probe      12291\n",
              "Dos         5051\n",
              "R2L         1935\n",
              "Name: Attack, dtype: int64"
            ]
          },
          "execution_count": 168,
          "metadata": {},
          "output_type": "execute_result"
        }
      ],
      "source": [
        "data.Attack.value_counts()"
      ]
    },
    {
      "cell_type": "code",
      "execution_count": null,
      "metadata": {
        "colab": {
          "base_uri": "https://localhost:8080/"
        },
        "id": "JyOo_1X4fL2N",
        "outputId": "1f72502a-c200-4a0a-d00f-cf122474d773"
      },
      "outputs": [
        {
          "name": "stdout",
          "output_type": "stream",
          "text": [
            "\n",
            "623118 rows\n",
            "** IPV4_SRC_ADDR:[59.166.0.2:8.94%, 59.166.0.0:8.93%, 59.166.0.4:8.93%, 59.166.0.1:8.91%, 59.166.0.5:8.89%, 59.166.0.3:8.83%, 59.166.0.6:8.64%, 59.166.0.8:8.63%, 59.166.0.9:8.55%, 59.166.0.7:8.43%, 175.45.176.1:3.26%, 175.45.176.0:3.14%, 175.45.176.3:2.81%, 175.45.176.2:2.71%, 149.171.126.5:0.04%, 149.171.126.1:0.04%, 149.171.126.2:0.04%, 149.171.126.6:0.04%, 149.171.126.8:0.04%, 149.171.126.3:0.04%, 149.171.126.4:0.04%, 149.171.126.7:0.03%, 149.171.126.9:0.03%, 149.171.126.0:0.03%, 10.40.182.1:0.01%, 10.40.85.1:0.01%, 192.168.241.243:0.0%, 149.171.126.16:0.0%, 149.171.126.13:0.0%, 149.171.126.17:0.0%, 149.171.126.11:0.0%, 149.171.126.14:0.0%, 149.171.126.19:0.0%, 149.171.126.15:0.0%, 149.171.126.12:0.0%, 127.0.0.1:0.0%]\n",
            "** L4_SRC_PORT:64525 (10%)\n",
            "** IPV4_DST_ADDR:[149.171.126.4:8.97%, 149.171.126.1:8.93%, 149.171.126.3:8.89%, 149.171.126.2:8.88%, 149.171.126.5:8.87%, 149.171.126.0:8.87%, 149.171.126.9:8.65%, 149.171.126.6:8.59%, 149.171.126.7:8.56%, 149.171.126.8:8.47%, 149.171.126.17:1.91%, 149.171.126.10:1.37%, 149.171.126.13:1.35%, 149.171.126.19:1.15%, 149.171.126.11:1.14%, 149.171.126.14:1.1%, 149.171.126.15:1.04%, 149.171.126.16:0.98%, 149.171.126.12:0.97%, 149.171.126.18:0.9%, 59.166.0.1:0.04%, 59.166.0.0:0.04%, 59.166.0.9:0.04%, 59.166.0.2:0.04%, 59.166.0.4:0.04%, 59.166.0.5:0.04%, 59.166.0.8:0.04%, 59.166.0.6:0.03%, 59.166.0.3:0.03%, 59.166.0.7:0.03%, 224.0.0.5:0.02%, 192.168.241.243:0.0%, 175.45.176.3:0.0%, 175.45.176.1:0.0%, 10.40.198.10:0.0%, 175.45.176.2:0.0%, 175.45.176.0:0.0%, 127.0.0.1:0.0%]\n",
            "** L4_DST_PORT:61215 (9%)\n",
            "** PROTOCOL:255 (0%)\n",
            "** L7_PROTO:184 (0%)\n",
            "** IN_BYTES:11157 (1%)\n",
            "** OUT_BYTES:14918 (2%)\n",
            "** IN_PKTS:852 (0%)\n",
            "** OUT_PKTS:1169 (0%)\n",
            "** TCP_FLAGS:[27:64.89%, 0:28.66%, 19:5.26%, 26:0.56%, 25:0.4%, 18:0.1%, 24:0.09%, 17:0.01%, 16:0.01%, 2:0.0%, 22:0.0%, 20:0.0%, 23:0.0%, 30:0.0%]\n",
            "** FLOW_DURATION_MILLISECONDS:8096 (1%)\n",
            "** Label:[0:88.38%, 1:11.62%]\n",
            "** Attack:[Normal:88.38%, U2R:8.53%, Probe:1.97%, Dos:0.81%, R2L:0.31%]\n"
          ]
        }
      ],
      "source": [
        "import pandas as pd\n",
        "import os\n",
        "import numpy as np\n",
        "from sklearn import metrics\n",
        "from scipy.stats import zscore\n",
        "\n",
        "def expand_categories(values):\n",
        "    result = []\n",
        "    s = values.value_counts()\n",
        "    t = float(len(values))\n",
        "    for v in s.index:\n",
        "        result.append(\"{}:{}%\".format(v,round(100*(s[v]/t),2)))\n",
        "    return \"[{}]\".format(\", \".join(result))\n",
        "        \n",
        "def analyze(df):\n",
        "    print()\n",
        "    cols = df.columns.values\n",
        "    total = float(len(df))\n",
        "\n",
        "    print(\"{} rows\".format(int(total)))\n",
        "    for col in cols:\n",
        "        uniques = df[col].unique()\n",
        "        unique_count = len(uniques)\n",
        "        if unique_count>100:\n",
        "            print(\"** {}:{} ({}%)\".format(col,unique_count,\\\n",
        "                int(((unique_count)/total)*100)))\n",
        "        else:\n",
        "            print(\"** {}:{}\".format(col,expand_categories(df[col])))\n",
        "            expand_categories(df[col])\n",
        "analyze(data)"
      ]
    },
    {
      "cell_type": "code",
      "execution_count": null,
      "metadata": {
        "colab": {
          "base_uri": "https://localhost:8080/",
          "height": 206
        },
        "id": "yrlcZUMlfRPW",
        "outputId": "22095dc1-d0a4-4f17-e654-b8078e009ec1"
      },
      "outputs": [
        {
          "data": {
            "text/html": [
              "\n",
              "  <div id=\"df-00cc0897-9469-4bdf-b89d-63bbe6756d12\">\n",
              "    <div class=\"colab-df-container\">\n",
              "      <div>\n",
              "<style scoped>\n",
              "    .dataframe tbody tr th:only-of-type {\n",
              "        vertical-align: middle;\n",
              "    }\n",
              "\n",
              "    .dataframe tbody tr th {\n",
              "        vertical-align: top;\n",
              "    }\n",
              "\n",
              "    .dataframe thead th {\n",
              "        text-align: right;\n",
              "    }\n",
              "</style>\n",
              "<table border=\"1\" class=\"dataframe\">\n",
              "  <thead>\n",
              "    <tr style=\"text-align: right;\">\n",
              "      <th></th>\n",
              "      <th>IPV4_SRC_ADDR</th>\n",
              "      <th>L4_SRC_PORT</th>\n",
              "      <th>IPV4_DST_ADDR</th>\n",
              "      <th>L4_DST_PORT</th>\n",
              "      <th>PROTOCOL</th>\n",
              "      <th>L7_PROTO</th>\n",
              "      <th>IN_BYTES</th>\n",
              "      <th>OUT_BYTES</th>\n",
              "      <th>IN_PKTS</th>\n",
              "      <th>OUT_PKTS</th>\n",
              "      <th>TCP_FLAGS</th>\n",
              "      <th>FLOW_DURATION_MILLISECONDS</th>\n",
              "      <th>Label</th>\n",
              "      <th>Attack</th>\n",
              "    </tr>\n",
              "  </thead>\n",
              "  <tbody>\n",
              "    <tr>\n",
              "      <th>29</th>\n",
              "      <td>175.45.176.1</td>\n",
              "      <td>43025</td>\n",
              "      <td>149.171.126.16</td>\n",
              "      <td>25</td>\n",
              "      <td>6</td>\n",
              "      <td>3.0</td>\n",
              "      <td>41290</td>\n",
              "      <td>2080</td>\n",
              "      <td>48</td>\n",
              "      <td>24</td>\n",
              "      <td>27</td>\n",
              "      <td>803</td>\n",
              "      <td>1</td>\n",
              "      <td>U2R</td>\n",
              "    </tr>\n",
              "    <tr>\n",
              "      <th>40</th>\n",
              "      <td>175.45.176.3</td>\n",
              "      <td>64923</td>\n",
              "      <td>149.171.126.17</td>\n",
              "      <td>80</td>\n",
              "      <td>6</td>\n",
              "      <td>7.0</td>\n",
              "      <td>994</td>\n",
              "      <td>256</td>\n",
              "      <td>10</td>\n",
              "      <td>6</td>\n",
              "      <td>19</td>\n",
              "      <td>189</td>\n",
              "      <td>1</td>\n",
              "      <td>U2R</td>\n",
              "    </tr>\n",
              "    <tr>\n",
              "      <th>67</th>\n",
              "      <td>175.45.176.3</td>\n",
              "      <td>9022</td>\n",
              "      <td>149.171.126.13</td>\n",
              "      <td>111</td>\n",
              "      <td>6</td>\n",
              "      <td>11.0</td>\n",
              "      <td>552</td>\n",
              "      <td>336</td>\n",
              "      <td>10</td>\n",
              "      <td>8</td>\n",
              "      <td>19</td>\n",
              "      <td>678</td>\n",
              "      <td>1</td>\n",
              "      <td>Probe</td>\n",
              "    </tr>\n",
              "    <tr>\n",
              "      <th>93</th>\n",
              "      <td>175.45.176.3</td>\n",
              "      <td>1752</td>\n",
              "      <td>149.171.126.10</td>\n",
              "      <td>25</td>\n",
              "      <td>6</td>\n",
              "      <td>3.0</td>\n",
              "      <td>3022</td>\n",
              "      <td>1636</td>\n",
              "      <td>20</td>\n",
              "      <td>20</td>\n",
              "      <td>19</td>\n",
              "      <td>789</td>\n",
              "      <td>1</td>\n",
              "      <td>Dos</td>\n",
              "    </tr>\n",
              "    <tr>\n",
              "      <th>115</th>\n",
              "      <td>175.45.176.3</td>\n",
              "      <td>53967</td>\n",
              "      <td>149.171.126.14</td>\n",
              "      <td>111</td>\n",
              "      <td>17</td>\n",
              "      <td>11.0</td>\n",
              "      <td>168</td>\n",
              "      <td>0</td>\n",
              "      <td>2</td>\n",
              "      <td>0</td>\n",
              "      <td>0</td>\n",
              "      <td>0</td>\n",
              "      <td>1</td>\n",
              "      <td>Probe</td>\n",
              "    </tr>\n",
              "  </tbody>\n",
              "</table>\n",
              "</div>\n",
              "      <button class=\"colab-df-convert\" onclick=\"convertToInteractive('df-00cc0897-9469-4bdf-b89d-63bbe6756d12')\"\n",
              "              title=\"Convert this dataframe to an interactive table.\"\n",
              "              style=\"display:none;\">\n",
              "        \n",
              "  <svg xmlns=\"http://www.w3.org/2000/svg\" height=\"24px\"viewBox=\"0 0 24 24\"\n",
              "       width=\"24px\">\n",
              "    <path d=\"M0 0h24v24H0V0z\" fill=\"none\"/>\n",
              "    <path d=\"M18.56 5.44l.94 2.06.94-2.06 2.06-.94-2.06-.94-.94-2.06-.94 2.06-2.06.94zm-11 1L8.5 8.5l.94-2.06 2.06-.94-2.06-.94L8.5 2.5l-.94 2.06-2.06.94zm10 10l.94 2.06.94-2.06 2.06-.94-2.06-.94-.94-2.06-.94 2.06-2.06.94z\"/><path d=\"M17.41 7.96l-1.37-1.37c-.4-.4-.92-.59-1.43-.59-.52 0-1.04.2-1.43.59L10.3 9.45l-7.72 7.72c-.78.78-.78 2.05 0 2.83L4 21.41c.39.39.9.59 1.41.59.51 0 1.02-.2 1.41-.59l7.78-7.78 2.81-2.81c.8-.78.8-2.07 0-2.86zM5.41 20L4 18.59l7.72-7.72 1.47 1.35L5.41 20z\"/>\n",
              "  </svg>\n",
              "      </button>\n",
              "      \n",
              "  <style>\n",
              "    .colab-df-container {\n",
              "      display:flex;\n",
              "      flex-wrap:wrap;\n",
              "      gap: 12px;\n",
              "    }\n",
              "\n",
              "    .colab-df-convert {\n",
              "      background-color: #E8F0FE;\n",
              "      border: none;\n",
              "      border-radius: 50%;\n",
              "      cursor: pointer;\n",
              "      display: none;\n",
              "      fill: #1967D2;\n",
              "      height: 32px;\n",
              "      padding: 0 0 0 0;\n",
              "      width: 32px;\n",
              "    }\n",
              "\n",
              "    .colab-df-convert:hover {\n",
              "      background-color: #E2EBFA;\n",
              "      box-shadow: 0px 1px 2px rgba(60, 64, 67, 0.3), 0px 1px 3px 1px rgba(60, 64, 67, 0.15);\n",
              "      fill: #174EA6;\n",
              "    }\n",
              "\n",
              "    [theme=dark] .colab-df-convert {\n",
              "      background-color: #3B4455;\n",
              "      fill: #D2E3FC;\n",
              "    }\n",
              "\n",
              "    [theme=dark] .colab-df-convert:hover {\n",
              "      background-color: #434B5C;\n",
              "      box-shadow: 0px 1px 3px 1px rgba(0, 0, 0, 0.15);\n",
              "      filter: drop-shadow(0px 1px 2px rgba(0, 0, 0, 0.3));\n",
              "      fill: #FFFFFF;\n",
              "    }\n",
              "  </style>\n",
              "\n",
              "      <script>\n",
              "        const buttonEl =\n",
              "          document.querySelector('#df-00cc0897-9469-4bdf-b89d-63bbe6756d12 button.colab-df-convert');\n",
              "        buttonEl.style.display =\n",
              "          google.colab.kernel.accessAllowed ? 'block' : 'none';\n",
              "\n",
              "        async function convertToInteractive(key) {\n",
              "          const element = document.querySelector('#df-00cc0897-9469-4bdf-b89d-63bbe6756d12');\n",
              "          const dataTable =\n",
              "            await google.colab.kernel.invokeFunction('convertToInteractive',\n",
              "                                                     [key], {});\n",
              "          if (!dataTable) return;\n",
              "\n",
              "          const docLinkHtml = 'Like what you see? Visit the ' +\n",
              "            '<a target=\"_blank\" href=https://colab.research.google.com/notebooks/data_table.ipynb>data table notebook</a>'\n",
              "            + ' to learn more about interactive tables.';\n",
              "          element.innerHTML = '';\n",
              "          dataTable['output_type'] = 'display_data';\n",
              "          await google.colab.output.renderOutput(dataTable, element);\n",
              "          const docLink = document.createElement('div');\n",
              "          docLink.innerHTML = docLinkHtml;\n",
              "          element.appendChild(docLink);\n",
              "        }\n",
              "      </script>\n",
              "    </div>\n",
              "  </div>\n",
              "  "
            ],
            "text/plain": [
              "    IPV4_SRC_ADDR  L4_SRC_PORT   IPV4_DST_ADDR  L4_DST_PORT  PROTOCOL  \\\n",
              "29   175.45.176.1        43025  149.171.126.16           25         6   \n",
              "40   175.45.176.3        64923  149.171.126.17           80         6   \n",
              "67   175.45.176.3         9022  149.171.126.13          111         6   \n",
              "93   175.45.176.3         1752  149.171.126.10           25         6   \n",
              "115  175.45.176.3        53967  149.171.126.14          111        17   \n",
              "\n",
              "     L7_PROTO  IN_BYTES  OUT_BYTES  IN_PKTS  OUT_PKTS  TCP_FLAGS  \\\n",
              "29        3.0     41290       2080       48        24         27   \n",
              "40        7.0       994        256       10         6         19   \n",
              "67       11.0       552        336       10         8         19   \n",
              "93        3.0      3022       1636       20        20         19   \n",
              "115      11.0       168          0        2         0          0   \n",
              "\n",
              "     FLOW_DURATION_MILLISECONDS  Label Attack  \n",
              "29                          803      1    U2R  \n",
              "40                          189      1    U2R  \n",
              "67                          678      1  Probe  \n",
              "93                          789      1    Dos  \n",
              "115                           0      1  Probe  "
            ]
          },
          "execution_count": 170,
          "metadata": {},
          "output_type": "execute_result"
        }
      ],
      "source": [
        "data.head()"
      ]
    },
    {
      "cell_type": "code",
      "execution_count": null,
      "metadata": {
        "id": "3G7yDxgafkPC"
      },
      "outputs": [],
      "source": [
        "data.drop(columns=['Label'],inplace = True)"
      ]
    },
    {
      "cell_type": "code",
      "execution_count": null,
      "metadata": {
        "id": "ClwfLJEFfp-v"
      },
      "outputs": [],
      "source": [
        "data.rename(columns={\"Attack\": \"label\"},inplace = True)"
      ]
    },
    {
      "cell_type": "code",
      "execution_count": null,
      "metadata": {
        "id": "4mHCruhlf3Xm"
      },
      "outputs": [],
      "source": [
        "import ipaddress\n",
        "from ipaddress import IPv4Address"
      ]
    },
    {
      "cell_type": "code",
      "execution_count": null,
      "metadata": {
        "colab": {
          "base_uri": "https://localhost:8080/",
          "height": 206
        },
        "id": "BVqkmMEYfhhH",
        "outputId": "da8de55c-12f7-4251-97ef-07c7fca98f1c"
      },
      "outputs": [
        {
          "data": {
            "text/html": [
              "\n",
              "  <div id=\"df-e9fc9bfd-7315-45bb-986c-72e7cf0c7d9e\">\n",
              "    <div class=\"colab-df-container\">\n",
              "      <div>\n",
              "<style scoped>\n",
              "    .dataframe tbody tr th:only-of-type {\n",
              "        vertical-align: middle;\n",
              "    }\n",
              "\n",
              "    .dataframe tbody tr th {\n",
              "        vertical-align: top;\n",
              "    }\n",
              "\n",
              "    .dataframe thead th {\n",
              "        text-align: right;\n",
              "    }\n",
              "</style>\n",
              "<table border=\"1\" class=\"dataframe\">\n",
              "  <thead>\n",
              "    <tr style=\"text-align: right;\">\n",
              "      <th></th>\n",
              "      <th>IPV4_SRC_ADDR</th>\n",
              "      <th>L4_SRC_PORT</th>\n",
              "      <th>IPV4_DST_ADDR</th>\n",
              "      <th>L4_DST_PORT</th>\n",
              "      <th>PROTOCOL</th>\n",
              "      <th>L7_PROTO</th>\n",
              "      <th>IN_BYTES</th>\n",
              "      <th>OUT_BYTES</th>\n",
              "      <th>IN_PKTS</th>\n",
              "      <th>OUT_PKTS</th>\n",
              "      <th>TCP_FLAGS</th>\n",
              "      <th>FLOW_DURATION_MILLISECONDS</th>\n",
              "      <th>label</th>\n",
              "    </tr>\n",
              "  </thead>\n",
              "  <tbody>\n",
              "    <tr>\n",
              "      <th>29</th>\n",
              "      <td>2939006977</td>\n",
              "      <td>43025</td>\n",
              "      <td>2511044112</td>\n",
              "      <td>25</td>\n",
              "      <td>6</td>\n",
              "      <td>3.0</td>\n",
              "      <td>41290</td>\n",
              "      <td>2080</td>\n",
              "      <td>48</td>\n",
              "      <td>24</td>\n",
              "      <td>27</td>\n",
              "      <td>803</td>\n",
              "      <td>U2R</td>\n",
              "    </tr>\n",
              "    <tr>\n",
              "      <th>40</th>\n",
              "      <td>2939006979</td>\n",
              "      <td>64923</td>\n",
              "      <td>2511044113</td>\n",
              "      <td>80</td>\n",
              "      <td>6</td>\n",
              "      <td>7.0</td>\n",
              "      <td>994</td>\n",
              "      <td>256</td>\n",
              "      <td>10</td>\n",
              "      <td>6</td>\n",
              "      <td>19</td>\n",
              "      <td>189</td>\n",
              "      <td>U2R</td>\n",
              "    </tr>\n",
              "    <tr>\n",
              "      <th>67</th>\n",
              "      <td>2939006979</td>\n",
              "      <td>9022</td>\n",
              "      <td>2511044109</td>\n",
              "      <td>111</td>\n",
              "      <td>6</td>\n",
              "      <td>11.0</td>\n",
              "      <td>552</td>\n",
              "      <td>336</td>\n",
              "      <td>10</td>\n",
              "      <td>8</td>\n",
              "      <td>19</td>\n",
              "      <td>678</td>\n",
              "      <td>Probe</td>\n",
              "    </tr>\n",
              "    <tr>\n",
              "      <th>93</th>\n",
              "      <td>2939006979</td>\n",
              "      <td>1752</td>\n",
              "      <td>2511044106</td>\n",
              "      <td>25</td>\n",
              "      <td>6</td>\n",
              "      <td>3.0</td>\n",
              "      <td>3022</td>\n",
              "      <td>1636</td>\n",
              "      <td>20</td>\n",
              "      <td>20</td>\n",
              "      <td>19</td>\n",
              "      <td>789</td>\n",
              "      <td>Dos</td>\n",
              "    </tr>\n",
              "    <tr>\n",
              "      <th>115</th>\n",
              "      <td>2939006979</td>\n",
              "      <td>53967</td>\n",
              "      <td>2511044110</td>\n",
              "      <td>111</td>\n",
              "      <td>17</td>\n",
              "      <td>11.0</td>\n",
              "      <td>168</td>\n",
              "      <td>0</td>\n",
              "      <td>2</td>\n",
              "      <td>0</td>\n",
              "      <td>0</td>\n",
              "      <td>0</td>\n",
              "      <td>Probe</td>\n",
              "    </tr>\n",
              "  </tbody>\n",
              "</table>\n",
              "</div>\n",
              "      <button class=\"colab-df-convert\" onclick=\"convertToInteractive('df-e9fc9bfd-7315-45bb-986c-72e7cf0c7d9e')\"\n",
              "              title=\"Convert this dataframe to an interactive table.\"\n",
              "              style=\"display:none;\">\n",
              "        \n",
              "  <svg xmlns=\"http://www.w3.org/2000/svg\" height=\"24px\"viewBox=\"0 0 24 24\"\n",
              "       width=\"24px\">\n",
              "    <path d=\"M0 0h24v24H0V0z\" fill=\"none\"/>\n",
              "    <path d=\"M18.56 5.44l.94 2.06.94-2.06 2.06-.94-2.06-.94-.94-2.06-.94 2.06-2.06.94zm-11 1L8.5 8.5l.94-2.06 2.06-.94-2.06-.94L8.5 2.5l-.94 2.06-2.06.94zm10 10l.94 2.06.94-2.06 2.06-.94-2.06-.94-.94-2.06-.94 2.06-2.06.94z\"/><path d=\"M17.41 7.96l-1.37-1.37c-.4-.4-.92-.59-1.43-.59-.52 0-1.04.2-1.43.59L10.3 9.45l-7.72 7.72c-.78.78-.78 2.05 0 2.83L4 21.41c.39.39.9.59 1.41.59.51 0 1.02-.2 1.41-.59l7.78-7.78 2.81-2.81c.8-.78.8-2.07 0-2.86zM5.41 20L4 18.59l7.72-7.72 1.47 1.35L5.41 20z\"/>\n",
              "  </svg>\n",
              "      </button>\n",
              "      \n",
              "  <style>\n",
              "    .colab-df-container {\n",
              "      display:flex;\n",
              "      flex-wrap:wrap;\n",
              "      gap: 12px;\n",
              "    }\n",
              "\n",
              "    .colab-df-convert {\n",
              "      background-color: #E8F0FE;\n",
              "      border: none;\n",
              "      border-radius: 50%;\n",
              "      cursor: pointer;\n",
              "      display: none;\n",
              "      fill: #1967D2;\n",
              "      height: 32px;\n",
              "      padding: 0 0 0 0;\n",
              "      width: 32px;\n",
              "    }\n",
              "\n",
              "    .colab-df-convert:hover {\n",
              "      background-color: #E2EBFA;\n",
              "      box-shadow: 0px 1px 2px rgba(60, 64, 67, 0.3), 0px 1px 3px 1px rgba(60, 64, 67, 0.15);\n",
              "      fill: #174EA6;\n",
              "    }\n",
              "\n",
              "    [theme=dark] .colab-df-convert {\n",
              "      background-color: #3B4455;\n",
              "      fill: #D2E3FC;\n",
              "    }\n",
              "\n",
              "    [theme=dark] .colab-df-convert:hover {\n",
              "      background-color: #434B5C;\n",
              "      box-shadow: 0px 1px 3px 1px rgba(0, 0, 0, 0.15);\n",
              "      filter: drop-shadow(0px 1px 2px rgba(0, 0, 0, 0.3));\n",
              "      fill: #FFFFFF;\n",
              "    }\n",
              "  </style>\n",
              "\n",
              "      <script>\n",
              "        const buttonEl =\n",
              "          document.querySelector('#df-e9fc9bfd-7315-45bb-986c-72e7cf0c7d9e button.colab-df-convert');\n",
              "        buttonEl.style.display =\n",
              "          google.colab.kernel.accessAllowed ? 'block' : 'none';\n",
              "\n",
              "        async function convertToInteractive(key) {\n",
              "          const element = document.querySelector('#df-e9fc9bfd-7315-45bb-986c-72e7cf0c7d9e');\n",
              "          const dataTable =\n",
              "            await google.colab.kernel.invokeFunction('convertToInteractive',\n",
              "                                                     [key], {});\n",
              "          if (!dataTable) return;\n",
              "\n",
              "          const docLinkHtml = 'Like what you see? Visit the ' +\n",
              "            '<a target=\"_blank\" href=https://colab.research.google.com/notebooks/data_table.ipynb>data table notebook</a>'\n",
              "            + ' to learn more about interactive tables.';\n",
              "          element.innerHTML = '';\n",
              "          dataTable['output_type'] = 'display_data';\n",
              "          await google.colab.output.renderOutput(dataTable, element);\n",
              "          const docLink = document.createElement('div');\n",
              "          docLink.innerHTML = docLinkHtml;\n",
              "          element.appendChild(docLink);\n",
              "        }\n",
              "      </script>\n",
              "    </div>\n",
              "  </div>\n",
              "  "
            ],
            "text/plain": [
              "    IPV4_SRC_ADDR  L4_SRC_PORT IPV4_DST_ADDR  L4_DST_PORT  PROTOCOL  L7_PROTO  \\\n",
              "29     2939006977        43025    2511044112           25         6       3.0   \n",
              "40     2939006979        64923    2511044113           80         6       7.0   \n",
              "67     2939006979         9022    2511044109          111         6      11.0   \n",
              "93     2939006979         1752    2511044106           25         6       3.0   \n",
              "115    2939006979        53967    2511044110          111        17      11.0   \n",
              "\n",
              "     IN_BYTES  OUT_BYTES  IN_PKTS  OUT_PKTS  TCP_FLAGS  \\\n",
              "29      41290       2080       48        24         27   \n",
              "40        994        256       10         6         19   \n",
              "67        552        336       10         8         19   \n",
              "93       3022       1636       20        20         19   \n",
              "115       168          0        2         0          0   \n",
              "\n",
              "     FLOW_DURATION_MILLISECONDS  label  \n",
              "29                          803    U2R  \n",
              "40                          189    U2R  \n",
              "67                          678  Probe  \n",
              "93                          789    Dos  \n",
              "115                           0  Probe  "
            ]
          },
          "execution_count": 174,
          "metadata": {},
          "output_type": "execute_result"
        }
      ],
      "source": [
        "def IP_deal(df, len):\n",
        "    arr1 = df.IPV4_SRC_ADDR; arr2 = df.IPV4_DST_ADDR\n",
        "    arr1 = np.array(arr1)\n",
        "    arr2 = np.array(arr2)\n",
        "    for i in range(len):\n",
        "      try:\n",
        "        arr1[i] = int(ipaddress.IPv4Address(arr1[i]))\n",
        "        arr2[i] = int(ipaddress.IPv4Address(arr2[i]))\n",
        "      except:\n",
        "        print(arr1[i], i)\n",
        "        print(arr2[i], i)\n",
        "    df.IPV4_SRC_ADDR = arr1.reshape(len,1)\n",
        "    df.IPV4_DST_ADDR = arr2.reshape(len,1)\n",
        "    return df\n",
        "\n",
        "data = IP_deal(data, data.shape[0])\n",
        "data.head()"
      ]
    },
    {
      "cell_type": "code",
      "execution_count": null,
      "metadata": {
        "id": "QjM0fezqS8WZ"
      },
      "outputs": [],
      "source": [
        "# #Reset column names for training set\n",
        "# train_df.columns = ['duration', 'protocol_type', 'service', 'flag', 'src_bytes',\n",
        "# 'dst_bytes', 'land', 'wrong_fragment', 'urgent', 'hot',\n",
        "# 'num_failed_logins', 'logged_in', 'num_compromised', 'root_shell',\n",
        "# 'su_attempted', 'num_root', 'num_file_creations', 'num_shells',\n",
        "# 'num_access_files', 'num_outbound_cmds', 'is_host_login',\n",
        "# 'is_guest_login', 'count', 'srv_count', 'serror_rate',\n",
        "# 'srv_serror_rate', 'rerror_rate', 'srv_rerror_rate', 'same_srv_rate',\n",
        "# 'diff_srv_rate', 'srv_diff_host_rate', 'dst_host_count',\n",
        "# 'dst_host_srv_count', 'dst_host_same_srv_rate','dst_host_diff_srv_rate', 'dst_host_same_src_port_rate',\n",
        "# 'dst_host_srv_diff_host_rate', 'dst_host_serror_rate',\n",
        "# 'dst_host_srv_serror_rate', 'dst_host_rerror_rate',\n",
        "# 'dst_host_srv_rerror_rate', 'subclass', 'difficulty_level']\n",
        "# train_df.head()"
      ]
    },
    {
      "cell_type": "code",
      "execution_count": null,
      "metadata": {
        "id": "Gt45nynwS8SR"
      },
      "outputs": [],
      "source": [
        "# #Reset column names for testing set\n",
        "# test_df.columns = ['duration', 'protocol_type', 'service', 'flag', 'src_bytes',\n",
        "# 'dst_bytes', 'land', 'wrong_fragment', 'urgent', 'hot',\n",
        "# 'num_failed_logins', 'logged_in', 'num_compromised', 'root_shell',\n",
        "# 'su_attempted', 'num_root', 'num_file_creations', 'num_shells',\n",
        "# 'num_access_files', 'num_outbound_cmds', 'is_host_login',\n",
        "# 'is_guest_login', 'count', 'srv_count', 'serror_rate',\n",
        "# 'srv_serror_rate', 'rerror_rate', 'srv_rerror_rate', 'same_srv_rate',\n",
        "# 'diff_srv_rate', 'srv_diff_host_rate', 'dst_host_count',\n",
        "# 'dst_host_srv_count', 'dst_host_same_srv_rate','dst_host_diff_srv_rate', 'dst_host_same_src_port_rate',\n",
        "# 'dst_host_srv_diff_host_rate', 'dst_host_serror_rate',\n",
        "# 'dst_host_srv_serror_rate', 'dst_host_rerror_rate',\n",
        "# 'dst_host_srv_rerror_rate', 'subclass', 'difficulty_level']\n",
        "# test_df.head()"
      ]
    },
    {
      "cell_type": "code",
      "execution_count": null,
      "metadata": {
        "id": "j13DpFbOS8La"
      },
      "outputs": [],
      "source": [
        "# #Dropping the last columns of training set\n",
        "# train_df = train_df.drop('difficulty_level', 1) # we don't need it in this project\n",
        "# train_df.shape\n",
        "# #Dropping the last columns of testing set\n",
        "# test_df = test_df.drop('difficulty_level', 1)\n",
        "# test_df.shape"
      ]
    },
    {
      "cell_type": "code",
      "execution_count": null,
      "metadata": {
        "id": "Zg5cbKIxnntj"
      },
      "outputs": [],
      "source": [
        "from sklearn import preprocessing\n",
        "from sklearn.preprocessing import StandardScaler"
      ]
    },
    {
      "cell_type": "code",
      "execution_count": null,
      "metadata": {
        "colab": {
          "base_uri": "https://localhost:8080/",
          "height": 206
        },
        "id": "GZ7JXhzgnlow",
        "outputId": "c42609c2-bf6f-4a9f-d32c-69584597a0be"
      },
      "outputs": [
        {
          "data": {
            "text/html": [
              "\n",
              "  <div id=\"df-e4105bee-ad37-4d52-aa0e-3a7d90197ec4\">\n",
              "    <div class=\"colab-df-container\">\n",
              "      <div>\n",
              "<style scoped>\n",
              "    .dataframe tbody tr th:only-of-type {\n",
              "        vertical-align: middle;\n",
              "    }\n",
              "\n",
              "    .dataframe tbody tr th {\n",
              "        vertical-align: top;\n",
              "    }\n",
              "\n",
              "    .dataframe thead th {\n",
              "        text-align: right;\n",
              "    }\n",
              "</style>\n",
              "<table border=\"1\" class=\"dataframe\">\n",
              "  <thead>\n",
              "    <tr style=\"text-align: right;\">\n",
              "      <th></th>\n",
              "      <th>IPV4_SRC_ADDR</th>\n",
              "      <th>L4_SRC_PORT</th>\n",
              "      <th>IPV4_DST_ADDR</th>\n",
              "      <th>L4_DST_PORT</th>\n",
              "      <th>PROTOCOL</th>\n",
              "      <th>L7_PROTO</th>\n",
              "      <th>IN_BYTES</th>\n",
              "      <th>OUT_BYTES</th>\n",
              "      <th>IN_PKTS</th>\n",
              "      <th>OUT_PKTS</th>\n",
              "      <th>TCP_FLAGS</th>\n",
              "      <th>FLOW_DURATION_MILLISECONDS</th>\n",
              "      <th>label</th>\n",
              "    </tr>\n",
              "  </thead>\n",
              "  <tbody>\n",
              "    <tr>\n",
              "      <th>29</th>\n",
              "      <td>2939006977</td>\n",
              "      <td>0.555288</td>\n",
              "      <td>2511044112</td>\n",
              "      <td>-0.682457</td>\n",
              "      <td>-0.270877</td>\n",
              "      <td>-0.220138</td>\n",
              "      <td>0.278857</td>\n",
              "      <td>-0.216367</td>\n",
              "      <td>0.079016</td>\n",
              "      <td>-0.184964</td>\n",
              "      <td>0.679032</td>\n",
              "      <td>-0.184495</td>\n",
              "      <td>U2R</td>\n",
              "    </tr>\n",
              "    <tr>\n",
              "      <th>40</th>\n",
              "      <td>2939006979</td>\n",
              "      <td>1.682257</td>\n",
              "      <td>2511044113</td>\n",
              "      <td>-0.679619</td>\n",
              "      <td>-0.270877</td>\n",
              "      <td>-0.011887</td>\n",
              "      <td>-0.045209</td>\n",
              "      <td>-0.226457</td>\n",
              "      <td>-0.256127</td>\n",
              "      <td>-0.317385</td>\n",
              "      <td>0.015645</td>\n",
              "      <td>-0.185294</td>\n",
              "      <td>U2R</td>\n",
              "    </tr>\n",
              "    <tr>\n",
              "      <th>67</th>\n",
              "      <td>2939006979</td>\n",
              "      <td>-1.194658</td>\n",
              "      <td>2511044109</td>\n",
              "      <td>-0.678019</td>\n",
              "      <td>-0.270877</td>\n",
              "      <td>0.196365</td>\n",
              "      <td>-0.048764</td>\n",
              "      <td>-0.226014</td>\n",
              "      <td>-0.256127</td>\n",
              "      <td>-0.302672</td>\n",
              "      <td>0.015645</td>\n",
              "      <td>-0.184657</td>\n",
              "      <td>Probe</td>\n",
              "    </tr>\n",
              "    <tr>\n",
              "      <th>93</th>\n",
              "      <td>2939006979</td>\n",
              "      <td>-1.568804</td>\n",
              "      <td>2511044106</td>\n",
              "      <td>-0.682457</td>\n",
              "      <td>-0.270877</td>\n",
              "      <td>-0.220138</td>\n",
              "      <td>-0.028900</td>\n",
              "      <td>-0.218823</td>\n",
              "      <td>-0.167931</td>\n",
              "      <td>-0.214391</td>\n",
              "      <td>0.015645</td>\n",
              "      <td>-0.184513</td>\n",
              "      <td>Dos</td>\n",
              "    </tr>\n",
              "    <tr>\n",
              "      <th>115</th>\n",
              "      <td>2939006979</td>\n",
              "      <td>1.118413</td>\n",
              "      <td>2511044110</td>\n",
              "      <td>-0.678019</td>\n",
              "      <td>0.311166</td>\n",
              "      <td>0.196365</td>\n",
              "      <td>-0.051852</td>\n",
              "      <td>-0.227873</td>\n",
              "      <td>-0.326683</td>\n",
              "      <td>-0.361526</td>\n",
              "      <td>-1.559899</td>\n",
              "      <td>-0.185540</td>\n",
              "      <td>Probe</td>\n",
              "    </tr>\n",
              "  </tbody>\n",
              "</table>\n",
              "</div>\n",
              "      <button class=\"colab-df-convert\" onclick=\"convertToInteractive('df-e4105bee-ad37-4d52-aa0e-3a7d90197ec4')\"\n",
              "              title=\"Convert this dataframe to an interactive table.\"\n",
              "              style=\"display:none;\">\n",
              "        \n",
              "  <svg xmlns=\"http://www.w3.org/2000/svg\" height=\"24px\"viewBox=\"0 0 24 24\"\n",
              "       width=\"24px\">\n",
              "    <path d=\"M0 0h24v24H0V0z\" fill=\"none\"/>\n",
              "    <path d=\"M18.56 5.44l.94 2.06.94-2.06 2.06-.94-2.06-.94-.94-2.06-.94 2.06-2.06.94zm-11 1L8.5 8.5l.94-2.06 2.06-.94-2.06-.94L8.5 2.5l-.94 2.06-2.06.94zm10 10l.94 2.06.94-2.06 2.06-.94-2.06-.94-.94-2.06-.94 2.06-2.06.94z\"/><path d=\"M17.41 7.96l-1.37-1.37c-.4-.4-.92-.59-1.43-.59-.52 0-1.04.2-1.43.59L10.3 9.45l-7.72 7.72c-.78.78-.78 2.05 0 2.83L4 21.41c.39.39.9.59 1.41.59.51 0 1.02-.2 1.41-.59l7.78-7.78 2.81-2.81c.8-.78.8-2.07 0-2.86zM5.41 20L4 18.59l7.72-7.72 1.47 1.35L5.41 20z\"/>\n",
              "  </svg>\n",
              "      </button>\n",
              "      \n",
              "  <style>\n",
              "    .colab-df-container {\n",
              "      display:flex;\n",
              "      flex-wrap:wrap;\n",
              "      gap: 12px;\n",
              "    }\n",
              "\n",
              "    .colab-df-convert {\n",
              "      background-color: #E8F0FE;\n",
              "      border: none;\n",
              "      border-radius: 50%;\n",
              "      cursor: pointer;\n",
              "      display: none;\n",
              "      fill: #1967D2;\n",
              "      height: 32px;\n",
              "      padding: 0 0 0 0;\n",
              "      width: 32px;\n",
              "    }\n",
              "\n",
              "    .colab-df-convert:hover {\n",
              "      background-color: #E2EBFA;\n",
              "      box-shadow: 0px 1px 2px rgba(60, 64, 67, 0.3), 0px 1px 3px 1px rgba(60, 64, 67, 0.15);\n",
              "      fill: #174EA6;\n",
              "    }\n",
              "\n",
              "    [theme=dark] .colab-df-convert {\n",
              "      background-color: #3B4455;\n",
              "      fill: #D2E3FC;\n",
              "    }\n",
              "\n",
              "    [theme=dark] .colab-df-convert:hover {\n",
              "      background-color: #434B5C;\n",
              "      box-shadow: 0px 1px 3px 1px rgba(0, 0, 0, 0.15);\n",
              "      filter: drop-shadow(0px 1px 2px rgba(0, 0, 0, 0.3));\n",
              "      fill: #FFFFFF;\n",
              "    }\n",
              "  </style>\n",
              "\n",
              "      <script>\n",
              "        const buttonEl =\n",
              "          document.querySelector('#df-e4105bee-ad37-4d52-aa0e-3a7d90197ec4 button.colab-df-convert');\n",
              "        buttonEl.style.display =\n",
              "          google.colab.kernel.accessAllowed ? 'block' : 'none';\n",
              "\n",
              "        async function convertToInteractive(key) {\n",
              "          const element = document.querySelector('#df-e4105bee-ad37-4d52-aa0e-3a7d90197ec4');\n",
              "          const dataTable =\n",
              "            await google.colab.kernel.invokeFunction('convertToInteractive',\n",
              "                                                     [key], {});\n",
              "          if (!dataTable) return;\n",
              "\n",
              "          const docLinkHtml = 'Like what you see? Visit the ' +\n",
              "            '<a target=\"_blank\" href=https://colab.research.google.com/notebooks/data_table.ipynb>data table notebook</a>'\n",
              "            + ' to learn more about interactive tables.';\n",
              "          element.innerHTML = '';\n",
              "          dataTable['output_type'] = 'display_data';\n",
              "          await google.colab.output.renderOutput(dataTable, element);\n",
              "          const docLink = document.createElement('div');\n",
              "          docLink.innerHTML = docLinkHtml;\n",
              "          element.appendChild(docLink);\n",
              "        }\n",
              "      </script>\n",
              "    </div>\n",
              "  </div>\n",
              "  "
            ],
            "text/plain": [
              "    IPV4_SRC_ADDR  L4_SRC_PORT IPV4_DST_ADDR  L4_DST_PORT  PROTOCOL  L7_PROTO  \\\n",
              "29     2939006977     0.555288    2511044112    -0.682457 -0.270877 -0.220138   \n",
              "40     2939006979     1.682257    2511044113    -0.679619 -0.270877 -0.011887   \n",
              "67     2939006979    -1.194658    2511044109    -0.678019 -0.270877  0.196365   \n",
              "93     2939006979    -1.568804    2511044106    -0.682457 -0.270877 -0.220138   \n",
              "115    2939006979     1.118413    2511044110    -0.678019  0.311166  0.196365   \n",
              "\n",
              "     IN_BYTES  OUT_BYTES   IN_PKTS  OUT_PKTS  TCP_FLAGS  \\\n",
              "29   0.278857  -0.216367  0.079016 -0.184964   0.679032   \n",
              "40  -0.045209  -0.226457 -0.256127 -0.317385   0.015645   \n",
              "67  -0.048764  -0.226014 -0.256127 -0.302672   0.015645   \n",
              "93  -0.028900  -0.218823 -0.167931 -0.214391   0.015645   \n",
              "115 -0.051852  -0.227873 -0.326683 -0.361526  -1.559899   \n",
              "\n",
              "     FLOW_DURATION_MILLISECONDS  label  \n",
              "29                    -0.184495    U2R  \n",
              "40                    -0.185294    U2R  \n",
              "67                    -0.184657  Probe  \n",
              "93                    -0.184513    Dos  \n",
              "115                   -0.185540  Probe  "
            ]
          },
          "execution_count": 179,
          "metadata": {},
          "output_type": "execute_result"
        }
      ],
      "source": [
        "numeric_col = data.select_dtypes(include='number').columns\n",
        "\n",
        "std_scaler = StandardScaler()\n",
        "def normalization(df,col):\n",
        "  for i in col:\n",
        "    arr = df[i]\n",
        "    arr = np.array(arr)\n",
        "    df[i] = std_scaler.fit_transform(arr.reshape(len(arr),1))\n",
        "  return df\n",
        "\n",
        "data = normalization(data.copy(),numeric_col)\n",
        "data.head()"
      ]
    },
    {
      "cell_type": "code",
      "execution_count": null,
      "metadata": {
        "id": "R4-IyksugTy_"
      },
      "outputs": [],
      "source": [
        "label = data.label\n",
        "X_train, X_test, y_train, y_test = train_test_split(\n",
        "     data, label, test_size=0.2, random_state=123,stratify= label)"
      ]
    },
    {
      "cell_type": "code",
      "execution_count": null,
      "metadata": {
        "colab": {
          "base_uri": "https://localhost:8080/",
          "height": 424
        },
        "id": "1jsZBVf9ts0K",
        "outputId": "610c833e-391c-4665-b99b-c6b6e6154f3b"
      },
      "outputs": [
        {
          "data": {
            "text/html": [
              "\n",
              "  <div id=\"df-df37385f-a24f-4cba-9466-881baf0d28e0\">\n",
              "    <div class=\"colab-df-container\">\n",
              "      <div>\n",
              "<style scoped>\n",
              "    .dataframe tbody tr th:only-of-type {\n",
              "        vertical-align: middle;\n",
              "    }\n",
              "\n",
              "    .dataframe tbody tr th {\n",
              "        vertical-align: top;\n",
              "    }\n",
              "\n",
              "    .dataframe thead th {\n",
              "        text-align: right;\n",
              "    }\n",
              "</style>\n",
              "<table border=\"1\" class=\"dataframe\">\n",
              "  <thead>\n",
              "    <tr style=\"text-align: right;\">\n",
              "      <th></th>\n",
              "      <th>IPV4_SRC_ADDR</th>\n",
              "      <th>L4_SRC_PORT</th>\n",
              "      <th>IPV4_DST_ADDR</th>\n",
              "      <th>L4_DST_PORT</th>\n",
              "      <th>PROTOCOL</th>\n",
              "      <th>L7_PROTO</th>\n",
              "      <th>IN_BYTES</th>\n",
              "      <th>OUT_BYTES</th>\n",
              "      <th>IN_PKTS</th>\n",
              "      <th>OUT_PKTS</th>\n",
              "      <th>TCP_FLAGS</th>\n",
              "      <th>FLOW_DURATION_MILLISECONDS</th>\n",
              "      <th>label</th>\n",
              "    </tr>\n",
              "  </thead>\n",
              "  <tbody>\n",
              "    <tr>\n",
              "      <th>1405164</th>\n",
              "      <td>1000734722</td>\n",
              "      <td>1.329726</td>\n",
              "      <td>2511044096</td>\n",
              "      <td>-0.681012</td>\n",
              "      <td>0.311166</td>\n",
              "      <td>-0.376326</td>\n",
              "      <td>-0.052029</td>\n",
              "      <td>-0.226889</td>\n",
              "      <td>-0.326683</td>\n",
              "      <td>-0.346812</td>\n",
              "      <td>-1.559899</td>\n",
              "      <td>-0.18554</td>\n",
              "      <td>Normal</td>\n",
              "    </tr>\n",
              "    <tr>\n",
              "      <th>1139258</th>\n",
              "      <td>1000734723</td>\n",
              "      <td>-0.534986</td>\n",
              "      <td>2511044102</td>\n",
              "      <td>1.251848</td>\n",
              "      <td>-0.270877</td>\n",
              "      <td>1.497933</td>\n",
              "      <td>-0.024268</td>\n",
              "      <td>0.026793</td>\n",
              "      <td>0.184850</td>\n",
              "      <td>0.094591</td>\n",
              "      <td>0.679032</td>\n",
              "      <td>-0.18545</td>\n",
              "      <td>Normal</td>\n",
              "    </tr>\n",
              "    <tr>\n",
              "      <th>1574636</th>\n",
              "      <td>1000734727</td>\n",
              "      <td>-1.001717</td>\n",
              "      <td>2511044096</td>\n",
              "      <td>1.143105</td>\n",
              "      <td>-0.270877</td>\n",
              "      <td>-0.376326</td>\n",
              "      <td>0.018597</td>\n",
              "      <td>-0.226103</td>\n",
              "      <td>-0.220849</td>\n",
              "      <td>-0.317385</td>\n",
              "      <td>0.679032</td>\n",
              "      <td>-0.18554</td>\n",
              "      <td>Normal</td>\n",
              "    </tr>\n",
              "    <tr>\n",
              "      <th>289263</th>\n",
              "      <td>2939006977</td>\n",
              "      <td>-0.482287</td>\n",
              "      <td>2511044115</td>\n",
              "      <td>-0.678019</td>\n",
              "      <td>0.311166</td>\n",
              "      <td>0.196365</td>\n",
              "      <td>-0.051852</td>\n",
              "      <td>-0.227873</td>\n",
              "      <td>-0.326683</td>\n",
              "      <td>-0.361526</td>\n",
              "      <td>-1.559899</td>\n",
              "      <td>-0.18554</td>\n",
              "      <td>Probe</td>\n",
              "    </tr>\n",
              "    <tr>\n",
              "      <th>1504405</th>\n",
              "      <td>1000734725</td>\n",
              "      <td>0.407534</td>\n",
              "      <td>2511044103</td>\n",
              "      <td>-0.510646</td>\n",
              "      <td>-0.270877</td>\n",
              "      <td>-0.376326</td>\n",
              "      <td>0.018597</td>\n",
              "      <td>-0.226103</td>\n",
              "      <td>-0.220849</td>\n",
              "      <td>-0.317385</td>\n",
              "      <td>0.679032</td>\n",
              "      <td>-0.18554</td>\n",
              "      <td>Normal</td>\n",
              "    </tr>\n",
              "    <tr>\n",
              "      <th>...</th>\n",
              "      <td>...</td>\n",
              "      <td>...</td>\n",
              "      <td>...</td>\n",
              "      <td>...</td>\n",
              "      <td>...</td>\n",
              "      <td>...</td>\n",
              "      <td>...</td>\n",
              "      <td>...</td>\n",
              "      <td>...</td>\n",
              "      <td>...</td>\n",
              "      <td>...</td>\n",
              "      <td>...</td>\n",
              "      <td>...</td>\n",
              "    </tr>\n",
              "    <tr>\n",
              "      <th>1569834</th>\n",
              "      <td>1000734729</td>\n",
              "      <td>1.457100</td>\n",
              "      <td>2511044097</td>\n",
              "      <td>-0.415890</td>\n",
              "      <td>-0.270877</td>\n",
              "      <td>-0.376326</td>\n",
              "      <td>-0.044872</td>\n",
              "      <td>-0.215360</td>\n",
              "      <td>-0.238488</td>\n",
              "      <td>-0.273245</td>\n",
              "      <td>0.679032</td>\n",
              "      <td>-0.18554</td>\n",
              "      <td>Normal</td>\n",
              "    </tr>\n",
              "    <tr>\n",
              "      <th>1595925</th>\n",
              "      <td>1000734724</td>\n",
              "      <td>0.642006</td>\n",
              "      <td>2511044099</td>\n",
              "      <td>-0.265703</td>\n",
              "      <td>-0.270877</td>\n",
              "      <td>-0.376326</td>\n",
              "      <td>-0.012430</td>\n",
              "      <td>0.248245</td>\n",
              "      <td>0.431798</td>\n",
              "      <td>0.315293</td>\n",
              "      <td>0.679032</td>\n",
              "      <td>-0.18554</td>\n",
              "      <td>Normal</td>\n",
              "    </tr>\n",
              "    <tr>\n",
              "      <th>1206277</th>\n",
              "      <td>1000734727</td>\n",
              "      <td>-1.271237</td>\n",
              "      <td>2511044096</td>\n",
              "      <td>-0.323559</td>\n",
              "      <td>-0.270877</td>\n",
              "      <td>-0.376326</td>\n",
              "      <td>-0.049793</td>\n",
              "      <td>-0.179060</td>\n",
              "      <td>-0.273766</td>\n",
              "      <td>-0.273245</td>\n",
              "      <td>0.679032</td>\n",
              "      <td>-0.18554</td>\n",
              "      <td>Normal</td>\n",
              "    </tr>\n",
              "    <tr>\n",
              "      <th>1184648</th>\n",
              "      <td>1000734728</td>\n",
              "      <td>0.387257</td>\n",
              "      <td>2511044100</td>\n",
              "      <td>-0.676367</td>\n",
              "      <td>-0.270877</td>\n",
              "      <td>-0.168075</td>\n",
              "      <td>0.009622</td>\n",
              "      <td>-0.143103</td>\n",
              "      <td>0.731662</td>\n",
              "      <td>0.565421</td>\n",
              "      <td>0.679032</td>\n",
              "      <td>-0.18554</td>\n",
              "      <td>Normal</td>\n",
              "    </tr>\n",
              "    <tr>\n",
              "      <th>1292250</th>\n",
              "      <td>1000734724</td>\n",
              "      <td>0.008067</td>\n",
              "      <td>2511044099</td>\n",
              "      <td>-0.681012</td>\n",
              "      <td>0.311166</td>\n",
              "      <td>-0.376326</td>\n",
              "      <td>-0.052029</td>\n",
              "      <td>-0.226889</td>\n",
              "      <td>-0.326683</td>\n",
              "      <td>-0.346812</td>\n",
              "      <td>-1.559899</td>\n",
              "      <td>-0.18554</td>\n",
              "      <td>Normal</td>\n",
              "    </tr>\n",
              "  </tbody>\n",
              "</table>\n",
              "<p>498494 rows × 13 columns</p>\n",
              "</div>\n",
              "      <button class=\"colab-df-convert\" onclick=\"convertToInteractive('df-df37385f-a24f-4cba-9466-881baf0d28e0')\"\n",
              "              title=\"Convert this dataframe to an interactive table.\"\n",
              "              style=\"display:none;\">\n",
              "        \n",
              "  <svg xmlns=\"http://www.w3.org/2000/svg\" height=\"24px\"viewBox=\"0 0 24 24\"\n",
              "       width=\"24px\">\n",
              "    <path d=\"M0 0h24v24H0V0z\" fill=\"none\"/>\n",
              "    <path d=\"M18.56 5.44l.94 2.06.94-2.06 2.06-.94-2.06-.94-.94-2.06-.94 2.06-2.06.94zm-11 1L8.5 8.5l.94-2.06 2.06-.94-2.06-.94L8.5 2.5l-.94 2.06-2.06.94zm10 10l.94 2.06.94-2.06 2.06-.94-2.06-.94-.94-2.06-.94 2.06-2.06.94z\"/><path d=\"M17.41 7.96l-1.37-1.37c-.4-.4-.92-.59-1.43-.59-.52 0-1.04.2-1.43.59L10.3 9.45l-7.72 7.72c-.78.78-.78 2.05 0 2.83L4 21.41c.39.39.9.59 1.41.59.51 0 1.02-.2 1.41-.59l7.78-7.78 2.81-2.81c.8-.78.8-2.07 0-2.86zM5.41 20L4 18.59l7.72-7.72 1.47 1.35L5.41 20z\"/>\n",
              "  </svg>\n",
              "      </button>\n",
              "      \n",
              "  <style>\n",
              "    .colab-df-container {\n",
              "      display:flex;\n",
              "      flex-wrap:wrap;\n",
              "      gap: 12px;\n",
              "    }\n",
              "\n",
              "    .colab-df-convert {\n",
              "      background-color: #E8F0FE;\n",
              "      border: none;\n",
              "      border-radius: 50%;\n",
              "      cursor: pointer;\n",
              "      display: none;\n",
              "      fill: #1967D2;\n",
              "      height: 32px;\n",
              "      padding: 0 0 0 0;\n",
              "      width: 32px;\n",
              "    }\n",
              "\n",
              "    .colab-df-convert:hover {\n",
              "      background-color: #E2EBFA;\n",
              "      box-shadow: 0px 1px 2px rgba(60, 64, 67, 0.3), 0px 1px 3px 1px rgba(60, 64, 67, 0.15);\n",
              "      fill: #174EA6;\n",
              "    }\n",
              "\n",
              "    [theme=dark] .colab-df-convert {\n",
              "      background-color: #3B4455;\n",
              "      fill: #D2E3FC;\n",
              "    }\n",
              "\n",
              "    [theme=dark] .colab-df-convert:hover {\n",
              "      background-color: #434B5C;\n",
              "      box-shadow: 0px 1px 3px 1px rgba(0, 0, 0, 0.15);\n",
              "      filter: drop-shadow(0px 1px 2px rgba(0, 0, 0, 0.3));\n",
              "      fill: #FFFFFF;\n",
              "    }\n",
              "  </style>\n",
              "\n",
              "      <script>\n",
              "        const buttonEl =\n",
              "          document.querySelector('#df-df37385f-a24f-4cba-9466-881baf0d28e0 button.colab-df-convert');\n",
              "        buttonEl.style.display =\n",
              "          google.colab.kernel.accessAllowed ? 'block' : 'none';\n",
              "\n",
              "        async function convertToInteractive(key) {\n",
              "          const element = document.querySelector('#df-df37385f-a24f-4cba-9466-881baf0d28e0');\n",
              "          const dataTable =\n",
              "            await google.colab.kernel.invokeFunction('convertToInteractive',\n",
              "                                                     [key], {});\n",
              "          if (!dataTable) return;\n",
              "\n",
              "          const docLinkHtml = 'Like what you see? Visit the ' +\n",
              "            '<a target=\"_blank\" href=https://colab.research.google.com/notebooks/data_table.ipynb>data table notebook</a>'\n",
              "            + ' to learn more about interactive tables.';\n",
              "          element.innerHTML = '';\n",
              "          dataTable['output_type'] = 'display_data';\n",
              "          await google.colab.output.renderOutput(dataTable, element);\n",
              "          const docLink = document.createElement('div');\n",
              "          docLink.innerHTML = docLinkHtml;\n",
              "          element.appendChild(docLink);\n",
              "        }\n",
              "      </script>\n",
              "    </div>\n",
              "  </div>\n",
              "  "
            ],
            "text/plain": [
              "        IPV4_SRC_ADDR  L4_SRC_PORT IPV4_DST_ADDR  L4_DST_PORT  PROTOCOL  \\\n",
              "1405164    1000734722     1.329726    2511044096    -0.681012  0.311166   \n",
              "1139258    1000734723    -0.534986    2511044102     1.251848 -0.270877   \n",
              "1574636    1000734727    -1.001717    2511044096     1.143105 -0.270877   \n",
              "289263     2939006977    -0.482287    2511044115    -0.678019  0.311166   \n",
              "1504405    1000734725     0.407534    2511044103    -0.510646 -0.270877   \n",
              "...               ...          ...           ...          ...       ...   \n",
              "1569834    1000734729     1.457100    2511044097    -0.415890 -0.270877   \n",
              "1595925    1000734724     0.642006    2511044099    -0.265703 -0.270877   \n",
              "1206277    1000734727    -1.271237    2511044096    -0.323559 -0.270877   \n",
              "1184648    1000734728     0.387257    2511044100    -0.676367 -0.270877   \n",
              "1292250    1000734724     0.008067    2511044099    -0.681012  0.311166   \n",
              "\n",
              "         L7_PROTO  IN_BYTES  OUT_BYTES   IN_PKTS  OUT_PKTS  TCP_FLAGS  \\\n",
              "1405164 -0.376326 -0.052029  -0.226889 -0.326683 -0.346812  -1.559899   \n",
              "1139258  1.497933 -0.024268   0.026793  0.184850  0.094591   0.679032   \n",
              "1574636 -0.376326  0.018597  -0.226103 -0.220849 -0.317385   0.679032   \n",
              "289263   0.196365 -0.051852  -0.227873 -0.326683 -0.361526  -1.559899   \n",
              "1504405 -0.376326  0.018597  -0.226103 -0.220849 -0.317385   0.679032   \n",
              "...           ...       ...        ...       ...       ...        ...   \n",
              "1569834 -0.376326 -0.044872  -0.215360 -0.238488 -0.273245   0.679032   \n",
              "1595925 -0.376326 -0.012430   0.248245  0.431798  0.315293   0.679032   \n",
              "1206277 -0.376326 -0.049793  -0.179060 -0.273766 -0.273245   0.679032   \n",
              "1184648 -0.168075  0.009622  -0.143103  0.731662  0.565421   0.679032   \n",
              "1292250 -0.376326 -0.052029  -0.226889 -0.326683 -0.346812  -1.559899   \n",
              "\n",
              "         FLOW_DURATION_MILLISECONDS   label  \n",
              "1405164                    -0.18554  Normal  \n",
              "1139258                    -0.18545  Normal  \n",
              "1574636                    -0.18554  Normal  \n",
              "289263                     -0.18554   Probe  \n",
              "1504405                    -0.18554  Normal  \n",
              "...                             ...     ...  \n",
              "1569834                    -0.18554  Normal  \n",
              "1595925                    -0.18554  Normal  \n",
              "1206277                    -0.18554  Normal  \n",
              "1184648                    -0.18554  Normal  \n",
              "1292250                    -0.18554  Normal  \n",
              "\n",
              "[498494 rows x 13 columns]"
            ]
          },
          "execution_count": 181,
          "metadata": {},
          "output_type": "execute_result"
        }
      ],
      "source": [
        "X_train"
      ]
    },
    {
      "cell_type": "code",
      "execution_count": null,
      "metadata": {
        "id": "XvKk738PS7-3"
      },
      "outputs": [],
      "source": [
        "cols=['TCP_FLAGS','L7_PROTO','PROTOCOL']"
      ]
    },
    {
      "cell_type": "code",
      "execution_count": null,
      "metadata": {
        "id": "3VSMuSBqS76Q"
      },
      "outputs": [],
      "source": [
        "# #One-hot encoding\n",
        "# def one_hot(df, cols):\n",
        "#     \"\"\"\n",
        "#     param df pandas DataFrame\n",
        "#     param cols a list of columns to encode\n",
        "#     return a DataFrame with one-hot encoding\n",
        "#     \"\"\"\n",
        "#     for each in cols:\n",
        "#         dummies = pd.get_dummies(df[each], prefix=each, drop_first=False)\n",
        "#         df = pd.concat([df, dummies], axis=1)\n",
        "#         df = df.drop(each, 1)\n",
        "#     return df"
      ]
    },
    {
      "cell_type": "code",
      "execution_count": null,
      "metadata": {
        "id": "l6mhYz1yS7xb"
      },
      "outputs": [],
      "source": [
        "# #Applying one hot encoding to df's\n",
        "# train_df_1 = one_hot(X_train,cols)\n",
        "# test_df_1 = one_hot(X_test,cols)"
      ]
    },
    {
      "cell_type": "code",
      "execution_count": null,
      "metadata": {
        "id": "yupQ8RQGS7tG"
      },
      "outputs": [],
      "source": [
        "# #Function to min-max normalize\n",
        "# def normalize(df, cols):\n",
        "#     \"\"\"\n",
        "#     param df pandas DataFrame\n",
        "#     param cols a list of columns to encode\n",
        "#     return a DataFrame with normalized specified features\n",
        "#     \"\"\"\n",
        "#     result = df.copy() # do not touch the original df\n",
        "#     for feature_name in cols:\n",
        "#         max_value = df[feature_name].max()\n",
        "#         min_value = df[feature_name].min()\n",
        "#         if max_value > min_value:\n",
        "#             result[feature_name] = (df[feature_name] - min_value) / (max_value - min_value)\n",
        "#     return result"
      ]
    },
    {
      "cell_type": "code",
      "execution_count": null,
      "metadata": {
        "id": "JIsHLclRS7oW"
      },
      "outputs": [],
      "source": [
        "# #Dropping subclass column for training  and testing set\n",
        "# tmp = train_df_1.pop('subclass')\n",
        "# tmp1 = test_df_1.pop('subclass')"
      ]
    },
    {
      "cell_type": "code",
      "execution_count": null,
      "metadata": {
        "id": "PmNjt-CIS7g-"
      },
      "outputs": [],
      "source": [
        "# #Normalizing training set\n",
        "# train_df = normalize(X_train,X_train.columns)\n",
        "# train_df"
      ]
    },
    {
      "cell_type": "code",
      "execution_count": null,
      "metadata": {
        "id": "kb_6391Bn2Kt"
      },
      "outputs": [],
      "source": [
        "# #Normalizing testing set\n",
        "# test_df_2 = normalize(test_df_1,test_df_1.columns)\n",
        "# test_df_2"
      ]
    },
    {
      "cell_type": "code",
      "execution_count": null,
      "metadata": {
        "id": "_68y_g-uS7XG"
      },
      "outputs": [],
      "source": [
        "# #Fixing labels for training set\n",
        "# classlist_train = []\n",
        "# check1_train = (\"apache2\",\"back\",\"land\",\"neptune\",\"mailbomb\",\"pod\",\"processtable\",\"smurf\",\"teardrop\",\"udpstorm\",\"worm\")\n",
        "# check2_train = (\"ipsweep\",\"mscan\",\"nmap\",\"portsweep\",\"saint\",\"satan\")\n",
        "# check3_train = (\"buffer_overflow\",\"loadmodule\",\"perl\",\"ps\",\"rootkit\",\"sqlattack\",\"xterm\")\n",
        "# check4_train = (\"ftp_write\",\"guess_passwd\",\"httptunnel\",\"imap\",\"multihop\",\"named\",\"phf\",\"sendmail\",\"Snmpgetattack\",\"spy\",\"snmpguess\",\"warezclient\",\"warezmaster\",\"xlock\",\"xsnoop\")\n",
        "\n",
        "# DoSCount_train=0\n",
        "# ProbeCount_train=0\n",
        "# U2RCount_train=0\n",
        "# R2LCount_train=0\n",
        "# NormalCount_train=0\n",
        "\n",
        "# for item in tmp:\n",
        "#     if item in check1_train:\n",
        "#         classlist_train.append(\"DoS\")\n",
        "#         DoSCount_train=DoSCount_train+1\n",
        "#     elif item in check2_train:\n",
        "#         classlist_train.append(\"Probe\")\n",
        "#         ProbeCount_train=ProbeCount_train+1\n",
        "#     elif item in check3_train:\n",
        "#         classlist_train.append(\"U2R\")\n",
        "#         U2RCount_train=U2RCount_train+1\n",
        "#     elif item in check4_train:\n",
        "#         classlist_train.append(\"R2L\")\n",
        "#         R2LCount_train=R2LCount_train+1\n",
        "#     else:\n",
        "#         classlist_train.append(\"Normal\")\n",
        "#         NormalCount_train=NormalCount_train+1   "
      ]
    },
    {
      "cell_type": "code",
      "execution_count": null,
      "metadata": {
        "id": "66In47Zzk-FN"
      },
      "outputs": [],
      "source": [
        "# print(DoSCount_train)\n",
        "# print( NormalCount_train)\n",
        "# print(ProbeCount_train)\n",
        "# print(R2LCount_train)\n",
        "# print(U2RCount_train)"
      ]
    },
    {
      "cell_type": "code",
      "execution_count": null,
      "metadata": {
        "id": "xpXvOFJ4o305"
      },
      "outputs": [],
      "source": [
        "# #Fixing labels for testing set\n",
        "# classlist_test = []\n",
        "# check1_test = (\"apache2\",\"back\",\"land\",\"neptune\",\"mailbomb\",\"pod\",\"processtable\",\"smurf\",\"teardrop\",\"udpstorm\",\"worm\")\n",
        "# check2_test = (\"ipsweep\",\"mscan\",\"nmap\",\"portsweep\",\"saint\",\"satan\")\n",
        "# check3_test = (\"buffer_overflow\",\"loadmodule\",\"perl\",\"ps\",\"rootkit\",\"sqlattack\",\"xterm\")\n",
        "# check4_test = (\"ftp_write\",\"guess_passwd\",\"httptunnel\",\"imap\",\"multihop\",\"named\",\"phf\",\"sendmail\",\"Snmpgetattack\",\"spy\",\"snmpguess\",\"warezclient\",\"warezmaster\",\"xlock\",\"xsnoop\")\n",
        "\n",
        "# DoSCount_test=0\n",
        "# ProbeCount_test=0\n",
        "# U2RCount_test=0\n",
        "# R2LCount_test=0\n",
        "# NormalCount_test=0\n",
        "\n",
        "# for item in tmp1:\n",
        "#     if item in check1_test:\n",
        "#         classlist_test.append(\"DoS\")\n",
        "#         DoSCount_test=DoSCount_test+1\n",
        "#     elif item in check2_test:\n",
        "#         classlist_test.append(\"Probe\")\n",
        "#         ProbeCount_test=ProbeCount_test+1\n",
        "#     elif item in check3_test:\n",
        "#         classlist_test.append(\"U2R\")\n",
        "#         U2RCount_test=U2RCount_test+1\n",
        "#     elif item in check4_test:\n",
        "#         classlist_test.append(\"R2L\")\n",
        "#         R2LCount_test=R2LCount_test+1\n",
        "#     else:\n",
        "#         classlist_test.append(\"Normal\")\n",
        "#         NormalCount_test=NormalCount_test+1   "
      ]
    },
    {
      "cell_type": "code",
      "execution_count": null,
      "metadata": {
        "id": "Cnf6pNN9edSC"
      },
      "outputs": [],
      "source": [
        "# print(DoSCount_test)\n",
        "# print( NormalCount_test)\n",
        "# print(ProbeCount_test)\n",
        "# print(R2LCount_test)\n",
        "# print(U2RCount_test)"
      ]
    },
    {
      "cell_type": "code",
      "execution_count": null,
      "metadata": {
        "id": "KOj07gcKS7KD"
      },
      "outputs": [],
      "source": [
        "#Appending class column to training set\n",
        "# train_df_2[\"Class\"] = classlist_train\n",
        "# train_df_2"
      ]
    },
    {
      "cell_type": "code",
      "execution_count": null,
      "metadata": {
        "id": "gC73lZ6Spdxa"
      },
      "outputs": [],
      "source": [
        "# #Appending class column to testing set\n",
        "# test_df_2[\"Class\"] = classlist_test\n",
        "# test_df_2"
      ]
    },
    {
      "cell_type": "code",
      "execution_count": null,
      "metadata": {
        "id": "w5-y2zg0S7BP"
      },
      "outputs": [],
      "source": [
        "# y_train = train_df_2['Class']\n",
        "# y_test = test_df_2['Class']"
      ]
    },
    {
      "cell_type": "code",
      "execution_count": null,
      "metadata": {
        "id": "ags-N-7AS68g"
      },
      "outputs": [],
      "source": [
        "# X_train = train_df_2.drop('Class', 1)\n",
        "# X_test = test_df_2.drop('Class', 1)\n",
        "# X_train"
      ]
    },
    {
      "cell_type": "code",
      "execution_count": null,
      "metadata": {
        "id": "JkwGyA3ZS64L"
      },
      "outputs": [],
      "source": [
        "cnn_lstm = Sequential()\n",
        "cnn_lstm.add(Convolution1D(64, 3, padding=\"same\",activation=\"relu\", input_shape=(12, 1)))\n",
        "cnn_lstm.add(Convolution1D(64, 3, padding=\"same\", activation=\"relu\"))\n",
        "cnn_lstm.add(MaxPooling1D(pool_size=2))\n",
        "cnn_lstm.add(Convolution1D(128, 3, padding=\"same\", activation=\"relu\"))\n",
        "cnn_lstm.add(Convolution1D(128, 3, padding=\"same\", activation=\"relu\"))\n",
        "cnn_lstm.add(MaxPooling1D(pool_size=2))\n",
        "cnn_lstm.add(LSTM(64, return_sequences=True))  \n",
        "cnn_lstm.add(Dropout(0.1))\n",
        "cnn_lstm.add(LSTM(64, return_sequences=False))\n",
        "cnn_lstm.add(Dropout(0.1))\n",
        "cnn_lstm.add(Dense(48, activation='relu'))\n",
        "cnn_lstm.add(Dropout(0.1))\n",
        "cnn_lstm.add(Dense(48, activation='relu'))\n",
        "cnn_lstm.add(Dropout(0.1))\n",
        "cnn_lstm.add(Dense(5, activation='softmax'))"
      ]
    },
    {
      "cell_type": "code",
      "execution_count": null,
      "metadata": {
        "id": "HjscoE-ES6z6"
      },
      "outputs": [],
      "source": [
        "# define optimizer and objective, compile cnn_lstm\n",
        "cnn_lstm.compile(loss=\"categorical_crossentropy\", optimizer=\"adam\",metrics=['accuracy'])\n",
        "# cnn_lstm.compile(loss=\"sparse_categorical_crossentropy\", optimizer=\"adam\", metrics=['accuracy'])"
      ]
    },
    {
      "cell_type": "code",
      "execution_count": null,
      "metadata": {
        "colab": {
          "base_uri": "https://localhost:8080/"
        },
        "id": "f3IsvTQMS6vd",
        "outputId": "fc6cb6c2-8787-4d41-cdfb-0184d93a8f78"
      },
      "outputs": [
        {
          "name": "stdout",
          "output_type": "stream",
          "text": [
            "Model: \"sequential_3\"\n",
            "_________________________________________________________________\n",
            " Layer (type)                Output Shape              Param #   \n",
            "=================================================================\n",
            " conv1d_12 (Conv1D)          (None, 12, 64)            256       \n",
            "                                                                 \n",
            " conv1d_13 (Conv1D)          (None, 12, 64)            12352     \n",
            "                                                                 \n",
            " max_pooling1d_6 (MaxPooling  (None, 6, 64)            0         \n",
            " 1D)                                                             \n",
            "                                                                 \n",
            " conv1d_14 (Conv1D)          (None, 6, 128)            24704     \n",
            "                                                                 \n",
            " conv1d_15 (Conv1D)          (None, 6, 128)            49280     \n",
            "                                                                 \n",
            " max_pooling1d_7 (MaxPooling  (None, 3, 128)           0         \n",
            " 1D)                                                             \n",
            "                                                                 \n",
            " lstm_6 (LSTM)               (None, 3, 64)             49408     \n",
            "                                                                 \n",
            " dropout_12 (Dropout)        (None, 3, 64)             0         \n",
            "                                                                 \n",
            " lstm_7 (LSTM)               (None, 64)                33024     \n",
            "                                                                 \n",
            " dropout_13 (Dropout)        (None, 64)                0         \n",
            "                                                                 \n",
            " dense_9 (Dense)             (None, 48)                3120      \n",
            "                                                                 \n",
            " dropout_14 (Dropout)        (None, 48)                0         \n",
            "                                                                 \n",
            " dense_10 (Dense)            (None, 48)                2352      \n",
            "                                                                 \n",
            " dropout_15 (Dropout)        (None, 48)                0         \n",
            "                                                                 \n",
            " dense_11 (Dense)            (None, 5)                 245       \n",
            "                                                                 \n",
            "=================================================================\n",
            "Total params: 174,741\n",
            "Trainable params: 174,741\n",
            "Non-trainable params: 0\n",
            "_________________________________________________________________\n"
          ]
        }
      ],
      "source": [
        "cnn_lstm.summary()"
      ]
    },
    {
      "cell_type": "code",
      "execution_count": null,
      "metadata": {
        "colab": {
          "base_uri": "https://localhost:8080/",
          "height": 1000
        },
        "id": "r1XENtCX2JFW",
        "outputId": "0d59b6db-6f4b-4c6d-9ce4-57537340a28e"
      },
      "outputs": [
        {
          "data": {
            "image/png": "[encoded data removed]",
            "text/plain": [
              "<IPython.core.display.Image object>"
            ]
          },
          "execution_count": 200,
          "metadata": {},
          "output_type": "execute_result"
        }
      ],
      "source": [
        "# representation of model layers\n",
        "from tensorflow.keras.utils import plot_model\n",
        "plot_model(cnn_lstm, show_shapes=True, to_file='model_cnn_lstm.png')"
      ]
    },
    {
      "cell_type": "code",
      "execution_count": null,
      "metadata": {
        "id": "4tsGIUCQS6rI"
      },
      "outputs": [],
      "source": [
        "# #Split data: 80% training and 20% testing \n",
        "# train_X, test_X, train_y, test_y = train_test_split(X_train, y_train, test_size = 0.2, random_state = 101)"
      ]
    },
    {
      "cell_type": "code",
      "execution_count": null,
      "metadata": {
        "id": "1OjIzgGIqXca"
      },
      "outputs": [],
      "source": [
        "X_train.drop(columns=['label'],inplace = True)"
      ]
    },
    {
      "cell_type": "code",
      "execution_count": null,
      "metadata": {
        "id": "LUFBzeDDqowK"
      },
      "outputs": [],
      "source": [
        "X_test.drop(columns=['label'],inplace = True)"
      ]
    },
    {
      "cell_type": "code",
      "execution_count": null,
      "metadata": {
        "id": "ORobB7Ko7ikW"
      },
      "outputs": [],
      "source": [
        "from sklearn.preprocessing import LabelEncoder, MinMaxScaler\n",
        "X_train = MinMaxScaler().fit_transform(X_train)\n",
        "X_test = MinMaxScaler().fit_transform(X_test)"
      ]
    },
    {
      "cell_type": "code",
      "execution_count": null,
      "metadata": {
        "id": "0IDWviOe6FDY"
      },
      "outputs": [],
      "source": [
        "# x_columns_train = X_train.columns.value\n",
        "# x_train_array = X_train[x_columns_train].values\n",
        "x_train_1=np.reshape(X_train, (X_train.shape[0], X_train.shape[1], 1))\n",
        "    \n",
        "dummies = pd.get_dummies(y_train) # Classification\n",
        "outcomes = dummies.columns\n",
        "num_classes = len(outcomes)\n",
        "y_train_1 = dummies.values\n",
        "    \n",
        "# x_columns_test = X_test.columns.drop()\n",
        "# x_test_array = X_test[x_columns_test].values\n",
        "x_test_1=np.reshape(X_test, (X_test.shape[0], X_test.shape[1], 1))\n",
        "    \n",
        "dummies_test = pd.get_dummies(y_test) # Classification\n",
        "outcomes_test = dummies_test.columns\n",
        "num_classes = len(outcomes_test)\n",
        "y_test_1 = dummies_test.values  "
      ]
    },
    {
      "cell_type": "code",
      "execution_count": null,
      "metadata": {
        "colab": {
          "background_save": true,
          "base_uri": "https://localhost:8080/"
        },
        "id": "Kqe_0r03S6c8",
        "outputId": "b5036f4f-1f2f-4eb2-a5af-b023562cd175"
      },
      "outputs": [
        {
          "name": "stdout",
          "output_type": "stream",
          "text": [
            "Epoch 1/10\n",
            "499/499 [==============================] - 123s 236ms/step - loss: 0.2339 - accuracy: 0.9404 - val_loss: 0.1024 - val_accuracy: 0.9661\n",
            "Epoch 2/10\n",
            "499/499 [==============================] - 108s 216ms/step - loss: 0.0995 - accuracy: 0.9659 - val_loss: 0.1179 - val_accuracy: 0.9664\n",
            "Epoch 3/10\n",
            "499/499 [==============================] - 108s 217ms/step - loss: 0.0952 - accuracy: 0.9667 - val_loss: 0.1197 - val_accuracy: 0.9700\n",
            "Epoch 4/10\n",
            "499/499 [==============================] - 118s 236ms/step - loss: 0.0858 - accuracy: 0.9722 - val_loss: 0.0969 - val_accuracy: 0.9732\n",
            "Epoch 5/10\n",
            "499/499 [==============================] - 109s 218ms/step - loss: 0.0802 - accuracy: 0.9745 - val_loss: 0.0961 - val_accuracy: 0.9731\n",
            "Epoch 6/10\n",
            "499/499 [==============================] - 109s 217ms/step - loss: 0.0747 - accuracy: 0.9769 - val_loss: 0.1081 - val_accuracy: 0.9726\n",
            "Epoch 7/10\n",
            "499/499 [==============================] - 114s 228ms/step - loss: 0.0701 - accuracy: 0.9782 - val_loss: 0.1174 - val_accuracy: 0.9732\n",
            "Epoch 8/10\n",
            "499/499 [==============================] - 110s 220ms/step - loss: 0.0675 - accuracy: 0.9788 - val_loss: 0.1238 - val_accuracy: 0.9733\n",
            "Epoch 9/10\n",
            "499/499 [==============================] - 106s 213ms/step - loss: 0.0679 - accuracy: 0.9780 - val_loss: 0.1311 - val_accuracy: 0.9733\n",
            "Epoch 10/10\n",
            "499/499 [==============================] - 107s 214ms/step - loss: 0.0649 - accuracy: 0.9792 - val_loss: 0.1330 - val_accuracy: 0.9734\n"
          ]
        }
      ],
      "source": [
        "history= cnn_lstm.fit(x_train_1, y_train_1,validation_data=(x_test_1,y_test_1), batch_size=1000, epochs=10) "
      ]
    },
    {
      "cell_type": "code",
      "execution_count": null,
      "metadata": {
        "colab": {
          "background_save": true
        },
        "id": "gDbTpUZD48dv",
        "outputId": "d0fed2cc-8963-4388-c77a-0c3219d32df2"
      },
      "outputs": [
        {
          "data": {
            "text/plain": [
              "<matplotlib.legend.Legend at 0x7f7eb3593ac0>"
            ]
          },
          "execution_count": 207,
          "metadata": {},
          "output_type": "execute_result"
        },
        {
          "data": {
            "image/png": "[encoded data removed]",
            "text/plain": [
              "<Figure size 1080x288 with 2 Axes>"
            ]
          },
          "metadata": {},
          "output_type": "display_data"
        }
      ],
      "source": [
        "    #use matplitlib to draw the plots of last epoch\n",
        "    plt.figure(figsize = (15, 4))\n",
        "    plt.subplot(1, 2, 1)\n",
        "    plt.plot(history.history['loss'], label = \"TRAINING LOSS\")\n",
        "    plt.plot(history.history['val_loss'], label = \"VALIDATION LOSS\")\n",
        "    plt.title(\"TRAINING LOSS vs VALIDATION LOSS\")\n",
        "    plt.xlabel(\"EPOCH'S\")\n",
        "    plt.ylabel(\"TRAINING LOSS vs VALIDATION LOSS\")\n",
        "    plt.legend(loc = \"best\")\n",
        "\n",
        "    plt.subplot(1, 2, 2)\n",
        "    plt.plot(history.history['accuracy'], label = \"TRAINING ACCURACY\")\n",
        "    plt.plot(history.history['val_accuracy'], label = \"VALIDATION ACCURACY\")\n",
        "    plt.title(\"TRAINING ACCURACY vs VALIDATION ACCURACY\")\n",
        "    plt.xlabel(\"EPOCH'S\")\n",
        "    plt.ylabel(\"TRAINING ACC vs VALIDATION ACCURACY\")\n",
        "    plt.legend(loc = \"best\")"
      ]
    },
    {
      "cell_type": "code",
      "execution_count": null,
      "metadata": {
        "colab": {
          "background_save": true
        },
        "id": "xZXHOy5KIInk",
        "outputId": "d437c5e5-06a3-48a1-ab83-59911a8490fb"
      },
      "outputs": [
        {
          "name": "stdout",
          "output_type": "stream",
          "text": [
            "3895/3895 [==============================] - 28s 7ms/step\n",
            "Validation score: 1.2742328925407627%\n"
          ]
        }
      ],
      "source": [
        "from sklearn.metrics import confusion_matrix, multilabel_confusion_matrix, ConfusionMatrixDisplay, classification_report, accuracy_score, recall_score, precision_score, f1_score, roc_curve, roc_auc_score, auc\n",
        "from sklearn import preprocessing\n",
        "le = preprocessing.LabelEncoder()\n",
        "\n",
        "pred1 = cnn_lstm.predict(x_test_1)\n",
        "pred2 = np.argmax(pred1,axis=1)\n",
        "pred = le.fit_transform(pred2)\n",
        "#pred = le.inverse_transform(pred)\n",
        "y_eval = np.argmax(y_test_1,axis=1)\n",
        "score = metrics.accuracy_score(y_eval, pred)\n",
        "print(\"Validation score: {}%\".format(score*100)) "
      ]
    },
    {
      "cell_type": "code",
      "execution_count": null,
      "metadata": {
        "colab": {
          "background_save": true
        },
        "id": "EeTyEqjE437S",
        "outputId": "33ef3360-a2ce-4d7f-a3aa-733b1ec6a4c9"
      },
      "outputs": [
        {
          "name": "stdout",
          "output_type": "stream",
          "text": [
            "accuracy :  0.012742328925407626\n",
            "recall :  [0.00792079 0.         0.64279902 0.         0.        ]\n",
            "precision :  [7.27431440e-05 0.00000000e+00 1.15017835e-01 0.00000000e+00\n",
            " 0.00000000e+00]\n",
            "f1_score :  [1.44162327e-04 0.00000000e+00 1.95121951e-01 0.00000000e+00\n",
            " 0.00000000e+00]\n"
          ]
        },
        {
          "name": "stderr",
          "output_type": "stream",
          "text": [
            "/usr/local/lib/python3.8/dist-packages/sklearn/metrics/_classification.py:1318: UndefinedMetricWarning: Precision is ill-defined and being set to 0.0 in labels with no predicted samples. Use `zero_division` parameter to control this behavior.\n",
            "  _warn_prf(average, modifier, msg_start, len(result))\n"
          ]
        }
      ],
      "source": [
        "acc = accuracy_score(y_eval, pred)\n",
        "print(\"accuracy : \",acc)\n",
        "recall = recall_score(y_eval, pred, average=None)\n",
        "print(\"recall : \",recall)\n",
        "precision = precision_score(y_eval, pred, average=None)\n",
        "print(\"precision : \",precision)\n",
        "f1_scr = f1_score(y_eval, pred, average=None)\n",
        "print(\"f1_score : \",f1_scr)"
      ]
    },
    {
      "cell_type": "code",
      "execution_count": null,
      "metadata": {
        "colab": {
          "background_save": true
        },
        "id": "x-xAuhYyIHvr",
        "outputId": "f1920078-902c-4879-fe4c-7f5df528aa53"
      },
      "outputs": [
        {
          "name": "stdout",
          "output_type": "stream",
          "text": [
            "####   0:Dos  1:normal  2:Probe  3:R2L  4:U2L  ###\n",
            "\n",
            "\n"
          ]
        },
        {
          "name": "stderr",
          "output_type": "stream",
          "text": [
            "/usr/local/lib/python3.8/dist-packages/sklearn/metrics/_classification.py:1318: UndefinedMetricWarning: Recall and F-score are ill-defined and being set to 0.0 in labels with no true samples. Use `zero_division` parameter to control this behavior.\n",
            "  _warn_prf(average, modifier, msg_start, len(result))\n",
            "/usr/local/lib/python3.8/dist-packages/sklearn/metrics/_classification.py:1318: UndefinedMetricWarning: Recall and F-score are ill-defined and being set to 0.0 in labels with no true samples. Use `zero_division` parameter to control this behavior.\n",
            "  _warn_prf(average, modifier, msg_start, len(result))\n"
          ]
        },
        {
          "name": "stdout",
          "output_type": "stream",
          "text": [
            "              precision    recall  f1-score   support\n",
            "\n",
            "           0       0.01      0.00      0.00    109976\n",
            "           1       0.00      0.00      0.00       911\n",
            "           2       0.64      0.12      0.20     13737\n",
            "           3       0.00      0.00      0.00         0\n",
            "           4       0.00      0.00      0.00         0\n",
            "\n",
            "    accuracy                           0.01    124624\n",
            "   macro avg       0.13      0.02      0.04    124624\n",
            "weighted avg       0.08      0.01      0.02    124624\n",
            "\n"
          ]
        },
        {
          "name": "stderr",
          "output_type": "stream",
          "text": [
            "/usr/local/lib/python3.8/dist-packages/sklearn/metrics/_classification.py:1318: UndefinedMetricWarning: Recall and F-score are ill-defined and being set to 0.0 in labels with no true samples. Use `zero_division` parameter to control this behavior.\n",
            "  _warn_prf(average, modifier, msg_start, len(result))\n"
          ]
        }
      ],
      "source": [
        "# 0:Dos  1:normal  2:Probe  3:R2L  4:U2L          \n",
        "print(\"####   0:Dos  1:normal  2:Probe  3:R2L  4:U2L  ###\\n\\n\")\n",
        "print(classification_report(pred, y_eval))"
      ]
    },
    {
      "cell_type": "code",
      "execution_count": null,
      "metadata": {
        "colab": {
          "background_save": true
        },
        "id": "RYY3uy3bTJD6",
        "outputId": "79a6e929-41f4-4742-b348-e4f689505ced"
      },
      "outputs": [
        {
          "name": "stdout",
          "output_type": "stream",
          "text": [
            "[[     0      8     14      0    988]\n",
            " [     0 109891      0      0    252]\n",
            " [     0      0    878      0   1580]\n",
            " [     0      5      0      0    382]\n",
            " [     0     72     19      0  10535]] \n",
            "\n"
          ]
        },
        {
          "data": {
            "image/png": "[encoded data removed]",
            "text/plain": [
              "<Figure size 576x576 with 2 Axes>"
            ]
          },
          "metadata": {},
          "output_type": "display_data"
        }
      ],
      "source": [
        "#confusion matrix \n",
        "#import seaborn as sns\n",
        "#%matplotlib inline\n",
        "\n",
        "cm = confusion_matrix(y_eval, pred2)\n",
        "print(cm,'\\n')\n",
        "fig, ax = plt.subplots(figsize=(8, 8))\n",
        "ConfusionMatrixDisplay(confusion_matrix=cm, display_labels=le.classes_).plot(ax=ax)\n",
        "plt.title('  0:Dos  1:normal  2:Probe  3:R2L  4:U2L \\n\\n Confusion Marix of proposed CNN-LSTM model')\n",
        "plt.show()"
      ]
    },
    {
      "cell_type": "code",
      "execution_count": null,
      "metadata": {
        "colab": {
          "background_save": true
        },
        "id": "j7_f75roTI-9",
        "outputId": "7d52fd8b-dc1e-4e3a-afa9-580e991d2fbf"
      },
      "outputs": [
        {
          "name": "stdout",
          "output_type": "stream",
          "text": [
            "n_classes: 3\n"
          ]
        },
        {
          "data": {
            "image/png": "[encoded data removed]",
            "text/plain": [
              "<Figure size 576x576 with 1 Axes>"
            ]
          },
          "metadata": {},
          "output_type": "display_data"
        }
      ],
      "source": [
        "# ROC curve：\n",
        "\n",
        "from tensorflow.keras.utils import to_categorical\n",
        "from sklearn.metrics import roc_curve, auc\n",
        "from sklearn.metrics import roc_auc_score\n",
        "from itertools import cycle\n",
        "def RoC_Curve(y_score, y, labels, title): \n",
        "    y_cat = to_categorical(y)\n",
        "\n",
        "        \n",
        "    # Compute ROC curve and ROC area for each class\n",
        "    fpr = dict()\n",
        "    tpr = dict()\n",
        "    roc_auc = dict()\n",
        "    lw = 2\n",
        "    # First aggregate all false positive rates\n",
        "    n_classes = len(labels)\n",
        "    print('n_classes:', n_classes)\n",
        "\n",
        "    for i in range(n_classes):\n",
        "        fpr[i], tpr[i], _ = roc_curve(y_cat[:, i], y_score[:, i])\n",
        "        roc_auc[i] = auc(fpr[i], tpr[i])\n",
        "\n",
        "        \n",
        "        \n",
        "        \n",
        "    # Compute micro-average ROC curve and ROC area\n",
        "    fpr[\"micro\"], tpr[\"micro\"], _ = roc_curve(y_cat.ravel(), y_score.ravel())\n",
        "    roc_auc[\"micro\"] = auc(fpr[\"micro\"], tpr[\"micro\"])\n",
        "\n",
        "    # First aggregate all false positive rates\n",
        "    all_fpr = np.unique(np.concatenate([fpr[i] for i in range(n_classes)]))\n",
        "\n",
        "    # Then interpolate all ROC curves at this points\n",
        "    mean_tpr = np.zeros_like(all_fpr)\n",
        "    for i in range(n_classes):\n",
        "        mean_tpr += np.interp(all_fpr, fpr[i], tpr[i])\n",
        "\n",
        "        \n",
        "        \n",
        "        \n",
        "    # Finally average it and compute AUC\n",
        "    mean_tpr /= n_classes\n",
        "\n",
        "    fpr[\"macro\"] = all_fpr\n",
        "    tpr[\"macro\"] = mean_tpr\n",
        "    roc_auc[\"macro\"] = auc(fpr[\"macro\"], tpr[\"macro\"])\n",
        "\n",
        "    # Plot all ROC curves\n",
        "    plt.figure(figsize=(8,8))\n",
        "    plt.plot(fpr[\"micro\"], tpr[\"micro\"],\n",
        "             label='micro-average ROC curve (area = {0:0.4f})'\n",
        "                   ''.format(roc_auc[\"micro\"]),\n",
        "             color='deeppink', linestyle=':', linewidth=4)\n",
        "\n",
        "    plt.plot(fpr[\"macro\"], tpr[\"macro\"],\n",
        "             label='macro-average ROC curve (area = {0:0.4f})'\n",
        "                   ''.format(roc_auc[\"macro\"]),\n",
        "             color='navy', linestyle=':', linewidth=4)\n",
        "\n",
        "    colors = cycle(['aqua', 'darkorange', 'cornflowerblue'])\n",
        "    for i, color in zip(range(n_classes), colors):\n",
        "        plt.plot(fpr[i], tpr[i], color=color, lw=lw,\n",
        "                 label=f'ROC curve of class {labels[i]} (area = {roc_auc[i]:0.4f})')\n",
        "\n",
        "    plt.plot([0, 1], [0, 1], 'k--', lw=lw)\n",
        "    plt.xlim([0.0, 1.0])\n",
        "    plt.ylim([0.0, 1.05])\n",
        "    plt.xlabel('False Positive Rate')\n",
        "    plt.ylabel('True Positive Rate')\n",
        "    plt.title(title, fontsize=16)\n",
        "    plt.legend(loc=\"lower right\")\n",
        "    plt.show()\n",
        "\n",
        "#y_true_2= le.transform(np.argmax(y_test_1,axis=1))\n",
        "RoC_Curve(pred1, y_eval, le.classes_, title=' 0:Dos  1:normal  2:Probe  3:R2L  4:U2L \\n\\n ROC for CNN-LSTM')"
      ]
    },
    {
      "cell_type": "code",
      "execution_count": null,
      "metadata": {
        "colab": {
          "background_save": true
        },
        "id": "srKmAFKpS5zK",
        "outputId": "eebc190f-a4b2-4462-e90c-a3ca52f1da7e"
      },
      "outputs": [
        {
          "name": "stdout",
          "output_type": "stream",
          "text": [
            "TP =  [     0. 109891.    878.      0.  10535.]\n",
            "TN =  [123614.  14396. 122133. 124237. 110796.]\n",
            "FP =  [   0.   85.   33.    0. 3202.]\n",
            "FN =  [1010.  252. 1580.  387.   91.]\n",
            "\n",
            "\n",
            "TPR =  [0.         0.99771207 0.35720098 0.         0.9914361 ]   True positive rate, Sensitivity, hit rate, or recall\n",
            "FPR =  [0.         0.00586976 0.00027012 0.         0.02808821]   False positive rate or fall out\n",
            "TNR =  [1.         0.99413024 0.99972988 1.         0.97191179]   True negative rate or specificity\n",
            "FNR =  [1.         0.00228793 0.64279902 1.         0.0085639 ]   False negative rate\n",
            "\n",
            "\n",
            "PPV =  [       nan 0.9992271  0.96377607        nan 0.76690689]   Positive predictive value or precision\n",
            "NPV =  [0.99189562 0.98279629 0.9872285  0.99689466 0.99917934]   Negative predictive value\n",
            "FDR =  [       nan 0.0007729  0.03622393        nan 0.23309311]   False discovery rate\n",
            "\n",
            "\n"
          ]
        },
        {
          "name": "stderr",
          "output_type": "stream",
          "text": [
            "<ipython-input-213-d5cf7f2f8504>:32: RuntimeWarning: invalid value encountered in true_divide\n",
            "  PPV = TP/(TP+FP)\n",
            "<ipython-input-213-d5cf7f2f8504>:38: RuntimeWarning: invalid value encountered in true_divide\n",
            "  FDR = FP/(TP+FP)\n"
          ]
        }
      ],
      "source": [
        "FP = cm.sum(axis=0) - np.diag(cm)  \n",
        "FN = cm.sum(axis=1) - np.diag(cm)\n",
        "TP = np.diag(cm)\n",
        "TN = cm.sum() - (FP + FN + TP)\n",
        "\n",
        "FP = FP.astype(float)\n",
        "FN = FN.astype(float)\n",
        "TP = TP.astype(float)\n",
        "TN = TN.astype(float)\n",
        "\n",
        "print(\"TP = \", TP)\n",
        "print(\"TN = \", TN)\n",
        "print(\"FP = \", FP)\n",
        "print(\"FN = \", FN)\n",
        "print(\"\\n\")\n",
        "\n",
        "# Sensitivity, hit rate, recall, or true positive rate\n",
        "TPR = TP/(TP+FN)\n",
        "print(\"TPR = \", TPR , \"  True positive rate, Sensitivity, hit rate, or recall\")\n",
        "# Fall out or false positive rate\n",
        "FPR = FP/(FP+TN)\n",
        "print(\"FPR = \", FPR, \"  False positive rate or fall out\")\n",
        "# Specificity or true negative rate\n",
        "TNR = TN/(TN+FP)\n",
        "print(\"TNR = \", TNR, \"  True negative rate or specificity\")\n",
        "# False negative rate\n",
        "FNR = FN/(TP+FN)\n",
        "print(\"FNR = \", FNR, \"  False negative rate\")\n",
        "print(\"\\n\")\n",
        "\n",
        "# Precision or positive predictive value\n",
        "PPV = TP/(TP+FP)\n",
        "print(\"PPV = \", PPV, \"  Positive predictive value or precision\")\n",
        "# Negative predictive value\n",
        "NPV = TN/(TN+FN)\n",
        "print(\"NPV = \", NPV, \"  Negative predictive value\")\n",
        "# False discovery rate\n",
        "FDR = FP/(TP+FP)\n",
        "print(\"FDR = \", FDR, \"  False discovery rate\")\n",
        "print(\"\\n\")\n",
        "\n",
        "# Overall accuracy\n",
        "#ACC = (TP+TN)/(TP+FP+FN+TN)\n",
        "#print(\"ACC = \", ACC)"
      ]
    },
    {
      "cell_type": "code",
      "execution_count": null,
      "metadata": {
        "colab": {
          "background_save": true
        },
        "id": "oZCWRHmfB2FZ"
      },
      "outputs": [],
      "source": []
    }
  ],
  "metadata": {
    "colab": {
      "provenance": []
    },
    "kernelspec": {
      "display_name": "Python 3",
      "name": "python3"
    },
    "language_info": {
      "name": "python"
    }
  },
  "nbformat": 4,
  "nbformat_minor": 0
}