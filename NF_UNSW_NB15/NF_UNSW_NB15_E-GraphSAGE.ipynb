{
  "cells": [
    {
      "cell_type": "code",
      "source": [
        "from google.colab import drive\n",
        "drive.mount('/content/drive')"
      ],
      "metadata": {
        "id": "2nd6vaOIXGQ6",
        "colab": {
          "base_uri": "https://localhost:8080/"
        },
        "outputId": "c7c7f2a2-b3fc-48f7-cc3e-c3288b2811b8"
      },
      "execution_count": null,
      "outputs": [
        {
          "output_type": "stream",
          "name": "stdout",
          "text": [
            "Mounted at /content/drive\n"
          ]
        }
      ]
    },
    {
      "cell_type": "code",
      "source": [
        "!pip install dgl\n",
        "!pip install category_encoders\n",
        "!pip install dgl-cu116 dglgo -f https://data.dgl.ai/wheels/repo.html"
      ],
      "metadata": {
        "id": "2bcU5r1_XF6U",
        "colab": {
          "base_uri": "https://localhost:8080/",
          "height": 1000
        },
        "outputId": "36112c62-0270-49c5-cb09-1ee732dc69ee"
      },
      "execution_count": null,
      "outputs": [
        {
          "output_type": "stream",
          "name": "stdout",
          "text": [
            "Looking in indexes: https://pypi.org/simple, https://us-python.pkg.dev/colab-wheels/public/simple/\n",
            "Collecting dgl\n",
            "  Downloading dgl-0.9.1-cp37-cp37m-manylinux1_x86_64.whl (4.9 MB)\n",
            "\u001b[K     |████████████████████████████████| 4.9 MB 37.4 MB/s \n",
            "\u001b[?25hCollecting psutil>=5.8.0\n",
            "  Downloading psutil-5.9.4-cp36-abi3-manylinux_2_12_x86_64.manylinux2010_x86_64.manylinux_2_17_x86_64.manylinux2014_x86_64.whl (280 kB)\n",
            "\u001b[K     |████████████████████████████████| 280 kB 69.5 MB/s \n",
            "\u001b[?25hRequirement already satisfied: networkx>=2.1 in /usr/local/lib/python3.7/dist-packages (from dgl) (2.6.3)\n",
            "Requirement already satisfied: scipy>=1.1.0 in /usr/local/lib/python3.7/dist-packages (from dgl) (1.7.3)\n",
            "Requirement already satisfied: tqdm in /usr/local/lib/python3.7/dist-packages (from dgl) (4.64.1)\n",
            "Requirement already satisfied: requests>=2.19.0 in /usr/local/lib/python3.7/dist-packages (from dgl) (2.23.0)\n",
            "Requirement already satisfied: numpy>=1.14.0 in /usr/local/lib/python3.7/dist-packages (from dgl) (1.21.6)\n",
            "Requirement already satisfied: chardet<4,>=3.0.2 in /usr/local/lib/python3.7/dist-packages (from requests>=2.19.0->dgl) (3.0.4)\n",
            "Requirement already satisfied: urllib3!=1.25.0,!=1.25.1,<1.26,>=1.21.1 in /usr/local/lib/python3.7/dist-packages (from requests>=2.19.0->dgl) (1.24.3)\n",
            "Requirement already satisfied: idna<3,>=2.5 in /usr/local/lib/python3.7/dist-packages (from requests>=2.19.0->dgl) (2.10)\n",
            "Requirement already satisfied: certifi>=2017.4.17 in /usr/local/lib/python3.7/dist-packages (from requests>=2.19.0->dgl) (2022.9.24)\n",
            "Installing collected packages: psutil, dgl\n",
            "  Attempting uninstall: psutil\n",
            "    Found existing installation: psutil 5.4.8\n",
            "    Uninstalling psutil-5.4.8:\n",
            "      Successfully uninstalled psutil-5.4.8\n",
            "Successfully installed dgl-0.9.1 psutil-5.9.4\n"
          ]
        },
        {
          "output_type": "display_data",
          "data": {
            "application/vnd.colab-display-data+json": {
              "pip_warning": {
                "packages": [
                  "psutil"
                ]
              }
            }
          },
          "metadata": {}
        },
        {
          "output_type": "stream",
          "name": "stdout",
          "text": [
            "Looking in indexes: https://pypi.org/simple, https://us-python.pkg.dev/colab-wheels/public/simple/\n",
            "Collecting category_encoders\n",
            "  Downloading category_encoders-2.5.1.post0-py2.py3-none-any.whl (72 kB)\n",
            "\u001b[K     |████████████████████████████████| 72 kB 895 kB/s \n",
            "\u001b[?25hRequirement already satisfied: patsy>=0.5.1 in /usr/local/lib/python3.7/dist-packages (from category_encoders) (0.5.3)\n",
            "Requirement already satisfied: pandas>=1.0.5 in /usr/local/lib/python3.7/dist-packages (from category_encoders) (1.3.5)\n",
            "Requirement already satisfied: scikit-learn>=0.20.0 in /usr/local/lib/python3.7/dist-packages (from category_encoders) (1.0.2)\n",
            "Requirement already satisfied: statsmodels>=0.9.0 in /usr/local/lib/python3.7/dist-packages (from category_encoders) (0.12.2)\n",
            "Requirement already satisfied: numpy>=1.14.0 in /usr/local/lib/python3.7/dist-packages (from category_encoders) (1.21.6)\n",
            "Requirement already satisfied: scipy>=1.0.0 in /usr/local/lib/python3.7/dist-packages (from category_encoders) (1.7.3)\n",
            "Requirement already satisfied: pytz>=2017.3 in /usr/local/lib/python3.7/dist-packages (from pandas>=1.0.5->category_encoders) (2022.6)\n",
            "Requirement already satisfied: python-dateutil>=2.7.3 in /usr/local/lib/python3.7/dist-packages (from pandas>=1.0.5->category_encoders) (2.8.2)\n",
            "Requirement already satisfied: six in /usr/local/lib/python3.7/dist-packages (from patsy>=0.5.1->category_encoders) (1.15.0)\n",
            "Requirement already satisfied: joblib>=0.11 in /usr/local/lib/python3.7/dist-packages (from scikit-learn>=0.20.0->category_encoders) (1.2.0)\n",
            "Requirement already satisfied: threadpoolctl>=2.0.0 in /usr/local/lib/python3.7/dist-packages (from scikit-learn>=0.20.0->category_encoders) (3.1.0)\n",
            "Installing collected packages: category-encoders\n",
            "Successfully installed category-encoders-2.5.1.post0\n",
            "Looking in indexes: https://pypi.org/simple, https://us-python.pkg.dev/colab-wheels/public/simple/\n",
            "Looking in links: https://data.dgl.ai/wheels/repo.html\n",
            "Collecting dgl-cu116\n",
            "  Downloading https://data.dgl.ai/wheels/dgl_cu116-0.9.1.post1-cp37-cp37m-manylinux1_x86_64.whl (246.3 MB)\n",
            "\u001b[K     |████████████████████████████████| 246.3 MB 36 kB/s \n",
            "\u001b[?25hCollecting dglgo\n",
            "  Downloading dglgo-0.0.2-py3-none-any.whl (63 kB)\n",
            "\u001b[K     |████████████████████████████████| 63 kB 2.6 MB/s \n",
            "\u001b[?25hRequirement already satisfied: networkx>=2.1 in /usr/local/lib/python3.7/dist-packages (from dgl-cu116) (2.6.3)\n",
            "Requirement already satisfied: scipy>=1.1.0 in /usr/local/lib/python3.7/dist-packages (from dgl-cu116) (1.7.3)\n",
            "Requirement already satisfied: requests>=2.19.0 in /usr/local/lib/python3.7/dist-packages (from dgl-cu116) (2.23.0)\n",
            "Requirement already satisfied: psutil>=5.8.0 in /usr/local/lib/python3.7/dist-packages (from dgl-cu116) (5.9.4)\n",
            "Requirement already satisfied: numpy>=1.14.0 in /usr/local/lib/python3.7/dist-packages (from dgl-cu116) (1.21.6)\n",
            "Requirement already satisfied: tqdm in /usr/local/lib/python3.7/dist-packages (from dgl-cu116) (4.64.1)\n",
            "Requirement already satisfied: certifi>=2017.4.17 in /usr/local/lib/python3.7/dist-packages (from requests>=2.19.0->dgl-cu116) (2022.9.24)\n",
            "Requirement already satisfied: urllib3!=1.25.0,!=1.25.1,<1.26,>=1.21.1 in /usr/local/lib/python3.7/dist-packages (from requests>=2.19.0->dgl-cu116) (1.24.3)\n",
            "Requirement already satisfied: idna<3,>=2.5 in /usr/local/lib/python3.7/dist-packages (from requests>=2.19.0->dgl-cu116) (2.10)\n",
            "Requirement already satisfied: chardet<4,>=3.0.2 in /usr/local/lib/python3.7/dist-packages (from requests>=2.19.0->dgl-cu116) (3.0.4)\n",
            "Collecting ogb>=1.3.3\n",
            "  Downloading ogb-1.3.5-py3-none-any.whl (78 kB)\n",
            "\u001b[K     |████████████████████████████████| 78 kB 9.7 MB/s \n",
            "\u001b[?25hCollecting isort>=5.10.1\n",
            "  Downloading isort-5.10.1-py3-none-any.whl (103 kB)\n",
            "\u001b[K     |████████████████████████████████| 103 kB 78.8 MB/s \n",
            "\u001b[?25hCollecting rdkit-pypi\n",
            "  Downloading rdkit_pypi-2022.9.2-cp37-cp37m-manylinux_2_17_x86_64.manylinux2014_x86_64.whl (29.1 MB)\n",
            "\u001b[K     |████████████████████████████████| 29.1 MB 1.3 MB/s \n",
            "\u001b[?25hCollecting ruamel.yaml>=0.17.20\n",
            "  Downloading ruamel.yaml-0.17.21-py3-none-any.whl (109 kB)\n",
            "\u001b[K     |████████████████████████████████| 109 kB 73.4 MB/s \n",
            "\u001b[?25hCollecting numpydoc>=1.1.0\n",
            "  Downloading numpydoc-1.5.0-py3-none-any.whl (52 kB)\n",
            "\u001b[K     |████████████████████████████████| 52 kB 1.4 MB/s \n",
            "\u001b[?25hRequirement already satisfied: scikit-learn>=0.20.0 in /usr/local/lib/python3.7/dist-packages (from dglgo) (1.0.2)\n",
            "Requirement already satisfied: PyYAML>=5.1 in /usr/local/lib/python3.7/dist-packages (from dglgo) (6.0)\n",
            "Requirement already satisfied: pydantic>=1.9.0 in /usr/local/lib/python3.7/dist-packages (from dglgo) (1.10.2)\n",
            "Collecting autopep8>=1.6.0\n",
            "  Downloading autopep8-2.0.0-py2.py3-none-any.whl (45 kB)\n",
            "\u001b[K     |████████████████████████████████| 45 kB 4.4 MB/s \n",
            "\u001b[?25hRequirement already satisfied: typer>=0.4.0 in /usr/local/lib/python3.7/dist-packages (from dglgo) (0.7.0)\n",
            "Requirement already satisfied: tomli in /usr/local/lib/python3.7/dist-packages (from autopep8>=1.6.0->dglgo) (2.0.1)\n",
            "Collecting pycodestyle>=2.9.1\n",
            "  Downloading pycodestyle-2.10.0-py2.py3-none-any.whl (41 kB)\n",
            "\u001b[K     |████████████████████████████████| 41 kB 265 kB/s \n",
            "\u001b[?25hRequirement already satisfied: Jinja2>=2.10 in /usr/local/lib/python3.7/dist-packages (from numpydoc>=1.1.0->dglgo) (2.11.3)\n",
            "Collecting sphinx>=4.2\n",
            "  Downloading sphinx-5.3.0-py3-none-any.whl (3.2 MB)\n",
            "\u001b[K     |████████████████████████████████| 3.2 MB 59.1 MB/s \n",
            "\u001b[?25hRequirement already satisfied: MarkupSafe>=0.23 in /usr/local/lib/python3.7/dist-packages (from Jinja2>=2.10->numpydoc>=1.1.0->dglgo) (2.0.1)\n",
            "Requirement already satisfied: torch>=1.6.0 in /usr/local/lib/python3.7/dist-packages (from ogb>=1.3.3->dglgo) (1.12.1+cu113)\n",
            "Collecting outdated>=0.2.0\n",
            "  Downloading outdated-0.2.2-py2.py3-none-any.whl (7.5 kB)\n",
            "Requirement already satisfied: six>=1.12.0 in /usr/local/lib/python3.7/dist-packages (from ogb>=1.3.3->dglgo) (1.15.0)\n",
            "Requirement already satisfied: pandas>=0.24.0 in /usr/local/lib/python3.7/dist-packages (from ogb>=1.3.3->dglgo) (1.3.5)\n",
            "Collecting littleutils\n",
            "  Downloading littleutils-0.2.2.tar.gz (6.6 kB)\n",
            "Requirement already satisfied: setuptools>=44 in /usr/local/lib/python3.7/dist-packages (from outdated>=0.2.0->ogb>=1.3.3->dglgo) (57.4.0)\n",
            "Requirement already satisfied: python-dateutil>=2.7.3 in /usr/local/lib/python3.7/dist-packages (from pandas>=0.24.0->ogb>=1.3.3->dglgo) (2.8.2)\n",
            "Requirement already satisfied: pytz>=2017.3 in /usr/local/lib/python3.7/dist-packages (from pandas>=0.24.0->ogb>=1.3.3->dglgo) (2022.6)\n",
            "Requirement already satisfied: typing-extensions>=4.1.0 in /usr/local/lib/python3.7/dist-packages (from pydantic>=1.9.0->dglgo) (4.1.1)\n",
            "Collecting ruamel.yaml.clib>=0.2.6\n",
            "  Downloading ruamel.yaml.clib-0.2.7-cp37-cp37m-manylinux_2_17_x86_64.manylinux2014_x86_64.manylinux_2_24_x86_64.whl (500 kB)\n",
            "\u001b[K     |████████████████████████████████| 500 kB 70.7 MB/s \n",
            "\u001b[?25hRequirement already satisfied: joblib>=0.11 in /usr/local/lib/python3.7/dist-packages (from scikit-learn>=0.20.0->dglgo) (1.2.0)\n",
            "Requirement already satisfied: threadpoolctl>=2.0.0 in /usr/local/lib/python3.7/dist-packages (from scikit-learn>=0.20.0->dglgo) (3.1.0)\n",
            "Collecting Pygments>=2.12\n",
            "  Downloading Pygments-2.13.0-py3-none-any.whl (1.1 MB)\n",
            "\u001b[K     |████████████████████████████████| 1.1 MB 64.8 MB/s \n",
            "\u001b[?25hCollecting sphinxcontrib-applehelp\n",
            "  Downloading sphinxcontrib_applehelp-1.0.2-py2.py3-none-any.whl (121 kB)\n",
            "\u001b[K     |████████████████████████████████| 121 kB 79.4 MB/s \n",
            "\u001b[?25hCollecting sphinxcontrib-jsmath\n",
            "  Downloading sphinxcontrib_jsmath-1.0.1-py2.py3-none-any.whl (5.1 kB)\n",
            "Collecting sphinxcontrib-devhelp\n",
            "  Downloading sphinxcontrib_devhelp-1.0.2-py2.py3-none-any.whl (84 kB)\n",
            "\u001b[K     |████████████████████████████████| 84 kB 2.7 MB/s \n",
            "\u001b[?25hRequirement already satisfied: packaging>=21.0 in /usr/local/lib/python3.7/dist-packages (from sphinx>=4.2->numpydoc>=1.1.0->dglgo) (21.3)\n",
            "Requirement already satisfied: docutils<0.20,>=0.14 in /usr/local/lib/python3.7/dist-packages (from sphinx>=4.2->numpydoc>=1.1.0->dglgo) (0.17.1)\n",
            "Requirement already satisfied: babel>=2.9 in /usr/local/lib/python3.7/dist-packages (from sphinx>=4.2->numpydoc>=1.1.0->dglgo) (2.11.0)\n",
            "Collecting sphinxcontrib-qthelp\n",
            "  Downloading sphinxcontrib_qthelp-1.0.3-py2.py3-none-any.whl (90 kB)\n",
            "\u001b[K     |████████████████████████████████| 90 kB 2.8 MB/s \n",
            "\u001b[?25hRequirement already satisfied: imagesize>=1.3 in /usr/local/lib/python3.7/dist-packages (from sphinx>=4.2->numpydoc>=1.1.0->dglgo) (1.4.1)\n",
            "Collecting Jinja2>=2.10\n",
            "  Downloading Jinja2-3.1.2-py3-none-any.whl (133 kB)\n",
            "\u001b[K     |████████████████████████████████| 133 kB 76.9 MB/s \n",
            "\u001b[?25hRequirement already satisfied: importlib-metadata>=4.8 in /usr/local/lib/python3.7/dist-packages (from sphinx>=4.2->numpydoc>=1.1.0->dglgo) (4.13.0)\n",
            "Requirement already satisfied: sphinxcontrib-serializinghtml>=1.1.5 in /usr/local/lib/python3.7/dist-packages (from sphinx>=4.2->numpydoc>=1.1.0->dglgo) (1.1.5)\n",
            "Requirement already satisfied: snowballstemmer>=2.0 in /usr/local/lib/python3.7/dist-packages (from sphinx>=4.2->numpydoc>=1.1.0->dglgo) (2.2.0)\n",
            "Requirement already satisfied: alabaster<0.8,>=0.7 in /usr/local/lib/python3.7/dist-packages (from sphinx>=4.2->numpydoc>=1.1.0->dglgo) (0.7.12)\n",
            "Collecting sphinxcontrib-htmlhelp>=2.0.0\n",
            "  Downloading sphinxcontrib_htmlhelp-2.0.0-py2.py3-none-any.whl (100 kB)\n",
            "\u001b[K     |████████████████████████████████| 100 kB 7.8 MB/s \n",
            "\u001b[?25hRequirement already satisfied: zipp>=0.5 in /usr/local/lib/python3.7/dist-packages (from importlib-metadata>=4.8->sphinx>=4.2->numpydoc>=1.1.0->dglgo) (3.10.0)\n",
            "Requirement already satisfied: pyparsing!=3.0.5,>=2.0.2 in /usr/local/lib/python3.7/dist-packages (from packaging>=21.0->sphinx>=4.2->numpydoc>=1.1.0->dglgo) (3.0.9)\n",
            "Requirement already satisfied: click<9.0.0,>=7.1.1 in /usr/local/lib/python3.7/dist-packages (from typer>=0.4.0->dglgo) (7.1.2)\n",
            "Requirement already satisfied: Pillow in /usr/local/lib/python3.7/dist-packages (from rdkit-pypi->dglgo) (7.1.2)\n",
            "Building wheels for collected packages: littleutils\n",
            "  Building wheel for littleutils (setup.py) ... \u001b[?25l\u001b[?25hdone\n",
            "  Created wheel for littleutils: filename=littleutils-0.2.2-py3-none-any.whl size=7047 sha256=9851f3a100c07c26561fa00d94c6367cd2cada1cc75ce94024effa436e51b7da\n",
            "  Stored in directory: /root/.cache/pip/wheels/d6/64/cd/32819b511a488e4993f2fab909a95330289c3f4e0f6ef4676d\n",
            "Successfully built littleutils\n",
            "Installing collected packages: sphinxcontrib-qthelp, sphinxcontrib-jsmath, sphinxcontrib-htmlhelp, sphinxcontrib-devhelp, sphinxcontrib-applehelp, Pygments, littleutils, Jinja2, sphinx, ruamel.yaml.clib, pycodestyle, outdated, ruamel.yaml, rdkit-pypi, ogb, numpydoc, isort, autopep8, dglgo, dgl-cu116\n",
            "  Attempting uninstall: Pygments\n",
            "    Found existing installation: Pygments 2.6.1\n",
            "    Uninstalling Pygments-2.6.1:\n",
            "      Successfully uninstalled Pygments-2.6.1\n",
            "  Attempting uninstall: Jinja2\n",
            "    Found existing installation: Jinja2 2.11.3\n",
            "    Uninstalling Jinja2-2.11.3:\n",
            "      Successfully uninstalled Jinja2-2.11.3\n",
            "  Attempting uninstall: sphinx\n",
            "    Found existing installation: Sphinx 1.8.6\n",
            "    Uninstalling Sphinx-1.8.6:\n",
            "      Successfully uninstalled Sphinx-1.8.6\n",
            "\u001b[31mERROR: pip's dependency resolver does not currently take into account all the packages that are installed. This behaviour is the source of the following dependency conflicts.\n",
            "ipython 7.9.0 requires jedi>=0.10, which is not installed.\n",
            "notebook 5.7.16 requires jinja2<=3.0.0, but you have jinja2 3.1.2 which is incompatible.\n",
            "flask 1.1.4 requires Jinja2<3.0,>=2.10.1, but you have jinja2 3.1.2 which is incompatible.\u001b[0m\n",
            "Successfully installed Jinja2-3.1.2 Pygments-2.13.0 autopep8-2.0.0 dgl-cu116-0.9.1.post1 dglgo-0.0.2 isort-5.10.1 littleutils-0.2.2 numpydoc-1.5.0 ogb-1.3.5 outdated-0.2.2 pycodestyle-2.10.0 rdkit-pypi-2022.9.2 ruamel.yaml-0.17.21 ruamel.yaml.clib-0.2.7 sphinx-5.3.0 sphinxcontrib-applehelp-1.0.2 sphinxcontrib-devhelp-1.0.2 sphinxcontrib-htmlhelp-2.0.0 sphinxcontrib-jsmath-1.0.1 sphinxcontrib-qthelp-1.0.3\n"
          ]
        },
        {
          "output_type": "display_data",
          "data": {
            "application/vnd.colab-display-data+json": {
              "pip_warning": {
                "packages": [
                  "pygments",
                  "sphinxcontrib"
                ]
              }
            }
          },
          "metadata": {}
        }
      ]
    },
    {
      "cell_type": "code",
      "execution_count": null,
      "metadata": {
        "id": "mS0bWISTqhMI",
        "colab": {
          "base_uri": "https://localhost:8080/"
        },
        "outputId": "4eade89a-822d-4dae-d146-c507c548642b"
      },
      "outputs": [
        {
          "output_type": "stream",
          "name": "stderr",
          "text": [
            "DGL backend not selected or invalid.  Assuming PyTorch for now.\n"
          ]
        },
        {
          "output_type": "stream",
          "name": "stdout",
          "text": [
            "Setting the default backend to \"pytorch\". You can change it in the ~/.dgl/config.json file or export the DGLBACKEND environment variable.  Valid options are: pytorch, mxnet, tensorflow (all lowercase)\n"
          ]
        }
      ],
      "source": [
        "import dgl.nn as dglnn\n",
        "from dgl import from_networkx\n",
        "import torch.nn as nn\n",
        "import torch as th\n",
        "import torch.nn.functional as F\n",
        "import dgl.function as fn\n",
        "import networkx as nx\n",
        "import pandas as pd\n",
        "import socket\n",
        "import struct\n",
        "import random\n",
        "from sklearn.preprocessing import LabelEncoder\n",
        "from sklearn.preprocessing import StandardScaler\n",
        "from sklearn.model_selection import train_test_split\n",
        "import category_encoders as ce\n",
        "from sklearn.decomposition import PCA\n",
        "import seaborn as sns\n",
        "import matplotlib.pyplot as plt\n",
        "import numpy as np"
      ]
    },
    {
      "cell_type": "code",
      "source": [
        "data = pd.read_csv('/content/drive/MyDrive/NF-UNSW-NB15/NF-UNSW-NB15.csv')"
      ],
      "metadata": {
        "id": "Rg8AP5ExN3Us"
      },
      "execution_count": null,
      "outputs": []
    },
    {
      "cell_type": "code",
      "execution_count": null,
      "metadata": {
        "id": "0JmyVopVrqWQ",
        "colab": {
          "base_uri": "https://localhost:8080/",
          "height": 488
        },
        "outputId": "08254001-78f4-42ee-f457-ae4b05108d20"
      },
      "outputs": [
        {
          "output_type": "execute_result",
          "data": {
            "text/plain": [
              "         IPV4_SRC_ADDR  L4_SRC_PORT  IPV4_DST_ADDR  L4_DST_PORT  PROTOCOL  \\\n",
              "0        149.171.126.0        62073     59.166.0.5        56082         6   \n",
              "1        149.171.126.2        32284     59.166.0.5         1526         6   \n",
              "2        149.171.126.0           21     59.166.0.1        21971         6   \n",
              "3           59.166.0.1        23800  149.171.126.0        46893         6   \n",
              "4           59.166.0.5        63062  149.171.126.2           21         6   \n",
              "...                ...          ...            ...          ...       ...   \n",
              "1623113     59.166.0.2         1640  149.171.126.8           53        17   \n",
              "1623114     59.166.0.2         3610  149.171.126.6           21         6   \n",
              "1623115     59.166.0.2         4667  149.171.126.6        40725         6   \n",
              "1623116     59.166.0.2         5641  149.171.126.6        56243         6   \n",
              "1623117     59.166.0.1         1245  149.171.126.6        55094         6   \n",
              "\n",
              "         L7_PROTO  IN_BYTES  OUT_BYTES  IN_PKTS  OUT_PKTS  TCP_FLAGS  \\\n",
              "0             0.0      9672        416       11         8         25   \n",
              "1             0.0      1776        104        6         2         25   \n",
              "2             1.0      1842       1236       26        22         25   \n",
              "3             0.0       528       8824       10        12         27   \n",
              "4             1.0      1786       2340       32        34         25   \n",
              "...           ...       ...        ...      ...       ...        ...   \n",
              "1623113       0.0       130        162        2         2          0   \n",
              "1623114       1.0      2044       2404       36        34         26   \n",
              "1623115       0.0       320       1918        6         8         27   \n",
              "1623116       0.0       528       8824       10        12         27   \n",
              "1623117       0.0       216        112        4         2         18   \n",
              "\n",
              "         FLOW_DURATION_MILLISECONDS  Label  Attack  \n",
              "0                                15      0  Benign  \n",
              "1                                 0      0  Benign  \n",
              "2                              1111      0  Benign  \n",
              "3                               124      0  Benign  \n",
              "4                              1459      0  Benign  \n",
              "...                             ...    ...     ...  \n",
              "1623113                           0      0  Benign  \n",
              "1623114                           0      0  Benign  \n",
              "1623115                           0      0  Benign  \n",
              "1623116                           0      0  Benign  \n",
              "1623117                           0      0  Benign  \n",
              "\n",
              "[1623118 rows x 14 columns]"
            ],
            "text/html": [
              "\n",
              "  <div id=\"df-0623a12e-cbfa-431e-a8de-f48f5077c0b4\">\n",
              "    <div class=\"colab-df-container\">\n",
              "      <div>\n",
              "<style scoped>\n",
              "    .dataframe tbody tr th:only-of-type {\n",
              "        vertical-align: middle;\n",
              "    }\n",
              "\n",
              "    .dataframe tbody tr th {\n",
              "        vertical-align: top;\n",
              "    }\n",
              "\n",
              "    .dataframe thead th {\n",
              "        text-align: right;\n",
              "    }\n",
              "</style>\n",
              "<table border=\"1\" class=\"dataframe\">\n",
              "  <thead>\n",
              "    <tr style=\"text-align: right;\">\n",
              "      <th></th>\n",
              "      <th>IPV4_SRC_ADDR</th>\n",
              "      <th>L4_SRC_PORT</th>\n",
              "      <th>IPV4_DST_ADDR</th>\n",
              "      <th>L4_DST_PORT</th>\n",
              "      <th>PROTOCOL</th>\n",
              "      <th>L7_PROTO</th>\n",
              "      <th>IN_BYTES</th>\n",
              "      <th>OUT_BYTES</th>\n",
              "      <th>IN_PKTS</th>\n",
              "      <th>OUT_PKTS</th>\n",
              "      <th>TCP_FLAGS</th>\n",
              "      <th>FLOW_DURATION_MILLISECONDS</th>\n",
              "      <th>Label</th>\n",
              "      <th>Attack</th>\n",
              "    </tr>\n",
              "  </thead>\n",
              "  <tbody>\n",
              "    <tr>\n",
              "      <th>0</th>\n",
              "      <td>149.171.126.0</td>\n",
              "      <td>62073</td>\n",
              "      <td>59.166.0.5</td>\n",
              "      <td>56082</td>\n",
              "      <td>6</td>\n",
              "      <td>0.0</td>\n",
              "      <td>9672</td>\n",
              "      <td>416</td>\n",
              "      <td>11</td>\n",
              "      <td>8</td>\n",
              "      <td>25</td>\n",
              "      <td>15</td>\n",
              "      <td>0</td>\n",
              "      <td>Benign</td>\n",
              "    </tr>\n",
              "    <tr>\n",
              "      <th>1</th>\n",
              "      <td>149.171.126.2</td>\n",
              "      <td>32284</td>\n",
              "      <td>59.166.0.5</td>\n",
              "      <td>1526</td>\n",
              "      <td>6</td>\n",
              "      <td>0.0</td>\n",
              "      <td>1776</td>\n",
              "      <td>104</td>\n",
              "      <td>6</td>\n",
              "      <td>2</td>\n",
              "      <td>25</td>\n",
              "      <td>0</td>\n",
              "      <td>0</td>\n",
              "      <td>Benign</td>\n",
              "    </tr>\n",
              "    <tr>\n",
              "      <th>2</th>\n",
              "      <td>149.171.126.0</td>\n",
              "      <td>21</td>\n",
              "      <td>59.166.0.1</td>\n",
              "      <td>21971</td>\n",
              "      <td>6</td>\n",
              "      <td>1.0</td>\n",
              "      <td>1842</td>\n",
              "      <td>1236</td>\n",
              "      <td>26</td>\n",
              "      <td>22</td>\n",
              "      <td>25</td>\n",
              "      <td>1111</td>\n",
              "      <td>0</td>\n",
              "      <td>Benign</td>\n",
              "    </tr>\n",
              "    <tr>\n",
              "      <th>3</th>\n",
              "      <td>59.166.0.1</td>\n",
              "      <td>23800</td>\n",
              "      <td>149.171.126.0</td>\n",
              "      <td>46893</td>\n",
              "      <td>6</td>\n",
              "      <td>0.0</td>\n",
              "      <td>528</td>\n",
              "      <td>8824</td>\n",
              "      <td>10</td>\n",
              "      <td>12</td>\n",
              "      <td>27</td>\n",
              "      <td>124</td>\n",
              "      <td>0</td>\n",
              "      <td>Benign</td>\n",
              "    </tr>\n",
              "    <tr>\n",
              "      <th>4</th>\n",
              "      <td>59.166.0.5</td>\n",
              "      <td>63062</td>\n",
              "      <td>149.171.126.2</td>\n",
              "      <td>21</td>\n",
              "      <td>6</td>\n",
              "      <td>1.0</td>\n",
              "      <td>1786</td>\n",
              "      <td>2340</td>\n",
              "      <td>32</td>\n",
              "      <td>34</td>\n",
              "      <td>25</td>\n",
              "      <td>1459</td>\n",
              "      <td>0</td>\n",
              "      <td>Benign</td>\n",
              "    </tr>\n",
              "    <tr>\n",
              "      <th>...</th>\n",
              "      <td>...</td>\n",
              "      <td>...</td>\n",
              "      <td>...</td>\n",
              "      <td>...</td>\n",
              "      <td>...</td>\n",
              "      <td>...</td>\n",
              "      <td>...</td>\n",
              "      <td>...</td>\n",
              "      <td>...</td>\n",
              "      <td>...</td>\n",
              "      <td>...</td>\n",
              "      <td>...</td>\n",
              "      <td>...</td>\n",
              "      <td>...</td>\n",
              "    </tr>\n",
              "    <tr>\n",
              "      <th>1623113</th>\n",
              "      <td>59.166.0.2</td>\n",
              "      <td>1640</td>\n",
              "      <td>149.171.126.8</td>\n",
              "      <td>53</td>\n",
              "      <td>17</td>\n",
              "      <td>0.0</td>\n",
              "      <td>130</td>\n",
              "      <td>162</td>\n",
              "      <td>2</td>\n",
              "      <td>2</td>\n",
              "      <td>0</td>\n",
              "      <td>0</td>\n",
              "      <td>0</td>\n",
              "      <td>Benign</td>\n",
              "    </tr>\n",
              "    <tr>\n",
              "      <th>1623114</th>\n",
              "      <td>59.166.0.2</td>\n",
              "      <td>3610</td>\n",
              "      <td>149.171.126.6</td>\n",
              "      <td>21</td>\n",
              "      <td>6</td>\n",
              "      <td>1.0</td>\n",
              "      <td>2044</td>\n",
              "      <td>2404</td>\n",
              "      <td>36</td>\n",
              "      <td>34</td>\n",
              "      <td>26</td>\n",
              "      <td>0</td>\n",
              "      <td>0</td>\n",
              "      <td>Benign</td>\n",
              "    </tr>\n",
              "    <tr>\n",
              "      <th>1623115</th>\n",
              "      <td>59.166.0.2</td>\n",
              "      <td>4667</td>\n",
              "      <td>149.171.126.6</td>\n",
              "      <td>40725</td>\n",
              "      <td>6</td>\n",
              "      <td>0.0</td>\n",
              "      <td>320</td>\n",
              "      <td>1918</td>\n",
              "      <td>6</td>\n",
              "      <td>8</td>\n",
              "      <td>27</td>\n",
              "      <td>0</td>\n",
              "      <td>0</td>\n",
              "      <td>Benign</td>\n",
              "    </tr>\n",
              "    <tr>\n",
              "      <th>1623116</th>\n",
              "      <td>59.166.0.2</td>\n",
              "      <td>5641</td>\n",
              "      <td>149.171.126.6</td>\n",
              "      <td>56243</td>\n",
              "      <td>6</td>\n",
              "      <td>0.0</td>\n",
              "      <td>528</td>\n",
              "      <td>8824</td>\n",
              "      <td>10</td>\n",
              "      <td>12</td>\n",
              "      <td>27</td>\n",
              "      <td>0</td>\n",
              "      <td>0</td>\n",
              "      <td>Benign</td>\n",
              "    </tr>\n",
              "    <tr>\n",
              "      <th>1623117</th>\n",
              "      <td>59.166.0.1</td>\n",
              "      <td>1245</td>\n",
              "      <td>149.171.126.6</td>\n",
              "      <td>55094</td>\n",
              "      <td>6</td>\n",
              "      <td>0.0</td>\n",
              "      <td>216</td>\n",
              "      <td>112</td>\n",
              "      <td>4</td>\n",
              "      <td>2</td>\n",
              "      <td>18</td>\n",
              "      <td>0</td>\n",
              "      <td>0</td>\n",
              "      <td>Benign</td>\n",
              "    </tr>\n",
              "  </tbody>\n",
              "</table>\n",
              "<p>1623118 rows × 14 columns</p>\n",
              "</div>\n",
              "      <button class=\"colab-df-convert\" onclick=\"convertToInteractive('df-0623a12e-cbfa-431e-a8de-f48f5077c0b4')\"\n",
              "              title=\"Convert this dataframe to an interactive table.\"\n",
              "              style=\"display:none;\">\n",
              "        \n",
              "  <svg xmlns=\"http://www.w3.org/2000/svg\" height=\"24px\"viewBox=\"0 0 24 24\"\n",
              "       width=\"24px\">\n",
              "    <path d=\"M0 0h24v24H0V0z\" fill=\"none\"/>\n",
              "    <path d=\"M18.56 5.44l.94 2.06.94-2.06 2.06-.94-2.06-.94-.94-2.06-.94 2.06-2.06.94zm-11 1L8.5 8.5l.94-2.06 2.06-.94-2.06-.94L8.5 2.5l-.94 2.06-2.06.94zm10 10l.94 2.06.94-2.06 2.06-.94-2.06-.94-.94-2.06-.94 2.06-2.06.94z\"/><path d=\"M17.41 7.96l-1.37-1.37c-.4-.4-.92-.59-1.43-.59-.52 0-1.04.2-1.43.59L10.3 9.45l-7.72 7.72c-.78.78-.78 2.05 0 2.83L4 21.41c.39.39.9.59 1.41.59.51 0 1.02-.2 1.41-.59l7.78-7.78 2.81-2.81c.8-.78.8-2.07 0-2.86zM5.41 20L4 18.59l7.72-7.72 1.47 1.35L5.41 20z\"/>\n",
              "  </svg>\n",
              "      </button>\n",
              "      \n",
              "  <style>\n",
              "    .colab-df-container {\n",
              "      display:flex;\n",
              "      flex-wrap:wrap;\n",
              "      gap: 12px;\n",
              "    }\n",
              "\n",
              "    .colab-df-convert {\n",
              "      background-color: #E8F0FE;\n",
              "      border: none;\n",
              "      border-radius: 50%;\n",
              "      cursor: pointer;\n",
              "      display: none;\n",
              "      fill: #1967D2;\n",
              "      height: 32px;\n",
              "      padding: 0 0 0 0;\n",
              "      width: 32px;\n",
              "    }\n",
              "\n",
              "    .colab-df-convert:hover {\n",
              "      background-color: #E2EBFA;\n",
              "      box-shadow: 0px 1px 2px rgba(60, 64, 67, 0.3), 0px 1px 3px 1px rgba(60, 64, 67, 0.15);\n",
              "      fill: #174EA6;\n",
              "    }\n",
              "\n",
              "    [theme=dark] .colab-df-convert {\n",
              "      background-color: #3B4455;\n",
              "      fill: #D2E3FC;\n",
              "    }\n",
              "\n",
              "    [theme=dark] .colab-df-convert:hover {\n",
              "      background-color: #434B5C;\n",
              "      box-shadow: 0px 1px 3px 1px rgba(0, 0, 0, 0.15);\n",
              "      filter: drop-shadow(0px 1px 2px rgba(0, 0, 0, 0.3));\n",
              "      fill: #FFFFFF;\n",
              "    }\n",
              "  </style>\n",
              "\n",
              "      <script>\n",
              "        const buttonEl =\n",
              "          document.querySelector('#df-0623a12e-cbfa-431e-a8de-f48f5077c0b4 button.colab-df-convert');\n",
              "        buttonEl.style.display =\n",
              "          google.colab.kernel.accessAllowed ? 'block' : 'none';\n",
              "\n",
              "        async function convertToInteractive(key) {\n",
              "          const element = document.querySelector('#df-0623a12e-cbfa-431e-a8de-f48f5077c0b4');\n",
              "          const dataTable =\n",
              "            await google.colab.kernel.invokeFunction('convertToInteractive',\n",
              "                                                     [key], {});\n",
              "          if (!dataTable) return;\n",
              "\n",
              "          const docLinkHtml = 'Like what you see? Visit the ' +\n",
              "            '<a target=\"_blank\" href=https://colab.research.google.com/notebooks/data_table.ipynb>data table notebook</a>'\n",
              "            + ' to learn more about interactive tables.';\n",
              "          element.innerHTML = '';\n",
              "          dataTable['output_type'] = 'display_data';\n",
              "          await google.colab.output.renderOutput(dataTable, element);\n",
              "          const docLink = document.createElement('div');\n",
              "          docLink.innerHTML = docLinkHtml;\n",
              "          element.appendChild(docLink);\n",
              "        }\n",
              "      </script>\n",
              "    </div>\n",
              "  </div>\n",
              "  "
            ]
          },
          "metadata": {},
          "execution_count": 5
        }
      ],
      "source": [
        "data"
      ]
    },
    {
      "cell_type": "code",
      "source": [
        "data.columns"
      ],
      "metadata": {
        "colab": {
          "base_uri": "https://localhost:8080/"
        },
        "id": "d-su75CbOSYD",
        "outputId": "e7fb9fe9-7ad6-4cb6-fd6f-af5d9ac03848"
      },
      "execution_count": null,
      "outputs": [
        {
          "output_type": "execute_result",
          "data": {
            "text/plain": [
              "Index(['IPV4_SRC_ADDR', 'L4_SRC_PORT', 'IPV4_DST_ADDR', 'L4_DST_PORT',\n",
              "       'PROTOCOL', 'L7_PROTO', 'IN_BYTES', 'OUT_BYTES', 'IN_PKTS', 'OUT_PKTS',\n",
              "       'TCP_FLAGS', 'FLOW_DURATION_MILLISECONDS', 'Label', 'Attack'],\n",
              "      dtype='object')"
            ]
          },
          "metadata": {},
          "execution_count": 6
        }
      ]
    },
    {
      "cell_type": "code",
      "source": [
        "data.Attack.value_counts()"
      ],
      "metadata": {
        "id": "VwAgyKjuaMtJ",
        "colab": {
          "base_uri": "https://localhost:8080/"
        },
        "outputId": "5b9ad03a-b7be-4dc5-ac16-143feebad40b"
      },
      "execution_count": null,
      "outputs": [
        {
          "output_type": "execute_result",
          "data": {
            "text/plain": [
              "Benign            1550712\n",
              "Exploits            24736\n",
              "Fuzzers             19463\n",
              "Reconnaissance      12291\n",
              "Generic              5570\n",
              "DoS                  5051\n",
              "Analysis             1995\n",
              "Backdoor             1782\n",
              "Shellcode            1365\n",
              "Worms                 153\n",
              "Name: Attack, dtype: int64"
            ]
          },
          "metadata": {},
          "execution_count": 7
        }
      ]
    },
    {
      "cell_type": "code",
      "source": [
        "def change_label(data):\n",
        "  data.Attack.replace(['DoS'],'Dos',inplace=True)\n",
        "  data.Attack.replace(['Reconnaissance'],'Probe',inplace=True)\n",
        "  data.Attack.replace(['Generic','Analysis','Exploits','Shellcode','Fuzzers'],'U2R',inplace=True)\n",
        "  data.Attack.replace(['Benign'],'Normal',inplace=True)\n",
        "  data.Attack.replace(['Backdoor','Worms'],'R2L',inplace=True)\n",
        "change_label(data)\n",
        "data.Attack.value_counts()"
      ],
      "metadata": {
        "id": "eqODN_TOaWGW",
        "colab": {
          "base_uri": "https://localhost:8080/"
        },
        "outputId": "f0bb52c8-bd7e-493d-809c-f360c8009cdb"
      },
      "execution_count": null,
      "outputs": [
        {
          "output_type": "execute_result",
          "data": {
            "text/plain": [
              "Normal    1550712\n",
              "U2R         53129\n",
              "Probe       12291\n",
              "Dos          5051\n",
              "R2L          1935\n",
              "Name: Attack, dtype: int64"
            ]
          },
          "metadata": {},
          "execution_count": 8
        }
      ]
    },
    {
      "cell_type": "code",
      "source": [
        "data.drop(data.loc[data['Attack']=='Normal'].index[:1000000], axis=0, inplace=True)\n",
        "# data.drop(data.loc[data['Attack']=='Dos'].index[:520000], axis=0, inplace=True)\n",
        "# data.drop(data.loc[data['Attack']=='Probe'].index[:100000], axis=0, inplace=True)\n",
        "# data.drop(data.loc[data['Attack']=='R2L'].index[:30000], axis=0, inplace=True)"
      ],
      "metadata": {
        "id": "puKPDJ9Wxguv"
      },
      "execution_count": null,
      "outputs": []
    },
    {
      "cell_type": "code",
      "source": [
        "# distribution of attack classes\n",
        "data.Attack.value_counts()"
      ],
      "metadata": {
        "colab": {
          "base_uri": "https://localhost:8080/"
        },
        "id": "Mn-8TUWU363i",
        "outputId": "d53a69af-a987-4638-a524-1122222da993"
      },
      "execution_count": null,
      "outputs": [
        {
          "output_type": "execute_result",
          "data": {
            "text/plain": [
              "Normal    550712\n",
              "U2R        53129\n",
              "Probe      12291\n",
              "Dos         5051\n",
              "R2L         1935\n",
              "Name: Attack, dtype: int64"
            ]
          },
          "metadata": {},
          "execution_count": 10
        }
      ]
    },
    {
      "cell_type": "code",
      "source": [
        "data.head()"
      ],
      "metadata": {
        "colab": {
          "base_uri": "https://localhost:8080/",
          "height": 270
        },
        "id": "SS1oz5AyyAnR",
        "outputId": "fd7dd454-8dc1-46ca-ef6a-c72fd2043bda"
      },
      "execution_count": null,
      "outputs": [
        {
          "output_type": "execute_result",
          "data": {
            "text/plain": [
              "    IPV4_SRC_ADDR  L4_SRC_PORT   IPV4_DST_ADDR  L4_DST_PORT  PROTOCOL  \\\n",
              "29   175.45.176.1        43025  149.171.126.16           25         6   \n",
              "40   175.45.176.3        64923  149.171.126.17           80         6   \n",
              "67   175.45.176.3         9022  149.171.126.13          111         6   \n",
              "93   175.45.176.3         1752  149.171.126.10           25         6   \n",
              "115  175.45.176.3        53967  149.171.126.14          111        17   \n",
              "\n",
              "     L7_PROTO  IN_BYTES  OUT_BYTES  IN_PKTS  OUT_PKTS  TCP_FLAGS  \\\n",
              "29        3.0     41290       2080       48        24         27   \n",
              "40        7.0       994        256       10         6         19   \n",
              "67       11.0       552        336       10         8         19   \n",
              "93        3.0      3022       1636       20        20         19   \n",
              "115      11.0       168          0        2         0          0   \n",
              "\n",
              "     FLOW_DURATION_MILLISECONDS  Label Attack  \n",
              "29                          803      1    U2R  \n",
              "40                          189      1    U2R  \n",
              "67                          678      1  Probe  \n",
              "93                          789      1    Dos  \n",
              "115                           0      1  Probe  "
            ],
            "text/html": [
              "\n",
              "  <div id=\"df-fa8bf3a8-3ac6-40bb-8dc9-c017010da605\">\n",
              "    <div class=\"colab-df-container\">\n",
              "      <div>\n",
              "<style scoped>\n",
              "    .dataframe tbody tr th:only-of-type {\n",
              "        vertical-align: middle;\n",
              "    }\n",
              "\n",
              "    .dataframe tbody tr th {\n",
              "        vertical-align: top;\n",
              "    }\n",
              "\n",
              "    .dataframe thead th {\n",
              "        text-align: right;\n",
              "    }\n",
              "</style>\n",
              "<table border=\"1\" class=\"dataframe\">\n",
              "  <thead>\n",
              "    <tr style=\"text-align: right;\">\n",
              "      <th></th>\n",
              "      <th>IPV4_SRC_ADDR</th>\n",
              "      <th>L4_SRC_PORT</th>\n",
              "      <th>IPV4_DST_ADDR</th>\n",
              "      <th>L4_DST_PORT</th>\n",
              "      <th>PROTOCOL</th>\n",
              "      <th>L7_PROTO</th>\n",
              "      <th>IN_BYTES</th>\n",
              "      <th>OUT_BYTES</th>\n",
              "      <th>IN_PKTS</th>\n",
              "      <th>OUT_PKTS</th>\n",
              "      <th>TCP_FLAGS</th>\n",
              "      <th>FLOW_DURATION_MILLISECONDS</th>\n",
              "      <th>Label</th>\n",
              "      <th>Attack</th>\n",
              "    </tr>\n",
              "  </thead>\n",
              "  <tbody>\n",
              "    <tr>\n",
              "      <th>29</th>\n",
              "      <td>175.45.176.1</td>\n",
              "      <td>43025</td>\n",
              "      <td>149.171.126.16</td>\n",
              "      <td>25</td>\n",
              "      <td>6</td>\n",
              "      <td>3.0</td>\n",
              "      <td>41290</td>\n",
              "      <td>2080</td>\n",
              "      <td>48</td>\n",
              "      <td>24</td>\n",
              "      <td>27</td>\n",
              "      <td>803</td>\n",
              "      <td>1</td>\n",
              "      <td>U2R</td>\n",
              "    </tr>\n",
              "    <tr>\n",
              "      <th>40</th>\n",
              "      <td>175.45.176.3</td>\n",
              "      <td>64923</td>\n",
              "      <td>149.171.126.17</td>\n",
              "      <td>80</td>\n",
              "      <td>6</td>\n",
              "      <td>7.0</td>\n",
              "      <td>994</td>\n",
              "      <td>256</td>\n",
              "      <td>10</td>\n",
              "      <td>6</td>\n",
              "      <td>19</td>\n",
              "      <td>189</td>\n",
              "      <td>1</td>\n",
              "      <td>U2R</td>\n",
              "    </tr>\n",
              "    <tr>\n",
              "      <th>67</th>\n",
              "      <td>175.45.176.3</td>\n",
              "      <td>9022</td>\n",
              "      <td>149.171.126.13</td>\n",
              "      <td>111</td>\n",
              "      <td>6</td>\n",
              "      <td>11.0</td>\n",
              "      <td>552</td>\n",
              "      <td>336</td>\n",
              "      <td>10</td>\n",
              "      <td>8</td>\n",
              "      <td>19</td>\n",
              "      <td>678</td>\n",
              "      <td>1</td>\n",
              "      <td>Probe</td>\n",
              "    </tr>\n",
              "    <tr>\n",
              "      <th>93</th>\n",
              "      <td>175.45.176.3</td>\n",
              "      <td>1752</td>\n",
              "      <td>149.171.126.10</td>\n",
              "      <td>25</td>\n",
              "      <td>6</td>\n",
              "      <td>3.0</td>\n",
              "      <td>3022</td>\n",
              "      <td>1636</td>\n",
              "      <td>20</td>\n",
              "      <td>20</td>\n",
              "      <td>19</td>\n",
              "      <td>789</td>\n",
              "      <td>1</td>\n",
              "      <td>Dos</td>\n",
              "    </tr>\n",
              "    <tr>\n",
              "      <th>115</th>\n",
              "      <td>175.45.176.3</td>\n",
              "      <td>53967</td>\n",
              "      <td>149.171.126.14</td>\n",
              "      <td>111</td>\n",
              "      <td>17</td>\n",
              "      <td>11.0</td>\n",
              "      <td>168</td>\n",
              "      <td>0</td>\n",
              "      <td>2</td>\n",
              "      <td>0</td>\n",
              "      <td>0</td>\n",
              "      <td>0</td>\n",
              "      <td>1</td>\n",
              "      <td>Probe</td>\n",
              "    </tr>\n",
              "  </tbody>\n",
              "</table>\n",
              "</div>\n",
              "      <button class=\"colab-df-convert\" onclick=\"convertToInteractive('df-fa8bf3a8-3ac6-40bb-8dc9-c017010da605')\"\n",
              "              title=\"Convert this dataframe to an interactive table.\"\n",
              "              style=\"display:none;\">\n",
              "        \n",
              "  <svg xmlns=\"http://www.w3.org/2000/svg\" height=\"24px\"viewBox=\"0 0 24 24\"\n",
              "       width=\"24px\">\n",
              "    <path d=\"M0 0h24v24H0V0z\" fill=\"none\"/>\n",
              "    <path d=\"M18.56 5.44l.94 2.06.94-2.06 2.06-.94-2.06-.94-.94-2.06-.94 2.06-2.06.94zm-11 1L8.5 8.5l.94-2.06 2.06-.94-2.06-.94L8.5 2.5l-.94 2.06-2.06.94zm10 10l.94 2.06.94-2.06 2.06-.94-2.06-.94-.94-2.06-.94 2.06-2.06.94z\"/><path d=\"M17.41 7.96l-1.37-1.37c-.4-.4-.92-.59-1.43-.59-.52 0-1.04.2-1.43.59L10.3 9.45l-7.72 7.72c-.78.78-.78 2.05 0 2.83L4 21.41c.39.39.9.59 1.41.59.51 0 1.02-.2 1.41-.59l7.78-7.78 2.81-2.81c.8-.78.8-2.07 0-2.86zM5.41 20L4 18.59l7.72-7.72 1.47 1.35L5.41 20z\"/>\n",
              "  </svg>\n",
              "      </button>\n",
              "      \n",
              "  <style>\n",
              "    .colab-df-container {\n",
              "      display:flex;\n",
              "      flex-wrap:wrap;\n",
              "      gap: 12px;\n",
              "    }\n",
              "\n",
              "    .colab-df-convert {\n",
              "      background-color: #E8F0FE;\n",
              "      border: none;\n",
              "      border-radius: 50%;\n",
              "      cursor: pointer;\n",
              "      display: none;\n",
              "      fill: #1967D2;\n",
              "      height: 32px;\n",
              "      padding: 0 0 0 0;\n",
              "      width: 32px;\n",
              "    }\n",
              "\n",
              "    .colab-df-convert:hover {\n",
              "      background-color: #E2EBFA;\n",
              "      box-shadow: 0px 1px 2px rgba(60, 64, 67, 0.3), 0px 1px 3px 1px rgba(60, 64, 67, 0.15);\n",
              "      fill: #174EA6;\n",
              "    }\n",
              "\n",
              "    [theme=dark] .colab-df-convert {\n",
              "      background-color: #3B4455;\n",
              "      fill: #D2E3FC;\n",
              "    }\n",
              "\n",
              "    [theme=dark] .colab-df-convert:hover {\n",
              "      background-color: #434B5C;\n",
              "      box-shadow: 0px 1px 3px 1px rgba(0, 0, 0, 0.15);\n",
              "      filter: drop-shadow(0px 1px 2px rgba(0, 0, 0, 0.3));\n",
              "      fill: #FFFFFF;\n",
              "    }\n",
              "  </style>\n",
              "\n",
              "      <script>\n",
              "        const buttonEl =\n",
              "          document.querySelector('#df-fa8bf3a8-3ac6-40bb-8dc9-c017010da605 button.colab-df-convert');\n",
              "        buttonEl.style.display =\n",
              "          google.colab.kernel.accessAllowed ? 'block' : 'none';\n",
              "\n",
              "        async function convertToInteractive(key) {\n",
              "          const element = document.querySelector('#df-fa8bf3a8-3ac6-40bb-8dc9-c017010da605');\n",
              "          const dataTable =\n",
              "            await google.colab.kernel.invokeFunction('convertToInteractive',\n",
              "                                                     [key], {});\n",
              "          if (!dataTable) return;\n",
              "\n",
              "          const docLinkHtml = 'Like what you see? Visit the ' +\n",
              "            '<a target=\"_blank\" href=https://colab.research.google.com/notebooks/data_table.ipynb>data table notebook</a>'\n",
              "            + ' to learn more about interactive tables.';\n",
              "          element.innerHTML = '';\n",
              "          dataTable['output_type'] = 'display_data';\n",
              "          await google.colab.output.renderOutput(dataTable, element);\n",
              "          const docLink = document.createElement('div');\n",
              "          docLink.innerHTML = docLinkHtml;\n",
              "          element.appendChild(docLink);\n",
              "        }\n",
              "      </script>\n",
              "    </div>\n",
              "  </div>\n",
              "  "
            ]
          },
          "metadata": {},
          "execution_count": 11
        }
      ]
    },
    {
      "cell_type": "code",
      "source": [
        "import pandas as pd\n",
        "import os\n",
        "import numpy as np\n",
        "from sklearn import metrics\n",
        "from scipy.stats import zscore\n",
        "\n",
        "def expand_categories(values):\n",
        "    result = []\n",
        "    s = values.value_counts()\n",
        "    t = float(len(values))\n",
        "    for v in s.index:\n",
        "        result.append(\"{}:{}%\".format(v,round(100*(s[v]/t),2)))\n",
        "    return \"[{}]\".format(\", \".join(result))\n",
        "        \n",
        "def analyze(df):\n",
        "    print()\n",
        "    cols = df.columns.values\n",
        "    total = float(len(df))\n",
        "\n",
        "    print(\"{} rows\".format(int(total)))\n",
        "    for col in cols:\n",
        "        uniques = df[col].unique()\n",
        "        unique_count = len(uniques)\n",
        "        if unique_count>100:\n",
        "            print(\"** {}:{} ({}%)\".format(col,unique_count,\\\n",
        "                int(((unique_count)/total)*100)))\n",
        "        else:\n",
        "            print(\"** {}:{}\".format(col,expand_categories(df[col])))\n",
        "            expand_categories(df[col])\n",
        "analyze(data)"
      ],
      "metadata": {
        "colab": {
          "base_uri": "https://localhost:8080/"
        },
        "id": "GFBDPc--U1d0",
        "outputId": "c2c93087-92ed-4728-dc4f-56c5a154f0d9"
      },
      "execution_count": null,
      "outputs": [
        {
          "output_type": "stream",
          "name": "stdout",
          "text": [
            "\n",
            "623118 rows\n",
            "** IPV4_SRC_ADDR:[59.166.0.2:8.94%, 59.166.0.0:8.93%, 59.166.0.4:8.93%, 59.166.0.1:8.91%, 59.166.0.5:8.89%, 59.166.0.3:8.83%, 59.166.0.6:8.64%, 59.166.0.8:8.63%, 59.166.0.9:8.55%, 59.166.0.7:8.43%, 175.45.176.1:3.26%, 175.45.176.0:3.14%, 175.45.176.3:2.81%, 175.45.176.2:2.71%, 149.171.126.5:0.04%, 149.171.126.1:0.04%, 149.171.126.2:0.04%, 149.171.126.6:0.04%, 149.171.126.8:0.04%, 149.171.126.3:0.04%, 149.171.126.4:0.04%, 149.171.126.7:0.03%, 149.171.126.9:0.03%, 149.171.126.0:0.03%, 10.40.182.1:0.01%, 10.40.85.1:0.01%, 192.168.241.243:0.0%, 149.171.126.16:0.0%, 149.171.126.13:0.0%, 149.171.126.17:0.0%, 149.171.126.11:0.0%, 149.171.126.14:0.0%, 149.171.126.19:0.0%, 149.171.126.15:0.0%, 149.171.126.12:0.0%, 127.0.0.1:0.0%]\n",
            "** L4_SRC_PORT:64525 (10%)\n",
            "** IPV4_DST_ADDR:[149.171.126.4:8.97%, 149.171.126.1:8.93%, 149.171.126.3:8.89%, 149.171.126.2:8.88%, 149.171.126.5:8.87%, 149.171.126.0:8.87%, 149.171.126.9:8.65%, 149.171.126.6:8.59%, 149.171.126.7:8.56%, 149.171.126.8:8.47%, 149.171.126.17:1.91%, 149.171.126.10:1.37%, 149.171.126.13:1.35%, 149.171.126.19:1.15%, 149.171.126.11:1.14%, 149.171.126.14:1.1%, 149.171.126.15:1.04%, 149.171.126.16:0.98%, 149.171.126.12:0.97%, 149.171.126.18:0.9%, 59.166.0.1:0.04%, 59.166.0.0:0.04%, 59.166.0.9:0.04%, 59.166.0.2:0.04%, 59.166.0.4:0.04%, 59.166.0.5:0.04%, 59.166.0.8:0.04%, 59.166.0.6:0.03%, 59.166.0.3:0.03%, 59.166.0.7:0.03%, 224.0.0.5:0.02%, 192.168.241.243:0.0%, 175.45.176.3:0.0%, 175.45.176.1:0.0%, 10.40.198.10:0.0%, 175.45.176.2:0.0%, 175.45.176.0:0.0%, 127.0.0.1:0.0%]\n",
            "** L4_DST_PORT:61215 (9%)\n",
            "** PROTOCOL:255 (0%)\n",
            "** L7_PROTO:184 (0%)\n",
            "** IN_BYTES:11157 (1%)\n",
            "** OUT_BYTES:14918 (2%)\n",
            "** IN_PKTS:852 (0%)\n",
            "** OUT_PKTS:1169 (0%)\n",
            "** TCP_FLAGS:[27:64.89%, 0:28.66%, 19:5.26%, 26:0.56%, 25:0.4%, 18:0.1%, 24:0.09%, 17:0.01%, 16:0.01%, 2:0.0%, 22:0.0%, 20:0.0%, 23:0.0%, 30:0.0%]\n",
            "** FLOW_DURATION_MILLISECONDS:8096 (1%)\n",
            "** Label:[0:88.38%, 1:11.62%]\n",
            "** Attack:[Normal:88.38%, U2R:8.53%, Probe:1.97%, Dos:0.81%, R2L:0.31%]\n"
          ]
        }
      ]
    },
    {
      "cell_type": "code",
      "execution_count": null,
      "metadata": {
        "id": "PoVYaeFZtJBd"
      },
      "outputs": [],
      "source": [
        "data['IPV4_SRC_ADDR'] = data.IPV4_SRC_ADDR.apply(lambda x: socket.inet_ntoa(struct.pack('>I', random.randint(0xac100001, 0xac1f0001))))"
      ]
    },
    {
      "cell_type": "code",
      "execution_count": null,
      "metadata": {
        "id": "zs4z58WCtu8k"
      },
      "outputs": [],
      "source": [
        "data['IPV4_SRC_ADDR'] = data.IPV4_SRC_ADDR.apply(str)\n",
        "data['L4_SRC_PORT'] = data.L4_SRC_PORT.apply(str)\n",
        "data['IPV4_DST_ADDR'] = data.IPV4_DST_ADDR.apply(str)\n",
        "data['L4_DST_PORT'] = data.L4_DST_PORT.apply(str)"
      ]
    },
    {
      "cell_type": "code",
      "execution_count": null,
      "metadata": {
        "id": "9EEwTAK3tle9"
      },
      "outputs": [],
      "source": [
        "data['IPV4_SRC_ADDR'] = data['IPV4_SRC_ADDR'] + ':' + data['L4_SRC_PORT']\n",
        "data['IPV4_DST_ADDR'] = data['IPV4_DST_ADDR'] + ':' + data['L4_DST_PORT']"
      ]
    },
    {
      "cell_type": "code",
      "execution_count": null,
      "metadata": {
        "id": "xbdaHUxOtzd-"
      },
      "outputs": [],
      "source": [
        "data.drop(columns=['L4_SRC_PORT','L4_DST_PORT'],inplace=True)"
      ]
    },
    {
      "cell_type": "code",
      "execution_count": null,
      "metadata": {
        "id": "CN9rLLmr0eeI",
        "colab": {
          "base_uri": "https://localhost:8080/",
          "height": 270
        },
        "outputId": "9ce718e6-2c94-4d15-aa93-4c582d3c8488"
      },
      "outputs": [
        {
          "output_type": "execute_result",
          "data": {
            "text/plain": [
              "           IPV4_SRC_ADDR       IPV4_DST_ADDR  PROTOCOL  L7_PROTO  IN_BYTES  \\\n",
              "29   172.25.140.76:43025   149.171.126.16:25         6       3.0     41290   \n",
              "40   172.19.197.39:64923   149.171.126.17:80         6       7.0       994   \n",
              "67    172.28.229.53:9022  149.171.126.13:111         6      11.0       552   \n",
              "93   172.24.240.234:1752   149.171.126.10:25         6       3.0      3022   \n",
              "115   172.20.37.80:53967  149.171.126.14:111        17      11.0       168   \n",
              "\n",
              "     OUT_BYTES  IN_PKTS  OUT_PKTS  TCP_FLAGS  FLOW_DURATION_MILLISECONDS  \\\n",
              "29        2080       48        24         27                         803   \n",
              "40         256       10         6         19                         189   \n",
              "67         336       10         8         19                         678   \n",
              "93        1636       20        20         19                         789   \n",
              "115          0        2         0          0                           0   \n",
              "\n",
              "     Label Attack  \n",
              "29       1    U2R  \n",
              "40       1    U2R  \n",
              "67       1  Probe  \n",
              "93       1    Dos  \n",
              "115      1  Probe  "
            ],
            "text/html": [
              "\n",
              "  <div id=\"df-8a824610-aa7f-4ccb-a7cd-02f50047135c\">\n",
              "    <div class=\"colab-df-container\">\n",
              "      <div>\n",
              "<style scoped>\n",
              "    .dataframe tbody tr th:only-of-type {\n",
              "        vertical-align: middle;\n",
              "    }\n",
              "\n",
              "    .dataframe tbody tr th {\n",
              "        vertical-align: top;\n",
              "    }\n",
              "\n",
              "    .dataframe thead th {\n",
              "        text-align: right;\n",
              "    }\n",
              "</style>\n",
              "<table border=\"1\" class=\"dataframe\">\n",
              "  <thead>\n",
              "    <tr style=\"text-align: right;\">\n",
              "      <th></th>\n",
              "      <th>IPV4_SRC_ADDR</th>\n",
              "      <th>IPV4_DST_ADDR</th>\n",
              "      <th>PROTOCOL</th>\n",
              "      <th>L7_PROTO</th>\n",
              "      <th>IN_BYTES</th>\n",
              "      <th>OUT_BYTES</th>\n",
              "      <th>IN_PKTS</th>\n",
              "      <th>OUT_PKTS</th>\n",
              "      <th>TCP_FLAGS</th>\n",
              "      <th>FLOW_DURATION_MILLISECONDS</th>\n",
              "      <th>Label</th>\n",
              "      <th>Attack</th>\n",
              "    </tr>\n",
              "  </thead>\n",
              "  <tbody>\n",
              "    <tr>\n",
              "      <th>29</th>\n",
              "      <td>172.25.140.76:43025</td>\n",
              "      <td>149.171.126.16:25</td>\n",
              "      <td>6</td>\n",
              "      <td>3.0</td>\n",
              "      <td>41290</td>\n",
              "      <td>2080</td>\n",
              "      <td>48</td>\n",
              "      <td>24</td>\n",
              "      <td>27</td>\n",
              "      <td>803</td>\n",
              "      <td>1</td>\n",
              "      <td>U2R</td>\n",
              "    </tr>\n",
              "    <tr>\n",
              "      <th>40</th>\n",
              "      <td>172.19.197.39:64923</td>\n",
              "      <td>149.171.126.17:80</td>\n",
              "      <td>6</td>\n",
              "      <td>7.0</td>\n",
              "      <td>994</td>\n",
              "      <td>256</td>\n",
              "      <td>10</td>\n",
              "      <td>6</td>\n",
              "      <td>19</td>\n",
              "      <td>189</td>\n",
              "      <td>1</td>\n",
              "      <td>U2R</td>\n",
              "    </tr>\n",
              "    <tr>\n",
              "      <th>67</th>\n",
              "      <td>172.28.229.53:9022</td>\n",
              "      <td>149.171.126.13:111</td>\n",
              "      <td>6</td>\n",
              "      <td>11.0</td>\n",
              "      <td>552</td>\n",
              "      <td>336</td>\n",
              "      <td>10</td>\n",
              "      <td>8</td>\n",
              "      <td>19</td>\n",
              "      <td>678</td>\n",
              "      <td>1</td>\n",
              "      <td>Probe</td>\n",
              "    </tr>\n",
              "    <tr>\n",
              "      <th>93</th>\n",
              "      <td>172.24.240.234:1752</td>\n",
              "      <td>149.171.126.10:25</td>\n",
              "      <td>6</td>\n",
              "      <td>3.0</td>\n",
              "      <td>3022</td>\n",
              "      <td>1636</td>\n",
              "      <td>20</td>\n",
              "      <td>20</td>\n",
              "      <td>19</td>\n",
              "      <td>789</td>\n",
              "      <td>1</td>\n",
              "      <td>Dos</td>\n",
              "    </tr>\n",
              "    <tr>\n",
              "      <th>115</th>\n",
              "      <td>172.20.37.80:53967</td>\n",
              "      <td>149.171.126.14:111</td>\n",
              "      <td>17</td>\n",
              "      <td>11.0</td>\n",
              "      <td>168</td>\n",
              "      <td>0</td>\n",
              "      <td>2</td>\n",
              "      <td>0</td>\n",
              "      <td>0</td>\n",
              "      <td>0</td>\n",
              "      <td>1</td>\n",
              "      <td>Probe</td>\n",
              "    </tr>\n",
              "  </tbody>\n",
              "</table>\n",
              "</div>\n",
              "      <button class=\"colab-df-convert\" onclick=\"convertToInteractive('df-8a824610-aa7f-4ccb-a7cd-02f50047135c')\"\n",
              "              title=\"Convert this dataframe to an interactive table.\"\n",
              "              style=\"display:none;\">\n",
              "        \n",
              "  <svg xmlns=\"http://www.w3.org/2000/svg\" height=\"24px\"viewBox=\"0 0 24 24\"\n",
              "       width=\"24px\">\n",
              "    <path d=\"M0 0h24v24H0V0z\" fill=\"none\"/>\n",
              "    <path d=\"M18.56 5.44l.94 2.06.94-2.06 2.06-.94-2.06-.94-.94-2.06-.94 2.06-2.06.94zm-11 1L8.5 8.5l.94-2.06 2.06-.94-2.06-.94L8.5 2.5l-.94 2.06-2.06.94zm10 10l.94 2.06.94-2.06 2.06-.94-2.06-.94-.94-2.06-.94 2.06-2.06.94z\"/><path d=\"M17.41 7.96l-1.37-1.37c-.4-.4-.92-.59-1.43-.59-.52 0-1.04.2-1.43.59L10.3 9.45l-7.72 7.72c-.78.78-.78 2.05 0 2.83L4 21.41c.39.39.9.59 1.41.59.51 0 1.02-.2 1.41-.59l7.78-7.78 2.81-2.81c.8-.78.8-2.07 0-2.86zM5.41 20L4 18.59l7.72-7.72 1.47 1.35L5.41 20z\"/>\n",
              "  </svg>\n",
              "      </button>\n",
              "      \n",
              "  <style>\n",
              "    .colab-df-container {\n",
              "      display:flex;\n",
              "      flex-wrap:wrap;\n",
              "      gap: 12px;\n",
              "    }\n",
              "\n",
              "    .colab-df-convert {\n",
              "      background-color: #E8F0FE;\n",
              "      border: none;\n",
              "      border-radius: 50%;\n",
              "      cursor: pointer;\n",
              "      display: none;\n",
              "      fill: #1967D2;\n",
              "      height: 32px;\n",
              "      padding: 0 0 0 0;\n",
              "      width: 32px;\n",
              "    }\n",
              "\n",
              "    .colab-df-convert:hover {\n",
              "      background-color: #E2EBFA;\n",
              "      box-shadow: 0px 1px 2px rgba(60, 64, 67, 0.3), 0px 1px 3px 1px rgba(60, 64, 67, 0.15);\n",
              "      fill: #174EA6;\n",
              "    }\n",
              "\n",
              "    [theme=dark] .colab-df-convert {\n",
              "      background-color: #3B4455;\n",
              "      fill: #D2E3FC;\n",
              "    }\n",
              "\n",
              "    [theme=dark] .colab-df-convert:hover {\n",
              "      background-color: #434B5C;\n",
              "      box-shadow: 0px 1px 3px 1px rgba(0, 0, 0, 0.15);\n",
              "      filter: drop-shadow(0px 1px 2px rgba(0, 0, 0, 0.3));\n",
              "      fill: #FFFFFF;\n",
              "    }\n",
              "  </style>\n",
              "\n",
              "      <script>\n",
              "        const buttonEl =\n",
              "          document.querySelector('#df-8a824610-aa7f-4ccb-a7cd-02f50047135c button.colab-df-convert');\n",
              "        buttonEl.style.display =\n",
              "          google.colab.kernel.accessAllowed ? 'block' : 'none';\n",
              "\n",
              "        async function convertToInteractive(key) {\n",
              "          const element = document.querySelector('#df-8a824610-aa7f-4ccb-a7cd-02f50047135c');\n",
              "          const dataTable =\n",
              "            await google.colab.kernel.invokeFunction('convertToInteractive',\n",
              "                                                     [key], {});\n",
              "          if (!dataTable) return;\n",
              "\n",
              "          const docLinkHtml = 'Like what you see? Visit the ' +\n",
              "            '<a target=\"_blank\" href=https://colab.research.google.com/notebooks/data_table.ipynb>data table notebook</a>'\n",
              "            + ' to learn more about interactive tables.';\n",
              "          element.innerHTML = '';\n",
              "          dataTable['output_type'] = 'display_data';\n",
              "          await google.colab.output.renderOutput(dataTable, element);\n",
              "          const docLink = document.createElement('div');\n",
              "          docLink.innerHTML = docLinkHtml;\n",
              "          element.appendChild(docLink);\n",
              "        }\n",
              "      </script>\n",
              "    </div>\n",
              "  </div>\n",
              "  "
            ]
          },
          "metadata": {},
          "execution_count": 17
        }
      ],
      "source": [
        "data.head()"
      ]
    },
    {
      "cell_type": "code",
      "execution_count": null,
      "metadata": {
        "id": "C_WU15ngvnBM"
      },
      "outputs": [],
      "source": [
        "data.drop(columns=['Label'],inplace = True)"
      ]
    },
    {
      "cell_type": "code",
      "execution_count": null,
      "metadata": {
        "id": "Q0d3nbdiv37j"
      },
      "outputs": [],
      "source": [
        "data.rename(columns={\"Attack\": \"label\"},inplace = True)"
      ]
    },
    {
      "cell_type": "code",
      "execution_count": null,
      "metadata": {
        "id": "yjS-hTKDzI29"
      },
      "outputs": [],
      "source": [
        "le = LabelEncoder()\n",
        "le.fit_transform(data.label.values)\n",
        "data['label'] = le.transform(data['label'])"
      ]
    },
    {
      "cell_type": "code",
      "execution_count": null,
      "metadata": {
        "id": "SVgjPVfg03XG"
      },
      "outputs": [],
      "source": [
        "label = data.label"
      ]
    },
    {
      "cell_type": "code",
      "execution_count": null,
      "metadata": {
        "id": "ADl2Fj7H08Rr"
      },
      "outputs": [],
      "source": [
        "data.drop(columns=['label'],inplace = True)"
      ]
    },
    {
      "cell_type": "code",
      "execution_count": null,
      "metadata": {
        "id": "qhsZMD3uwLk7"
      },
      "outputs": [],
      "source": [
        "scaler = StandardScaler()"
      ]
    },
    {
      "cell_type": "code",
      "execution_count": null,
      "metadata": {
        "id": "aukoVdNf2zcp"
      },
      "outputs": [],
      "source": [
        "data =  pd.concat([data, label], axis=1)"
      ]
    },
    {
      "cell_type": "code",
      "execution_count": null,
      "metadata": {
        "id": "IP-ZEZW4nxSm",
        "colab": {
          "base_uri": "https://localhost:8080/",
          "height": 206
        },
        "outputId": "9da65863-f96b-4001-896c-ac429c6a0024"
      },
      "outputs": [
        {
          "output_type": "execute_result",
          "data": {
            "text/plain": [
              "           IPV4_SRC_ADDR       IPV4_DST_ADDR  PROTOCOL  L7_PROTO  IN_BYTES  \\\n",
              "29   172.25.140.76:43025   149.171.126.16:25         6       3.0     41290   \n",
              "40   172.19.197.39:64923   149.171.126.17:80         6       7.0       994   \n",
              "67    172.28.229.53:9022  149.171.126.13:111         6      11.0       552   \n",
              "93   172.24.240.234:1752   149.171.126.10:25         6       3.0      3022   \n",
              "115   172.20.37.80:53967  149.171.126.14:111        17      11.0       168   \n",
              "\n",
              "     OUT_BYTES  IN_PKTS  OUT_PKTS  TCP_FLAGS  FLOW_DURATION_MILLISECONDS  \\\n",
              "29        2080       48        24         27                         803   \n",
              "40         256       10         6         19                         189   \n",
              "67         336       10         8         19                         678   \n",
              "93        1636       20        20         19                         789   \n",
              "115          0        2         0          0                           0   \n",
              "\n",
              "     label  \n",
              "29       4  \n",
              "40       4  \n",
              "67       2  \n",
              "93       0  \n",
              "115      2  "
            ],
            "text/html": [
              "\n",
              "  <div id=\"df-f6498128-9361-45b4-8c69-e0f191206b38\">\n",
              "    <div class=\"colab-df-container\">\n",
              "      <div>\n",
              "<style scoped>\n",
              "    .dataframe tbody tr th:only-of-type {\n",
              "        vertical-align: middle;\n",
              "    }\n",
              "\n",
              "    .dataframe tbody tr th {\n",
              "        vertical-align: top;\n",
              "    }\n",
              "\n",
              "    .dataframe thead th {\n",
              "        text-align: right;\n",
              "    }\n",
              "</style>\n",
              "<table border=\"1\" class=\"dataframe\">\n",
              "  <thead>\n",
              "    <tr style=\"text-align: right;\">\n",
              "      <th></th>\n",
              "      <th>IPV4_SRC_ADDR</th>\n",
              "      <th>IPV4_DST_ADDR</th>\n",
              "      <th>PROTOCOL</th>\n",
              "      <th>L7_PROTO</th>\n",
              "      <th>IN_BYTES</th>\n",
              "      <th>OUT_BYTES</th>\n",
              "      <th>IN_PKTS</th>\n",
              "      <th>OUT_PKTS</th>\n",
              "      <th>TCP_FLAGS</th>\n",
              "      <th>FLOW_DURATION_MILLISECONDS</th>\n",
              "      <th>label</th>\n",
              "    </tr>\n",
              "  </thead>\n",
              "  <tbody>\n",
              "    <tr>\n",
              "      <th>29</th>\n",
              "      <td>172.25.140.76:43025</td>\n",
              "      <td>149.171.126.16:25</td>\n",
              "      <td>6</td>\n",
              "      <td>3.0</td>\n",
              "      <td>41290</td>\n",
              "      <td>2080</td>\n",
              "      <td>48</td>\n",
              "      <td>24</td>\n",
              "      <td>27</td>\n",
              "      <td>803</td>\n",
              "      <td>4</td>\n",
              "    </tr>\n",
              "    <tr>\n",
              "      <th>40</th>\n",
              "      <td>172.19.197.39:64923</td>\n",
              "      <td>149.171.126.17:80</td>\n",
              "      <td>6</td>\n",
              "      <td>7.0</td>\n",
              "      <td>994</td>\n",
              "      <td>256</td>\n",
              "      <td>10</td>\n",
              "      <td>6</td>\n",
              "      <td>19</td>\n",
              "      <td>189</td>\n",
              "      <td>4</td>\n",
              "    </tr>\n",
              "    <tr>\n",
              "      <th>67</th>\n",
              "      <td>172.28.229.53:9022</td>\n",
              "      <td>149.171.126.13:111</td>\n",
              "      <td>6</td>\n",
              "      <td>11.0</td>\n",
              "      <td>552</td>\n",
              "      <td>336</td>\n",
              "      <td>10</td>\n",
              "      <td>8</td>\n",
              "      <td>19</td>\n",
              "      <td>678</td>\n",
              "      <td>2</td>\n",
              "    </tr>\n",
              "    <tr>\n",
              "      <th>93</th>\n",
              "      <td>172.24.240.234:1752</td>\n",
              "      <td>149.171.126.10:25</td>\n",
              "      <td>6</td>\n",
              "      <td>3.0</td>\n",
              "      <td>3022</td>\n",
              "      <td>1636</td>\n",
              "      <td>20</td>\n",
              "      <td>20</td>\n",
              "      <td>19</td>\n",
              "      <td>789</td>\n",
              "      <td>0</td>\n",
              "    </tr>\n",
              "    <tr>\n",
              "      <th>115</th>\n",
              "      <td>172.20.37.80:53967</td>\n",
              "      <td>149.171.126.14:111</td>\n",
              "      <td>17</td>\n",
              "      <td>11.0</td>\n",
              "      <td>168</td>\n",
              "      <td>0</td>\n",
              "      <td>2</td>\n",
              "      <td>0</td>\n",
              "      <td>0</td>\n",
              "      <td>0</td>\n",
              "      <td>2</td>\n",
              "    </tr>\n",
              "  </tbody>\n",
              "</table>\n",
              "</div>\n",
              "      <button class=\"colab-df-convert\" onclick=\"convertToInteractive('df-f6498128-9361-45b4-8c69-e0f191206b38')\"\n",
              "              title=\"Convert this dataframe to an interactive table.\"\n",
              "              style=\"display:none;\">\n",
              "        \n",
              "  <svg xmlns=\"http://www.w3.org/2000/svg\" height=\"24px\"viewBox=\"0 0 24 24\"\n",
              "       width=\"24px\">\n",
              "    <path d=\"M0 0h24v24H0V0z\" fill=\"none\"/>\n",
              "    <path d=\"M18.56 5.44l.94 2.06.94-2.06 2.06-.94-2.06-.94-.94-2.06-.94 2.06-2.06.94zm-11 1L8.5 8.5l.94-2.06 2.06-.94-2.06-.94L8.5 2.5l-.94 2.06-2.06.94zm10 10l.94 2.06.94-2.06 2.06-.94-2.06-.94-.94-2.06-.94 2.06-2.06.94z\"/><path d=\"M17.41 7.96l-1.37-1.37c-.4-.4-.92-.59-1.43-.59-.52 0-1.04.2-1.43.59L10.3 9.45l-7.72 7.72c-.78.78-.78 2.05 0 2.83L4 21.41c.39.39.9.59 1.41.59.51 0 1.02-.2 1.41-.59l7.78-7.78 2.81-2.81c.8-.78.8-2.07 0-2.86zM5.41 20L4 18.59l7.72-7.72 1.47 1.35L5.41 20z\"/>\n",
              "  </svg>\n",
              "      </button>\n",
              "      \n",
              "  <style>\n",
              "    .colab-df-container {\n",
              "      display:flex;\n",
              "      flex-wrap:wrap;\n",
              "      gap: 12px;\n",
              "    }\n",
              "\n",
              "    .colab-df-convert {\n",
              "      background-color: #E8F0FE;\n",
              "      border: none;\n",
              "      border-radius: 50%;\n",
              "      cursor: pointer;\n",
              "      display: none;\n",
              "      fill: #1967D2;\n",
              "      height: 32px;\n",
              "      padding: 0 0 0 0;\n",
              "      width: 32px;\n",
              "    }\n",
              "\n",
              "    .colab-df-convert:hover {\n",
              "      background-color: #E2EBFA;\n",
              "      box-shadow: 0px 1px 2px rgba(60, 64, 67, 0.3), 0px 1px 3px 1px rgba(60, 64, 67, 0.15);\n",
              "      fill: #174EA6;\n",
              "    }\n",
              "\n",
              "    [theme=dark] .colab-df-convert {\n",
              "      background-color: #3B4455;\n",
              "      fill: #D2E3FC;\n",
              "    }\n",
              "\n",
              "    [theme=dark] .colab-df-convert:hover {\n",
              "      background-color: #434B5C;\n",
              "      box-shadow: 0px 1px 3px 1px rgba(0, 0, 0, 0.15);\n",
              "      filter: drop-shadow(0px 1px 2px rgba(0, 0, 0, 0.3));\n",
              "      fill: #FFFFFF;\n",
              "    }\n",
              "  </style>\n",
              "\n",
              "      <script>\n",
              "        const buttonEl =\n",
              "          document.querySelector('#df-f6498128-9361-45b4-8c69-e0f191206b38 button.colab-df-convert');\n",
              "        buttonEl.style.display =\n",
              "          google.colab.kernel.accessAllowed ? 'block' : 'none';\n",
              "\n",
              "        async function convertToInteractive(key) {\n",
              "          const element = document.querySelector('#df-f6498128-9361-45b4-8c69-e0f191206b38');\n",
              "          const dataTable =\n",
              "            await google.colab.kernel.invokeFunction('convertToInteractive',\n",
              "                                                     [key], {});\n",
              "          if (!dataTable) return;\n",
              "\n",
              "          const docLinkHtml = 'Like what you see? Visit the ' +\n",
              "            '<a target=\"_blank\" href=https://colab.research.google.com/notebooks/data_table.ipynb>data table notebook</a>'\n",
              "            + ' to learn more about interactive tables.';\n",
              "          element.innerHTML = '';\n",
              "          dataTable['output_type'] = 'display_data';\n",
              "          await google.colab.output.renderOutput(dataTable, element);\n",
              "          const docLink = document.createElement('div');\n",
              "          docLink.innerHTML = docLinkHtml;\n",
              "          element.appendChild(docLink);\n",
              "        }\n",
              "      </script>\n",
              "    </div>\n",
              "  </div>\n",
              "  "
            ]
          },
          "metadata": {},
          "execution_count": 25
        }
      ],
      "source": [
        "data.head()"
      ]
    },
    {
      "cell_type": "code",
      "execution_count": null,
      "metadata": {
        "id": "PUa4uJbewQc7"
      },
      "outputs": [],
      "source": [
        "X_train, X_test, y_train, y_test = train_test_split(\n",
        "     data, label, test_size=0.2, random_state=123,stratify= label)"
      ]
    },
    {
      "cell_type": "code",
      "execution_count": null,
      "metadata": {
        "id": "z3DrIWDHqNxp",
        "colab": {
          "base_uri": "https://localhost:8080/"
        },
        "outputId": "3f241b87-2bc0-4e3d-a38f-7f3afa114275"
      },
      "outputs": [
        {
          "output_type": "stream",
          "name": "stderr",
          "text": [
            "/usr/local/lib/python3.7/dist-packages/category_encoders/target_encoder.py:124: FutureWarning: Default parameter min_samples_leaf will change in version 2.6.See https://github.com/scikit-learn-contrib/category_encoders/issues/327\n",
            "  category=FutureWarning)\n",
            "/usr/local/lib/python3.7/dist-packages/category_encoders/target_encoder.py:129: FutureWarning: Default parameter smoothing will change in version 2.6.See https://github.com/scikit-learn-contrib/category_encoders/issues/327\n",
            "  category=FutureWarning)\n"
          ]
        }
      ],
      "source": [
        "encoder = ce.TargetEncoder(cols=['TCP_FLAGS','L7_PROTO','PROTOCOL'])\n",
        "encoder.fit(X_train, y_train)\n",
        "X_train = encoder.transform(X_train)"
      ]
    },
    {
      "cell_type": "code",
      "execution_count": null,
      "metadata": {
        "id": "EDKYHCbcqN81"
      },
      "outputs": [],
      "source": [
        "cols_to_norm = list(set(list(X_train.iloc[:, 2:].columns ))  - set(list(['label'])) )\n",
        "X_train[cols_to_norm] = scaler.fit_transform(X_train[cols_to_norm])"
      ]
    },
    {
      "cell_type": "code",
      "execution_count": null,
      "metadata": {
        "id": "ek535MkWwUHN"
      },
      "outputs": [],
      "source": [
        "X_train['h'] = X_train[ cols_to_norm ].values.tolist()"
      ]
    },
    {
      "cell_type": "code",
      "execution_count": null,
      "metadata": {
        "id": "v4mfPB0X9rRX",
        "colab": {
          "base_uri": "https://localhost:8080/",
          "height": 835
        },
        "outputId": "89499c8d-c650-48d9-a4a8-8eac6679cdc2"
      },
      "outputs": [
        {
          "output_type": "execute_result",
          "data": {
            "text/plain": [
              "                IPV4_SRC_ADDR        IPV4_DST_ADDR  PROTOCOL  L7_PROTO  \\\n",
              "1405164    172.25.36.78:58073     149.171.126.0:53 -0.493764 -0.346323   \n",
              "1139258   172.16.68.141:21840  149.171.126.6:37504 -0.002238 -0.574362   \n",
              "1574636  172.25.159.181:12771  149.171.126.0:35397 -0.002238 -0.346323   \n",
              "289263   172.30.105.171:22864   149.171.126.19:111 -0.493764  0.240934   \n",
              "1504405   172.22.205.10:40154   149.171.126.7:3354 -0.002238 -0.346323   \n",
              "...                       ...                  ...       ...       ...   \n",
              "1569834  172.27.158.102:60548   149.171.126.1:5190 -0.002238 -0.346323   \n",
              "1595925    172.29.36.32:44710   149.171.126.3:8100 -0.002238 -0.346323   \n",
              "1206277    172.21.86.203:7534   149.171.126.0:6979 -0.002238 -0.346323   \n",
              "1184648   172.29.136.87:39760    149.171.126.4:143 -0.002238  0.011998   \n",
              "1292250  172.25.128.235:32392     149.171.126.3:53 -0.493764 -0.346323   \n",
              "\n",
              "         IN_BYTES  OUT_BYTES   IN_PKTS  OUT_PKTS  TCP_FLAGS  \\\n",
              "1405164 -0.051618  -0.228148 -0.325852 -0.349041   0.002719   \n",
              "1139258 -0.023962   0.027432  0.184674  0.095561  -0.331202   \n",
              "1574636  0.018740  -0.227357 -0.220226 -0.319401  -0.331202   \n",
              "289263  -0.051441  -0.229141 -0.325852 -0.363861   0.002719   \n",
              "1504405  0.018740  -0.227357 -0.220226 -0.319401  -0.331202   \n",
              "...           ...        ...       ...       ...        ...   \n",
              "1569834 -0.044487  -0.216534 -0.237830 -0.274941  -0.331202   \n",
              "1595925 -0.012169   0.250542  0.431135  0.317862  -0.331202   \n",
              "1206277 -0.049390  -0.179962 -0.273039 -0.274941  -0.331202   \n",
              "1184648  0.009799  -0.143735  0.730409  0.569803  -0.331202   \n",
              "1292250 -0.051618  -0.228148 -0.325852 -0.349041   0.002719   \n",
              "\n",
              "         FLOW_DURATION_MILLISECONDS  label  \\\n",
              "1405164                   -0.185311      1   \n",
              "1139258                   -0.185221      1   \n",
              "1574636                   -0.185311      1   \n",
              "289263                    -0.185311      2   \n",
              "1504405                   -0.185311      1   \n",
              "...                             ...    ...   \n",
              "1569834                   -0.185311      1   \n",
              "1595925                   -0.185311      1   \n",
              "1206277                   -0.185311      1   \n",
              "1184648                   -0.185311      1   \n",
              "1292250                   -0.185311      1   \n",
              "\n",
              "                                                         h  \n",
              "1405164  [-0.3463225930382721, -0.3258515546459261, -0....  \n",
              "1139258  [-0.574362469947878, 0.18467422912194642, 0.02...  \n",
              "1574636  [-0.3463225930382721, -0.2202255304180904, -0....  \n",
              "289263   [0.2409335441462697, -0.3258515546459261, -0.2...  \n",
              "1504405  [-0.3463225930382721, -0.2202255304180904, -0....  \n",
              "...                                                    ...  \n",
              "1569834  [-0.3463225930382721, -0.23782986778939635, -0...  \n",
              "1595925  [-0.3463225930382721, 0.4311349523202297, 0.25...  \n",
              "1206277  [-0.3463225930382721, -0.27303854253200827, -0...  \n",
              "1184648  [0.011997948565199654, 0.7304086876324308, -0....  \n",
              "1292250  [-0.3463225930382721, -0.3258515546459261, -0....  \n",
              "\n",
              "[498494 rows x 12 columns]"
            ],
            "text/html": [
              "\n",
              "  <div id=\"df-98fd9916-afa6-4614-a2ee-dd38d1fa38c7\">\n",
              "    <div class=\"colab-df-container\">\n",
              "      <div>\n",
              "<style scoped>\n",
              "    .dataframe tbody tr th:only-of-type {\n",
              "        vertical-align: middle;\n",
              "    }\n",
              "\n",
              "    .dataframe tbody tr th {\n",
              "        vertical-align: top;\n",
              "    }\n",
              "\n",
              "    .dataframe thead th {\n",
              "        text-align: right;\n",
              "    }\n",
              "</style>\n",
              "<table border=\"1\" class=\"dataframe\">\n",
              "  <thead>\n",
              "    <tr style=\"text-align: right;\">\n",
              "      <th></th>\n",
              "      <th>IPV4_SRC_ADDR</th>\n",
              "      <th>IPV4_DST_ADDR</th>\n",
              "      <th>PROTOCOL</th>\n",
              "      <th>L7_PROTO</th>\n",
              "      <th>IN_BYTES</th>\n",
              "      <th>OUT_BYTES</th>\n",
              "      <th>IN_PKTS</th>\n",
              "      <th>OUT_PKTS</th>\n",
              "      <th>TCP_FLAGS</th>\n",
              "      <th>FLOW_DURATION_MILLISECONDS</th>\n",
              "      <th>label</th>\n",
              "      <th>h</th>\n",
              "    </tr>\n",
              "  </thead>\n",
              "  <tbody>\n",
              "    <tr>\n",
              "      <th>1405164</th>\n",
              "      <td>172.25.36.78:58073</td>\n",
              "      <td>149.171.126.0:53</td>\n",
              "      <td>-0.493764</td>\n",
              "      <td>-0.346323</td>\n",
              "      <td>-0.051618</td>\n",
              "      <td>-0.228148</td>\n",
              "      <td>-0.325852</td>\n",
              "      <td>-0.349041</td>\n",
              "      <td>0.002719</td>\n",
              "      <td>-0.185311</td>\n",
              "      <td>1</td>\n",
              "      <td>[-0.3463225930382721, -0.3258515546459261, -0....</td>\n",
              "    </tr>\n",
              "    <tr>\n",
              "      <th>1139258</th>\n",
              "      <td>172.16.68.141:21840</td>\n",
              "      <td>149.171.126.6:37504</td>\n",
              "      <td>-0.002238</td>\n",
              "      <td>-0.574362</td>\n",
              "      <td>-0.023962</td>\n",
              "      <td>0.027432</td>\n",
              "      <td>0.184674</td>\n",
              "      <td>0.095561</td>\n",
              "      <td>-0.331202</td>\n",
              "      <td>-0.185221</td>\n",
              "      <td>1</td>\n",
              "      <td>[-0.574362469947878, 0.18467422912194642, 0.02...</td>\n",
              "    </tr>\n",
              "    <tr>\n",
              "      <th>1574636</th>\n",
              "      <td>172.25.159.181:12771</td>\n",
              "      <td>149.171.126.0:35397</td>\n",
              "      <td>-0.002238</td>\n",
              "      <td>-0.346323</td>\n",
              "      <td>0.018740</td>\n",
              "      <td>-0.227357</td>\n",
              "      <td>-0.220226</td>\n",
              "      <td>-0.319401</td>\n",
              "      <td>-0.331202</td>\n",
              "      <td>-0.185311</td>\n",
              "      <td>1</td>\n",
              "      <td>[-0.3463225930382721, -0.2202255304180904, -0....</td>\n",
              "    </tr>\n",
              "    <tr>\n",
              "      <th>289263</th>\n",
              "      <td>172.30.105.171:22864</td>\n",
              "      <td>149.171.126.19:111</td>\n",
              "      <td>-0.493764</td>\n",
              "      <td>0.240934</td>\n",
              "      <td>-0.051441</td>\n",
              "      <td>-0.229141</td>\n",
              "      <td>-0.325852</td>\n",
              "      <td>-0.363861</td>\n",
              "      <td>0.002719</td>\n",
              "      <td>-0.185311</td>\n",
              "      <td>2</td>\n",
              "      <td>[0.2409335441462697, -0.3258515546459261, -0.2...</td>\n",
              "    </tr>\n",
              "    <tr>\n",
              "      <th>1504405</th>\n",
              "      <td>172.22.205.10:40154</td>\n",
              "      <td>149.171.126.7:3354</td>\n",
              "      <td>-0.002238</td>\n",
              "      <td>-0.346323</td>\n",
              "      <td>0.018740</td>\n",
              "      <td>-0.227357</td>\n",
              "      <td>-0.220226</td>\n",
              "      <td>-0.319401</td>\n",
              "      <td>-0.331202</td>\n",
              "      <td>-0.185311</td>\n",
              "      <td>1</td>\n",
              "      <td>[-0.3463225930382721, -0.2202255304180904, -0....</td>\n",
              "    </tr>\n",
              "    <tr>\n",
              "      <th>...</th>\n",
              "      <td>...</td>\n",
              "      <td>...</td>\n",
              "      <td>...</td>\n",
              "      <td>...</td>\n",
              "      <td>...</td>\n",
              "      <td>...</td>\n",
              "      <td>...</td>\n",
              "      <td>...</td>\n",
              "      <td>...</td>\n",
              "      <td>...</td>\n",
              "      <td>...</td>\n",
              "      <td>...</td>\n",
              "    </tr>\n",
              "    <tr>\n",
              "      <th>1569834</th>\n",
              "      <td>172.27.158.102:60548</td>\n",
              "      <td>149.171.126.1:5190</td>\n",
              "      <td>-0.002238</td>\n",
              "      <td>-0.346323</td>\n",
              "      <td>-0.044487</td>\n",
              "      <td>-0.216534</td>\n",
              "      <td>-0.237830</td>\n",
              "      <td>-0.274941</td>\n",
              "      <td>-0.331202</td>\n",
              "      <td>-0.185311</td>\n",
              "      <td>1</td>\n",
              "      <td>[-0.3463225930382721, -0.23782986778939635, -0...</td>\n",
              "    </tr>\n",
              "    <tr>\n",
              "      <th>1595925</th>\n",
              "      <td>172.29.36.32:44710</td>\n",
              "      <td>149.171.126.3:8100</td>\n",
              "      <td>-0.002238</td>\n",
              "      <td>-0.346323</td>\n",
              "      <td>-0.012169</td>\n",
              "      <td>0.250542</td>\n",
              "      <td>0.431135</td>\n",
              "      <td>0.317862</td>\n",
              "      <td>-0.331202</td>\n",
              "      <td>-0.185311</td>\n",
              "      <td>1</td>\n",
              "      <td>[-0.3463225930382721, 0.4311349523202297, 0.25...</td>\n",
              "    </tr>\n",
              "    <tr>\n",
              "      <th>1206277</th>\n",
              "      <td>172.21.86.203:7534</td>\n",
              "      <td>149.171.126.0:6979</td>\n",
              "      <td>-0.002238</td>\n",
              "      <td>-0.346323</td>\n",
              "      <td>-0.049390</td>\n",
              "      <td>-0.179962</td>\n",
              "      <td>-0.273039</td>\n",
              "      <td>-0.274941</td>\n",
              "      <td>-0.331202</td>\n",
              "      <td>-0.185311</td>\n",
              "      <td>1</td>\n",
              "      <td>[-0.3463225930382721, -0.27303854253200827, -0...</td>\n",
              "    </tr>\n",
              "    <tr>\n",
              "      <th>1184648</th>\n",
              "      <td>172.29.136.87:39760</td>\n",
              "      <td>149.171.126.4:143</td>\n",
              "      <td>-0.002238</td>\n",
              "      <td>0.011998</td>\n",
              "      <td>0.009799</td>\n",
              "      <td>-0.143735</td>\n",
              "      <td>0.730409</td>\n",
              "      <td>0.569803</td>\n",
              "      <td>-0.331202</td>\n",
              "      <td>-0.185311</td>\n",
              "      <td>1</td>\n",
              "      <td>[0.011997948565199654, 0.7304086876324308, -0....</td>\n",
              "    </tr>\n",
              "    <tr>\n",
              "      <th>1292250</th>\n",
              "      <td>172.25.128.235:32392</td>\n",
              "      <td>149.171.126.3:53</td>\n",
              "      <td>-0.493764</td>\n",
              "      <td>-0.346323</td>\n",
              "      <td>-0.051618</td>\n",
              "      <td>-0.228148</td>\n",
              "      <td>-0.325852</td>\n",
              "      <td>-0.349041</td>\n",
              "      <td>0.002719</td>\n",
              "      <td>-0.185311</td>\n",
              "      <td>1</td>\n",
              "      <td>[-0.3463225930382721, -0.3258515546459261, -0....</td>\n",
              "    </tr>\n",
              "  </tbody>\n",
              "</table>\n",
              "<p>498494 rows × 12 columns</p>\n",
              "</div>\n",
              "      <button class=\"colab-df-convert\" onclick=\"convertToInteractive('df-98fd9916-afa6-4614-a2ee-dd38d1fa38c7')\"\n",
              "              title=\"Convert this dataframe to an interactive table.\"\n",
              "              style=\"display:none;\">\n",
              "        \n",
              "  <svg xmlns=\"http://www.w3.org/2000/svg\" height=\"24px\"viewBox=\"0 0 24 24\"\n",
              "       width=\"24px\">\n",
              "    <path d=\"M0 0h24v24H0V0z\" fill=\"none\"/>\n",
              "    <path d=\"M18.56 5.44l.94 2.06.94-2.06 2.06-.94-2.06-.94-.94-2.06-.94 2.06-2.06.94zm-11 1L8.5 8.5l.94-2.06 2.06-.94-2.06-.94L8.5 2.5l-.94 2.06-2.06.94zm10 10l.94 2.06.94-2.06 2.06-.94-2.06-.94-.94-2.06-.94 2.06-2.06.94z\"/><path d=\"M17.41 7.96l-1.37-1.37c-.4-.4-.92-.59-1.43-.59-.52 0-1.04.2-1.43.59L10.3 9.45l-7.72 7.72c-.78.78-.78 2.05 0 2.83L4 21.41c.39.39.9.59 1.41.59.51 0 1.02-.2 1.41-.59l7.78-7.78 2.81-2.81c.8-.78.8-2.07 0-2.86zM5.41 20L4 18.59l7.72-7.72 1.47 1.35L5.41 20z\"/>\n",
              "  </svg>\n",
              "      </button>\n",
              "      \n",
              "  <style>\n",
              "    .colab-df-container {\n",
              "      display:flex;\n",
              "      flex-wrap:wrap;\n",
              "      gap: 12px;\n",
              "    }\n",
              "\n",
              "    .colab-df-convert {\n",
              "      background-color: #E8F0FE;\n",
              "      border: none;\n",
              "      border-radius: 50%;\n",
              "      cursor: pointer;\n",
              "      display: none;\n",
              "      fill: #1967D2;\n",
              "      height: 32px;\n",
              "      padding: 0 0 0 0;\n",
              "      width: 32px;\n",
              "    }\n",
              "\n",
              "    .colab-df-convert:hover {\n",
              "      background-color: #E2EBFA;\n",
              "      box-shadow: 0px 1px 2px rgba(60, 64, 67, 0.3), 0px 1px 3px 1px rgba(60, 64, 67, 0.15);\n",
              "      fill: #174EA6;\n",
              "    }\n",
              "\n",
              "    [theme=dark] .colab-df-convert {\n",
              "      background-color: #3B4455;\n",
              "      fill: #D2E3FC;\n",
              "    }\n",
              "\n",
              "    [theme=dark] .colab-df-convert:hover {\n",
              "      background-color: #434B5C;\n",
              "      box-shadow: 0px 1px 3px 1px rgba(0, 0, 0, 0.15);\n",
              "      filter: drop-shadow(0px 1px 2px rgba(0, 0, 0, 0.3));\n",
              "      fill: #FFFFFF;\n",
              "    }\n",
              "  </style>\n",
              "\n",
              "      <script>\n",
              "        const buttonEl =\n",
              "          document.querySelector('#df-98fd9916-afa6-4614-a2ee-dd38d1fa38c7 button.colab-df-convert');\n",
              "        buttonEl.style.display =\n",
              "          google.colab.kernel.accessAllowed ? 'block' : 'none';\n",
              "\n",
              "        async function convertToInteractive(key) {\n",
              "          const element = document.querySelector('#df-98fd9916-afa6-4614-a2ee-dd38d1fa38c7');\n",
              "          const dataTable =\n",
              "            await google.colab.kernel.invokeFunction('convertToInteractive',\n",
              "                                                     [key], {});\n",
              "          if (!dataTable) return;\n",
              "\n",
              "          const docLinkHtml = 'Like what you see? Visit the ' +\n",
              "            '<a target=\"_blank\" href=https://colab.research.google.com/notebooks/data_table.ipynb>data table notebook</a>'\n",
              "            + ' to learn more about interactive tables.';\n",
              "          element.innerHTML = '';\n",
              "          dataTable['output_type'] = 'display_data';\n",
              "          await google.colab.output.renderOutput(dataTable, element);\n",
              "          const docLink = document.createElement('div');\n",
              "          docLink.innerHTML = docLinkHtml;\n",
              "          element.appendChild(docLink);\n",
              "        }\n",
              "      </script>\n",
              "    </div>\n",
              "  </div>\n",
              "  "
            ]
          },
          "metadata": {},
          "execution_count": 30
        }
      ],
      "source": [
        "X_train"
      ]
    },
    {
      "cell_type": "code",
      "source": [
        "X_train.label.value_counts()"
      ],
      "metadata": {
        "id": "VOYr_yJWibio",
        "colab": {
          "base_uri": "https://localhost:8080/"
        },
        "outputId": "7fae64b5-a6fc-4da8-89a2-b6b906c41d8c"
      },
      "execution_count": null,
      "outputs": [
        {
          "output_type": "execute_result",
          "data": {
            "text/plain": [
              "1    440569\n",
              "4     42503\n",
              "2      9833\n",
              "0      4041\n",
              "3      1548\n",
              "Name: label, dtype: int64"
            ]
          },
          "metadata": {},
          "execution_count": 31
        }
      ]
    },
    {
      "cell_type": "code",
      "execution_count": null,
      "metadata": {
        "id": "OIrcNfMSwa0j"
      },
      "outputs": [],
      "source": [
        "G = nx.from_pandas_edgelist(X_train, \"IPV4_SRC_ADDR\", \"IPV4_DST_ADDR\", ['h','label'],create_using=nx.MultiGraph())"
      ]
    },
    {
      "cell_type": "code",
      "execution_count": null,
      "metadata": {
        "id": "QluLSxbiwn7M"
      },
      "outputs": [],
      "source": [
        "G = G.to_directed()\n"
      ]
    },
    {
      "cell_type": "code",
      "execution_count": null,
      "metadata": {
        "id": "2zClkKEzwrVb"
      },
      "outputs": [],
      "source": [
        "G = from_networkx(G,edge_attrs=['h','label'] )\n"
      ]
    },
    {
      "cell_type": "code",
      "execution_count": null,
      "metadata": {
        "id": "9jlBYgE8wsW7"
      },
      "outputs": [],
      "source": [
        "# Eq1\n",
        "G.ndata['h'] = th.ones(G.num_nodes(), G.edata['h'].shape[1])"
      ]
    },
    {
      "cell_type": "code",
      "execution_count": null,
      "metadata": {
        "id": "E7Vc6IELwuJr"
      },
      "outputs": [],
      "source": [
        "G.edata['train_mask'] = th.ones(len(G.edata['h']), dtype=th.bool)\n"
      ]
    },
    {
      "cell_type": "code",
      "execution_count": null,
      "metadata": {
        "id": "BIx7-W6s46Ju",
        "colab": {
          "base_uri": "https://localhost:8080/"
        },
        "outputId": "b9a7f15e-7d5c-4668-b530-9e31e7e11086"
      },
      "outputs": [
        {
          "output_type": "execute_result",
          "data": {
            "text/plain": [
              "tensor([True, True, True,  ..., True, True, True])"
            ]
          },
          "metadata": {},
          "execution_count": 37
        }
      ],
      "source": [
        "G.edata['train_mask'] "
      ]
    },
    {
      "cell_type": "code",
      "execution_count": null,
      "metadata": {
        "id": "GPLg-kCcwxLa"
      },
      "outputs": [],
      "source": [
        "G.ndata['h'] = th.reshape(G.ndata['h'], (G.ndata['h'].shape[0], 1,G.ndata['h'].shape[1]))\n",
        "G.edata['h'] = th.reshape(G.edata['h'], (G.edata['h'].shape[0], 1,G.edata['h'].shape[1]))"
      ]
    },
    {
      "cell_type": "code",
      "execution_count": null,
      "metadata": {
        "id": "DzDap1MR5e95"
      },
      "outputs": [],
      "source": [
        "def compute_accuracy(pred, labels):\n",
        "    return (pred.argmax(1) == labels).float().mean().item()"
      ]
    },
    {
      "cell_type": "code",
      "execution_count": null,
      "metadata": {
        "id": "5VzTQxAR5HoT"
      },
      "outputs": [],
      "source": [
        "class SAGELayer(nn.Module):\n",
        "    def __init__(self, ndim_in, edims, ndim_out, activation):\n",
        "        super(SAGELayer, self).__init__()\n",
        "        ### force to outut fix dimensions\n",
        "        self.W_msg = nn.Linear(ndim_in + edims, ndim_out)\n",
        "        ### apply weight\n",
        "        self.W_apply = nn.Linear(ndim_in + ndim_out, ndim_out)\n",
        "        self.activation = activation\n",
        "\n",
        "    def message_func(self, edges):\n",
        "        return {'m': self.W_msg(th.cat([edges.src['h'], edges.data['h']], 2))}\n",
        "\n",
        "    def forward(self, g_dgl, nfeats, efeats):\n",
        "        with g_dgl.local_scope():\n",
        "            g = g_dgl\n",
        "            g.ndata['h'] = nfeats\n",
        "            g.edata['h'] = efeats\n",
        "            # Eq4\n",
        "            g.update_all(self.message_func, fn.mean('m', 'h_neigh'))\n",
        "            # Eq5          \n",
        "            g.ndata['h'] = F.relu(self.W_apply(th.cat([g.ndata['h'], g.ndata['h_neigh']], 2)))\n",
        "            return g.ndata['h']\n",
        "\n",
        "\n",
        "class SAGE(nn.Module):\n",
        "    def __init__(self, ndim_in, ndim_out, edim, activation, dropout):\n",
        "        super(SAGE, self).__init__()\n",
        "        self.layers = nn.ModuleList()\n",
        "        self.layers.append(SAGELayer(ndim_in, edim, 128, activation))\n",
        "        self.layers.append(SAGELayer(128, edim, ndim_out, activation))\n",
        "        self.dropout = nn.Dropout(p=dropout)\n",
        "\n",
        "    def forward(self, g, nfeats, efeats):\n",
        "        for i, layer in enumerate(self.layers):\n",
        "            if i != 0:\n",
        "                nfeats = self.dropout(nfeats)\n",
        "            nfeats = layer(g, nfeats, efeats)\n",
        "        return nfeats.sum(1)"
      ]
    },
    {
      "cell_type": "code",
      "execution_count": null,
      "metadata": {
        "id": "hrLYvze5wwMi"
      },
      "outputs": [],
      "source": [
        "class MLPPredictor(nn.Module):\n",
        "    def __init__(self, in_features, out_classes):\n",
        "        super().__init__()\n",
        "        self.W = nn.Linear(in_features * 2, out_classes)\n",
        "\n",
        "    def apply_edges(self, edges):\n",
        "        h_u = edges.src['h']\n",
        "        h_v = edges.dst['h']\n",
        "        global score\n",
        "        global emb\n",
        "        emb = th.cat([h_u, h_v], 1)\n",
        "        score = self.W(th.cat([h_u, h_v], 1))\n",
        "        return {'score': score}\n",
        "\n",
        "    def forward(self, graph, h):\n",
        "        with graph.local_scope():\n",
        "            graph.ndata['h'] = h\n",
        "            graph.apply_edges(self.apply_edges)\n",
        "            return graph.edata['score']"
      ]
    },
    {
      "cell_type": "code",
      "execution_count": null,
      "metadata": {
        "id": "SwdZs785w1dT"
      },
      "outputs": [],
      "source": [
        "class Model(nn.Module):\n",
        "    def __init__(self, ndim_in, ndim_out, edim, activation, dropout):\n",
        "        super().__init__()\n",
        "        self.gnn = SAGE(ndim_in, ndim_out, edim, activation, dropout)\n",
        "        self.pred = MLPPredictor(ndim_out, 5)\n",
        "    def forward(self, g, nfeats, efeats):\n",
        "        h = self.gnn(g, nfeats, efeats)\n",
        "        return self.pred(g, h)"
      ]
    },
    {
      "cell_type": "code",
      "execution_count": null,
      "metadata": {
        "id": "BEw7J1Z45R62"
      },
      "outputs": [],
      "source": [
        "from sklearn.utils import class_weight\n",
        "class_weights = class_weight.compute_class_weight('balanced',\n",
        "                                                 classes= np.unique(G.edata['label'].cpu().numpy()),\n",
        "                                                 y= G.edata['label'].cpu().numpy())"
      ]
    },
    {
      "cell_type": "code",
      "execution_count": null,
      "metadata": {
        "id": "Cti0vAFYw3A0"
      },
      "outputs": [],
      "source": [
        "class_weights = th.FloatTensor(class_weights).cuda()\n",
        "criterion = nn.CrossEntropyLoss(weight = class_weights)"
      ]
    },
    {
      "cell_type": "code",
      "execution_count": null,
      "metadata": {
        "id": "Rj3DHIZmw4IM",
        "colab": {
          "base_uri": "https://localhost:8080/"
        },
        "outputId": "3fee1a96-ccd7-41f1-92fa-c4e61672d181"
      },
      "outputs": [
        {
          "output_type": "execute_result",
          "data": {
            "text/plain": [
              "device(type='cuda', index=0)"
            ]
          },
          "metadata": {},
          "execution_count": 45
        }
      ],
      "source": [
        "G = G.to('cuda:0')\n",
        "G.device"
      ]
    },
    {
      "cell_type": "code",
      "execution_count": null,
      "metadata": {
        "id": "qdlVG3JOw5Qj",
        "colab": {
          "base_uri": "https://localhost:8080/"
        },
        "outputId": "8a061aab-3153-45c5-d2be-06bd91ec9a7f"
      },
      "outputs": [
        {
          "output_type": "execute_result",
          "data": {
            "text/plain": [
              "device(type='cuda', index=0)"
            ]
          },
          "metadata": {},
          "execution_count": 46
        }
      ],
      "source": [
        "G.ndata['h'].device\n"
      ]
    },
    {
      "cell_type": "code",
      "execution_count": null,
      "metadata": {
        "id": "dvt3pnXmw6U7",
        "colab": {
          "base_uri": "https://localhost:8080/"
        },
        "outputId": "653a618f-b66f-45c6-b1ba-72f5f789f456"
      },
      "outputs": [
        {
          "output_type": "execute_result",
          "data": {
            "text/plain": [
              "device(type='cuda', index=0)"
            ]
          },
          "metadata": {},
          "execution_count": 47
        }
      ],
      "source": [
        "G.edata['h'].device\n"
      ]
    },
    {
      "cell_type": "code",
      "execution_count": null,
      "metadata": {
        "id": "-_eTiHzWw8Cz",
        "colab": {
          "base_uri": "https://localhost:8080/"
        },
        "outputId": "1dc1c387-86e8-4b12-a990-915289f47bd4"
      },
      "outputs": [
        {
          "output_type": "stream",
          "name": "stdout",
          "text": [
            "Epoch: 100 Training acc: 0.9432610869407654\n",
            "Epoch: 200 Training acc: 0.9442169666290283\n",
            "Epoch: 300 Training acc: 0.9436001181602478\n",
            "Epoch: 400 Training acc: 0.9440364241600037\n",
            "Epoch: 500 Training acc: 0.9478559494018555\n",
            "Epoch: 600 Training acc: 0.946000337600708\n",
            "Epoch: 700 Training acc: 0.9498108625411987\n",
            "Epoch: 800 Training acc: 0.9499983787536621\n",
            "Epoch: 900 Training acc: 0.9498900771141052\n",
            "Epoch: 1000 Training acc: 0.9386532306671143\n",
            "Epoch: 1100 Training acc: 0.9537476897239685\n",
            "Epoch: 1200 Training acc: 0.952702522277832\n",
            "Epoch: 1300 Training acc: 0.955484926700592\n",
            "Epoch: 1400 Training acc: 0.9528961181640625\n",
            "Epoch: 1500 Training acc: 0.9519091844558716\n",
            "Epoch: 1600 Training acc: 0.9555220603942871\n",
            "Epoch: 1700 Training acc: 0.9562041163444519\n",
            "Epoch: 1800 Training acc: 0.9544508457183838\n",
            "Epoch: 1900 Training acc: 0.9537697434425354\n"
          ]
        }
      ],
      "source": [
        "node_features = G.ndata['h']\n",
        "edge_features = G.edata['h']\n",
        "\n",
        "edge_label = G.edata['label']\n",
        "train_mask = G.edata['train_mask']\n",
        "\n",
        "model = Model(G.ndata['h'].shape[2], 128, G.ndata['h'].shape[2], F.relu, 0.2).cuda()\n",
        "opt = th.optim.Adam(model.parameters())\n",
        "\n",
        "for epoch in range(1,2000):\n",
        "    pred = model(G, node_features,edge_features).cuda()\n",
        "    loss = criterion(pred[train_mask] ,edge_label[train_mask])\n",
        "    opt.zero_grad()\n",
        "    loss.backward()\n",
        "    opt.step()\n",
        "    if epoch % 100 == 0:\n",
        "      print('Epoch:', epoch,'Training acc:', compute_accuracy(pred[train_mask], edge_label[train_mask]))\n"
      ]
    },
    {
      "cell_type": "code",
      "source": [
        "model"
      ],
      "metadata": {
        "id": "Yav2SOVZfFVf",
        "colab": {
          "base_uri": "https://localhost:8080/"
        },
        "outputId": "59107cbe-4fa9-467d-a3de-d5f22c73de45"
      },
      "execution_count": null,
      "outputs": [
        {
          "data": {
            "text/plain": [
              "Model(\n",
              "  (gnn): SAGE(\n",
              "    (layers): ModuleList(\n",
              "      (0): SAGELayer(\n",
              "        (W_msg): Linear(in_features=16, out_features=128, bias=True)\n",
              "        (W_apply): Linear(in_features=136, out_features=128, bias=True)\n",
              "      )\n",
              "      (1): SAGELayer(\n",
              "        (W_msg): Linear(in_features=136, out_features=128, bias=True)\n",
              "        (W_apply): Linear(in_features=256, out_features=128, bias=True)\n",
              "      )\n",
              "    )\n",
              "    (dropout): Dropout(p=0.2, inplace=False)\n",
              "  )\n",
              "  (pred): MLPPredictor(\n",
              "    (W): Linear(in_features=256, out_features=5, bias=True)\n",
              "  )\n",
              ")"
            ]
          },
          "execution_count": 49,
          "metadata": {},
          "output_type": "execute_result"
        }
      ]
    },
    {
      "cell_type": "code",
      "execution_count": null,
      "metadata": {
        "id": "p7gYo6lVtHCN"
      },
      "outputs": [],
      "source": [
        "X_test = encoder.transform(X_test)"
      ]
    },
    {
      "cell_type": "code",
      "execution_count": null,
      "metadata": {
        "id": "OUGIEbMFtSnf"
      },
      "outputs": [],
      "source": [
        "X_test[cols_to_norm] = scaler.transform(X_test[cols_to_norm])"
      ]
    },
    {
      "cell_type": "code",
      "execution_count": null,
      "metadata": {
        "id": "VlyqlEqjtb9s",
        "colab": {
          "base_uri": "https://localhost:8080/",
          "height": 488
        },
        "outputId": "0f7c592e-4794-4ff3-acf0-087956691616"
      },
      "outputs": [
        {
          "output_type": "execute_result",
          "data": {
            "text/plain": [
              "                IPV4_SRC_ADDR        IPV4_DST_ADDR  PROTOCOL  L7_PROTO  \\\n",
              "1526118   172.27.188.86:32232     149.171.126.2:25 -0.002238  0.341326   \n",
              "1398205     172.23.89.70:9547    149.171.126.9:111 -0.493764 -0.346323   \n",
              "1304161   172.22.174.71:18017     149.171.126.0:80 -0.002238  0.663807   \n",
              "1294121   172.20.30.239:15722  149.171.126.5:35481 -0.002238 -0.346323   \n",
              "864904    172.19.230.129:8660    149.171.126.11:25 -0.002238  0.341326   \n",
              "...                       ...                  ...       ...       ...   \n",
              "1126886  172.25.118.227:11559     149.171.126.4:25 -0.002238  0.341326   \n",
              "1086701   172.26.67.171:33404  149.171.126.1:47364 -0.002238 -0.574362   \n",
              "1611163    172.16.85.119:2624    149.171.126.1:111 -0.493764 -0.346323   \n",
              "1244817    172.21.73.43:51021     149.171.126.4:25 -0.002238  0.341326   \n",
              "1174500   172.19.220.90:55934   149.171.126.6:3564 -0.002238 -0.346323   \n",
              "\n",
              "         IN_BYTES  OUT_BYTES   IN_PKTS  OUT_PKTS  TCP_FLAGS  \\\n",
              "1526118  0.247711  -0.210303  0.114257 -0.052640  -0.331202   \n",
              "1398205 -0.048237  -0.227357 -0.308247 -0.334221   0.002719   \n",
              "1304161 -0.039296  -0.172471 -0.220226 -0.230480  -0.331202   \n",
              "1294121 -0.027294  -0.023185  0.114257  0.036281  -0.331202   \n",
              "864904  -0.032662  -0.220257 -0.167413 -0.215660  -0.331202   \n",
              "...           ...        ...       ...       ...        ...   \n",
              "1126886  0.246125  -0.210303  0.114257 -0.052640  -0.331202   \n",
              "1086701 -0.022295   0.056848  0.219883  0.125201  -0.331202   \n",
              "1611163 -0.048237  -0.227402 -0.308247 -0.334221   0.002719   \n",
              "1244817  0.244875  -0.210882  0.114257 -0.067460  -0.331202   \n",
              "1174500  0.018740  -0.227357 -0.220226 -0.319401  -0.331202   \n",
              "\n",
              "         FLOW_DURATION_MILLISECONDS  label  \n",
              "1526118                   -0.185311      1  \n",
              "1398205                   -0.185311      1  \n",
              "1304161                   -0.185311      1  \n",
              "1294121                   -0.185311      1  \n",
              "864904                    -0.183991      4  \n",
              "...                             ...    ...  \n",
              "1126886                   -0.183591      1  \n",
              "1086701                   -0.185234      1  \n",
              "1611163                   -0.185311      1  \n",
              "1244817                   -0.185311      1  \n",
              "1174500                   -0.185300      1  \n",
              "\n",
              "[124624 rows x 11 columns]"
            ],
            "text/html": [
              "\n",
              "  <div id=\"df-d722f451-45dd-4fc9-917f-c8c33c129412\">\n",
              "    <div class=\"colab-df-container\">\n",
              "      <div>\n",
              "<style scoped>\n",
              "    .dataframe tbody tr th:only-of-type {\n",
              "        vertical-align: middle;\n",
              "    }\n",
              "\n",
              "    .dataframe tbody tr th {\n",
              "        vertical-align: top;\n",
              "    }\n",
              "\n",
              "    .dataframe thead th {\n",
              "        text-align: right;\n",
              "    }\n",
              "</style>\n",
              "<table border=\"1\" class=\"dataframe\">\n",
              "  <thead>\n",
              "    <tr style=\"text-align: right;\">\n",
              "      <th></th>\n",
              "      <th>IPV4_SRC_ADDR</th>\n",
              "      <th>IPV4_DST_ADDR</th>\n",
              "      <th>PROTOCOL</th>\n",
              "      <th>L7_PROTO</th>\n",
              "      <th>IN_BYTES</th>\n",
              "      <th>OUT_BYTES</th>\n",
              "      <th>IN_PKTS</th>\n",
              "      <th>OUT_PKTS</th>\n",
              "      <th>TCP_FLAGS</th>\n",
              "      <th>FLOW_DURATION_MILLISECONDS</th>\n",
              "      <th>label</th>\n",
              "    </tr>\n",
              "  </thead>\n",
              "  <tbody>\n",
              "    <tr>\n",
              "      <th>1526118</th>\n",
              "      <td>172.27.188.86:32232</td>\n",
              "      <td>149.171.126.2:25</td>\n",
              "      <td>-0.002238</td>\n",
              "      <td>0.341326</td>\n",
              "      <td>0.247711</td>\n",
              "      <td>-0.210303</td>\n",
              "      <td>0.114257</td>\n",
              "      <td>-0.052640</td>\n",
              "      <td>-0.331202</td>\n",
              "      <td>-0.185311</td>\n",
              "      <td>1</td>\n",
              "    </tr>\n",
              "    <tr>\n",
              "      <th>1398205</th>\n",
              "      <td>172.23.89.70:9547</td>\n",
              "      <td>149.171.126.9:111</td>\n",
              "      <td>-0.493764</td>\n",
              "      <td>-0.346323</td>\n",
              "      <td>-0.048237</td>\n",
              "      <td>-0.227357</td>\n",
              "      <td>-0.308247</td>\n",
              "      <td>-0.334221</td>\n",
              "      <td>0.002719</td>\n",
              "      <td>-0.185311</td>\n",
              "      <td>1</td>\n",
              "    </tr>\n",
              "    <tr>\n",
              "      <th>1304161</th>\n",
              "      <td>172.22.174.71:18017</td>\n",
              "      <td>149.171.126.0:80</td>\n",
              "      <td>-0.002238</td>\n",
              "      <td>0.663807</td>\n",
              "      <td>-0.039296</td>\n",
              "      <td>-0.172471</td>\n",
              "      <td>-0.220226</td>\n",
              "      <td>-0.230480</td>\n",
              "      <td>-0.331202</td>\n",
              "      <td>-0.185311</td>\n",
              "      <td>1</td>\n",
              "    </tr>\n",
              "    <tr>\n",
              "      <th>1294121</th>\n",
              "      <td>172.20.30.239:15722</td>\n",
              "      <td>149.171.126.5:35481</td>\n",
              "      <td>-0.002238</td>\n",
              "      <td>-0.346323</td>\n",
              "      <td>-0.027294</td>\n",
              "      <td>-0.023185</td>\n",
              "      <td>0.114257</td>\n",
              "      <td>0.036281</td>\n",
              "      <td>-0.331202</td>\n",
              "      <td>-0.185311</td>\n",
              "      <td>1</td>\n",
              "    </tr>\n",
              "    <tr>\n",
              "      <th>864904</th>\n",
              "      <td>172.19.230.129:8660</td>\n",
              "      <td>149.171.126.11:25</td>\n",
              "      <td>-0.002238</td>\n",
              "      <td>0.341326</td>\n",
              "      <td>-0.032662</td>\n",
              "      <td>-0.220257</td>\n",
              "      <td>-0.167413</td>\n",
              "      <td>-0.215660</td>\n",
              "      <td>-0.331202</td>\n",
              "      <td>-0.183991</td>\n",
              "      <td>4</td>\n",
              "    </tr>\n",
              "    <tr>\n",
              "      <th>...</th>\n",
              "      <td>...</td>\n",
              "      <td>...</td>\n",
              "      <td>...</td>\n",
              "      <td>...</td>\n",
              "      <td>...</td>\n",
              "      <td>...</td>\n",
              "      <td>...</td>\n",
              "      <td>...</td>\n",
              "      <td>...</td>\n",
              "      <td>...</td>\n",
              "      <td>...</td>\n",
              "    </tr>\n",
              "    <tr>\n",
              "      <th>1126886</th>\n",
              "      <td>172.25.118.227:11559</td>\n",
              "      <td>149.171.126.4:25</td>\n",
              "      <td>-0.002238</td>\n",
              "      <td>0.341326</td>\n",
              "      <td>0.246125</td>\n",
              "      <td>-0.210303</td>\n",
              "      <td>0.114257</td>\n",
              "      <td>-0.052640</td>\n",
              "      <td>-0.331202</td>\n",
              "      <td>-0.183591</td>\n",
              "      <td>1</td>\n",
              "    </tr>\n",
              "    <tr>\n",
              "      <th>1086701</th>\n",
              "      <td>172.26.67.171:33404</td>\n",
              "      <td>149.171.126.1:47364</td>\n",
              "      <td>-0.002238</td>\n",
              "      <td>-0.574362</td>\n",
              "      <td>-0.022295</td>\n",
              "      <td>0.056848</td>\n",
              "      <td>0.219883</td>\n",
              "      <td>0.125201</td>\n",
              "      <td>-0.331202</td>\n",
              "      <td>-0.185234</td>\n",
              "      <td>1</td>\n",
              "    </tr>\n",
              "    <tr>\n",
              "      <th>1611163</th>\n",
              "      <td>172.16.85.119:2624</td>\n",
              "      <td>149.171.126.1:111</td>\n",
              "      <td>-0.493764</td>\n",
              "      <td>-0.346323</td>\n",
              "      <td>-0.048237</td>\n",
              "      <td>-0.227402</td>\n",
              "      <td>-0.308247</td>\n",
              "      <td>-0.334221</td>\n",
              "      <td>0.002719</td>\n",
              "      <td>-0.185311</td>\n",
              "      <td>1</td>\n",
              "    </tr>\n",
              "    <tr>\n",
              "      <th>1244817</th>\n",
              "      <td>172.21.73.43:51021</td>\n",
              "      <td>149.171.126.4:25</td>\n",
              "      <td>-0.002238</td>\n",
              "      <td>0.341326</td>\n",
              "      <td>0.244875</td>\n",
              "      <td>-0.210882</td>\n",
              "      <td>0.114257</td>\n",
              "      <td>-0.067460</td>\n",
              "      <td>-0.331202</td>\n",
              "      <td>-0.185311</td>\n",
              "      <td>1</td>\n",
              "    </tr>\n",
              "    <tr>\n",
              "      <th>1174500</th>\n",
              "      <td>172.19.220.90:55934</td>\n",
              "      <td>149.171.126.6:3564</td>\n",
              "      <td>-0.002238</td>\n",
              "      <td>-0.346323</td>\n",
              "      <td>0.018740</td>\n",
              "      <td>-0.227357</td>\n",
              "      <td>-0.220226</td>\n",
              "      <td>-0.319401</td>\n",
              "      <td>-0.331202</td>\n",
              "      <td>-0.185300</td>\n",
              "      <td>1</td>\n",
              "    </tr>\n",
              "  </tbody>\n",
              "</table>\n",
              "<p>124624 rows × 11 columns</p>\n",
              "</div>\n",
              "      <button class=\"colab-df-convert\" onclick=\"convertToInteractive('df-d722f451-45dd-4fc9-917f-c8c33c129412')\"\n",
              "              title=\"Convert this dataframe to an interactive table.\"\n",
              "              style=\"display:none;\">\n",
              "        \n",
              "  <svg xmlns=\"http://www.w3.org/2000/svg\" height=\"24px\"viewBox=\"0 0 24 24\"\n",
              "       width=\"24px\">\n",
              "    <path d=\"M0 0h24v24H0V0z\" fill=\"none\"/>\n",
              "    <path d=\"M18.56 5.44l.94 2.06.94-2.06 2.06-.94-2.06-.94-.94-2.06-.94 2.06-2.06.94zm-11 1L8.5 8.5l.94-2.06 2.06-.94-2.06-.94L8.5 2.5l-.94 2.06-2.06.94zm10 10l.94 2.06.94-2.06 2.06-.94-2.06-.94-.94-2.06-.94 2.06-2.06.94z\"/><path d=\"M17.41 7.96l-1.37-1.37c-.4-.4-.92-.59-1.43-.59-.52 0-1.04.2-1.43.59L10.3 9.45l-7.72 7.72c-.78.78-.78 2.05 0 2.83L4 21.41c.39.39.9.59 1.41.59.51 0 1.02-.2 1.41-.59l7.78-7.78 2.81-2.81c.8-.78.8-2.07 0-2.86zM5.41 20L4 18.59l7.72-7.72 1.47 1.35L5.41 20z\"/>\n",
              "  </svg>\n",
              "      </button>\n",
              "      \n",
              "  <style>\n",
              "    .colab-df-container {\n",
              "      display:flex;\n",
              "      flex-wrap:wrap;\n",
              "      gap: 12px;\n",
              "    }\n",
              "\n",
              "    .colab-df-convert {\n",
              "      background-color: #E8F0FE;\n",
              "      border: none;\n",
              "      border-radius: 50%;\n",
              "      cursor: pointer;\n",
              "      display: none;\n",
              "      fill: #1967D2;\n",
              "      height: 32px;\n",
              "      padding: 0 0 0 0;\n",
              "      width: 32px;\n",
              "    }\n",
              "\n",
              "    .colab-df-convert:hover {\n",
              "      background-color: #E2EBFA;\n",
              "      box-shadow: 0px 1px 2px rgba(60, 64, 67, 0.3), 0px 1px 3px 1px rgba(60, 64, 67, 0.15);\n",
              "      fill: #174EA6;\n",
              "    }\n",
              "\n",
              "    [theme=dark] .colab-df-convert {\n",
              "      background-color: #3B4455;\n",
              "      fill: #D2E3FC;\n",
              "    }\n",
              "\n",
              "    [theme=dark] .colab-df-convert:hover {\n",
              "      background-color: #434B5C;\n",
              "      box-shadow: 0px 1px 3px 1px rgba(0, 0, 0, 0.15);\n",
              "      filter: drop-shadow(0px 1px 2px rgba(0, 0, 0, 0.3));\n",
              "      fill: #FFFFFF;\n",
              "    }\n",
              "  </style>\n",
              "\n",
              "      <script>\n",
              "        const buttonEl =\n",
              "          document.querySelector('#df-d722f451-45dd-4fc9-917f-c8c33c129412 button.colab-df-convert');\n",
              "        buttonEl.style.display =\n",
              "          google.colab.kernel.accessAllowed ? 'block' : 'none';\n",
              "\n",
              "        async function convertToInteractive(key) {\n",
              "          const element = document.querySelector('#df-d722f451-45dd-4fc9-917f-c8c33c129412');\n",
              "          const dataTable =\n",
              "            await google.colab.kernel.invokeFunction('convertToInteractive',\n",
              "                                                     [key], {});\n",
              "          if (!dataTable) return;\n",
              "\n",
              "          const docLinkHtml = 'Like what you see? Visit the ' +\n",
              "            '<a target=\"_blank\" href=https://colab.research.google.com/notebooks/data_table.ipynb>data table notebook</a>'\n",
              "            + ' to learn more about interactive tables.';\n",
              "          element.innerHTML = '';\n",
              "          dataTable['output_type'] = 'display_data';\n",
              "          await google.colab.output.renderOutput(dataTable, element);\n",
              "          const docLink = document.createElement('div');\n",
              "          docLink.innerHTML = docLinkHtml;\n",
              "          element.appendChild(docLink);\n",
              "        }\n",
              "      </script>\n",
              "    </div>\n",
              "  </div>\n",
              "  "
            ]
          },
          "metadata": {},
          "execution_count": 52
        }
      ],
      "source": [
        "X_test"
      ]
    },
    {
      "cell_type": "code",
      "source": [
        "X_test.label.value_counts()"
      ],
      "metadata": {
        "colab": {
          "base_uri": "https://localhost:8080/"
        },
        "id": "ucmj-ENv7dTj",
        "outputId": "a9b7c134-475b-45b0-e7c8-7b8720f44ffa"
      },
      "execution_count": null,
      "outputs": [
        {
          "output_type": "execute_result",
          "data": {
            "text/plain": [
              "1    110143\n",
              "4     10626\n",
              "2      2458\n",
              "0      1010\n",
              "3       387\n",
              "Name: label, dtype: int64"
            ]
          },
          "metadata": {},
          "execution_count": 53
        }
      ]
    },
    {
      "cell_type": "code",
      "execution_count": null,
      "metadata": {
        "id": "q5CMxVe5xIDb"
      },
      "outputs": [],
      "source": [
        "X_test['h'] = X_test[ cols_to_norm ].values.tolist()"
      ]
    },
    {
      "cell_type": "code",
      "execution_count": null,
      "metadata": {
        "id": "VsAmtLAbxN_6"
      },
      "outputs": [],
      "source": [
        "G_test = nx.from_pandas_edgelist(X_test, \"IPV4_SRC_ADDR\", \"IPV4_DST_ADDR\", ['h','label'],create_using=nx.MultiGraph())\n",
        "G_test = G_test.to_directed()\n",
        "G_test = from_networkx(G_test,edge_attrs=['h','label'] )\n",
        "actual = G_test.edata.pop('label')\n",
        "G_test.ndata['feature'] = th.ones(G_test.num_nodes(), G.ndata['h'].shape[2])"
      ]
    },
    {
      "cell_type": "code",
      "execution_count": null,
      "metadata": {
        "id": "Eeux6JIxxQtC"
      },
      "outputs": [],
      "source": [
        "G_test.ndata['feature'] = th.reshape(G_test.ndata['feature'], (G_test.ndata['feature'].shape[0], 1, G_test.ndata['feature'].shape[1]))"
      ]
    },
    {
      "cell_type": "code",
      "execution_count": null,
      "metadata": {
        "id": "PBETQI3YxYay"
      },
      "outputs": [],
      "source": [
        "G_test.edata['h'] = th.reshape(G_test.edata['h'], (G_test.edata['h'].shape[0], 1, G_test.edata['h'].shape[1]))\n"
      ]
    },
    {
      "cell_type": "code",
      "execution_count": null,
      "metadata": {
        "id": "qlTOyVN6xZZB"
      },
      "outputs": [],
      "source": [
        "G_test = G_test.to('cuda:0')\n"
      ]
    },
    {
      "cell_type": "code",
      "execution_count": null,
      "metadata": {
        "id": "QyugNIt9xac6"
      },
      "outputs": [],
      "source": [
        "import timeit\n",
        "start_time = timeit.default_timer()\n",
        "node_features_test = G_test.ndata['feature']\n",
        "edge_features_test = G_test.edata['h']\n",
        "test_pred = model(G_test, node_features_test, edge_features_test).cuda()\n",
        "elapsed = timeit.default_timer() - start_time"
      ]
    },
    {
      "cell_type": "code",
      "execution_count": null,
      "metadata": {
        "id": "KecCvilSxcFK",
        "colab": {
          "base_uri": "https://localhost:8080/"
        },
        "outputId": "491bcfdf-72af-4e92-9763-0dafd1d66b85"
      },
      "outputs": [
        {
          "metadata": {
            "tags": null
          },
          "name": "stdout",
          "output_type": "stream",
          "text": [
            "0.010709792000170637 seconds\n"
          ]
        }
      ],
      "source": [
        "print(str(elapsed) + ' seconds')\n"
      ]
    },
    {
      "cell_type": "code",
      "execution_count": null,
      "metadata": {
        "id": "BNQLnLoAxdST"
      },
      "outputs": [],
      "source": [
        "test_pred = test_pred.argmax(1)\n"
      ]
    },
    {
      "cell_type": "code",
      "execution_count": null,
      "metadata": {
        "id": "9dtggXXsxevx"
      },
      "outputs": [],
      "source": [
        "test_pred = th.Tensor.cpu(test_pred).detach().numpy()\n"
      ]
    },
    {
      "cell_type": "code",
      "execution_count": null,
      "metadata": {
        "id": "5TGb_KWRxfzS"
      },
      "outputs": [],
      "source": [
        "actual = le.inverse_transform(actual)\n",
        "test_pred = le.inverse_transform(test_pred)"
      ]
    },
    {
      "cell_type": "code",
      "execution_count": null,
      "metadata": {
        "id": "n7z7tHTPxhBC"
      },
      "outputs": [],
      "source": [
        "from sklearn.metrics import plot_confusion_matrix\n"
      ]
    },
    {
      "cell_type": "code",
      "execution_count": null,
      "metadata": {
        "id": "uMRairwzxiBC"
      },
      "outputs": [],
      "source": [
        "import numpy as np\n",
        "\n",
        "\n",
        "def plot_confusion_matrix(cm,\n",
        "                          target_names,\n",
        "                          title='Confusion matrix',\n",
        "                          cmap=None,\n",
        "                          normalize=True):\n",
        "    \n",
        "    import matplotlib.pyplot as plt\n",
        "    import numpy as np\n",
        "    import itertools\n",
        "\n",
        "    accuracy = np.trace(cm) / float(np.sum(cm))\n",
        "    misclass = 1 - accuracy\n",
        "\n",
        "    if cmap is None:\n",
        "        cmap = plt.get_cmap('Blues')\n",
        "\n",
        "    plt.figure(figsize=(12, 12))\n",
        "    plt.imshow(cm, interpolation='nearest', cmap=cmap)\n",
        "    plt.title(title)\n",
        "    plt.colorbar()\n",
        "\n",
        "    if target_names is not None:\n",
        "        tick_marks = np.arange(len(target_names))\n",
        "        plt.xticks(tick_marks, target_names, rotation=45)\n",
        "        plt.yticks(tick_marks, target_names)\n",
        "\n",
        "    if normalize:\n",
        "        cm = cm.astype('float') / cm.sum(axis=1)[:, np.newaxis]\n",
        "\n",
        "\n",
        "    thresh = cm.max() / 1.5 if normalize else cm.max() / 2\n",
        "    for i, j in itertools.product(range(cm.shape[0]), range(cm.shape[1])):\n",
        "        if normalize:\n",
        "            plt.text(j, i, \"{:0.4f}\".format(cm[i, j]),\n",
        "                     horizontalalignment=\"center\",\n",
        "                     color=\"white\" if cm[i, j] > thresh else \"black\")\n",
        "        else:\n",
        "            plt.text(j, i, \"{:,}\".format(cm[i, j]),\n",
        "                     horizontalalignment=\"center\",\n",
        "                     color=\"white\" if cm[i, j] > thresh else \"black\")\n",
        "\n",
        "\n",
        "    plt.tight_layout()\n",
        "    plt.ylabel('True label')\n",
        "    plt.xlabel('Predicted label\\naccuracy={:0.4f}; misclass={:0.4f}'.format(accuracy, misclass))\n",
        "    plt.show()"
      ]
    },
    {
      "cell_type": "code",
      "execution_count": null,
      "metadata": {
        "id": "KNCkVWyqxjaR",
        "colab": {
          "base_uri": "https://localhost:8080/",
          "height": 873
        },
        "outputId": "701c9be7-f218-4064-a8c0-2aa3aab1f87c"
      },
      "outputs": [
        {
          "output_type": "display_data",
          "data": {
            "text/plain": [
              "<Figure size 864x864 with 2 Axes>"
            ],
            "image/png": "[encoded data removed]"
          },
          "metadata": {
            "needs_background": "light"
          }
        }
      ],
      "source": [
        "from sklearn.metrics import confusion_matrix\n",
        "\n",
        "plot_confusion_matrix(cm = confusion_matrix(actual, test_pred), \n",
        "                      normalize    = False,\n",
        "                      target_names = np.unique(actual),\n",
        "                      title        = \"Confusion Matrix\")"
      ]
    },
    {
      "cell_type": "code",
      "execution_count": null,
      "metadata": {
        "id": "rC9-S7j9A48K"
      },
      "outputs": [],
      "source": [
        "from sklearn.metrics import classification_report\n",
        "target_names = np.unique(actual)\n",
        "print(classification_report(actual, test_pred, target_names=target_names, digits=4))"
      ]
    },
    {
      "cell_type": "code",
      "source": [
        "# emb_num = emb.cpu().detach().numpy()"
      ],
      "metadata": {
        "id": "e3fN9dDr9D24"
      },
      "execution_count": null,
      "outputs": []
    },
    {
      "cell_type": "code",
      "source": [
        "# np.save('/content/raw.npy',emb_num)"
      ],
      "metadata": {
        "id": "2m_bl66KH1lC"
      },
      "execution_count": null,
      "outputs": []
    },
    {
      "cell_type": "code",
      "source": [
        "# raw_viz = np.load('/content/raw.npy')"
      ],
      "metadata": {
        "id": "VrSpoQ8O93K-"
      },
      "execution_count": null,
      "outputs": []
    },
    {
      "cell_type": "code",
      "source": [
        "# raw_viz"
      ],
      "metadata": {
        "id": "O6_e6JcE-UQp"
      },
      "execution_count": null,
      "outputs": []
    },
    {
      "cell_type": "code",
      "source": [
        "# df_umap = pd.DataFrame(raw_viz, columns=['comp1', 'comp2'])"
      ],
      "metadata": {
        "id": "5dWJvUXi93zp"
      },
      "execution_count": null,
      "outputs": []
    },
    {
      "cell_type": "code",
      "source": [
        "# df_umap['label'] = le.inverse_transform(y_test)"
      ],
      "metadata": {
        "id": "5m_m1s4V94Of"
      },
      "execution_count": null,
      "outputs": []
    },
    {
      "cell_type": "code",
      "source": [
        "# import seaborn as sns\n",
        "# import matplotlib.pyplot as plt \n",
        "\n",
        "# plt.figure(figsize=(8,8));\n",
        "# sns.scatterplot(x='comp1', y='comp2', data=df_umap, hue='label');\n",
        "# plt.legend(loc='upper left', frameon=False)"
      ],
      "metadata": {
        "id": "7Np2Oup494th"
      },
      "execution_count": null,
      "outputs": []
    }
  ],
  "metadata": {
    "accelerator": "GPU",
    "colab": {
      "machine_shape": "hm",
      "provenance": []
    },
    "kernelspec": {
      "display_name": "Python 3",
      "language": "python",
      "name": "python3"
    },
    "language_info": {
      "codemirror_mode": {
        "name": "ipython",
        "version": 3
      },
      "file_extension": ".py",
      "mimetype": "text/x-python",
      "name": "python",
      "nbconvert_exporter": "python",
      "pygments_lexer": "ipython3",
      "version": "3.8.5"
    },
    "gpuClass": "standard"
  },
  "nbformat": 4,
  "nbformat_minor": 0
}